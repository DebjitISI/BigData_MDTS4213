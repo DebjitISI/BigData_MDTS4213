{
  "nbformat": 4,
  "nbformat_minor": 0,
  "metadata": {
    "colab": {
      "provenance": []
    },
    "kernelspec": {
      "name": "python3",
      "display_name": "Python 3"
    },
    "language_info": {
      "name": "python"
    }
  },
  "cells": [
    {
      "cell_type": "code",
      "execution_count": 1,
      "metadata": {
        "colab": {
          "base_uri": "https://localhost:8080/"
        },
        "id": "_N6_1ooZZzzf",
        "outputId": "c9cc7e10-1e80-4570-c5e2-b6c7f132fd08"
      },
      "outputs": [
        {
          "output_type": "stream",
          "name": "stdout",
          "text": [
            "Requirement already satisfied: pyspark in /usr/local/lib/python3.11/dist-packages (3.5.5)\n",
            "Requirement already satisfied: py4j==0.10.9.7 in /usr/local/lib/python3.11/dist-packages (from pyspark) (0.10.9.7)\n"
          ]
        }
      ],
      "source": [
        "!pip install pyspark"
      ]
    },
    {
      "cell_type": "code",
      "source": [
        "import pyspark"
      ],
      "metadata": {
        "id": "2rt0VDzkacj5"
      },
      "execution_count": 2,
      "outputs": []
    },
    {
      "cell_type": "code",
      "source": [
        "!pip install kaggle"
      ],
      "metadata": {
        "colab": {
          "base_uri": "https://localhost:8080/"
        },
        "id": "Yij9QJOiah0B",
        "outputId": "31048ada-74ee-4ad4-fa2e-b33817ed4cea"
      },
      "execution_count": 3,
      "outputs": [
        {
          "output_type": "stream",
          "name": "stdout",
          "text": [
            "Requirement already satisfied: kaggle in /usr/local/lib/python3.11/dist-packages (1.6.17)\n",
            "Requirement already satisfied: six>=1.10 in /usr/local/lib/python3.11/dist-packages (from kaggle) (1.17.0)\n",
            "Requirement already satisfied: certifi>=2023.7.22 in /usr/local/lib/python3.11/dist-packages (from kaggle) (2025.1.31)\n",
            "Requirement already satisfied: python-dateutil in /usr/local/lib/python3.11/dist-packages (from kaggle) (2.8.2)\n",
            "Requirement already satisfied: requests in /usr/local/lib/python3.11/dist-packages (from kaggle) (2.32.3)\n",
            "Requirement already satisfied: tqdm in /usr/local/lib/python3.11/dist-packages (from kaggle) (4.67.1)\n",
            "Requirement already satisfied: python-slugify in /usr/local/lib/python3.11/dist-packages (from kaggle) (8.0.4)\n",
            "Requirement already satisfied: urllib3 in /usr/local/lib/python3.11/dist-packages (from kaggle) (2.3.0)\n",
            "Requirement already satisfied: bleach in /usr/local/lib/python3.11/dist-packages (from kaggle) (6.2.0)\n",
            "Requirement already satisfied: webencodings in /usr/local/lib/python3.11/dist-packages (from bleach->kaggle) (0.5.1)\n",
            "Requirement already satisfied: text-unidecode>=1.3 in /usr/local/lib/python3.11/dist-packages (from python-slugify->kaggle) (1.3)\n",
            "Requirement already satisfied: charset-normalizer<4,>=2 in /usr/local/lib/python3.11/dist-packages (from requests->kaggle) (3.4.1)\n",
            "Requirement already satisfied: idna<4,>=2.5 in /usr/local/lib/python3.11/dist-packages (from requests->kaggle) (3.10)\n"
          ]
        }
      ]
    },
    {
      "cell_type": "code",
      "source": [
        "from google.colab import drive\n",
        "drive.mount('/content/drive',force_remount=True)"
      ],
      "metadata": {
        "colab": {
          "base_uri": "https://localhost:8080/"
        },
        "id": "FULdmH8Wao1i",
        "outputId": "415e77e1-c6c6-45ab-8f4f-4df5bab00813"
      },
      "execution_count": 4,
      "outputs": [
        {
          "output_type": "stream",
          "name": "stdout",
          "text": [
            "Mounted at /content/drive\n"
          ]
        }
      ]
    },
    {
      "cell_type": "code",
      "source": [
        "!pip install --upgrade kaggle"
      ],
      "metadata": {
        "colab": {
          "base_uri": "https://localhost:8080/"
        },
        "id": "Qbj7PsKKbM81",
        "outputId": "edac5f81-b7c0-457d-c308-e5780ca9e0b6"
      },
      "execution_count": 5,
      "outputs": [
        {
          "output_type": "stream",
          "name": "stdout",
          "text": [
            "Requirement already satisfied: kaggle in /usr/local/lib/python3.11/dist-packages (1.6.17)\n",
            "Collecting kaggle\n",
            "  Downloading kaggle-1.7.4-py3-none-any.whl.metadata (17 kB)\n",
            "Requirement already satisfied: bleach in /usr/local/lib/python3.11/dist-packages (from kaggle) (6.2.0)\n",
            "Requirement already satisfied: certifi>=14.05.14 in /usr/local/lib/python3.11/dist-packages (from kaggle) (2025.1.31)\n",
            "Requirement already satisfied: charset-normalizer in /usr/local/lib/python3.11/dist-packages (from kaggle) (3.4.1)\n",
            "Requirement already satisfied: idna in /usr/local/lib/python3.11/dist-packages (from kaggle) (3.10)\n",
            "Requirement already satisfied: protobuf in /usr/local/lib/python3.11/dist-packages (from kaggle) (4.25.6)\n",
            "Requirement already satisfied: python-dateutil>=2.5.3 in /usr/local/lib/python3.11/dist-packages (from kaggle) (2.8.2)\n",
            "Requirement already satisfied: python-slugify in /usr/local/lib/python3.11/dist-packages (from kaggle) (8.0.4)\n",
            "Requirement already satisfied: requests in /usr/local/lib/python3.11/dist-packages (from kaggle) (2.32.3)\n",
            "Requirement already satisfied: setuptools>=21.0.0 in /usr/local/lib/python3.11/dist-packages (from kaggle) (75.1.0)\n",
            "Requirement already satisfied: six>=1.10 in /usr/local/lib/python3.11/dist-packages (from kaggle) (1.17.0)\n",
            "Requirement already satisfied: text-unidecode in /usr/local/lib/python3.11/dist-packages (from kaggle) (1.3)\n",
            "Requirement already satisfied: tqdm in /usr/local/lib/python3.11/dist-packages (from kaggle) (4.67.1)\n",
            "Requirement already satisfied: urllib3>=1.15.1 in /usr/local/lib/python3.11/dist-packages (from kaggle) (2.3.0)\n",
            "Requirement already satisfied: webencodings in /usr/local/lib/python3.11/dist-packages (from kaggle) (0.5.1)\n",
            "Downloading kaggle-1.7.4-py3-none-any.whl (173 kB)\n",
            "\u001b[2K   \u001b[90m━━━━━━━━━━━━━━━━━━━━━━━━━━━━━━━━━━━━━━━━\u001b[0m \u001b[32m173.2/173.2 kB\u001b[0m \u001b[31m3.3 MB/s\u001b[0m eta \u001b[36m0:00:00\u001b[0m\n",
            "\u001b[?25hInstalling collected packages: kaggle\n",
            "  Attempting uninstall: kaggle\n",
            "    Found existing installation: kaggle 1.6.17\n",
            "    Uninstalling kaggle-1.6.17:\n",
            "      Successfully uninstalled kaggle-1.6.17\n",
            "Successfully installed kaggle-1.7.4\n"
          ]
        }
      ]
    },
    {
      "cell_type": "code",
      "source": [
        "!mkdir -p ~/.kaggle"
      ],
      "metadata": {
        "id": "KM5MKe5HbnnY"
      },
      "execution_count": 6,
      "outputs": []
    },
    {
      "cell_type": "code",
      "source": [
        "!cp \"/content/drive/My Drive/kaggle.json\" /root/.kaggle/kaggle.json"
      ],
      "metadata": {
        "id": "pTQ4gnqVb0K6"
      },
      "execution_count": 7,
      "outputs": []
    },
    {
      "cell_type": "code",
      "source": [
        "!chmod 600 /root/.kaggle/kaggle.json"
      ],
      "metadata": {
        "id": "JZAegM10dzwL"
      },
      "execution_count": 8,
      "outputs": []
    },
    {
      "cell_type": "code",
      "source": [
        "!kaggle datasets download -d uciml/autompg-dataset --force"
      ],
      "metadata": {
        "colab": {
          "base_uri": "https://localhost:8080/"
        },
        "id": "s_nSnQB-hwPE",
        "outputId": "2f55b9ed-affe-44fd-936a-6334eb19da8c"
      },
      "execution_count": 9,
      "outputs": [
        {
          "output_type": "stream",
          "name": "stdout",
          "text": [
            "Protocol message DatasetInfo has no \"info\" field.\n"
          ]
        }
      ]
    },
    {
      "cell_type": "code",
      "source": [
        "import os\n",
        "folder_path = \"/content/drive/My Drive/data\"\n",
        "os.makedirs(folder_path, exist_ok=True)"
      ],
      "metadata": {
        "id": "gDmSUzrsiJ9V"
      },
      "execution_count": 10,
      "outputs": []
    },
    {
      "cell_type": "code",
      "source": [
        "!unzip autompg-dataset.zip -d \"/content/drive/My Drive/data\""
      ],
      "metadata": {
        "colab": {
          "base_uri": "https://localhost:8080/"
        },
        "id": "b-u5uthfjn8T",
        "outputId": "a3659eab-1ff4-4926-bcba-cb5bb0364c37"
      },
      "execution_count": 11,
      "outputs": [
        {
          "output_type": "stream",
          "name": "stdout",
          "text": [
            "unzip:  cannot find or open autompg-dataset.zip, autompg-dataset.zip.zip or autompg-dataset.zip.ZIP.\n"
          ]
        }
      ]
    },
    {
      "cell_type": "code",
      "source": [
        "import os\n",
        "import warnings\n",
        "warnings.filterwarnings('ignore')\n",
        "from pyspark.sql import SparkSession\n",
        "from pyspark.sql.types import StructField, StructType, StringType, IntegerType, FloatType\n",
        "from pyspark.sql.functions import split, count, when, isnan, col, regexp_replace\n",
        "from pyspark.ml.regression import LinearRegression\n",
        "from pyspark.ml.feature import OneHotEncoder, StringIndexer, VectorAssembler\n",
        "from pyspark.ml.linalg import Vectors\n",
        "\n",
        "for dirname, _, filenames in os.walk('/kaggle/input'):\n",
        "  for filename in filenames:\n",
        "    print(os.path.join(dirname, filename))"
      ],
      "metadata": {
        "id": "obx9iUR_kl9X"
      },
      "execution_count": 12,
      "outputs": []
    },
    {
      "cell_type": "code",
      "source": [
        "spark = SparkSession.builder.appName('First Session').getOrCreate()\n",
        "\n",
        "print(f\"Spark Version ({format(spark.version)})\")"
      ],
      "metadata": {
        "colab": {
          "base_uri": "https://localhost:8080/"
        },
        "id": "-AhPAmU_lB6n",
        "outputId": "a21faf88-f69a-40c7-c87c-674b51341beb"
      },
      "execution_count": 13,
      "outputs": [
        {
          "output_type": "stream",
          "name": "stdout",
          "text": [
            "Spark Version (3.5.5)\n"
          ]
        }
      ]
    },
    {
      "cell_type": "code",
      "source": [
        "file_path = '/content/drive/My Drive/data/auto-mpg.csv'\n",
        "df = spark.read.csv(file_path, header=True, inferSchema=True,nanValue='?')\n",
        "df.show()"
      ],
      "metadata": {
        "colab": {
          "base_uri": "https://localhost:8080/"
        },
        "id": "hU0Pi1gSsIS4",
        "outputId": "74dfefd3-4c95-44e8-e30e-2a7b6c560fec"
      },
      "execution_count": 50,
      "outputs": [
        {
          "output_type": "stream",
          "name": "stdout",
          "text": [
            "+----+---------+------------+----------+------+------------+----------+------+--------------------+\n",
            "| mpg|cylinders|displacement|horsepower|weight|acceleration|model year|origin|            car name|\n",
            "+----+---------+------------+----------+------+------------+----------+------+--------------------+\n",
            "|18.0|        8|       307.0|     130.0|  3504|        12.0|        70|     1|chevrolet chevell...|\n",
            "|15.0|        8|       350.0|     165.0|  3693|        11.5|        70|     1|   buick skylark 320|\n",
            "|18.0|        8|       318.0|     150.0|  3436|        11.0|        70|     1|  plymouth satellite|\n",
            "|16.0|        8|       304.0|     150.0|  3433|        12.0|        70|     1|       amc rebel sst|\n",
            "|17.0|        8|       302.0|     140.0|  3449|        10.5|        70|     1|         ford torino|\n",
            "|15.0|        8|       429.0|     198.0|  4341|        10.0|        70|     1|    ford galaxie 500|\n",
            "|14.0|        8|       454.0|     220.0|  4354|         9.0|        70|     1|    chevrolet impala|\n",
            "|14.0|        8|       440.0|     215.0|  4312|         8.5|        70|     1|   plymouth fury iii|\n",
            "|14.0|        8|       455.0|     225.0|  4425|        10.0|        70|     1|    pontiac catalina|\n",
            "|15.0|        8|       390.0|     190.0|  3850|         8.5|        70|     1|  amc ambassador dpl|\n",
            "|15.0|        8|       383.0|     170.0|  3563|        10.0|        70|     1| dodge challenger se|\n",
            "|14.0|        8|       340.0|     160.0|  3609|         8.0|        70|     1|  plymouth 'cuda 340|\n",
            "|15.0|        8|       400.0|     150.0|  3761|         9.5|        70|     1|chevrolet monte c...|\n",
            "|14.0|        8|       455.0|     225.0|  3086|        10.0|        70|     1|buick estate wago...|\n",
            "|24.0|        4|       113.0|      95.0|  2372|        15.0|        70|     3|toyota corona mar...|\n",
            "|22.0|        6|       198.0|      95.0|  2833|        15.5|        70|     1|     plymouth duster|\n",
            "|18.0|        6|       199.0|      97.0|  2774|        15.5|        70|     1|          amc hornet|\n",
            "|21.0|        6|       200.0|      85.0|  2587|        16.0|        70|     1|       ford maverick|\n",
            "|27.0|        4|        97.0|      88.0|  2130|        14.5|        70|     3|        datsun pl510|\n",
            "|26.0|        4|        97.0|      46.0|  1835|        20.5|        70|     2|volkswagen 1131 d...|\n",
            "+----+---------+------------+----------+------+------------+----------+------+--------------------+\n",
            "only showing top 20 rows\n",
            "\n"
          ]
        }
      ]
    },
    {
      "cell_type": "code",
      "source": [
        "df.dtypes\n",
        "\n"
      ],
      "metadata": {
        "colab": {
          "base_uri": "https://localhost:8080/"
        },
        "id": "6KzvdZfhszdg",
        "outputId": "ad802c5a-b76c-493b-d88f-bcae3c697c0e"
      },
      "execution_count": 15,
      "outputs": [
        {
          "output_type": "execute_result",
          "data": {
            "text/plain": [
              "[('mpg', 'double'),\n",
              " ('cylinders', 'int'),\n",
              " ('displacement', 'double'),\n",
              " ('horsepower', 'double'),\n",
              " ('weight', 'int'),\n",
              " ('acceleration', 'double'),\n",
              " ('model year', 'int'),\n",
              " ('origin', 'int'),\n",
              " ('car name', 'string')]"
            ]
          },
          "metadata": {},
          "execution_count": 15
        }
      ]
    },
    {
      "cell_type": "code",
      "source": [
        "def check_missing(dataframe):\n",
        "  return dataframe.select([count(when(isnan(col(c)) | col(c).isNull(), c)).alias(c) for c in dataframe.columns]).show()\n",
        "\n",
        "check_missing(df)"
      ],
      "metadata": {
        "colab": {
          "base_uri": "https://localhost:8080/"
        },
        "id": "dMCREfL9uwRn",
        "outputId": "65086438-9c55-41d2-8ab2-81cd2f4addc8"
      },
      "execution_count": 51,
      "outputs": [
        {
          "output_type": "stream",
          "name": "stdout",
          "text": [
            "+---+---------+------------+----------+------+------------+----------+------+--------+\n",
            "|mpg|cylinders|displacement|horsepower|weight|acceleration|model year|origin|car name|\n",
            "+---+---------+------------+----------+------+------------+----------+------+--------+\n",
            "|  0|        0|           0|         6|     0|           0|         0|     0|       0|\n",
            "+---+---------+------------+----------+------+------------+----------+------+--------+\n",
            "\n"
          ]
        }
      ]
    },
    {
      "cell_type": "code",
      "source": [
        "df.dropna().show()"
      ],
      "metadata": {
        "colab": {
          "base_uri": "https://localhost:8080/"
        },
        "id": "r-ZCYovdd7rq",
        "outputId": "599bb88a-c11f-46da-b648-abf6eecbb37d"
      },
      "execution_count": 52,
      "outputs": [
        {
          "output_type": "stream",
          "name": "stdout",
          "text": [
            "+----+---------+------------+----------+------+------------+----------+------+--------------------+\n",
            "| mpg|cylinders|displacement|horsepower|weight|acceleration|model year|origin|            car name|\n",
            "+----+---------+------------+----------+------+------------+----------+------+--------------------+\n",
            "|18.0|        8|       307.0|     130.0|  3504|        12.0|        70|     1|chevrolet chevell...|\n",
            "|15.0|        8|       350.0|     165.0|  3693|        11.5|        70|     1|   buick skylark 320|\n",
            "|18.0|        8|       318.0|     150.0|  3436|        11.0|        70|     1|  plymouth satellite|\n",
            "|16.0|        8|       304.0|     150.0|  3433|        12.0|        70|     1|       amc rebel sst|\n",
            "|17.0|        8|       302.0|     140.0|  3449|        10.5|        70|     1|         ford torino|\n",
            "|15.0|        8|       429.0|     198.0|  4341|        10.0|        70|     1|    ford galaxie 500|\n",
            "|14.0|        8|       454.0|     220.0|  4354|         9.0|        70|     1|    chevrolet impala|\n",
            "|14.0|        8|       440.0|     215.0|  4312|         8.5|        70|     1|   plymouth fury iii|\n",
            "|14.0|        8|       455.0|     225.0|  4425|        10.0|        70|     1|    pontiac catalina|\n",
            "|15.0|        8|       390.0|     190.0|  3850|         8.5|        70|     1|  amc ambassador dpl|\n",
            "|15.0|        8|       383.0|     170.0|  3563|        10.0|        70|     1| dodge challenger se|\n",
            "|14.0|        8|       340.0|     160.0|  3609|         8.0|        70|     1|  plymouth 'cuda 340|\n",
            "|15.0|        8|       400.0|     150.0|  3761|         9.5|        70|     1|chevrolet monte c...|\n",
            "|14.0|        8|       455.0|     225.0|  3086|        10.0|        70|     1|buick estate wago...|\n",
            "|24.0|        4|       113.0|      95.0|  2372|        15.0|        70|     3|toyota corona mar...|\n",
            "|22.0|        6|       198.0|      95.0|  2833|        15.5|        70|     1|     plymouth duster|\n",
            "|18.0|        6|       199.0|      97.0|  2774|        15.5|        70|     1|          amc hornet|\n",
            "|21.0|        6|       200.0|      85.0|  2587|        16.0|        70|     1|       ford maverick|\n",
            "|27.0|        4|        97.0|      88.0|  2130|        14.5|        70|     3|        datsun pl510|\n",
            "|26.0|        4|        97.0|      46.0|  1835|        20.5|        70|     2|volkswagen 1131 d...|\n",
            "+----+---------+------------+----------+------+------------+----------+------+--------------------+\n",
            "only showing top 20 rows\n",
            "\n"
          ]
        }
      ]
    },
    {
      "cell_type": "code",
      "source": [
        "#col_names = ['mpg', 'cylinders', 'displacement', 'horsepower', 'weight', 'acceleration', 'model year', 'origin', 'car name']\n",
        "#for col in col_names:\n",
        "#  cols=col.split(sep=\" \")\n",
        "#  colums=''\n",
        "#  for c in cols:\n",
        "#    colums += c + \"_\"\n",
        "#  print(colums)\n",
        "#df = df.withColumnRenamed(col, colums)\n",
        "#df.show()\n",
        "df.show(10)\n",
        "#df = df.withColumnRenamed('car name', regexp_replace('car name', ' ', '_'))\n",
        "df.show()\n",
        "#cols"
      ],
      "metadata": {
        "colab": {
          "base_uri": "https://localhost:8080/"
        },
        "id": "JS3eEX_MhMc0",
        "outputId": "97d3a8f5-782c-4d7a-ca23-e6872d5ee150"
      },
      "execution_count": 18,
      "outputs": [
        {
          "output_type": "stream",
          "name": "stdout",
          "text": [
            "+----+---------+------------+----------+------+------------+----------+------+--------------------+\n",
            "| mpg|cylinders|displacement|horsepower|weight|acceleration|model year|origin|            car name|\n",
            "+----+---------+------------+----------+------+------------+----------+------+--------------------+\n",
            "|18.0|        8|       307.0|     130.0|  3504|        12.0|        70|     1|chevrolet chevell...|\n",
            "|15.0|        8|       350.0|     165.0|  3693|        11.5|        70|     1|   buick skylark 320|\n",
            "|18.0|        8|       318.0|     150.0|  3436|        11.0|        70|     1|  plymouth satellite|\n",
            "|16.0|        8|       304.0|     150.0|  3433|        12.0|        70|     1|       amc rebel sst|\n",
            "|17.0|        8|       302.0|     140.0|  3449|        10.5|        70|     1|         ford torino|\n",
            "|15.0|        8|       429.0|     198.0|  4341|        10.0|        70|     1|    ford galaxie 500|\n",
            "|14.0|        8|       454.0|     220.0|  4354|         9.0|        70|     1|    chevrolet impala|\n",
            "|14.0|        8|       440.0|     215.0|  4312|         8.5|        70|     1|   plymouth fury iii|\n",
            "|14.0|        8|       455.0|     225.0|  4425|        10.0|        70|     1|    pontiac catalina|\n",
            "|15.0|        8|       390.0|     190.0|  3850|         8.5|        70|     1|  amc ambassador dpl|\n",
            "+----+---------+------------+----------+------+------------+----------+------+--------------------+\n",
            "only showing top 10 rows\n",
            "\n",
            "+----+---------+------------+----------+------+------------+----------+------+--------------------+\n",
            "| mpg|cylinders|displacement|horsepower|weight|acceleration|model year|origin|            car name|\n",
            "+----+---------+------------+----------+------+------------+----------+------+--------------------+\n",
            "|18.0|        8|       307.0|     130.0|  3504|        12.0|        70|     1|chevrolet chevell...|\n",
            "|15.0|        8|       350.0|     165.0|  3693|        11.5|        70|     1|   buick skylark 320|\n",
            "|18.0|        8|       318.0|     150.0|  3436|        11.0|        70|     1|  plymouth satellite|\n",
            "|16.0|        8|       304.0|     150.0|  3433|        12.0|        70|     1|       amc rebel sst|\n",
            "|17.0|        8|       302.0|     140.0|  3449|        10.5|        70|     1|         ford torino|\n",
            "|15.0|        8|       429.0|     198.0|  4341|        10.0|        70|     1|    ford galaxie 500|\n",
            "|14.0|        8|       454.0|     220.0|  4354|         9.0|        70|     1|    chevrolet impala|\n",
            "|14.0|        8|       440.0|     215.0|  4312|         8.5|        70|     1|   plymouth fury iii|\n",
            "|14.0|        8|       455.0|     225.0|  4425|        10.0|        70|     1|    pontiac catalina|\n",
            "|15.0|        8|       390.0|     190.0|  3850|         8.5|        70|     1|  amc ambassador dpl|\n",
            "|15.0|        8|       383.0|     170.0|  3563|        10.0|        70|     1| dodge challenger se|\n",
            "|14.0|        8|       340.0|     160.0|  3609|         8.0|        70|     1|  plymouth 'cuda 340|\n",
            "|15.0|        8|       400.0|     150.0|  3761|         9.5|        70|     1|chevrolet monte c...|\n",
            "|14.0|        8|       455.0|     225.0|  3086|        10.0|        70|     1|buick estate wago...|\n",
            "|24.0|        4|       113.0|      95.0|  2372|        15.0|        70|     3|toyota corona mar...|\n",
            "|22.0|        6|       198.0|      95.0|  2833|        15.5|        70|     1|     plymouth duster|\n",
            "|18.0|        6|       199.0|      97.0|  2774|        15.5|        70|     1|          amc hornet|\n",
            "|21.0|        6|       200.0|      85.0|  2587|        16.0|        70|     1|       ford maverick|\n",
            "|27.0|        4|        97.0|      88.0|  2130|        14.5|        70|     3|        datsun pl510|\n",
            "|26.0|        4|        97.0|      46.0|  1835|        20.5|        70|     2|volkswagen 1131 d...|\n",
            "+----+---------+------------+----------+------+------------+----------+------+--------------------+\n",
            "only showing top 20 rows\n",
            "\n"
          ]
        }
      ]
    },
    {
      "cell_type": "code",
      "source": [
        "#regexp_replace(col(df), ' ', '_')"
      ],
      "metadata": {
        "id": "BuKn25BSnROM"
      },
      "execution_count": 19,
      "outputs": []
    },
    {
      "cell_type": "code",
      "source": [
        "df = df.withColumn('horsepower', col('horsepower').cast('int'))\n",
        "df.dtypes"
      ],
      "metadata": {
        "colab": {
          "base_uri": "https://localhost:8080/"
        },
        "id": "ZqbSBZ_avupX",
        "outputId": "ef13372b-bb0f-41a3-fa97-4c587255e723"
      },
      "execution_count": 20,
      "outputs": [
        {
          "output_type": "execute_result",
          "data": {
            "text/plain": [
              "[('mpg', 'double'),\n",
              " ('cylinders', 'int'),\n",
              " ('displacement', 'double'),\n",
              " ('horsepower', 'int'),\n",
              " ('weight', 'int'),\n",
              " ('acceleration', 'double'),\n",
              " ('model year', 'int'),\n",
              " ('origin', 'int'),\n",
              " ('car name', 'string')]"
            ]
          },
          "metadata": {},
          "execution_count": 20
        }
      ]
    },
    {
      "cell_type": "code",
      "source": [
        "numeric_cols= [c for c,t in df.dtypes if t.startswith('string')==False]\n",
        "df[numeric_cols].summary().show()"
      ],
      "metadata": {
        "colab": {
          "base_uri": "https://localhost:8080/"
        },
        "id": "eDmmfG_Om2ze",
        "outputId": "36abbf51-2c36-42a9-8ad7-68eaa29b848b"
      },
      "execution_count": 21,
      "outputs": [
        {
          "output_type": "stream",
          "name": "stdout",
          "text": [
            "+-------+------------------+------------------+------------------+------------------+-----------------+------------------+------------------+------------------+\n",
            "|summary|               mpg|         cylinders|      displacement|        horsepower|           weight|      acceleration|        model year|            origin|\n",
            "+-------+------------------+------------------+------------------+------------------+-----------------+------------------+------------------+------------------+\n",
            "|  count|               398|               398|               398|               398|              398|               398|               398|               398|\n",
            "|   mean|23.514572864321615| 5.454773869346734|193.42587939698493|102.89447236180905|2970.424623115578|15.568090452261291| 76.01005025125629|1.5728643216080402|\n",
            "| stddev| 7.815984312565783|1.7010042445332123|104.26983817119587| 40.26954421185716|846.8417741973268| 2.757688929812676|3.6976266467325862|0.8020548777266148|\n",
            "|    min|               9.0|                 3|              68.0|                 0|             1613|               8.0|                70|                 1|\n",
            "|    25%|              17.5|                 4|             104.0|                75|             2223|              13.8|                73|                 1|\n",
            "|    50%|              23.0|                 4|             146.0|                92|             2800|              15.5|                76|                 1|\n",
            "|    75%|              29.0|                 8|             262.0|               125|             3609|              17.2|                79|                 2|\n",
            "|    max|              46.6|                 8|             455.0|               230|             5140|              24.8|                82|                 3|\n",
            "+-------+------------------+------------------+------------------+------------------+-----------------+------------------+------------------+------------------+\n",
            "\n"
          ]
        }
      ]
    },
    {
      "cell_type": "code",
      "source": [
        "df.printSchema()"
      ],
      "metadata": {
        "colab": {
          "base_uri": "https://localhost:8080/"
        },
        "id": "jskaRjSO0j-q",
        "outputId": "7c29de01-27bf-4d3e-fb5b-4d181bd1c847"
      },
      "execution_count": 22,
      "outputs": [
        {
          "output_type": "stream",
          "name": "stdout",
          "text": [
            "root\n",
            " |-- mpg: double (nullable = true)\n",
            " |-- cylinders: integer (nullable = true)\n",
            " |-- displacement: double (nullable = true)\n",
            " |-- horsepower: integer (nullable = true)\n",
            " |-- weight: integer (nullable = true)\n",
            " |-- acceleration: double (nullable = true)\n",
            " |-- model year: integer (nullable = true)\n",
            " |-- origin: integer (nullable = true)\n",
            " |-- car name: string (nullable = true)\n",
            "\n"
          ]
        }
      ]
    },
    {
      "cell_type": "code",
      "source": [
        "df.filter(df['acceleration']>15).show()"
      ],
      "metadata": {
        "colab": {
          "base_uri": "https://localhost:8080/"
        },
        "id": "6b9wXgxmn4ft",
        "outputId": "a9b18c7b-9e86-4a03-9dc3-7ebbd5af1a02"
      },
      "execution_count": 23,
      "outputs": [
        {
          "output_type": "stream",
          "name": "stdout",
          "text": [
            "+----+---------+------------+----------+------+------------+----------+------+--------------------+\n",
            "| mpg|cylinders|displacement|horsepower|weight|acceleration|model year|origin|            car name|\n",
            "+----+---------+------------+----------+------+------------+----------+------+--------------------+\n",
            "|22.0|        6|       198.0|        95|  2833|        15.5|        70|     1|     plymouth duster|\n",
            "|18.0|        6|       199.0|        97|  2774|        15.5|        70|     1|          amc hornet|\n",
            "|21.0|        6|       200.0|        85|  2587|        16.0|        70|     1|       ford maverick|\n",
            "|26.0|        4|        97.0|        46|  1835|        20.5|        70|     2|volkswagen 1131 d...|\n",
            "|25.0|        4|       110.0|        87|  2672|        17.5|        70|     2|         peugeot 504|\n",
            "|25.0|        4|       104.0|        95|  2375|        17.5|        70|     2|            saab 99e|\n",
            "| 9.0|        8|       304.0|       193|  4732|        18.5|        70|     1|            hi 1200d|\n",
            "|28.0|        4|       140.0|        90|  2264|        15.5|        71|     1| chevrolet vega 2300|\n",
            "|25.0|        4|        98.0|         0|  2046|        19.0|        71|     1|          ford pinto|\n",
            "|16.0|        6|       225.0|       105|  3439|        15.5|        71|     1|plymouth satellit...|\n",
            "|17.0|        6|       250.0|       100|  3329|        15.5|        71|     1|chevrolet chevell...|\n",
            "|19.0|        6|       250.0|        88|  3302|        15.5|        71|     1|     ford torino 500|\n",
            "|18.0|        6|       232.0|       100|  3288|        15.5|        71|     1|         amc matador|\n",
            "|22.0|        4|       140.0|        72|  2408|        19.0|        71|     1| chevrolet vega (sw)|\n",
            "|30.0|        4|        79.0|        70|  2074|        19.5|        71|     2|         peugeot 304|\n",
            "|31.0|        4|        71.0|        65|  1773|        19.0|        71|     3| toyota corolla 1200|\n",
            "|35.0|        4|        72.0|        69|  1613|        18.0|        71|     3|         datsun 1200|\n",
            "|27.0|        4|        97.0|        60|  1834|        19.0|        71|     2|volkswagen model 111|\n",
            "|26.0|        4|        91.0|        70|  1955|        20.5|        71|     1|    plymouth cricket|\n",
            "|24.0|        4|       113.0|        95|  2278|        15.5|        72|     3|toyota corona har...|\n",
            "+----+---------+------------+----------+------+------------+----------+------+--------------------+\n",
            "only showing top 20 rows\n",
            "\n"
          ]
        }
      ]
    },
    {
      "cell_type": "code",
      "source": [
        "df.filter(df['mpg']>23).show(10)"
      ],
      "metadata": {
        "colab": {
          "base_uri": "https://localhost:8080/"
        },
        "id": "gX7AV6ZL1b2O",
        "outputId": "bc70c6a2-6de4-410f-b3b3-0a726ae3b726"
      },
      "execution_count": 24,
      "outputs": [
        {
          "output_type": "stream",
          "name": "stdout",
          "text": [
            "+----+---------+------------+----------+------+------------+----------+------+--------------------+\n",
            "| mpg|cylinders|displacement|horsepower|weight|acceleration|model year|origin|            car name|\n",
            "+----+---------+------------+----------+------+------------+----------+------+--------------------+\n",
            "|24.0|        4|       113.0|        95|  2372|        15.0|        70|     3|toyota corona mar...|\n",
            "|27.0|        4|        97.0|        88|  2130|        14.5|        70|     3|        datsun pl510|\n",
            "|26.0|        4|        97.0|        46|  1835|        20.5|        70|     2|volkswagen 1131 d...|\n",
            "|25.0|        4|       110.0|        87|  2672|        17.5|        70|     2|         peugeot 504|\n",
            "|24.0|        4|       107.0|        90|  2430|        14.5|        70|     2|         audi 100 ls|\n",
            "|25.0|        4|       104.0|        95|  2375|        17.5|        70|     2|            saab 99e|\n",
            "|26.0|        4|       121.0|       113|  2234|        12.5|        70|     2|            bmw 2002|\n",
            "|27.0|        4|        97.0|        88|  2130|        14.5|        71|     3|        datsun pl510|\n",
            "|28.0|        4|       140.0|        90|  2264|        15.5|        71|     1| chevrolet vega 2300|\n",
            "|25.0|        4|       113.0|        95|  2228|        14.0|        71|     3|       toyota corona|\n",
            "+----+---------+------------+----------+------+------------+----------+------+--------------------+\n",
            "only showing top 10 rows\n",
            "\n"
          ]
        }
      ]
    },
    {
      "cell_type": "code",
      "source": [
        "df.filter((col('weight')>2000) & (col('horsepower')>80)).show(10)"
      ],
      "metadata": {
        "colab": {
          "base_uri": "https://localhost:8080/"
        },
        "id": "95gO7zj-16q6",
        "outputId": "1b8ec19d-a9d0-45b8-b389-a2bda3c79705"
      },
      "execution_count": 25,
      "outputs": [
        {
          "output_type": "stream",
          "name": "stdout",
          "text": [
            "+----+---------+------------+----------+------+------------+----------+------+--------------------+\n",
            "| mpg|cylinders|displacement|horsepower|weight|acceleration|model year|origin|            car name|\n",
            "+----+---------+------------+----------+------+------------+----------+------+--------------------+\n",
            "|18.0|        8|       307.0|       130|  3504|        12.0|        70|     1|chevrolet chevell...|\n",
            "|15.0|        8|       350.0|       165|  3693|        11.5|        70|     1|   buick skylark 320|\n",
            "|18.0|        8|       318.0|       150|  3436|        11.0|        70|     1|  plymouth satellite|\n",
            "|16.0|        8|       304.0|       150|  3433|        12.0|        70|     1|       amc rebel sst|\n",
            "|17.0|        8|       302.0|       140|  3449|        10.5|        70|     1|         ford torino|\n",
            "|15.0|        8|       429.0|       198|  4341|        10.0|        70|     1|    ford galaxie 500|\n",
            "|14.0|        8|       454.0|       220|  4354|         9.0|        70|     1|    chevrolet impala|\n",
            "|14.0|        8|       440.0|       215|  4312|         8.5|        70|     1|   plymouth fury iii|\n",
            "|14.0|        8|       455.0|       225|  4425|        10.0|        70|     1|    pontiac catalina|\n",
            "|15.0|        8|       390.0|       190|  3850|         8.5|        70|     1|  amc ambassador dpl|\n",
            "+----+---------+------------+----------+------+------------+----------+------+--------------------+\n",
            "only showing top 10 rows\n",
            "\n"
          ]
        }
      ]
    },
    {
      "cell_type": "code",
      "source": [
        "df.filter((col('weight')>2000) & (col('horsepower')>80)).sort('mpg').show(10)"
      ],
      "metadata": {
        "colab": {
          "base_uri": "https://localhost:8080/"
        },
        "id": "PTM5Cg3sobl2",
        "outputId": "9943d652-3b25-4868-9d9c-8c100136005e"
      },
      "execution_count": 26,
      "outputs": [
        {
          "output_type": "stream",
          "name": "stdout",
          "text": [
            "+----+---------+------------+----------+------+------------+----------+------+--------------------+\n",
            "| mpg|cylinders|displacement|horsepower|weight|acceleration|model year|origin|            car name|\n",
            "+----+---------+------------+----------+------+------------+----------+------+--------------------+\n",
            "| 9.0|        8|       304.0|       193|  4732|        18.5|        70|     1|            hi 1200d|\n",
            "|10.0|        8|       360.0|       215|  4615|        14.0|        70|     1|           ford f250|\n",
            "|10.0|        8|       307.0|       200|  4376|        15.0|        70|     1|           chevy c20|\n",
            "|11.0|        8|       318.0|       210|  4382|        13.5|        70|     1|          dodge d200|\n",
            "|11.0|        8|       429.0|       208|  4633|        11.0|        72|     1|     mercury marquis|\n",
            "|11.0|        8|       400.0|       150|  4997|        14.0|        73|     1|    chevrolet impala|\n",
            "|11.0|        8|       350.0|       180|  3664|        11.0|        73|     1|    oldsmobile omega|\n",
            "|12.0|        8|       383.0|       180|  4955|        11.5|        71|     1|   dodge monaco (sw)|\n",
            "|12.0|        8|       350.0|       160|  4456|        13.5|        72|     1|oldsmobile delta ...|\n",
            "|12.0|        8|       429.0|       198|  4952|        11.5|        73|     1|mercury marquis b...|\n",
            "+----+---------+------------+----------+------+------------+----------+------+--------------------+\n",
            "only showing top 10 rows\n",
            "\n"
          ]
        }
      ]
    },
    {
      "cell_type": "code",
      "source": [
        "df.filter((col('weight')>2000) & (col('horsepower')>80)).sort('mpg').show(10)"
      ],
      "metadata": {
        "colab": {
          "base_uri": "https://localhost:8080/"
        },
        "outputId": "f5819e71-0d44-43ac-fdb3-a6cd6d8b1ea7",
        "id": "GXidMJlio5h2"
      },
      "execution_count": 27,
      "outputs": [
        {
          "output_type": "stream",
          "name": "stdout",
          "text": [
            "+----+---------+------------+----------+------+------------+----------+------+--------------------+\n",
            "| mpg|cylinders|displacement|horsepower|weight|acceleration|model year|origin|            car name|\n",
            "+----+---------+------------+----------+------+------------+----------+------+--------------------+\n",
            "| 9.0|        8|       304.0|       193|  4732|        18.5|        70|     1|            hi 1200d|\n",
            "|10.0|        8|       360.0|       215|  4615|        14.0|        70|     1|           ford f250|\n",
            "|10.0|        8|       307.0|       200|  4376|        15.0|        70|     1|           chevy c20|\n",
            "|11.0|        8|       318.0|       210|  4382|        13.5|        70|     1|          dodge d200|\n",
            "|11.0|        8|       429.0|       208|  4633|        11.0|        72|     1|     mercury marquis|\n",
            "|11.0|        8|       400.0|       150|  4997|        14.0|        73|     1|    chevrolet impala|\n",
            "|11.0|        8|       350.0|       180|  3664|        11.0|        73|     1|    oldsmobile omega|\n",
            "|12.0|        8|       383.0|       180|  4955|        11.5|        71|     1|   dodge monaco (sw)|\n",
            "|12.0|        8|       350.0|       160|  4456|        13.5|        72|     1|oldsmobile delta ...|\n",
            "|12.0|        8|       429.0|       198|  4952|        11.5|        73|     1|mercury marquis b...|\n",
            "+----+---------+------------+----------+------+------------+----------+------+--------------------+\n",
            "only showing top 10 rows\n",
            "\n"
          ]
        }
      ]
    },
    {
      "cell_type": "code",
      "source": [
        "df.filter((col('weight')>2000) & (col('horsepower')>80)).sort('mpg').show(10)"
      ],
      "metadata": {
        "colab": {
          "base_uri": "https://localhost:8080/"
        },
        "outputId": "394b6d21-f4e3-454a-87a8-0fdc62c75e7a",
        "id": "UN9R6Cw5o8A5"
      },
      "execution_count": 28,
      "outputs": [
        {
          "output_type": "stream",
          "name": "stdout",
          "text": [
            "+----+---------+------------+----------+------+------------+----------+------+--------------------+\n",
            "| mpg|cylinders|displacement|horsepower|weight|acceleration|model year|origin|            car name|\n",
            "+----+---------+------------+----------+------+------------+----------+------+--------------------+\n",
            "| 9.0|        8|       304.0|       193|  4732|        18.5|        70|     1|            hi 1200d|\n",
            "|10.0|        8|       360.0|       215|  4615|        14.0|        70|     1|           ford f250|\n",
            "|10.0|        8|       307.0|       200|  4376|        15.0|        70|     1|           chevy c20|\n",
            "|11.0|        8|       318.0|       210|  4382|        13.5|        70|     1|          dodge d200|\n",
            "|11.0|        8|       429.0|       208|  4633|        11.0|        72|     1|     mercury marquis|\n",
            "|11.0|        8|       400.0|       150|  4997|        14.0|        73|     1|    chevrolet impala|\n",
            "|11.0|        8|       350.0|       180|  3664|        11.0|        73|     1|    oldsmobile omega|\n",
            "|12.0|        8|       383.0|       180|  4955|        11.5|        71|     1|   dodge monaco (sw)|\n",
            "|12.0|        8|       350.0|       160|  4456|        13.5|        72|     1|oldsmobile delta ...|\n",
            "|12.0|        8|       429.0|       198|  4952|        11.5|        73|     1|mercury marquis b...|\n",
            "+----+---------+------------+----------+------+------------+----------+------+--------------------+\n",
            "only showing top 10 rows\n",
            "\n"
          ]
        }
      ]
    },
    {
      "cell_type": "code",
      "source": [
        "df.filter((col('weight')>2000) & (col('horsepower')>80)).sort(col('mpg').desc()).show(10)"
      ],
      "metadata": {
        "colab": {
          "base_uri": "https://localhost:8080/"
        },
        "outputId": "bee98cfb-0b64-4a69-8c7b-f866872c6ba8",
        "id": "JTd0s0r7pDAb"
      },
      "execution_count": 29,
      "outputs": [
        {
          "output_type": "stream",
          "name": "stdout",
          "text": [
            "+----+---------+------------+----------+------+------------+----------+------+--------------------+\n",
            "| mpg|cylinders|displacement|horsepower|weight|acceleration|model year|origin|            car name|\n",
            "+----+---------+------------+----------+------+------------+----------+------+--------------------+\n",
            "|38.0|        6|       262.0|        85|  3015|        17.0|        82|     1|oldsmobile cutlas...|\n",
            "|37.0|        4|       119.0|        92|  2434|        15.0|        80|     3|datsun 510 hatchback|\n",
            "|36.0|        4|       135.0|        84|  2370|        13.0|        82|     1|   dodge charger 2.2|\n",
            "|36.0|        4|       120.0|        88|  2160|        14.5|        82|     3|    nissan stanza xe|\n",
            "|35.0|        4|       122.0|        88|  2500|        15.1|        80|     2|   triumph tr7 coupe|\n",
            "|34.0|        4|       112.0|        88|  2395|        18.0|        82|     1|chevrolet cavalie...|\n",
            "|33.5|        4|        98.0|        83|  2075|        15.9|        77|     1|      dodge colt m/m|\n",
            "|33.5|        4|       151.0|        90|  2556|        13.2|        79|     1|     pontiac phoenix|\n",
            "|32.9|        4|       119.0|       100|  2615|        14.8|        81|     3|        datsun 200sx|\n",
            "|32.7|        6|       168.0|       132|  2910|        11.4|        80|     3|       datsun 280-zx|\n",
            "+----+---------+------------+----------+------+------------+----------+------+--------------------+\n",
            "only showing top 10 rows\n",
            "\n"
          ]
        }
      ]
    },
    {
      "cell_type": "code",
      "source": [],
      "metadata": {
        "id": "v5TNmd-JpU92"
      },
      "execution_count": 29,
      "outputs": []
    },
    {
      "cell_type": "code",
      "source": [
        "df.sort('model year').show(10)"
      ],
      "metadata": {
        "colab": {
          "base_uri": "https://localhost:8080/"
        },
        "id": "D8xGVCR43Ege",
        "outputId": "b947ba6a-7ba0-4c49-e8f9-83c18191ec64"
      },
      "execution_count": 30,
      "outputs": [
        {
          "output_type": "stream",
          "name": "stdout",
          "text": [
            "+----+---------+------------+----------+------+------------+----------+------+--------------------+\n",
            "| mpg|cylinders|displacement|horsepower|weight|acceleration|model year|origin|            car name|\n",
            "+----+---------+------------+----------+------+------------+----------+------+--------------------+\n",
            "|18.0|        8|       307.0|       130|  3504|        12.0|        70|     1|chevrolet chevell...|\n",
            "|15.0|        8|       350.0|       165|  3693|        11.5|        70|     1|   buick skylark 320|\n",
            "|18.0|        8|       318.0|       150|  3436|        11.0|        70|     1|  plymouth satellite|\n",
            "|16.0|        8|       304.0|       150|  3433|        12.0|        70|     1|       amc rebel sst|\n",
            "|17.0|        8|       302.0|       140|  3449|        10.5|        70|     1|         ford torino|\n",
            "|15.0|        8|       429.0|       198|  4341|        10.0|        70|     1|    ford galaxie 500|\n",
            "|14.0|        8|       454.0|       220|  4354|         9.0|        70|     1|    chevrolet impala|\n",
            "|14.0|        8|       440.0|       215|  4312|         8.5|        70|     1|   plymouth fury iii|\n",
            "|14.0|        8|       455.0|       225|  4425|        10.0|        70|     1|    pontiac catalina|\n",
            "|15.0|        8|       390.0|       190|  3850|         8.5|        70|     1|  amc ambassador dpl|\n",
            "+----+---------+------------+----------+------+------------+----------+------+--------------------+\n",
            "only showing top 10 rows\n",
            "\n"
          ]
        }
      ]
    },
    {
      "cell_type": "code",
      "source": [
        "df.filter(col(\"car name\").contains(\"volkswagen\")).orderBy(['model year','horsepower'],ascending=[False,False]).show()"
      ],
      "metadata": {
        "colab": {
          "base_uri": "https://localhost:8080/"
        },
        "id": "KzKwpOwf3uOL",
        "outputId": "13784701-68d5-4559-a2c3-146b72721ed2"
      },
      "execution_count": 31,
      "outputs": [
        {
          "output_type": "stream",
          "name": "stdout",
          "text": [
            "+----+---------+------------+----------+------+------------+----------+------+--------------------+\n",
            "| mpg|cylinders|displacement|horsepower|weight|acceleration|model year|origin|            car name|\n",
            "+----+---------+------------+----------+------+------------+----------+------+--------------------+\n",
            "|36.0|        4|       105.0|        74|  1980|        15.3|        82|     2| volkswagen rabbit l|\n",
            "|33.0|        4|       105.0|        74|  2190|        14.2|        81|     2|    volkswagen jetta|\n",
            "|31.5|        4|        89.0|        71|  1990|        14.9|        78|     2| volkswagen scirocco|\n",
            "|43.1|        4|        90.0|        48|  1985|        21.5|        78|     2|volkswagen rabbit...|\n",
            "|29.0|        4|        97.0|        78|  1940|        14.5|        77|     2|volkswagen rabbit...|\n",
            "|30.5|        4|        97.0|        78|  2190|        14.1|        77|     2|   volkswagen dasher|\n",
            "|29.5|        4|        97.0|        71|  1825|        12.2|        76|     2|   volkswagen rabbit|\n",
            "|25.0|        4|        90.0|        71|  2223|        16.5|        75|     2|   volkswagen dasher|\n",
            "|29.0|        4|        90.0|        70|  1937|        14.0|        75|     2|   volkswagen rabbit|\n",
            "|26.0|        4|        79.0|        67|  1963|        15.5|        74|     2|   volkswagen dasher|\n",
            "|26.0|        4|        97.0|        46|  1950|        21.0|        73|     2|volkswagen super ...|\n",
            "|22.0|        4|       121.0|        76|  2511|        18.0|        72|     2| volkswagen 411 (sw)|\n",
            "|23.0|        4|        97.0|        54|  2254|        23.5|        72|     2|   volkswagen type 3|\n",
            "|27.0|        4|        97.0|        60|  1834|        19.0|        71|     2|volkswagen model 111|\n",
            "|26.0|        4|        97.0|        46|  1835|        20.5|        70|     2|volkswagen 1131 d...|\n",
            "+----+---------+------------+----------+------+------------+----------+------+--------------------+\n",
            "\n"
          ]
        }
      ]
    },
    {
      "cell_type": "code",
      "source": [],
      "metadata": {
        "id": "HZS893FIqO1R"
      },
      "execution_count": 31,
      "outputs": []
    },
    {
      "cell_type": "code",
      "source": [
        "df =df.withColumn('brand',split(col('car name'),' ').getItem(0))\n",
        "\n",
        "auto_misspelled = {'chevroelt':'chevrolet',\n",
        "                   'chevy':'chevrolet',\n",
        "                   'vw':'volkswagan',\n",
        "                   'volkswagen':'volkswagan',\n",
        "                   'vokswagen':'volkswagan',\n",
        "                   'toyouta':'toyota',\n",
        "                   'hi':'harvester',\n",
        "                   'maxda':'mazda',\n",
        "                   'mercedes-benz':'mercedes'}\n",
        "\n",
        "for key in auto_misspelled.keys():\n",
        "  df = df.withColumn('brand', regexp_replace('brand', key, auto_misspelled[key]))\n",
        "df.show(20)"
      ],
      "metadata": {
        "colab": {
          "base_uri": "https://localhost:8080/"
        },
        "id": "-qprM-Om5euZ",
        "outputId": "d96984e2-787e-4b7d-b976-2dbe92995ea5"
      },
      "execution_count": 53,
      "outputs": [
        {
          "output_type": "stream",
          "name": "stdout",
          "text": [
            "+----+---------+------------+----------+------+------------+----------+------+--------------------+----------+\n",
            "| mpg|cylinders|displacement|horsepower|weight|acceleration|model year|origin|            car name|     brand|\n",
            "+----+---------+------------+----------+------+------------+----------+------+--------------------+----------+\n",
            "|18.0|        8|       307.0|     130.0|  3504|        12.0|        70|     1|chevrolet chevell...| chevrolet|\n",
            "|15.0|        8|       350.0|     165.0|  3693|        11.5|        70|     1|   buick skylark 320|     buick|\n",
            "|18.0|        8|       318.0|     150.0|  3436|        11.0|        70|     1|  plymouth satellite|  plymouth|\n",
            "|16.0|        8|       304.0|     150.0|  3433|        12.0|        70|     1|       amc rebel sst|       amc|\n",
            "|17.0|        8|       302.0|     140.0|  3449|        10.5|        70|     1|         ford torino|      ford|\n",
            "|15.0|        8|       429.0|     198.0|  4341|        10.0|        70|     1|    ford galaxie 500|      ford|\n",
            "|14.0|        8|       454.0|     220.0|  4354|         9.0|        70|     1|    chevrolet impala| chevrolet|\n",
            "|14.0|        8|       440.0|     215.0|  4312|         8.5|        70|     1|   plymouth fury iii|  plymouth|\n",
            "|14.0|        8|       455.0|     225.0|  4425|        10.0|        70|     1|    pontiac catalina|   pontiac|\n",
            "|15.0|        8|       390.0|     190.0|  3850|         8.5|        70|     1|  amc ambassador dpl|       amc|\n",
            "|15.0|        8|       383.0|     170.0|  3563|        10.0|        70|     1| dodge challenger se|     dodge|\n",
            "|14.0|        8|       340.0|     160.0|  3609|         8.0|        70|     1|  plymouth 'cuda 340|  plymouth|\n",
            "|15.0|        8|       400.0|     150.0|  3761|         9.5|        70|     1|chevrolet monte c...| chevrolet|\n",
            "|14.0|        8|       455.0|     225.0|  3086|        10.0|        70|     1|buick estate wago...|     buick|\n",
            "|24.0|        4|       113.0|      95.0|  2372|        15.0|        70|     3|toyota corona mar...|    toyota|\n",
            "|22.0|        6|       198.0|      95.0|  2833|        15.5|        70|     1|     plymouth duster|  plymouth|\n",
            "|18.0|        6|       199.0|      97.0|  2774|        15.5|        70|     1|          amc hornet|       amc|\n",
            "|21.0|        6|       200.0|      85.0|  2587|        16.0|        70|     1|       ford maverick|      ford|\n",
            "|27.0|        4|        97.0|      88.0|  2130|        14.5|        70|     3|        datsun pl510|    datsun|\n",
            "|26.0|        4|        97.0|      46.0|  1835|        20.5|        70|     2|volkswagen 1131 d...|volkswagan|\n",
            "+----+---------+------------+----------+------+------------+----------+------+--------------------+----------+\n",
            "only showing top 20 rows\n",
            "\n"
          ]
        }
      ]
    },
    {
      "cell_type": "code",
      "source": [
        "\n",
        "df.groupBy('brand').agg({'acceleration':'mean'}).withColumnRenamed('avg(acceleration)','Avg acceleration').show(10)\n"
      ],
      "metadata": {
        "colab": {
          "base_uri": "https://localhost:8080/"
        },
        "id": "VbR4dm_em0Xu",
        "outputId": "c0765cca-c45b-4de3-e607-72eab8cd06eb"
      },
      "execution_count": 33,
      "outputs": [
        {
          "output_type": "stream",
          "name": "stdout",
          "text": [
            "+----------+------------------+\n",
            "|     brand|  Avg acceleration|\n",
            "+----------+------------------+\n",
            "|volkswagan|17.404545454545453|\n",
            "|     buick|14.700000000000003|\n",
            "|   pontiac|14.081249999999999|\n",
            "|  mercedes| 19.53333333333333|\n",
            "|    toyota| 16.03846153846154|\n",
            "|      saab|            15.175|\n",
            "|       amc|15.264285714285716|\n",
            "|   peugeot|             19.55|\n",
            "|  chrysler|13.300000000000002|\n",
            "|  plymouth|14.851612903225801|\n",
            "+----------+------------------+\n",
            "only showing top 10 rows\n",
            "\n"
          ]
        }
      ]
    },
    {
      "cell_type": "code",
      "source": [
        "df.groupBy('brand').agg({'mpg':'max'}).show(10)"
      ],
      "metadata": {
        "colab": {
          "base_uri": "https://localhost:8080/"
        },
        "id": "lN11hnyk7H8l",
        "outputId": "1f632dd2-1000-4883-c351-99d1b356456b"
      },
      "execution_count": 34,
      "outputs": [
        {
          "output_type": "stream",
          "name": "stdout",
          "text": [
            "+----------+--------+\n",
            "|     brand|max(mpg)|\n",
            "+----------+--------+\n",
            "|volkswagan|    44.3|\n",
            "|     buick|    30.0|\n",
            "|   pontiac|    33.5|\n",
            "|  mercedes|    30.0|\n",
            "|    toyota|    39.1|\n",
            "|      saab|    25.0|\n",
            "|       amc|    27.4|\n",
            "|   peugeot|    30.0|\n",
            "|  chrysler|    26.0|\n",
            "|  plymouth|    39.0|\n",
            "+----------+--------+\n",
            "only showing top 10 rows\n",
            "\n"
          ]
        }
      ]
    },
    {
      "cell_type": "code",
      "source": [
        "df.groupBy('brand').agg({'acceleration':'mean'}).show(10)"
      ],
      "metadata": {
        "colab": {
          "base_uri": "https://localhost:8080/"
        },
        "id": "8jtArv-n7na9",
        "outputId": "dd685ef0-c5e8-4c1a-d8a4-c720dd47bc15"
      },
      "execution_count": 35,
      "outputs": [
        {
          "output_type": "stream",
          "name": "stdout",
          "text": [
            "+----------+------------------+\n",
            "|     brand| avg(acceleration)|\n",
            "+----------+------------------+\n",
            "|volkswagan|17.404545454545453|\n",
            "|     buick|14.700000000000003|\n",
            "|   pontiac|14.081249999999999|\n",
            "|  mercedes| 19.53333333333333|\n",
            "|    toyota| 16.03846153846154|\n",
            "|      saab|            15.175|\n",
            "|       amc|15.264285714285716|\n",
            "|   peugeot|             19.55|\n",
            "|  chrysler|13.300000000000002|\n",
            "|  plymouth|14.851612903225801|\n",
            "+----------+------------------+\n",
            "only showing top 10 rows\n",
            "\n"
          ]
        }
      ]
    },
    {
      "cell_type": "code",
      "source": [
        "distinct_brands = df.select('brand').distinct().count()\n",
        "print(f\"Number of distinct brands: {distinct_brands}\")\n",
        "\n",
        "df.select('brand').distinct().show(100,truncate=False)"
      ],
      "metadata": {
        "colab": {
          "base_uri": "https://localhost:8080/"
        },
        "id": "khKecF3qoaxN",
        "outputId": "30dde35c-7d9f-4c31-8f09-e26cf36274c5"
      },
      "execution_count": 46,
      "outputs": [
        {
          "output_type": "stream",
          "name": "stdout",
          "text": [
            "Number of distinct brands: 30\n",
            "+----------+\n",
            "|brand     |\n",
            "+----------+\n",
            "|volkswagan|\n",
            "|buick     |\n",
            "|pontiac   |\n",
            "|mercedes  |\n",
            "|toyota    |\n",
            "|saab      |\n",
            "|amc       |\n",
            "|peugeot   |\n",
            "|chrysler  |\n",
            "|plymouth  |\n",
            "|audi      |\n",
            "|datsun    |\n",
            "|bmw       |\n",
            "|dodge     |\n",
            "|ford      |\n",
            "|capri     |\n",
            "|cadillac  |\n",
            "|mazda     |\n",
            "|harvester |\n",
            "|chevrolet |\n",
            "|opel      |\n",
            "|honda     |\n",
            "|fiat      |\n",
            "|oldsmobile|\n",
            "|mercury   |\n",
            "|renault   |\n",
            "|nissan    |\n",
            "|triumph   |\n",
            "|subaru    |\n",
            "|volvo     |\n",
            "+----------+\n",
            "\n"
          ]
        }
      ]
    },
    {
      "cell_type": "code",
      "source": [
        "# prompt: command to generate unique values in brand\n",
        "\n",
        "#from pyspark.sql.functions import countDistinct\n",
        "\n",
        "# Assuming 'df' is your DataFrame as defined in the previous code\n",
        "\n",
        "#distinct_brands = df.select(countDistinct(\"brand\")).collect()[0][0]\n",
        "#print(f\"Number of distinct brands: {distinct_brands}\")\n",
        "#df.select(\"brand\").distinct().show(distinct_brands)\n",
        "#df.select('brand').distinct().show()\n",
        "\n",
        "\n",
        "def one_hot_encode(df, categorical_col):\n",
        "  # Create a StringIndexer\n",
        "  indexed = StringIndexer().setInputCol(categorical_col).setOutputCol(categorical_col + \"_cat\").fit(df).transform(df)\n",
        "  # Create a OneHotEncoder\n",
        "  encoder = OneHotEncoder().setInputCol(categorical_col + \"_cat\").setOutputCol(categorical_col + \"_OneHotEncoder\").fit(indexed).transform(indexed)\n",
        "\n",
        "  ohe = encoder.drop(*[categorical_col, categorical_col + '_cat'])\n",
        "\n",
        "  return ohe\n",
        "\n",
        "df = one_hot_encode(df, 'brand')\n",
        "\n",
        "\n"
      ],
      "metadata": {
        "id": "_e05MwXkslRQ"
      },
      "execution_count": 54,
      "outputs": []
    },
    {
      "cell_type": "code",
      "source": [
        "df.show(50)"
      ],
      "metadata": {
        "colab": {
          "base_uri": "https://localhost:8080/"
        },
        "id": "-WBXQPqIx9NS",
        "outputId": "ea1614ed-8286-4d24-b27c-da5ede578ffb"
      },
      "execution_count": 55,
      "outputs": [
        {
          "output_type": "stream",
          "name": "stdout",
          "text": [
            "+----+---------+------------+----------+------+------------+----------+------+--------------------+-------------------+\n",
            "| mpg|cylinders|displacement|horsepower|weight|acceleration|model year|origin|            car name|brand_OneHotEncoder|\n",
            "+----+---------+------------+----------+------+------------+----------+------+--------------------+-------------------+\n",
            "|18.0|        8|       307.0|     130.0|  3504|        12.0|        70|     1|chevrolet chevell...|     (29,[1],[1.0])|\n",
            "|15.0|        8|       350.0|     165.0|  3693|        11.5|        70|     1|   buick skylark 320|     (29,[8],[1.0])|\n",
            "|18.0|        8|       318.0|     150.0|  3436|        11.0|        70|     1|  plymouth satellite|     (29,[2],[1.0])|\n",
            "|16.0|        8|       304.0|     150.0|  3433|        12.0|        70|     1|       amc rebel sst|     (29,[3],[1.0])|\n",
            "|17.0|        8|       302.0|     140.0|  3449|        10.5|        70|     1|         ford torino|     (29,[0],[1.0])|\n",
            "|15.0|        8|       429.0|     198.0|  4341|        10.0|        70|     1|    ford galaxie 500|     (29,[0],[1.0])|\n",
            "|14.0|        8|       454.0|     220.0|  4354|         9.0|        70|     1|    chevrolet impala|     (29,[1],[1.0])|\n",
            "|14.0|        8|       440.0|     215.0|  4312|         8.5|        70|     1|   plymouth fury iii|     (29,[2],[1.0])|\n",
            "|14.0|        8|       455.0|     225.0|  4425|        10.0|        70|     1|    pontiac catalina|     (29,[9],[1.0])|\n",
            "|15.0|        8|       390.0|     190.0|  3850|         8.5|        70|     1|  amc ambassador dpl|     (29,[3],[1.0])|\n",
            "|15.0|        8|       383.0|     170.0|  3563|        10.0|        70|     1| dodge challenger se|     (29,[4],[1.0])|\n",
            "|14.0|        8|       340.0|     160.0|  3609|         8.0|        70|     1|  plymouth 'cuda 340|     (29,[2],[1.0])|\n",
            "|15.0|        8|       400.0|     150.0|  3761|         9.5|        70|     1|chevrolet monte c...|     (29,[1],[1.0])|\n",
            "|14.0|        8|       455.0|     225.0|  3086|        10.0|        70|     1|buick estate wago...|     (29,[8],[1.0])|\n",
            "|24.0|        4|       113.0|      95.0|  2372|        15.0|        70|     3|toyota corona mar...|     (29,[5],[1.0])|\n",
            "|22.0|        6|       198.0|      95.0|  2833|        15.5|        70|     1|     plymouth duster|     (29,[2],[1.0])|\n",
            "|18.0|        6|       199.0|      97.0|  2774|        15.5|        70|     1|          amc hornet|     (29,[3],[1.0])|\n",
            "|21.0|        6|       200.0|      85.0|  2587|        16.0|        70|     1|       ford maverick|     (29,[0],[1.0])|\n",
            "|27.0|        4|        97.0|      88.0|  2130|        14.5|        70|     3|        datsun pl510|     (29,[6],[1.0])|\n",
            "|26.0|        4|        97.0|      46.0|  1835|        20.5|        70|     2|volkswagen 1131 d...|     (29,[7],[1.0])|\n",
            "|25.0|        4|       110.0|      87.0|  2672|        17.5|        70|     2|         peugeot 504|    (29,[15],[1.0])|\n",
            "|24.0|        4|       107.0|      90.0|  2430|        14.5|        70|     2|         audi 100 ls|    (29,[16],[1.0])|\n",
            "|25.0|        4|       104.0|      95.0|  2375|        17.5|        70|     2|            saab 99e|    (29,[21],[1.0])|\n",
            "|26.0|        4|       121.0|     113.0|  2234|        12.5|        70|     2|            bmw 2002|    (29,[24],[1.0])|\n",
            "|21.0|        6|       199.0|      90.0|  2648|        15.0|        70|     1|         amc gremlin|     (29,[3],[1.0])|\n",
            "|10.0|        8|       360.0|     215.0|  4615|        14.0|        70|     1|           ford f250|     (29,[0],[1.0])|\n",
            "|10.0|        8|       307.0|     200.0|  4376|        15.0|        70|     1|           chevy c20|     (29,[1],[1.0])|\n",
            "|11.0|        8|       318.0|     210.0|  4382|        13.5|        70|     1|          dodge d200|     (29,[4],[1.0])|\n",
            "| 9.0|        8|       304.0|     193.0|  4732|        18.5|        70|     1|            hi 1200d|    (29,[27],[1.0])|\n",
            "|27.0|        4|        97.0|      88.0|  2130|        14.5|        71|     3|        datsun pl510|     (29,[6],[1.0])|\n",
            "|28.0|        4|       140.0|      90.0|  2264|        15.5|        71|     1| chevrolet vega 2300|     (29,[1],[1.0])|\n",
            "|25.0|        4|       113.0|      95.0|  2228|        14.0|        71|     3|       toyota corona|     (29,[5],[1.0])|\n",
            "|25.0|        4|        98.0|       NaN|  2046|        19.0|        71|     1|          ford pinto|     (29,[0],[1.0])|\n",
            "|19.0|        6|       232.0|     100.0|  2634|        13.0|        71|     1|         amc gremlin|     (29,[3],[1.0])|\n",
            "|16.0|        6|       225.0|     105.0|  3439|        15.5|        71|     1|plymouth satellit...|     (29,[2],[1.0])|\n",
            "|17.0|        6|       250.0|     100.0|  3329|        15.5|        71|     1|chevrolet chevell...|     (29,[1],[1.0])|\n",
            "|19.0|        6|       250.0|      88.0|  3302|        15.5|        71|     1|     ford torino 500|     (29,[0],[1.0])|\n",
            "|18.0|        6|       232.0|     100.0|  3288|        15.5|        71|     1|         amc matador|     (29,[3],[1.0])|\n",
            "|14.0|        8|       350.0|     165.0|  4209|        12.0|        71|     1|    chevrolet impala|     (29,[1],[1.0])|\n",
            "|14.0|        8|       400.0|     175.0|  4464|        11.5|        71|     1|pontiac catalina ...|     (29,[9],[1.0])|\n",
            "|14.0|        8|       351.0|     153.0|  4154|        13.5|        71|     1|    ford galaxie 500|     (29,[0],[1.0])|\n",
            "|14.0|        8|       318.0|     150.0|  4096|        13.0|        71|     1|   plymouth fury iii|     (29,[2],[1.0])|\n",
            "|12.0|        8|       383.0|     180.0|  4955|        11.5|        71|     1|   dodge monaco (sw)|     (29,[4],[1.0])|\n",
            "|13.0|        8|       400.0|     170.0|  4746|        12.0|        71|     1|ford country squi...|     (29,[0],[1.0])|\n",
            "|13.0|        8|       400.0|     175.0|  5140|        12.0|        71|     1| pontiac safari (sw)|     (29,[9],[1.0])|\n",
            "|18.0|        6|       258.0|     110.0|  2962|        13.5|        71|     1|amc hornet sporta...|     (29,[3],[1.0])|\n",
            "|22.0|        4|       140.0|      72.0|  2408|        19.0|        71|     1| chevrolet vega (sw)|     (29,[1],[1.0])|\n",
            "|19.0|        6|       250.0|     100.0|  3282|        15.0|        71|     1|    pontiac firebird|     (29,[9],[1.0])|\n",
            "|18.0|        6|       250.0|      88.0|  3139|        14.5|        71|     1|        ford mustang|     (29,[0],[1.0])|\n",
            "|23.0|        4|       122.0|      86.0|  2220|        14.0|        71|     1|  mercury capri 2000|    (29,[12],[1.0])|\n",
            "+----+---------+------------+----------+------+------------+----------+------+--------------------+-------------------+\n",
            "only showing top 50 rows\n",
            "\n"
          ]
        }
      ]
    },
    {
      "cell_type": "code",
      "source": [
        "\n",
        "\n"
      ],
      "metadata": {
        "colab": {
          "base_uri": "https://localhost:8080/"
        },
        "id": "JU7AwOb-6YSw",
        "outputId": "169081b1-dd5b-467c-81ad-b81ed3655d3c"
      },
      "execution_count": 38,
      "outputs": [
        {
          "output_type": "stream",
          "name": "stdout",
          "text": [
            "Number of distinct brands: 30\n",
            "+----------+\n",
            "|brand     |\n",
            "+----------+\n",
            "|volkswagan|\n",
            "|buick     |\n",
            "|pontiac   |\n",
            "|mercedes  |\n",
            "|toyota    |\n",
            "|saab      |\n",
            "|amc       |\n",
            "|peugeot   |\n",
            "|chrysler  |\n",
            "|plymouth  |\n",
            "|audi      |\n",
            "|datsun    |\n",
            "|bmw       |\n",
            "|dodge     |\n",
            "|ford      |\n",
            "|capri     |\n",
            "|cadillac  |\n",
            "|mazda     |\n",
            "|harvester |\n",
            "|chevrolet |\n",
            "|opel      |\n",
            "|honda     |\n",
            "|fiat      |\n",
            "|oldsmobile|\n",
            "|mercury   |\n",
            "|renault   |\n",
            "|nissan    |\n",
            "|triumph   |\n",
            "|subaru    |\n",
            "|volvo     |\n",
            "+----------+\n",
            "\n"
          ]
        }
      ]
    },
    {
      "cell_type": "code",
      "source": [
        "df=df.drop('car name')\n",
        "df.show(10)"
      ],
      "metadata": {
        "colab": {
          "base_uri": "https://localhost:8080/"
        },
        "id": "1bMt-iwMqMHc",
        "outputId": "84a45a5e-efe0-4d4c-ca3a-c8022b20428d"
      },
      "execution_count": 65,
      "outputs": [
        {
          "output_type": "stream",
          "name": "stdout",
          "text": [
            "+----+--------------------+\n",
            "| mpg|            features|\n",
            "+----+--------------------+\n",
            "|18.0|(36,[0,1,2,3,4,5,...|\n",
            "|15.0|(36,[0,1,2,3,4,5,...|\n",
            "|18.0|(36,[0,1,2,3,4,5,...|\n",
            "|16.0|(36,[0,1,2,3,4,5,...|\n",
            "|17.0|(36,[0,1,2,3,4,5,...|\n",
            "|15.0|(36,[0,1,2,3,4,5,...|\n",
            "|14.0|(36,[0,1,2,3,4,5,...|\n",
            "|14.0|(36,[0,1,2,3,4,5,...|\n",
            "|14.0|(36,[0,1,2,3,4,5,...|\n",
            "|15.0|(36,[0,1,2,3,4,5,...|\n",
            "+----+--------------------+\n",
            "only showing top 10 rows\n",
            "\n"
          ]
        }
      ]
    },
    {
      "cell_type": "code",
      "source": [
        "from pyspark.ml.feature import VectorAssembler\n",
        "\n",
        "def vector_assembler(df,indep_cols):\n",
        "  assembler = VectorAssembler(inputCols=indep_cols,\n",
        "                              outputCol = 'features',\n",
        "                              handleInvalid=\"skip\")\n",
        "  output = assembler.transform(df).drop(*indep_cols)\n",
        "  return output\n",
        "\n",
        "df = vector_assembler(df,indep_cols=df.drop('mpg').columns)\n"
      ],
      "metadata": {
        "id": "AIH3GmdB-lIc"
      },
      "execution_count": 58,
      "outputs": []
    },
    {
      "cell_type": "code",
      "source": [
        "df.show(100,truncate=False)"
      ],
      "metadata": {
        "colab": {
          "base_uri": "https://localhost:8080/"
        },
        "id": "0jOFTH-6DskQ",
        "outputId": "0d2ffc29-47fc-4256-cba9-1cfb89743ba9"
      },
      "execution_count": 59,
      "outputs": [
        {
          "output_type": "stream",
          "name": "stdout",
          "text": [
            "+----+------------------------------------------------------------------+\n",
            "|mpg |features                                                          |\n",
            "+----+------------------------------------------------------------------+\n",
            "|18.0|(36,[0,1,2,3,4,5,6,8],[8.0,307.0,130.0,3504.0,12.0,70.0,1.0,1.0]) |\n",
            "|15.0|(36,[0,1,2,3,4,5,6,15],[8.0,350.0,165.0,3693.0,11.5,70.0,1.0,1.0])|\n",
            "|18.0|(36,[0,1,2,3,4,5,6,9],[8.0,318.0,150.0,3436.0,11.0,70.0,1.0,1.0]) |\n",
            "|16.0|(36,[0,1,2,3,4,5,6,10],[8.0,304.0,150.0,3433.0,12.0,70.0,1.0,1.0])|\n",
            "|17.0|(36,[0,1,2,3,4,5,6,7],[8.0,302.0,140.0,3449.0,10.5,70.0,1.0,1.0]) |\n",
            "|15.0|(36,[0,1,2,3,4,5,6,7],[8.0,429.0,198.0,4341.0,10.0,70.0,1.0,1.0]) |\n",
            "|14.0|(36,[0,1,2,3,4,5,6,8],[8.0,454.0,220.0,4354.0,9.0,70.0,1.0,1.0])  |\n",
            "|14.0|(36,[0,1,2,3,4,5,6,9],[8.0,440.0,215.0,4312.0,8.5,70.0,1.0,1.0])  |\n",
            "|14.0|(36,[0,1,2,3,4,5,6,16],[8.0,455.0,225.0,4425.0,10.0,70.0,1.0,1.0])|\n",
            "|15.0|(36,[0,1,2,3,4,5,6,10],[8.0,390.0,190.0,3850.0,8.5,70.0,1.0,1.0]) |\n",
            "|15.0|(36,[0,1,2,3,4,5,6,11],[8.0,383.0,170.0,3563.0,10.0,70.0,1.0,1.0])|\n",
            "|14.0|(36,[0,1,2,3,4,5,6,9],[8.0,340.0,160.0,3609.0,8.0,70.0,1.0,1.0])  |\n",
            "|15.0|(36,[0,1,2,3,4,5,6,8],[8.0,400.0,150.0,3761.0,9.5,70.0,1.0,1.0])  |\n",
            "|14.0|(36,[0,1,2,3,4,5,6,15],[8.0,455.0,225.0,3086.0,10.0,70.0,1.0,1.0])|\n",
            "|24.0|(36,[0,1,2,3,4,5,6,12],[4.0,113.0,95.0,2372.0,15.0,70.0,3.0,1.0]) |\n",
            "|22.0|(36,[0,1,2,3,4,5,6,9],[6.0,198.0,95.0,2833.0,15.5,70.0,1.0,1.0])  |\n",
            "|18.0|(36,[0,1,2,3,4,5,6,10],[6.0,199.0,97.0,2774.0,15.5,70.0,1.0,1.0]) |\n",
            "|21.0|(36,[0,1,2,3,4,5,6,7],[6.0,200.0,85.0,2587.0,16.0,70.0,1.0,1.0])  |\n",
            "|27.0|(36,[0,1,2,3,4,5,6,13],[4.0,97.0,88.0,2130.0,14.5,70.0,3.0,1.0])  |\n",
            "|26.0|(36,[0,1,2,3,4,5,6,14],[4.0,97.0,46.0,1835.0,20.5,70.0,2.0,1.0])  |\n",
            "|25.0|(36,[0,1,2,3,4,5,6,22],[4.0,110.0,87.0,2672.0,17.5,70.0,2.0,1.0]) |\n",
            "|24.0|(36,[0,1,2,3,4,5,6,23],[4.0,107.0,90.0,2430.0,14.5,70.0,2.0,1.0]) |\n",
            "|25.0|(36,[0,1,2,3,4,5,6,28],[4.0,104.0,95.0,2375.0,17.5,70.0,2.0,1.0]) |\n",
            "|26.0|(36,[0,1,2,3,4,5,6,31],[4.0,121.0,113.0,2234.0,12.5,70.0,2.0,1.0])|\n",
            "|21.0|(36,[0,1,2,3,4,5,6,10],[6.0,199.0,90.0,2648.0,15.0,70.0,1.0,1.0]) |\n",
            "|10.0|(36,[0,1,2,3,4,5,6,7],[8.0,360.0,215.0,4615.0,14.0,70.0,1.0,1.0]) |\n",
            "|10.0|(36,[0,1,2,3,4,5,6,8],[8.0,307.0,200.0,4376.0,15.0,70.0,1.0,1.0]) |\n",
            "|11.0|(36,[0,1,2,3,4,5,6,11],[8.0,318.0,210.0,4382.0,13.5,70.0,1.0,1.0])|\n",
            "|9.0 |(36,[0,1,2,3,4,5,6,34],[8.0,304.0,193.0,4732.0,18.5,70.0,1.0,1.0])|\n",
            "|27.0|(36,[0,1,2,3,4,5,6,13],[4.0,97.0,88.0,2130.0,14.5,71.0,3.0,1.0])  |\n",
            "|28.0|(36,[0,1,2,3,4,5,6,8],[4.0,140.0,90.0,2264.0,15.5,71.0,1.0,1.0])  |\n",
            "|25.0|(36,[0,1,2,3,4,5,6,12],[4.0,113.0,95.0,2228.0,14.0,71.0,3.0,1.0]) |\n",
            "|19.0|(36,[0,1,2,3,4,5,6,10],[6.0,232.0,100.0,2634.0,13.0,71.0,1.0,1.0])|\n",
            "|16.0|(36,[0,1,2,3,4,5,6,9],[6.0,225.0,105.0,3439.0,15.5,71.0,1.0,1.0]) |\n",
            "|17.0|(36,[0,1,2,3,4,5,6,8],[6.0,250.0,100.0,3329.0,15.5,71.0,1.0,1.0]) |\n",
            "|19.0|(36,[0,1,2,3,4,5,6,7],[6.0,250.0,88.0,3302.0,15.5,71.0,1.0,1.0])  |\n",
            "|18.0|(36,[0,1,2,3,4,5,6,10],[6.0,232.0,100.0,3288.0,15.5,71.0,1.0,1.0])|\n",
            "|14.0|(36,[0,1,2,3,4,5,6,8],[8.0,350.0,165.0,4209.0,12.0,71.0,1.0,1.0]) |\n",
            "|14.0|(36,[0,1,2,3,4,5,6,16],[8.0,400.0,175.0,4464.0,11.5,71.0,1.0,1.0])|\n",
            "|14.0|(36,[0,1,2,3,4,5,6,7],[8.0,351.0,153.0,4154.0,13.5,71.0,1.0,1.0]) |\n",
            "|14.0|(36,[0,1,2,3,4,5,6,9],[8.0,318.0,150.0,4096.0,13.0,71.0,1.0,1.0]) |\n",
            "|12.0|(36,[0,1,2,3,4,5,6,11],[8.0,383.0,180.0,4955.0,11.5,71.0,1.0,1.0])|\n",
            "|13.0|(36,[0,1,2,3,4,5,6,7],[8.0,400.0,170.0,4746.0,12.0,71.0,1.0,1.0]) |\n",
            "|13.0|(36,[0,1,2,3,4,5,6,16],[8.0,400.0,175.0,5140.0,12.0,71.0,1.0,1.0])|\n",
            "|18.0|(36,[0,1,2,3,4,5,6,10],[6.0,258.0,110.0,2962.0,13.5,71.0,1.0,1.0])|\n",
            "|22.0|(36,[0,1,2,3,4,5,6,8],[4.0,140.0,72.0,2408.0,19.0,71.0,1.0,1.0])  |\n",
            "|19.0|(36,[0,1,2,3,4,5,6,16],[6.0,250.0,100.0,3282.0,15.0,71.0,1.0,1.0])|\n",
            "|18.0|(36,[0,1,2,3,4,5,6,7],[6.0,250.0,88.0,3139.0,14.5,71.0,1.0,1.0])  |\n",
            "|23.0|(36,[0,1,2,3,4,5,6,19],[4.0,122.0,86.0,2220.0,14.0,71.0,1.0,1.0]) |\n",
            "|28.0|(36,[0,1,2,3,4,5,6,27],[4.0,116.0,90.0,2123.0,14.0,71.0,2.0,1.0]) |\n",
            "|30.0|(36,[0,1,2,3,4,5,6,22],[4.0,79.0,70.0,2074.0,19.5,71.0,2.0,1.0])  |\n",
            "|30.0|(36,[0,1,2,3,4,5,6,21],[4.0,88.0,76.0,2065.0,14.5,71.0,2.0,1.0])  |\n",
            "|31.0|(36,[0,1,2,3,4,5,6,12],[4.0,71.0,65.0,1773.0,19.0,71.0,3.0,1.0])  |\n",
            "|35.0|(36,[0,1,2,3,4,5,6,13],[4.0,72.0,69.0,1613.0,18.0,71.0,3.0,1.0])  |\n",
            "|27.0|(36,[0,1,2,3,4,5,6,14],[4.0,97.0,60.0,1834.0,19.0,71.0,2.0,1.0])  |\n",
            "|26.0|(36,[0,1,2,3,4,5,6,9],[4.0,91.0,70.0,1955.0,20.5,71.0,1.0,1.0])   |\n",
            "|24.0|(36,[0,1,2,3,4,5,6,12],[4.0,113.0,95.0,2278.0,15.5,72.0,3.0,1.0]) |\n",
            "|25.0|(36,[0,1,2,3,4,5,6,11],[4.0,97.5,80.0,2126.0,17.0,72.0,1.0,1.0])  |\n",
            "|23.0|(36,[0,1,2,3,4,5,6,14],[4.0,97.0,54.0,2254.0,23.5,72.0,2.0,1.0])  |\n",
            "|20.0|(36,[0,1,2,3,4,5,6,8],[4.0,140.0,90.0,2408.0,19.5,72.0,1.0,1.0])  |\n",
            "|21.0|(36,[0,1,2,3,4,5,6,7],[4.0,122.0,86.0,2226.0,16.5,72.0,1.0,1.0])  |\n",
            "|13.0|(36,[0,1,2,3,4,5,6,8],[8.0,350.0,165.0,4274.0,12.0,72.0,1.0,1.0]) |\n",
            "|14.0|(36,[0,1,2,3,4,5,6,16],[8.0,400.0,175.0,4385.0,12.0,72.0,1.0,1.0])|\n",
            "|15.0|(36,[0,1,2,3,4,5,6,9],[8.0,318.0,150.0,4135.0,13.5,72.0,1.0,1.0]) |\n",
            "|14.0|(36,[0,1,2,3,4,5,6,7],[8.0,351.0,153.0,4129.0,13.0,72.0,1.0,1.0]) |\n",
            "|17.0|(36,[0,1,2,3,4,5,6,10],[8.0,304.0,150.0,3672.0,11.5,72.0,1.0,1.0])|\n",
            "|11.0|(36,[0,1,2,3,4,5,6,19],[8.0,429.0,208.0,4633.0,11.0,72.0,1.0,1.0])|\n",
            "|13.0|(36,[0,1,2,3,4,5,6,15],[8.0,350.0,155.0,4502.0,13.5,72.0,1.0,1.0])|\n",
            "|12.0|(36,[0,1,2,3,4,5,6,20],[8.0,350.0,160.0,4456.0,13.5,72.0,1.0,1.0])|\n",
            "|13.0|(36,[0,1,2,3,4,5,6,24],[8.0,400.0,190.0,4422.0,12.5,72.0,1.0,1.0])|\n",
            "|19.0|(36,[0,1,2,3,4,5,6,18],[3.0,70.0,97.0,2330.0,13.5,72.0,3.0,1.0])  |\n",
            "|15.0|(36,[0,1,2,3,4,5,6,10],[8.0,304.0,150.0,3892.0,12.5,72.0,1.0,1.0])|\n",
            "|13.0|(36,[0,1,2,3,4,5,6,8],[8.0,307.0,130.0,4098.0,14.0,72.0,1.0,1.0]) |\n",
            "|13.0|(36,[0,1,2,3,4,5,6,7],[8.0,302.0,140.0,4294.0,16.0,72.0,1.0,1.0]) |\n",
            "|14.0|(36,[0,1,2,3,4,5,6,9],[8.0,318.0,150.0,4077.0,14.0,72.0,1.0,1.0]) |\n",
            "|18.0|(36,[0,1,2,3,4,5,6,25],[4.0,121.0,112.0,2933.0,14.5,72.0,2.0,1.0])|\n",
            "|22.0|(36,[0,1,2,3,4,5,6,14],[4.0,121.0,76.0,2511.0,18.0,72.0,2.0,1.0]) |\n",
            "|21.0|(36,[0,1,2,3,4,5,6,22],[4.0,120.0,87.0,2979.0,19.5,72.0,2.0,1.0]) |\n",
            "|26.0|(36,[0,1,2,3,4,5,6,26],[4.0,96.0,69.0,2189.0,18.0,72.0,2.0,1.0])  |\n",
            "|22.0|(36,[0,1,2,3,4,5,6,7],[4.0,122.0,86.0,2395.0,16.0,72.0,1.0,1.0])  |\n",
            "|28.0|(36,[0,1,2,3,4,5,6,13],[4.0,97.0,92.0,2288.0,17.0,72.0,3.0,1.0])  |\n",
            "|23.0|(36,[0,1,2,3,4,5,6,12],[4.0,120.0,97.0,2506.0,14.5,72.0,3.0,1.0]) |\n",
            "|28.0|(36,[0,1,2,3,4,5,6,11],[4.0,98.0,80.0,2164.0,15.0,72.0,1.0,1.0])  |\n",
            "|27.0|(36,[0,1,2,3,4,5,6,12],[4.0,97.0,88.0,2100.0,16.5,72.0,3.0,1.0])  |\n",
            "|13.0|(36,[0,1,2,3,4,5,6,15],[8.0,350.0,175.0,4100.0,13.0,73.0,1.0,1.0])|\n",
            "|14.0|(36,[0,1,2,3,4,5,6,10],[8.0,304.0,150.0,3672.0,11.5,73.0,1.0,1.0])|\n",
            "|13.0|(36,[0,1,2,3,4,5,6,8],[8.0,350.0,145.0,3988.0,13.0,73.0,1.0,1.0]) |\n",
            "|14.0|(36,[0,1,2,3,4,5,6,7],[8.0,302.0,137.0,4042.0,14.5,73.0,1.0,1.0]) |\n",
            "|15.0|(36,[0,1,2,3,4,5,6,11],[8.0,318.0,150.0,3777.0,12.5,73.0,1.0,1.0])|\n",
            "|12.0|(36,[0,1,2,3,4,5,6,19],[8.0,429.0,198.0,4952.0,11.5,73.0,1.0,1.0])|\n",
            "|13.0|(36,[0,1,2,3,4,5,6,8],[8.0,400.0,150.0,4464.0,12.0,73.0,1.0,1.0]) |\n",
            "|13.0|(36,[0,1,2,3,4,5,6,7],[8.0,351.0,158.0,4363.0,13.0,73.0,1.0,1.0]) |\n",
            "|14.0|(36,[0,1,2,3,4,5,6,9],[8.0,318.0,150.0,4237.0,14.5,73.0,1.0,1.0]) |\n",
            "|13.0|(36,[0,1,2,3,4,5,6,24],[8.0,440.0,215.0,4735.0,11.0,73.0,1.0,1.0])|\n",
            "|12.0|(36,[0,1,2,3,4,5,6,15],[8.0,455.0,225.0,4951.0,11.0,73.0,1.0,1.0])|\n",
            "|13.0|(36,[0,1,2,3,4,5,6,10],[8.0,360.0,175.0,3821.0,11.0,73.0,1.0,1.0])|\n",
            "|18.0|(36,[0,1,2,3,4,5,6,9],[6.0,225.0,105.0,3121.0,16.5,73.0,1.0,1.0]) |\n",
            "|16.0|(36,[0,1,2,3,4,5,6,8],[6.0,250.0,100.0,3278.0,18.0,73.0,1.0,1.0]) |\n",
            "|18.0|(36,[0,1,2,3,4,5,6,10],[6.0,232.0,100.0,2945.0,16.0,73.0,1.0,1.0])|\n",
            "|18.0|(36,[0,1,2,3,4,5,6,7],[6.0,250.0,88.0,3021.0,16.5,73.0,1.0,1.0])  |\n",
            "+----+------------------------------------------------------------------+\n",
            "only showing top 100 rows\n",
            "\n"
          ]
        }
      ]
    },
    {
      "cell_type": "code",
      "source": [
        "train_data,test_data = df.randomSplit([0.8,0.2],seed=123)\n",
        "\n",
        "print(f\"Train data shape: {train_data.count()}, {len(train_data.columns)}\")\n",
        "print(f\"Test data shape: {test_data.count()}, {len(test_data.columns)}\")"
      ],
      "metadata": {
        "colab": {
          "base_uri": "https://localhost:8080/"
        },
        "id": "dv3BqW4WklLH",
        "outputId": "8cb03598-ec98-4722-851e-20d5ed7988b4"
      },
      "execution_count": 64,
      "outputs": [
        {
          "output_type": "stream",
          "name": "stdout",
          "text": [
            "Train data shape: 314, 2\n",
            "Test data shape: 78, 2\n"
          ]
        }
      ]
    },
    {
      "cell_type": "code",
      "source": [
        "lr = LinearRegression(featuresCol='features',labelCol='mpg',regParam=0.3,standardization=False)\n",
        "lr_model = lr.fit(train_data)"
      ],
      "metadata": {
        "id": "MxQjWRMym3tS"
      },
      "execution_count": 91,
      "outputs": []
    },
    {
      "cell_type": "code",
      "source": [
        "def eval_model(model,test_data):\n",
        "  print(model.__class__.__name__.center(70,'='))\n",
        "  model_result = model.evaluate(test_data)\n",
        "  print(f\"RMSE: {model_result.rootMeanSquaredError}\")\n",
        "  print(f\"R2: {model_result.r2}\")\n",
        "  print(f\"MAE: {model_result.meanAbsoluteError}\")\n",
        "  print(f\"MSE: {model_result.meanSquaredError}\")\n",
        "  print(f\"Explained Variance: {model_result.explainedVariance}\")\n",
        "  print(70*'=')\n",
        "\n",
        "eval_model(lr_model,test_data)\n"
      ],
      "metadata": {
        "colab": {
          "base_uri": "https://localhost:8080/"
        },
        "id": "430KK-bOqkR0",
        "outputId": "8c668cf3-47a4-421a-b2a9-6e284985f600"
      },
      "execution_count": 92,
      "outputs": [
        {
          "output_type": "stream",
          "name": "stdout",
          "text": [
            "========================LinearRegressionModel=========================\n",
            "RMSE: 3.37939527998778\n",
            "R2: 0.7842995429980809\n",
            "MAE: 2.5970999391199743\n",
            "MSE: 11.420312458403687\n",
            "Explained Variance: 55.38355331579339\n",
            "======================================================================\n"
          ]
        }
      ]
    },
    {
      "cell_type": "code",
      "source": [],
      "metadata": {
        "id": "cIOp99ZJxGWJ"
      },
      "execution_count": null,
      "outputs": []
    }
  ]
}
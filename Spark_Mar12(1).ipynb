{
  "nbformat": 4,
  "nbformat_minor": 0,
  "metadata": {
    "colab": {
      "provenance": []
    },
    "kernelspec": {
      "name": "python3",
      "display_name": "Python 3"
    },
    "language_info": {
      "name": "python"
    }
  },
  "cells": [
    {
      "cell_type": "code",
      "execution_count": 46,
      "metadata": {
        "colab": {
          "base_uri": "https://localhost:8080/"
        },
        "id": "_N6_1ooZZzzf",
        "outputId": "b2bec157-6bac-434d-af4e-31004162e823"
      },
      "outputs": [
        {
          "output_type": "stream",
          "name": "stdout",
          "text": [
            "Requirement already satisfied: pyspark in /usr/local/lib/python3.11/dist-packages (3.5.5)\n",
            "Requirement already satisfied: py4j==0.10.9.7 in /usr/local/lib/python3.11/dist-packages (from pyspark) (0.10.9.7)\n"
          ]
        }
      ],
      "source": [
        "!pip install pyspark"
      ]
    },
    {
      "cell_type": "code",
      "source": [
        "import pyspark"
      ],
      "metadata": {
        "id": "2rt0VDzkacj5"
      },
      "execution_count": 47,
      "outputs": []
    },
    {
      "cell_type": "code",
      "source": [
        "!pip install kaggle"
      ],
      "metadata": {
        "colab": {
          "base_uri": "https://localhost:8080/"
        },
        "id": "Yij9QJOiah0B",
        "outputId": "2f5d50be-cfab-47ac-9806-6856f12c443f"
      },
      "execution_count": 48,
      "outputs": [
        {
          "output_type": "stream",
          "name": "stdout",
          "text": [
            "Requirement already satisfied: kaggle in /usr/local/lib/python3.11/dist-packages (1.7.4.2)\n",
            "Requirement already satisfied: bleach in /usr/local/lib/python3.11/dist-packages (from kaggle) (6.2.0)\n",
            "Requirement already satisfied: certifi>=14.05.14 in /usr/local/lib/python3.11/dist-packages (from kaggle) (2025.1.31)\n",
            "Requirement already satisfied: charset-normalizer in /usr/local/lib/python3.11/dist-packages (from kaggle) (3.4.1)\n",
            "Requirement already satisfied: idna in /usr/local/lib/python3.11/dist-packages (from kaggle) (3.10)\n",
            "Requirement already satisfied: protobuf in /usr/local/lib/python3.11/dist-packages (from kaggle) (4.25.6)\n",
            "Requirement already satisfied: python-dateutil>=2.5.3 in /usr/local/lib/python3.11/dist-packages (from kaggle) (2.8.2)\n",
            "Requirement already satisfied: python-slugify in /usr/local/lib/python3.11/dist-packages (from kaggle) (8.0.4)\n",
            "Requirement already satisfied: requests in /usr/local/lib/python3.11/dist-packages (from kaggle) (2.32.3)\n",
            "Requirement already satisfied: setuptools>=21.0.0 in /usr/local/lib/python3.11/dist-packages (from kaggle) (75.1.0)\n",
            "Requirement already satisfied: six>=1.10 in /usr/local/lib/python3.11/dist-packages (from kaggle) (1.17.0)\n",
            "Requirement already satisfied: text-unidecode in /usr/local/lib/python3.11/dist-packages (from kaggle) (1.3)\n",
            "Requirement already satisfied: tqdm in /usr/local/lib/python3.11/dist-packages (from kaggle) (4.67.1)\n",
            "Requirement already satisfied: urllib3>=1.15.1 in /usr/local/lib/python3.11/dist-packages (from kaggle) (2.3.0)\n",
            "Requirement already satisfied: webencodings in /usr/local/lib/python3.11/dist-packages (from kaggle) (0.5.1)\n"
          ]
        }
      ]
    },
    {
      "cell_type": "code",
      "source": [
        "from google.colab import drive\n",
        "drive.mount('/content/drive',force_remount=True)"
      ],
      "metadata": {
        "colab": {
          "base_uri": "https://localhost:8080/"
        },
        "id": "FULdmH8Wao1i",
        "outputId": "94df273f-a853-4bf3-8f28-a2952e2dcb21"
      },
      "execution_count": 49,
      "outputs": [
        {
          "output_type": "stream",
          "name": "stdout",
          "text": [
            "Mounted at /content/drive\n"
          ]
        }
      ]
    },
    {
      "cell_type": "code",
      "source": [
        "!pip install --upgrade kaggle"
      ],
      "metadata": {
        "colab": {
          "base_uri": "https://localhost:8080/"
        },
        "id": "Qbj7PsKKbM81",
        "outputId": "62554ab7-a260-4abf-9b3a-5ef5ec6304be"
      },
      "execution_count": 50,
      "outputs": [
        {
          "output_type": "stream",
          "name": "stdout",
          "text": [
            "Requirement already satisfied: kaggle in /usr/local/lib/python3.11/dist-packages (1.7.4.2)\n",
            "Requirement already satisfied: bleach in /usr/local/lib/python3.11/dist-packages (from kaggle) (6.2.0)\n",
            "Requirement already satisfied: certifi>=14.05.14 in /usr/local/lib/python3.11/dist-packages (from kaggle) (2025.1.31)\n",
            "Requirement already satisfied: charset-normalizer in /usr/local/lib/python3.11/dist-packages (from kaggle) (3.4.1)\n",
            "Requirement already satisfied: idna in /usr/local/lib/python3.11/dist-packages (from kaggle) (3.10)\n",
            "Requirement already satisfied: protobuf in /usr/local/lib/python3.11/dist-packages (from kaggle) (4.25.6)\n",
            "Requirement already satisfied: python-dateutil>=2.5.3 in /usr/local/lib/python3.11/dist-packages (from kaggle) (2.8.2)\n",
            "Requirement already satisfied: python-slugify in /usr/local/lib/python3.11/dist-packages (from kaggle) (8.0.4)\n",
            "Requirement already satisfied: requests in /usr/local/lib/python3.11/dist-packages (from kaggle) (2.32.3)\n",
            "Requirement already satisfied: setuptools>=21.0.0 in /usr/local/lib/python3.11/dist-packages (from kaggle) (75.1.0)\n",
            "Requirement already satisfied: six>=1.10 in /usr/local/lib/python3.11/dist-packages (from kaggle) (1.17.0)\n",
            "Requirement already satisfied: text-unidecode in /usr/local/lib/python3.11/dist-packages (from kaggle) (1.3)\n",
            "Requirement already satisfied: tqdm in /usr/local/lib/python3.11/dist-packages (from kaggle) (4.67.1)\n",
            "Requirement already satisfied: urllib3>=1.15.1 in /usr/local/lib/python3.11/dist-packages (from kaggle) (2.3.0)\n",
            "Requirement already satisfied: webencodings in /usr/local/lib/python3.11/dist-packages (from kaggle) (0.5.1)\n"
          ]
        }
      ]
    },
    {
      "cell_type": "code",
      "source": [
        "!mkdir -p ~/.kaggle"
      ],
      "metadata": {
        "id": "KM5MKe5HbnnY"
      },
      "execution_count": 51,
      "outputs": []
    },
    {
      "cell_type": "code",
      "source": [
        "!cp \"/content/drive/My Drive/kaggle.json\" /root/.kaggle/kaggle.json"
      ],
      "metadata": {
        "id": "pTQ4gnqVb0K6"
      },
      "execution_count": 52,
      "outputs": []
    },
    {
      "cell_type": "code",
      "source": [
        "!chmod 600 /root/.kaggle/kaggle.json"
      ],
      "metadata": {
        "id": "JZAegM10dzwL"
      },
      "execution_count": 53,
      "outputs": []
    },
    {
      "cell_type": "code",
      "source": [
        "!kaggle datasets download -d uciml/autompg-dataset --force"
      ],
      "metadata": {
        "colab": {
          "base_uri": "https://localhost:8080/"
        },
        "id": "s_nSnQB-hwPE",
        "outputId": "658b56e9-135b-4248-9459-468b8b41f37b"
      },
      "execution_count": 54,
      "outputs": [
        {
          "output_type": "stream",
          "name": "stdout",
          "text": [
            "Dataset URL: https://www.kaggle.com/datasets/uciml/autompg-dataset\n",
            "License(s): CC0-1.0\n",
            "Downloading autompg-dataset.zip to /content\n",
            "  0% 0.00/6.31k [00:00<?, ?B/s]\n",
            "100% 6.31k/6.31k [00:00<00:00, 19.6MB/s]\n"
          ]
        }
      ]
    },
    {
      "cell_type": "code",
      "source": [
        "import os\n",
        "folder_path = \"/content/drive/My Drive/data\"\n",
        "os.makedirs(folder_path, exist_ok=True)"
      ],
      "metadata": {
        "id": "gDmSUzrsiJ9V"
      },
      "execution_count": 55,
      "outputs": []
    },
    {
      "cell_type": "code",
      "source": [
        "!unzip autompg-dataset.zip -d \"/content/drive/My Drive/data\""
      ],
      "metadata": {
        "colab": {
          "base_uri": "https://localhost:8080/"
        },
        "id": "b-u5uthfjn8T",
        "outputId": "e538d0c1-2386-430e-8f71-e48e21f3173f"
      },
      "execution_count": 56,
      "outputs": [
        {
          "output_type": "stream",
          "name": "stdout",
          "text": [
            "Archive:  autompg-dataset.zip\n",
            "replace /content/drive/My Drive/data/auto-mpg.csv? [y]es, [n]o, [A]ll, [N]one, [r]ename: y\n",
            "  inflating: /content/drive/My Drive/data/auto-mpg.csv  \n"
          ]
        }
      ]
    },
    {
      "cell_type": "code",
      "source": [
        "import os\n",
        "import warnings\n",
        "warnings.filterwarnings('ignore')\n",
        "from pyspark.sql import SparkSession\n",
        "from pyspark.sql.types import StructField, StructType, StringType, IntegerType, FloatType\n",
        "from pyspark.sql.functions import split, count, when, isnan, col, regexp_replace\n",
        "from pyspark.ml.regression import LinearRegression\n",
        "from pyspark.ml.feature import OneHotEncoder, StringIndexer, VectorAssembler\n",
        "from pyspark.ml.linalg import Vectors\n",
        "\n",
        "for dirname, _, filenames in os.walk('/kaggle/input'):\n",
        "  for filename in filenames:\n",
        "    print(os.path.join(dirname, filename))"
      ],
      "metadata": {
        "id": "obx9iUR_kl9X"
      },
      "execution_count": 57,
      "outputs": []
    },
    {
      "cell_type": "code",
      "source": [
        "spark = SparkSession.builder.appName('First Session').getOrCreate()\n",
        "\n",
        "print(f\"Spark Version ({format(spark.version)})\")"
      ],
      "metadata": {
        "colab": {
          "base_uri": "https://localhost:8080/"
        },
        "id": "-AhPAmU_lB6n",
        "outputId": "aeb7c77d-10ad-4be2-c062-a5fa72c2ee8c"
      },
      "execution_count": 58,
      "outputs": [
        {
          "output_type": "stream",
          "name": "stdout",
          "text": [
            "Spark Version (3.5.5)\n"
          ]
        }
      ]
    },
    {
      "cell_type": "code",
      "source": [
        "file_path = '/content/drive/My Drive/data/auto-mpg.csv'\n",
        "df = spark.read.csv(file_path, header=True, inferSchema=True,nanValue='?')\n",
        "df.show()"
      ],
      "metadata": {
        "colab": {
          "base_uri": "https://localhost:8080/"
        },
        "id": "hU0Pi1gSsIS4",
        "outputId": "12d2bffe-f469-414a-fd91-f335af6d5f33"
      },
      "execution_count": 59,
      "outputs": [
        {
          "output_type": "stream",
          "name": "stdout",
          "text": [
            "+----+---------+------------+----------+------+------------+----------+------+--------------------+\n",
            "| mpg|cylinders|displacement|horsepower|weight|acceleration|model year|origin|            car name|\n",
            "+----+---------+------------+----------+------+------------+----------+------+--------------------+\n",
            "|18.0|        8|       307.0|     130.0|  3504|        12.0|        70|     1|chevrolet chevell...|\n",
            "|15.0|        8|       350.0|     165.0|  3693|        11.5|        70|     1|   buick skylark 320|\n",
            "|18.0|        8|       318.0|     150.0|  3436|        11.0|        70|     1|  plymouth satellite|\n",
            "|16.0|        8|       304.0|     150.0|  3433|        12.0|        70|     1|       amc rebel sst|\n",
            "|17.0|        8|       302.0|     140.0|  3449|        10.5|        70|     1|         ford torino|\n",
            "|15.0|        8|       429.0|     198.0|  4341|        10.0|        70|     1|    ford galaxie 500|\n",
            "|14.0|        8|       454.0|     220.0|  4354|         9.0|        70|     1|    chevrolet impala|\n",
            "|14.0|        8|       440.0|     215.0|  4312|         8.5|        70|     1|   plymouth fury iii|\n",
            "|14.0|        8|       455.0|     225.0|  4425|        10.0|        70|     1|    pontiac catalina|\n",
            "|15.0|        8|       390.0|     190.0|  3850|         8.5|        70|     1|  amc ambassador dpl|\n",
            "|15.0|        8|       383.0|     170.0|  3563|        10.0|        70|     1| dodge challenger se|\n",
            "|14.0|        8|       340.0|     160.0|  3609|         8.0|        70|     1|  plymouth 'cuda 340|\n",
            "|15.0|        8|       400.0|     150.0|  3761|         9.5|        70|     1|chevrolet monte c...|\n",
            "|14.0|        8|       455.0|     225.0|  3086|        10.0|        70|     1|buick estate wago...|\n",
            "|24.0|        4|       113.0|      95.0|  2372|        15.0|        70|     3|toyota corona mar...|\n",
            "|22.0|        6|       198.0|      95.0|  2833|        15.5|        70|     1|     plymouth duster|\n",
            "|18.0|        6|       199.0|      97.0|  2774|        15.5|        70|     1|          amc hornet|\n",
            "|21.0|        6|       200.0|      85.0|  2587|        16.0|        70|     1|       ford maverick|\n",
            "|27.0|        4|        97.0|      88.0|  2130|        14.5|        70|     3|        datsun pl510|\n",
            "|26.0|        4|        97.0|      46.0|  1835|        20.5|        70|     2|volkswagen 1131 d...|\n",
            "+----+---------+------------+----------+------+------------+----------+------+--------------------+\n",
            "only showing top 20 rows\n",
            "\n"
          ]
        }
      ]
    },
    {
      "cell_type": "code",
      "source": [
        "df.dtypes\n",
        "\n"
      ],
      "metadata": {
        "colab": {
          "base_uri": "https://localhost:8080/"
        },
        "id": "6KzvdZfhszdg",
        "outputId": "6533f9a6-2579-4ef4-ae31-11d2054df6b2"
      },
      "execution_count": 60,
      "outputs": [
        {
          "output_type": "execute_result",
          "data": {
            "text/plain": [
              "[('mpg', 'double'),\n",
              " ('cylinders', 'int'),\n",
              " ('displacement', 'double'),\n",
              " ('horsepower', 'double'),\n",
              " ('weight', 'int'),\n",
              " ('acceleration', 'double'),\n",
              " ('model year', 'int'),\n",
              " ('origin', 'int'),\n",
              " ('car name', 'string')]"
            ]
          },
          "metadata": {},
          "execution_count": 60
        }
      ]
    },
    {
      "cell_type": "code",
      "source": [
        "def check_missing(dataframe):\n",
        "  return dataframe.select([count(when(isnan(col(c)) | col(c).isNull(), c)).alias(c) for c in dataframe.columns]).show()\n",
        "\n",
        "check_missing(df)"
      ],
      "metadata": {
        "colab": {
          "base_uri": "https://localhost:8080/"
        },
        "id": "dMCREfL9uwRn",
        "outputId": "4945b1f6-cc43-4262-fc0d-ec7723924547"
      },
      "execution_count": 61,
      "outputs": [
        {
          "output_type": "stream",
          "name": "stdout",
          "text": [
            "+---+---------+------------+----------+------+------------+----------+------+--------+\n",
            "|mpg|cylinders|displacement|horsepower|weight|acceleration|model year|origin|car name|\n",
            "+---+---------+------------+----------+------+------------+----------+------+--------+\n",
            "|  0|        0|           0|         6|     0|           0|         0|     0|       0|\n",
            "+---+---------+------------+----------+------+------------+----------+------+--------+\n",
            "\n"
          ]
        }
      ]
    },
    {
      "cell_type": "code",
      "source": [
        "df.dropna().show()"
      ],
      "metadata": {
        "colab": {
          "base_uri": "https://localhost:8080/"
        },
        "id": "r-ZCYovdd7rq",
        "outputId": "e38aeaf1-95d0-4490-805a-a6584af32bcf"
      },
      "execution_count": 62,
      "outputs": [
        {
          "output_type": "stream",
          "name": "stdout",
          "text": [
            "+----+---------+------------+----------+------+------------+----------+------+--------------------+\n",
            "| mpg|cylinders|displacement|horsepower|weight|acceleration|model year|origin|            car name|\n",
            "+----+---------+------------+----------+------+------------+----------+------+--------------------+\n",
            "|18.0|        8|       307.0|     130.0|  3504|        12.0|        70|     1|chevrolet chevell...|\n",
            "|15.0|        8|       350.0|     165.0|  3693|        11.5|        70|     1|   buick skylark 320|\n",
            "|18.0|        8|       318.0|     150.0|  3436|        11.0|        70|     1|  plymouth satellite|\n",
            "|16.0|        8|       304.0|     150.0|  3433|        12.0|        70|     1|       amc rebel sst|\n",
            "|17.0|        8|       302.0|     140.0|  3449|        10.5|        70|     1|         ford torino|\n",
            "|15.0|        8|       429.0|     198.0|  4341|        10.0|        70|     1|    ford galaxie 500|\n",
            "|14.0|        8|       454.0|     220.0|  4354|         9.0|        70|     1|    chevrolet impala|\n",
            "|14.0|        8|       440.0|     215.0|  4312|         8.5|        70|     1|   plymouth fury iii|\n",
            "|14.0|        8|       455.0|     225.0|  4425|        10.0|        70|     1|    pontiac catalina|\n",
            "|15.0|        8|       390.0|     190.0|  3850|         8.5|        70|     1|  amc ambassador dpl|\n",
            "|15.0|        8|       383.0|     170.0|  3563|        10.0|        70|     1| dodge challenger se|\n",
            "|14.0|        8|       340.0|     160.0|  3609|         8.0|        70|     1|  plymouth 'cuda 340|\n",
            "|15.0|        8|       400.0|     150.0|  3761|         9.5|        70|     1|chevrolet monte c...|\n",
            "|14.0|        8|       455.0|     225.0|  3086|        10.0|        70|     1|buick estate wago...|\n",
            "|24.0|        4|       113.0|      95.0|  2372|        15.0|        70|     3|toyota corona mar...|\n",
            "|22.0|        6|       198.0|      95.0|  2833|        15.5|        70|     1|     plymouth duster|\n",
            "|18.0|        6|       199.0|      97.0|  2774|        15.5|        70|     1|          amc hornet|\n",
            "|21.0|        6|       200.0|      85.0|  2587|        16.0|        70|     1|       ford maverick|\n",
            "|27.0|        4|        97.0|      88.0|  2130|        14.5|        70|     3|        datsun pl510|\n",
            "|26.0|        4|        97.0|      46.0|  1835|        20.5|        70|     2|volkswagen 1131 d...|\n",
            "+----+---------+------------+----------+------+------------+----------+------+--------------------+\n",
            "only showing top 20 rows\n",
            "\n"
          ]
        }
      ]
    },
    {
      "cell_type": "code",
      "source": [
        "#col_names = ['mpg', 'cylinders', 'displacement', 'horsepower', 'weight', 'acceleration', 'model year', 'origin', 'car name']\n",
        "#for col in col_names:\n",
        "#  cols=col.split(sep=\" \")\n",
        "#  colums=''\n",
        "#  for c in cols:\n",
        "#    colums += c + \"_\"\n",
        "#  print(colums)\n",
        "#df = df.withColumnRenamed(col, colums)\n",
        "#df.show()\n",
        "df.show(10)\n",
        "#df = df.withColumnRenamed('car name', regexp_replace('car name', ' ', '_'))\n",
        "df.show()\n",
        "#cols"
      ],
      "metadata": {
        "colab": {
          "base_uri": "https://localhost:8080/"
        },
        "id": "JS3eEX_MhMc0",
        "outputId": "13ebe39e-df17-494b-8e99-002a6a02ca03"
      },
      "execution_count": 63,
      "outputs": [
        {
          "output_type": "stream",
          "name": "stdout",
          "text": [
            "+----+---------+------------+----------+------+------------+----------+------+--------------------+\n",
            "| mpg|cylinders|displacement|horsepower|weight|acceleration|model year|origin|            car name|\n",
            "+----+---------+------------+----------+------+------------+----------+------+--------------------+\n",
            "|18.0|        8|       307.0|     130.0|  3504|        12.0|        70|     1|chevrolet chevell...|\n",
            "|15.0|        8|       350.0|     165.0|  3693|        11.5|        70|     1|   buick skylark 320|\n",
            "|18.0|        8|       318.0|     150.0|  3436|        11.0|        70|     1|  plymouth satellite|\n",
            "|16.0|        8|       304.0|     150.0|  3433|        12.0|        70|     1|       amc rebel sst|\n",
            "|17.0|        8|       302.0|     140.0|  3449|        10.5|        70|     1|         ford torino|\n",
            "|15.0|        8|       429.0|     198.0|  4341|        10.0|        70|     1|    ford galaxie 500|\n",
            "|14.0|        8|       454.0|     220.0|  4354|         9.0|        70|     1|    chevrolet impala|\n",
            "|14.0|        8|       440.0|     215.0|  4312|         8.5|        70|     1|   plymouth fury iii|\n",
            "|14.0|        8|       455.0|     225.0|  4425|        10.0|        70|     1|    pontiac catalina|\n",
            "|15.0|        8|       390.0|     190.0|  3850|         8.5|        70|     1|  amc ambassador dpl|\n",
            "+----+---------+------------+----------+------+------------+----------+------+--------------------+\n",
            "only showing top 10 rows\n",
            "\n",
            "+----+---------+------------+----------+------+------------+----------+------+--------------------+\n",
            "| mpg|cylinders|displacement|horsepower|weight|acceleration|model year|origin|            car name|\n",
            "+----+---------+------------+----------+------+------------+----------+------+--------------------+\n",
            "|18.0|        8|       307.0|     130.0|  3504|        12.0|        70|     1|chevrolet chevell...|\n",
            "|15.0|        8|       350.0|     165.0|  3693|        11.5|        70|     1|   buick skylark 320|\n",
            "|18.0|        8|       318.0|     150.0|  3436|        11.0|        70|     1|  plymouth satellite|\n",
            "|16.0|        8|       304.0|     150.0|  3433|        12.0|        70|     1|       amc rebel sst|\n",
            "|17.0|        8|       302.0|     140.0|  3449|        10.5|        70|     1|         ford torino|\n",
            "|15.0|        8|       429.0|     198.0|  4341|        10.0|        70|     1|    ford galaxie 500|\n",
            "|14.0|        8|       454.0|     220.0|  4354|         9.0|        70|     1|    chevrolet impala|\n",
            "|14.0|        8|       440.0|     215.0|  4312|         8.5|        70|     1|   plymouth fury iii|\n",
            "|14.0|        8|       455.0|     225.0|  4425|        10.0|        70|     1|    pontiac catalina|\n",
            "|15.0|        8|       390.0|     190.0|  3850|         8.5|        70|     1|  amc ambassador dpl|\n",
            "|15.0|        8|       383.0|     170.0|  3563|        10.0|        70|     1| dodge challenger se|\n",
            "|14.0|        8|       340.0|     160.0|  3609|         8.0|        70|     1|  plymouth 'cuda 340|\n",
            "|15.0|        8|       400.0|     150.0|  3761|         9.5|        70|     1|chevrolet monte c...|\n",
            "|14.0|        8|       455.0|     225.0|  3086|        10.0|        70|     1|buick estate wago...|\n",
            "|24.0|        4|       113.0|      95.0|  2372|        15.0|        70|     3|toyota corona mar...|\n",
            "|22.0|        6|       198.0|      95.0|  2833|        15.5|        70|     1|     plymouth duster|\n",
            "|18.0|        6|       199.0|      97.0|  2774|        15.5|        70|     1|          amc hornet|\n",
            "|21.0|        6|       200.0|      85.0|  2587|        16.0|        70|     1|       ford maverick|\n",
            "|27.0|        4|        97.0|      88.0|  2130|        14.5|        70|     3|        datsun pl510|\n",
            "|26.0|        4|        97.0|      46.0|  1835|        20.5|        70|     2|volkswagen 1131 d...|\n",
            "+----+---------+------------+----------+------+------------+----------+------+--------------------+\n",
            "only showing top 20 rows\n",
            "\n"
          ]
        }
      ]
    },
    {
      "cell_type": "code",
      "source": [
        "#regexp_replace(col(df), ' ', '_')"
      ],
      "metadata": {
        "id": "BuKn25BSnROM"
      },
      "execution_count": 64,
      "outputs": []
    },
    {
      "cell_type": "code",
      "source": [
        "df = df.withColumn('horsepower', col('horsepower').cast('int'))\n",
        "df.dtypes"
      ],
      "metadata": {
        "colab": {
          "base_uri": "https://localhost:8080/"
        },
        "id": "ZqbSBZ_avupX",
        "outputId": "7c4cd3fb-dd55-4c41-acda-7b58f0eb9612"
      },
      "execution_count": 65,
      "outputs": [
        {
          "output_type": "execute_result",
          "data": {
            "text/plain": [
              "[('mpg', 'double'),\n",
              " ('cylinders', 'int'),\n",
              " ('displacement', 'double'),\n",
              " ('horsepower', 'int'),\n",
              " ('weight', 'int'),\n",
              " ('acceleration', 'double'),\n",
              " ('model year', 'int'),\n",
              " ('origin', 'int'),\n",
              " ('car name', 'string')]"
            ]
          },
          "metadata": {},
          "execution_count": 65
        }
      ]
    },
    {
      "cell_type": "code",
      "source": [
        "numeric_cols= [c for c,t in df.dtypes if t.startswith('string')==False]\n",
        "df[numeric_cols].summary().show()"
      ],
      "metadata": {
        "colab": {
          "base_uri": "https://localhost:8080/"
        },
        "id": "eDmmfG_Om2ze",
        "outputId": "84bea0ce-3c71-4eed-e6b0-9c8c03748318"
      },
      "execution_count": 66,
      "outputs": [
        {
          "output_type": "stream",
          "name": "stdout",
          "text": [
            "+-------+------------------+------------------+------------------+------------------+-----------------+------------------+------------------+------------------+\n",
            "|summary|               mpg|         cylinders|      displacement|        horsepower|           weight|      acceleration|        model year|            origin|\n",
            "+-------+------------------+------------------+------------------+------------------+-----------------+------------------+------------------+------------------+\n",
            "|  count|               398|               398|               398|               398|              398|               398|               398|               398|\n",
            "|   mean|23.514572864321615| 5.454773869346734|193.42587939698493|102.89447236180905|2970.424623115578|15.568090452261291| 76.01005025125629|1.5728643216080402|\n",
            "| stddev| 7.815984312565783|1.7010042445332123|104.26983817119587| 40.26954421185716|846.8417741973268| 2.757688929812676|3.6976266467325862|0.8020548777266148|\n",
            "|    min|               9.0|                 3|              68.0|                 0|             1613|               8.0|                70|                 1|\n",
            "|    25%|              17.5|                 4|             104.0|                75|             2223|              13.8|                73|                 1|\n",
            "|    50%|              23.0|                 4|             146.0|                92|             2800|              15.5|                76|                 1|\n",
            "|    75%|              29.0|                 8|             262.0|               125|             3609|              17.2|                79|                 2|\n",
            "|    max|              46.6|                 8|             455.0|               230|             5140|              24.8|                82|                 3|\n",
            "+-------+------------------+------------------+------------------+------------------+-----------------+------------------+------------------+------------------+\n",
            "\n"
          ]
        }
      ]
    },
    {
      "cell_type": "code",
      "source": [
        "df.printSchema()"
      ],
      "metadata": {
        "colab": {
          "base_uri": "https://localhost:8080/"
        },
        "id": "jskaRjSO0j-q",
        "outputId": "6ad40984-092f-413d-bb57-a2c93fb07e67"
      },
      "execution_count": 67,
      "outputs": [
        {
          "output_type": "stream",
          "name": "stdout",
          "text": [
            "root\n",
            " |-- mpg: double (nullable = true)\n",
            " |-- cylinders: integer (nullable = true)\n",
            " |-- displacement: double (nullable = true)\n",
            " |-- horsepower: integer (nullable = true)\n",
            " |-- weight: integer (nullable = true)\n",
            " |-- acceleration: double (nullable = true)\n",
            " |-- model year: integer (nullable = true)\n",
            " |-- origin: integer (nullable = true)\n",
            " |-- car name: string (nullable = true)\n",
            "\n"
          ]
        }
      ]
    },
    {
      "cell_type": "code",
      "source": [
        "df.filter(df['acceleration']>15).show()"
      ],
      "metadata": {
        "colab": {
          "base_uri": "https://localhost:8080/"
        },
        "id": "6b9wXgxmn4ft",
        "outputId": "e3a85666-dd54-4a26-9be1-c9280f5f8c3f"
      },
      "execution_count": 68,
      "outputs": [
        {
          "output_type": "stream",
          "name": "stdout",
          "text": [
            "+----+---------+------------+----------+------+------------+----------+------+--------------------+\n",
            "| mpg|cylinders|displacement|horsepower|weight|acceleration|model year|origin|            car name|\n",
            "+----+---------+------------+----------+------+------------+----------+------+--------------------+\n",
            "|22.0|        6|       198.0|        95|  2833|        15.5|        70|     1|     plymouth duster|\n",
            "|18.0|        6|       199.0|        97|  2774|        15.5|        70|     1|          amc hornet|\n",
            "|21.0|        6|       200.0|        85|  2587|        16.0|        70|     1|       ford maverick|\n",
            "|26.0|        4|        97.0|        46|  1835|        20.5|        70|     2|volkswagen 1131 d...|\n",
            "|25.0|        4|       110.0|        87|  2672|        17.5|        70|     2|         peugeot 504|\n",
            "|25.0|        4|       104.0|        95|  2375|        17.5|        70|     2|            saab 99e|\n",
            "| 9.0|        8|       304.0|       193|  4732|        18.5|        70|     1|            hi 1200d|\n",
            "|28.0|        4|       140.0|        90|  2264|        15.5|        71|     1| chevrolet vega 2300|\n",
            "|25.0|        4|        98.0|         0|  2046|        19.0|        71|     1|          ford pinto|\n",
            "|16.0|        6|       225.0|       105|  3439|        15.5|        71|     1|plymouth satellit...|\n",
            "|17.0|        6|       250.0|       100|  3329|        15.5|        71|     1|chevrolet chevell...|\n",
            "|19.0|        6|       250.0|        88|  3302|        15.5|        71|     1|     ford torino 500|\n",
            "|18.0|        6|       232.0|       100|  3288|        15.5|        71|     1|         amc matador|\n",
            "|22.0|        4|       140.0|        72|  2408|        19.0|        71|     1| chevrolet vega (sw)|\n",
            "|30.0|        4|        79.0|        70|  2074|        19.5|        71|     2|         peugeot 304|\n",
            "|31.0|        4|        71.0|        65|  1773|        19.0|        71|     3| toyota corolla 1200|\n",
            "|35.0|        4|        72.0|        69|  1613|        18.0|        71|     3|         datsun 1200|\n",
            "|27.0|        4|        97.0|        60|  1834|        19.0|        71|     2|volkswagen model 111|\n",
            "|26.0|        4|        91.0|        70|  1955|        20.5|        71|     1|    plymouth cricket|\n",
            "|24.0|        4|       113.0|        95|  2278|        15.5|        72|     3|toyota corona har...|\n",
            "+----+---------+------------+----------+------+------------+----------+------+--------------------+\n",
            "only showing top 20 rows\n",
            "\n"
          ]
        }
      ]
    },
    {
      "cell_type": "code",
      "source": [
        "df.filter(df['mpg']>23).show(10)"
      ],
      "metadata": {
        "colab": {
          "base_uri": "https://localhost:8080/"
        },
        "id": "gX7AV6ZL1b2O",
        "outputId": "46525752-7d4c-4c54-a11c-0a7103eb9927"
      },
      "execution_count": 69,
      "outputs": [
        {
          "output_type": "stream",
          "name": "stdout",
          "text": [
            "+----+---------+------------+----------+------+------------+----------+------+--------------------+\n",
            "| mpg|cylinders|displacement|horsepower|weight|acceleration|model year|origin|            car name|\n",
            "+----+---------+------------+----------+------+------------+----------+------+--------------------+\n",
            "|24.0|        4|       113.0|        95|  2372|        15.0|        70|     3|toyota corona mar...|\n",
            "|27.0|        4|        97.0|        88|  2130|        14.5|        70|     3|        datsun pl510|\n",
            "|26.0|        4|        97.0|        46|  1835|        20.5|        70|     2|volkswagen 1131 d...|\n",
            "|25.0|        4|       110.0|        87|  2672|        17.5|        70|     2|         peugeot 504|\n",
            "|24.0|        4|       107.0|        90|  2430|        14.5|        70|     2|         audi 100 ls|\n",
            "|25.0|        4|       104.0|        95|  2375|        17.5|        70|     2|            saab 99e|\n",
            "|26.0|        4|       121.0|       113|  2234|        12.5|        70|     2|            bmw 2002|\n",
            "|27.0|        4|        97.0|        88|  2130|        14.5|        71|     3|        datsun pl510|\n",
            "|28.0|        4|       140.0|        90|  2264|        15.5|        71|     1| chevrolet vega 2300|\n",
            "|25.0|        4|       113.0|        95|  2228|        14.0|        71|     3|       toyota corona|\n",
            "+----+---------+------------+----------+------+------------+----------+------+--------------------+\n",
            "only showing top 10 rows\n",
            "\n"
          ]
        }
      ]
    },
    {
      "cell_type": "code",
      "source": [
        "df.filter((col('weight')>2000) & (col('horsepower')>80)).show(10)"
      ],
      "metadata": {
        "colab": {
          "base_uri": "https://localhost:8080/"
        },
        "id": "95gO7zj-16q6",
        "outputId": "c975e6c9-cfd7-481f-d5d6-2a73115745f8"
      },
      "execution_count": 70,
      "outputs": [
        {
          "output_type": "stream",
          "name": "stdout",
          "text": [
            "+----+---------+------------+----------+------+------------+----------+------+--------------------+\n",
            "| mpg|cylinders|displacement|horsepower|weight|acceleration|model year|origin|            car name|\n",
            "+----+---------+------------+----------+------+------------+----------+------+--------------------+\n",
            "|18.0|        8|       307.0|       130|  3504|        12.0|        70|     1|chevrolet chevell...|\n",
            "|15.0|        8|       350.0|       165|  3693|        11.5|        70|     1|   buick skylark 320|\n",
            "|18.0|        8|       318.0|       150|  3436|        11.0|        70|     1|  plymouth satellite|\n",
            "|16.0|        8|       304.0|       150|  3433|        12.0|        70|     1|       amc rebel sst|\n",
            "|17.0|        8|       302.0|       140|  3449|        10.5|        70|     1|         ford torino|\n",
            "|15.0|        8|       429.0|       198|  4341|        10.0|        70|     1|    ford galaxie 500|\n",
            "|14.0|        8|       454.0|       220|  4354|         9.0|        70|     1|    chevrolet impala|\n",
            "|14.0|        8|       440.0|       215|  4312|         8.5|        70|     1|   plymouth fury iii|\n",
            "|14.0|        8|       455.0|       225|  4425|        10.0|        70|     1|    pontiac catalina|\n",
            "|15.0|        8|       390.0|       190|  3850|         8.5|        70|     1|  amc ambassador dpl|\n",
            "+----+---------+------------+----------+------+------------+----------+------+--------------------+\n",
            "only showing top 10 rows\n",
            "\n"
          ]
        }
      ]
    },
    {
      "cell_type": "code",
      "source": [
        "df.filter((col('weight')>2000) & (col('horsepower')>80)).sort('mpg').show(10)"
      ],
      "metadata": {
        "colab": {
          "base_uri": "https://localhost:8080/"
        },
        "id": "PTM5Cg3sobl2",
        "outputId": "b480f7f9-50c5-47c7-b2de-12a92cf34482"
      },
      "execution_count": 71,
      "outputs": [
        {
          "output_type": "stream",
          "name": "stdout",
          "text": [
            "+----+---------+------------+----------+------+------------+----------+------+--------------------+\n",
            "| mpg|cylinders|displacement|horsepower|weight|acceleration|model year|origin|            car name|\n",
            "+----+---------+------------+----------+------+------------+----------+------+--------------------+\n",
            "| 9.0|        8|       304.0|       193|  4732|        18.5|        70|     1|            hi 1200d|\n",
            "|10.0|        8|       360.0|       215|  4615|        14.0|        70|     1|           ford f250|\n",
            "|10.0|        8|       307.0|       200|  4376|        15.0|        70|     1|           chevy c20|\n",
            "|11.0|        8|       318.0|       210|  4382|        13.5|        70|     1|          dodge d200|\n",
            "|11.0|        8|       429.0|       208|  4633|        11.0|        72|     1|     mercury marquis|\n",
            "|11.0|        8|       400.0|       150|  4997|        14.0|        73|     1|    chevrolet impala|\n",
            "|11.0|        8|       350.0|       180|  3664|        11.0|        73|     1|    oldsmobile omega|\n",
            "|12.0|        8|       383.0|       180|  4955|        11.5|        71|     1|   dodge monaco (sw)|\n",
            "|12.0|        8|       350.0|       160|  4456|        13.5|        72|     1|oldsmobile delta ...|\n",
            "|12.0|        8|       429.0|       198|  4952|        11.5|        73|     1|mercury marquis b...|\n",
            "+----+---------+------------+----------+------+------------+----------+------+--------------------+\n",
            "only showing top 10 rows\n",
            "\n"
          ]
        }
      ]
    },
    {
      "cell_type": "code",
      "source": [
        "df.filter((col('weight')>2000) & (col('horsepower')>80)).sort('mpg').show(10)"
      ],
      "metadata": {
        "colab": {
          "base_uri": "https://localhost:8080/"
        },
        "outputId": "17062855-8893-4ad0-b0a0-c209a28920f9",
        "id": "GXidMJlio5h2"
      },
      "execution_count": 72,
      "outputs": [
        {
          "output_type": "stream",
          "name": "stdout",
          "text": [
            "+----+---------+------------+----------+------+------------+----------+------+--------------------+\n",
            "| mpg|cylinders|displacement|horsepower|weight|acceleration|model year|origin|            car name|\n",
            "+----+---------+------------+----------+------+------------+----------+------+--------------------+\n",
            "| 9.0|        8|       304.0|       193|  4732|        18.5|        70|     1|            hi 1200d|\n",
            "|10.0|        8|       360.0|       215|  4615|        14.0|        70|     1|           ford f250|\n",
            "|10.0|        8|       307.0|       200|  4376|        15.0|        70|     1|           chevy c20|\n",
            "|11.0|        8|       318.0|       210|  4382|        13.5|        70|     1|          dodge d200|\n",
            "|11.0|        8|       429.0|       208|  4633|        11.0|        72|     1|     mercury marquis|\n",
            "|11.0|        8|       400.0|       150|  4997|        14.0|        73|     1|    chevrolet impala|\n",
            "|11.0|        8|       350.0|       180|  3664|        11.0|        73|     1|    oldsmobile omega|\n",
            "|12.0|        8|       383.0|       180|  4955|        11.5|        71|     1|   dodge monaco (sw)|\n",
            "|12.0|        8|       350.0|       160|  4456|        13.5|        72|     1|oldsmobile delta ...|\n",
            "|12.0|        8|       429.0|       198|  4952|        11.5|        73|     1|mercury marquis b...|\n",
            "+----+---------+------------+----------+------+------------+----------+------+--------------------+\n",
            "only showing top 10 rows\n",
            "\n"
          ]
        }
      ]
    },
    {
      "cell_type": "code",
      "source": [
        "df.filter((col('weight')>2000) & (col('horsepower')>80)).sort('mpg').show(10)"
      ],
      "metadata": {
        "colab": {
          "base_uri": "https://localhost:8080/"
        },
        "outputId": "931689f8-7ba2-4432-f366-cb50173407ef",
        "id": "UN9R6Cw5o8A5"
      },
      "execution_count": 73,
      "outputs": [
        {
          "output_type": "stream",
          "name": "stdout",
          "text": [
            "+----+---------+------------+----------+------+------------+----------+------+--------------------+\n",
            "| mpg|cylinders|displacement|horsepower|weight|acceleration|model year|origin|            car name|\n",
            "+----+---------+------------+----------+------+------------+----------+------+--------------------+\n",
            "| 9.0|        8|       304.0|       193|  4732|        18.5|        70|     1|            hi 1200d|\n",
            "|10.0|        8|       360.0|       215|  4615|        14.0|        70|     1|           ford f250|\n",
            "|10.0|        8|       307.0|       200|  4376|        15.0|        70|     1|           chevy c20|\n",
            "|11.0|        8|       318.0|       210|  4382|        13.5|        70|     1|          dodge d200|\n",
            "|11.0|        8|       429.0|       208|  4633|        11.0|        72|     1|     mercury marquis|\n",
            "|11.0|        8|       400.0|       150|  4997|        14.0|        73|     1|    chevrolet impala|\n",
            "|11.0|        8|       350.0|       180|  3664|        11.0|        73|     1|    oldsmobile omega|\n",
            "|12.0|        8|       383.0|       180|  4955|        11.5|        71|     1|   dodge monaco (sw)|\n",
            "|12.0|        8|       350.0|       160|  4456|        13.5|        72|     1|oldsmobile delta ...|\n",
            "|12.0|        8|       429.0|       198|  4952|        11.5|        73|     1|mercury marquis b...|\n",
            "+----+---------+------------+----------+------+------------+----------+------+--------------------+\n",
            "only showing top 10 rows\n",
            "\n"
          ]
        }
      ]
    },
    {
      "cell_type": "code",
      "source": [
        "df.filter((col('weight')>2000) & (col('horsepower')>80)).sort(col('mpg').desc()).show(10)"
      ],
      "metadata": {
        "colab": {
          "base_uri": "https://localhost:8080/"
        },
        "outputId": "232e7cba-f5eb-4f8f-ffda-3b376bdf7699",
        "id": "JTd0s0r7pDAb"
      },
      "execution_count": 74,
      "outputs": [
        {
          "output_type": "stream",
          "name": "stdout",
          "text": [
            "+----+---------+------------+----------+------+------------+----------+------+--------------------+\n",
            "| mpg|cylinders|displacement|horsepower|weight|acceleration|model year|origin|            car name|\n",
            "+----+---------+------------+----------+------+------------+----------+------+--------------------+\n",
            "|38.0|        6|       262.0|        85|  3015|        17.0|        82|     1|oldsmobile cutlas...|\n",
            "|37.0|        4|       119.0|        92|  2434|        15.0|        80|     3|datsun 510 hatchback|\n",
            "|36.0|        4|       135.0|        84|  2370|        13.0|        82|     1|   dodge charger 2.2|\n",
            "|36.0|        4|       120.0|        88|  2160|        14.5|        82|     3|    nissan stanza xe|\n",
            "|35.0|        4|       122.0|        88|  2500|        15.1|        80|     2|   triumph tr7 coupe|\n",
            "|34.0|        4|       112.0|        88|  2395|        18.0|        82|     1|chevrolet cavalie...|\n",
            "|33.5|        4|        98.0|        83|  2075|        15.9|        77|     1|      dodge colt m/m|\n",
            "|33.5|        4|       151.0|        90|  2556|        13.2|        79|     1|     pontiac phoenix|\n",
            "|32.9|        4|       119.0|       100|  2615|        14.8|        81|     3|        datsun 200sx|\n",
            "|32.7|        6|       168.0|       132|  2910|        11.4|        80|     3|       datsun 280-zx|\n",
            "+----+---------+------------+----------+------+------------+----------+------+--------------------+\n",
            "only showing top 10 rows\n",
            "\n"
          ]
        }
      ]
    },
    {
      "cell_type": "code",
      "source": [],
      "metadata": {
        "id": "v5TNmd-JpU92"
      },
      "execution_count": 74,
      "outputs": []
    },
    {
      "cell_type": "code",
      "source": [
        "df.sort('model year').show(10)"
      ],
      "metadata": {
        "colab": {
          "base_uri": "https://localhost:8080/"
        },
        "id": "D8xGVCR43Ege",
        "outputId": "3ebdd95c-b16c-4797-8588-ff7d77703922"
      },
      "execution_count": 75,
      "outputs": [
        {
          "output_type": "stream",
          "name": "stdout",
          "text": [
            "+----+---------+------------+----------+------+------------+----------+------+--------------------+\n",
            "| mpg|cylinders|displacement|horsepower|weight|acceleration|model year|origin|            car name|\n",
            "+----+---------+------------+----------+------+------------+----------+------+--------------------+\n",
            "|18.0|        8|       307.0|       130|  3504|        12.0|        70|     1|chevrolet chevell...|\n",
            "|15.0|        8|       350.0|       165|  3693|        11.5|        70|     1|   buick skylark 320|\n",
            "|18.0|        8|       318.0|       150|  3436|        11.0|        70|     1|  plymouth satellite|\n",
            "|16.0|        8|       304.0|       150|  3433|        12.0|        70|     1|       amc rebel sst|\n",
            "|17.0|        8|       302.0|       140|  3449|        10.5|        70|     1|         ford torino|\n",
            "|15.0|        8|       429.0|       198|  4341|        10.0|        70|     1|    ford galaxie 500|\n",
            "|14.0|        8|       454.0|       220|  4354|         9.0|        70|     1|    chevrolet impala|\n",
            "|14.0|        8|       440.0|       215|  4312|         8.5|        70|     1|   plymouth fury iii|\n",
            "|14.0|        8|       455.0|       225|  4425|        10.0|        70|     1|    pontiac catalina|\n",
            "|15.0|        8|       390.0|       190|  3850|         8.5|        70|     1|  amc ambassador dpl|\n",
            "+----+---------+------------+----------+------+------------+----------+------+--------------------+\n",
            "only showing top 10 rows\n",
            "\n"
          ]
        }
      ]
    },
    {
      "cell_type": "code",
      "source": [
        "df.filter(col(\"car name\").contains(\"volkswagen\")).orderBy(['model year','horsepower'],ascending=[False,False]).show()"
      ],
      "metadata": {
        "colab": {
          "base_uri": "https://localhost:8080/"
        },
        "id": "KzKwpOwf3uOL",
        "outputId": "de47e6f6-bb38-43b3-d39a-229873f69142"
      },
      "execution_count": 76,
      "outputs": [
        {
          "output_type": "stream",
          "name": "stdout",
          "text": [
            "+----+---------+------------+----------+------+------------+----------+------+--------------------+\n",
            "| mpg|cylinders|displacement|horsepower|weight|acceleration|model year|origin|            car name|\n",
            "+----+---------+------------+----------+------+------------+----------+------+--------------------+\n",
            "|36.0|        4|       105.0|        74|  1980|        15.3|        82|     2| volkswagen rabbit l|\n",
            "|33.0|        4|       105.0|        74|  2190|        14.2|        81|     2|    volkswagen jetta|\n",
            "|31.5|        4|        89.0|        71|  1990|        14.9|        78|     2| volkswagen scirocco|\n",
            "|43.1|        4|        90.0|        48|  1985|        21.5|        78|     2|volkswagen rabbit...|\n",
            "|29.0|        4|        97.0|        78|  1940|        14.5|        77|     2|volkswagen rabbit...|\n",
            "|30.5|        4|        97.0|        78|  2190|        14.1|        77|     2|   volkswagen dasher|\n",
            "|29.5|        4|        97.0|        71|  1825|        12.2|        76|     2|   volkswagen rabbit|\n",
            "|25.0|        4|        90.0|        71|  2223|        16.5|        75|     2|   volkswagen dasher|\n",
            "|29.0|        4|        90.0|        70|  1937|        14.0|        75|     2|   volkswagen rabbit|\n",
            "|26.0|        4|        79.0|        67|  1963|        15.5|        74|     2|   volkswagen dasher|\n",
            "|26.0|        4|        97.0|        46|  1950|        21.0|        73|     2|volkswagen super ...|\n",
            "|22.0|        4|       121.0|        76|  2511|        18.0|        72|     2| volkswagen 411 (sw)|\n",
            "|23.0|        4|        97.0|        54|  2254|        23.5|        72|     2|   volkswagen type 3|\n",
            "|27.0|        4|        97.0|        60|  1834|        19.0|        71|     2|volkswagen model 111|\n",
            "|26.0|        4|        97.0|        46|  1835|        20.5|        70|     2|volkswagen 1131 d...|\n",
            "+----+---------+------------+----------+------+------------+----------+------+--------------------+\n",
            "\n"
          ]
        }
      ]
    },
    {
      "cell_type": "code",
      "source": [],
      "metadata": {
        "id": "HZS893FIqO1R"
      },
      "execution_count": 76,
      "outputs": []
    },
    {
      "cell_type": "code",
      "source": [
        "df =df.withColumn('brand',split(col('car name'),' ').getItem(0))\n",
        "\n",
        "auto_misspelled = {'chevroelt':'chevrolet',\n",
        "                   'chevy':'chevrolet',\n",
        "                   'vw':'volkswagan',\n",
        "                   'volkswagen':'volkswagan',\n",
        "                   'vokswagen':'volkswagan',\n",
        "                   'toyouta':'toyota',\n",
        "                   'hi':'harvester',\n",
        "                   'maxda':'mazda',\n",
        "                   'mercedes-benz':'mercedes'}\n",
        "\n",
        "for key in auto_misspelled.keys():\n",
        "  df = df.withColumn('brand', regexp_replace('brand', key, auto_misspelled[key]))\n",
        "df.show(20)"
      ],
      "metadata": {
        "colab": {
          "base_uri": "https://localhost:8080/"
        },
        "id": "-qprM-Om5euZ",
        "outputId": "ac732f09-2c57-4763-e0a6-48794ac926a3"
      },
      "execution_count": 77,
      "outputs": [
        {
          "output_type": "stream",
          "name": "stdout",
          "text": [
            "+----+---------+------------+----------+------+------------+----------+------+--------------------+----------+\n",
            "| mpg|cylinders|displacement|horsepower|weight|acceleration|model year|origin|            car name|     brand|\n",
            "+----+---------+------------+----------+------+------------+----------+------+--------------------+----------+\n",
            "|18.0|        8|       307.0|       130|  3504|        12.0|        70|     1|chevrolet chevell...| chevrolet|\n",
            "|15.0|        8|       350.0|       165|  3693|        11.5|        70|     1|   buick skylark 320|     buick|\n",
            "|18.0|        8|       318.0|       150|  3436|        11.0|        70|     1|  plymouth satellite|  plymouth|\n",
            "|16.0|        8|       304.0|       150|  3433|        12.0|        70|     1|       amc rebel sst|       amc|\n",
            "|17.0|        8|       302.0|       140|  3449|        10.5|        70|     1|         ford torino|      ford|\n",
            "|15.0|        8|       429.0|       198|  4341|        10.0|        70|     1|    ford galaxie 500|      ford|\n",
            "|14.0|        8|       454.0|       220|  4354|         9.0|        70|     1|    chevrolet impala| chevrolet|\n",
            "|14.0|        8|       440.0|       215|  4312|         8.5|        70|     1|   plymouth fury iii|  plymouth|\n",
            "|14.0|        8|       455.0|       225|  4425|        10.0|        70|     1|    pontiac catalina|   pontiac|\n",
            "|15.0|        8|       390.0|       190|  3850|         8.5|        70|     1|  amc ambassador dpl|       amc|\n",
            "|15.0|        8|       383.0|       170|  3563|        10.0|        70|     1| dodge challenger se|     dodge|\n",
            "|14.0|        8|       340.0|       160|  3609|         8.0|        70|     1|  plymouth 'cuda 340|  plymouth|\n",
            "|15.0|        8|       400.0|       150|  3761|         9.5|        70|     1|chevrolet monte c...| chevrolet|\n",
            "|14.0|        8|       455.0|       225|  3086|        10.0|        70|     1|buick estate wago...|     buick|\n",
            "|24.0|        4|       113.0|        95|  2372|        15.0|        70|     3|toyota corona mar...|    toyota|\n",
            "|22.0|        6|       198.0|        95|  2833|        15.5|        70|     1|     plymouth duster|  plymouth|\n",
            "|18.0|        6|       199.0|        97|  2774|        15.5|        70|     1|          amc hornet|       amc|\n",
            "|21.0|        6|       200.0|        85|  2587|        16.0|        70|     1|       ford maverick|      ford|\n",
            "|27.0|        4|        97.0|        88|  2130|        14.5|        70|     3|        datsun pl510|    datsun|\n",
            "|26.0|        4|        97.0|        46|  1835|        20.5|        70|     2|volkswagen 1131 d...|volkswagan|\n",
            "+----+---------+------------+----------+------+------------+----------+------+--------------------+----------+\n",
            "only showing top 20 rows\n",
            "\n"
          ]
        }
      ]
    },
    {
      "cell_type": "code",
      "source": [
        "\n",
        "df.groupBy('brand').agg({'acceleration':'mean'}).withColumnRenamed('avg(acceleration)','Avg acceleration').show(10)\n"
      ],
      "metadata": {
        "colab": {
          "base_uri": "https://localhost:8080/"
        },
        "id": "VbR4dm_em0Xu",
        "outputId": "5479cd3f-fc0b-4f54-8512-b9bbfc0cbb0c"
      },
      "execution_count": 78,
      "outputs": [
        {
          "output_type": "stream",
          "name": "stdout",
          "text": [
            "+----------+------------------+\n",
            "|     brand|  Avg acceleration|\n",
            "+----------+------------------+\n",
            "|volkswagan|17.404545454545453|\n",
            "|     buick|14.700000000000003|\n",
            "|   pontiac|14.081249999999999|\n",
            "|  mercedes| 19.53333333333333|\n",
            "|    toyota| 16.03846153846154|\n",
            "|      saab|            15.175|\n",
            "|       amc|15.264285714285716|\n",
            "|   peugeot|             19.55|\n",
            "|  chrysler|13.300000000000002|\n",
            "|  plymouth|14.851612903225801|\n",
            "+----------+------------------+\n",
            "only showing top 10 rows\n",
            "\n"
          ]
        }
      ]
    },
    {
      "cell_type": "code",
      "source": [
        "df.groupBy('brand').agg({'mpg':'max'}).show(10)"
      ],
      "metadata": {
        "colab": {
          "base_uri": "https://localhost:8080/"
        },
        "id": "lN11hnyk7H8l",
        "outputId": "4ef6837b-55f1-433d-ef64-ad5ece4b0f38"
      },
      "execution_count": 79,
      "outputs": [
        {
          "output_type": "stream",
          "name": "stdout",
          "text": [
            "+----------+--------+\n",
            "|     brand|max(mpg)|\n",
            "+----------+--------+\n",
            "|volkswagan|    44.3|\n",
            "|     buick|    30.0|\n",
            "|   pontiac|    33.5|\n",
            "|  mercedes|    30.0|\n",
            "|    toyota|    39.1|\n",
            "|      saab|    25.0|\n",
            "|       amc|    27.4|\n",
            "|   peugeot|    30.0|\n",
            "|  chrysler|    26.0|\n",
            "|  plymouth|    39.0|\n",
            "+----------+--------+\n",
            "only showing top 10 rows\n",
            "\n"
          ]
        }
      ]
    },
    {
      "cell_type": "code",
      "source": [
        "df.groupBy('brand').agg({'acceleration':'mean'}).show(10)"
      ],
      "metadata": {
        "colab": {
          "base_uri": "https://localhost:8080/"
        },
        "id": "8jtArv-n7na9",
        "outputId": "f319e085-558d-4055-bcef-4175cb0221d4"
      },
      "execution_count": 80,
      "outputs": [
        {
          "output_type": "stream",
          "name": "stdout",
          "text": [
            "+----------+------------------+\n",
            "|     brand| avg(acceleration)|\n",
            "+----------+------------------+\n",
            "|volkswagan|17.404545454545453|\n",
            "|     buick|14.700000000000003|\n",
            "|   pontiac|14.081249999999999|\n",
            "|  mercedes| 19.53333333333333|\n",
            "|    toyota| 16.03846153846154|\n",
            "|      saab|            15.175|\n",
            "|       amc|15.264285714285716|\n",
            "|   peugeot|             19.55|\n",
            "|  chrysler|13.300000000000002|\n",
            "|  plymouth|14.851612903225801|\n",
            "+----------+------------------+\n",
            "only showing top 10 rows\n",
            "\n"
          ]
        }
      ]
    },
    {
      "cell_type": "code",
      "source": [
        "distinct_brands = df.select('brand').distinct().count()\n",
        "print(f\"Number of distinct brands: {distinct_brands}\")\n",
        "\n",
        "df.select('brand').distinct().show(100,truncate=False)"
      ],
      "metadata": {
        "colab": {
          "base_uri": "https://localhost:8080/"
        },
        "id": "khKecF3qoaxN",
        "outputId": "612501d2-5f60-4350-faee-a2c056ba4ce2"
      },
      "execution_count": 81,
      "outputs": [
        {
          "output_type": "stream",
          "name": "stdout",
          "text": [
            "Number of distinct brands: 30\n",
            "+----------+\n",
            "|brand     |\n",
            "+----------+\n",
            "|volkswagan|\n",
            "|buick     |\n",
            "|pontiac   |\n",
            "|mercedes  |\n",
            "|toyota    |\n",
            "|saab      |\n",
            "|amc       |\n",
            "|peugeot   |\n",
            "|chrysler  |\n",
            "|plymouth  |\n",
            "|audi      |\n",
            "|datsun    |\n",
            "|bmw       |\n",
            "|dodge     |\n",
            "|ford      |\n",
            "|capri     |\n",
            "|cadillac  |\n",
            "|mazda     |\n",
            "|harvester |\n",
            "|chevrolet |\n",
            "|opel      |\n",
            "|honda     |\n",
            "|fiat      |\n",
            "|oldsmobile|\n",
            "|mercury   |\n",
            "|renault   |\n",
            "|nissan    |\n",
            "|triumph   |\n",
            "|subaru    |\n",
            "|volvo     |\n",
            "+----------+\n",
            "\n"
          ]
        }
      ]
    },
    {
      "cell_type": "code",
      "source": [
        "# prompt: command to generate unique values in brand\n",
        "\n",
        "#from pyspark.sql.functions import countDistinct\n",
        "\n",
        "# Assuming 'df' is your DataFrame as defined in the previous code\n",
        "\n",
        "#distinct_brands = df.select(countDistinct(\"brand\")).collect()[0][0]\n",
        "#print(f\"Number of distinct brands: {distinct_brands}\")\n",
        "#df.select(\"brand\").distinct().show(distinct_brands)\n",
        "#df.select('brand').distinct().show()\n",
        "\n",
        "\n",
        "def one_hot_encode(df, categorical_col):\n",
        "  # Create a StringIndexer\n",
        "  indexed = StringIndexer().setInputCol(categorical_col).setOutputCol(categorical_col + \"_cat\").fit(df).transform(df)\n",
        "  # Create a OneHotEncoder\n",
        "  encoder = OneHotEncoder().setInputCol(categorical_col + \"_cat\").setOutputCol(categorical_col + \"_OneHotEncoder\").fit(indexed).transform(indexed)\n",
        "\n",
        "  ohe = encoder.drop(*[categorical_col, categorical_col + '_cat'])\n",
        "\n",
        "  return ohe\n",
        "\n",
        "df = one_hot_encode(df, 'brand')\n",
        "\n",
        "\n"
      ],
      "metadata": {
        "id": "_e05MwXkslRQ"
      },
      "execution_count": 82,
      "outputs": []
    },
    {
      "cell_type": "code",
      "source": [
        "df.show(50)"
      ],
      "metadata": {
        "colab": {
          "base_uri": "https://localhost:8080/"
        },
        "id": "-WBXQPqIx9NS",
        "outputId": "6d4b3223-910f-417a-f6c2-e11af866ea8f"
      },
      "execution_count": 83,
      "outputs": [
        {
          "output_type": "stream",
          "name": "stdout",
          "text": [
            "+----+---------+------------+----------+------+------------+----------+------+--------------------+-------------------+\n",
            "| mpg|cylinders|displacement|horsepower|weight|acceleration|model year|origin|            car name|brand_OneHotEncoder|\n",
            "+----+---------+------------+----------+------+------------+----------+------+--------------------+-------------------+\n",
            "|18.0|        8|       307.0|       130|  3504|        12.0|        70|     1|chevrolet chevell...|     (29,[1],[1.0])|\n",
            "|15.0|        8|       350.0|       165|  3693|        11.5|        70|     1|   buick skylark 320|     (29,[8],[1.0])|\n",
            "|18.0|        8|       318.0|       150|  3436|        11.0|        70|     1|  plymouth satellite|     (29,[2],[1.0])|\n",
            "|16.0|        8|       304.0|       150|  3433|        12.0|        70|     1|       amc rebel sst|     (29,[3],[1.0])|\n",
            "|17.0|        8|       302.0|       140|  3449|        10.5|        70|     1|         ford torino|     (29,[0],[1.0])|\n",
            "|15.0|        8|       429.0|       198|  4341|        10.0|        70|     1|    ford galaxie 500|     (29,[0],[1.0])|\n",
            "|14.0|        8|       454.0|       220|  4354|         9.0|        70|     1|    chevrolet impala|     (29,[1],[1.0])|\n",
            "|14.0|        8|       440.0|       215|  4312|         8.5|        70|     1|   plymouth fury iii|     (29,[2],[1.0])|\n",
            "|14.0|        8|       455.0|       225|  4425|        10.0|        70|     1|    pontiac catalina|     (29,[9],[1.0])|\n",
            "|15.0|        8|       390.0|       190|  3850|         8.5|        70|     1|  amc ambassador dpl|     (29,[3],[1.0])|\n",
            "|15.0|        8|       383.0|       170|  3563|        10.0|        70|     1| dodge challenger se|     (29,[4],[1.0])|\n",
            "|14.0|        8|       340.0|       160|  3609|         8.0|        70|     1|  plymouth 'cuda 340|     (29,[2],[1.0])|\n",
            "|15.0|        8|       400.0|       150|  3761|         9.5|        70|     1|chevrolet monte c...|     (29,[1],[1.0])|\n",
            "|14.0|        8|       455.0|       225|  3086|        10.0|        70|     1|buick estate wago...|     (29,[8],[1.0])|\n",
            "|24.0|        4|       113.0|        95|  2372|        15.0|        70|     3|toyota corona mar...|     (29,[5],[1.0])|\n",
            "|22.0|        6|       198.0|        95|  2833|        15.5|        70|     1|     plymouth duster|     (29,[2],[1.0])|\n",
            "|18.0|        6|       199.0|        97|  2774|        15.5|        70|     1|          amc hornet|     (29,[3],[1.0])|\n",
            "|21.0|        6|       200.0|        85|  2587|        16.0|        70|     1|       ford maverick|     (29,[0],[1.0])|\n",
            "|27.0|        4|        97.0|        88|  2130|        14.5|        70|     3|        datsun pl510|     (29,[6],[1.0])|\n",
            "|26.0|        4|        97.0|        46|  1835|        20.5|        70|     2|volkswagen 1131 d...|     (29,[7],[1.0])|\n",
            "|25.0|        4|       110.0|        87|  2672|        17.5|        70|     2|         peugeot 504|    (29,[15],[1.0])|\n",
            "|24.0|        4|       107.0|        90|  2430|        14.5|        70|     2|         audi 100 ls|    (29,[16],[1.0])|\n",
            "|25.0|        4|       104.0|        95|  2375|        17.5|        70|     2|            saab 99e|    (29,[21],[1.0])|\n",
            "|26.0|        4|       121.0|       113|  2234|        12.5|        70|     2|            bmw 2002|    (29,[24],[1.0])|\n",
            "|21.0|        6|       199.0|        90|  2648|        15.0|        70|     1|         amc gremlin|     (29,[3],[1.0])|\n",
            "|10.0|        8|       360.0|       215|  4615|        14.0|        70|     1|           ford f250|     (29,[0],[1.0])|\n",
            "|10.0|        8|       307.0|       200|  4376|        15.0|        70|     1|           chevy c20|     (29,[1],[1.0])|\n",
            "|11.0|        8|       318.0|       210|  4382|        13.5|        70|     1|          dodge d200|     (29,[4],[1.0])|\n",
            "| 9.0|        8|       304.0|       193|  4732|        18.5|        70|     1|            hi 1200d|    (29,[27],[1.0])|\n",
            "|27.0|        4|        97.0|        88|  2130|        14.5|        71|     3|        datsun pl510|     (29,[6],[1.0])|\n",
            "|28.0|        4|       140.0|        90|  2264|        15.5|        71|     1| chevrolet vega 2300|     (29,[1],[1.0])|\n",
            "|25.0|        4|       113.0|        95|  2228|        14.0|        71|     3|       toyota corona|     (29,[5],[1.0])|\n",
            "|25.0|        4|        98.0|         0|  2046|        19.0|        71|     1|          ford pinto|     (29,[0],[1.0])|\n",
            "|19.0|        6|       232.0|       100|  2634|        13.0|        71|     1|         amc gremlin|     (29,[3],[1.0])|\n",
            "|16.0|        6|       225.0|       105|  3439|        15.5|        71|     1|plymouth satellit...|     (29,[2],[1.0])|\n",
            "|17.0|        6|       250.0|       100|  3329|        15.5|        71|     1|chevrolet chevell...|     (29,[1],[1.0])|\n",
            "|19.0|        6|       250.0|        88|  3302|        15.5|        71|     1|     ford torino 500|     (29,[0],[1.0])|\n",
            "|18.0|        6|       232.0|       100|  3288|        15.5|        71|     1|         amc matador|     (29,[3],[1.0])|\n",
            "|14.0|        8|       350.0|       165|  4209|        12.0|        71|     1|    chevrolet impala|     (29,[1],[1.0])|\n",
            "|14.0|        8|       400.0|       175|  4464|        11.5|        71|     1|pontiac catalina ...|     (29,[9],[1.0])|\n",
            "|14.0|        8|       351.0|       153|  4154|        13.5|        71|     1|    ford galaxie 500|     (29,[0],[1.0])|\n",
            "|14.0|        8|       318.0|       150|  4096|        13.0|        71|     1|   plymouth fury iii|     (29,[2],[1.0])|\n",
            "|12.0|        8|       383.0|       180|  4955|        11.5|        71|     1|   dodge monaco (sw)|     (29,[4],[1.0])|\n",
            "|13.0|        8|       400.0|       170|  4746|        12.0|        71|     1|ford country squi...|     (29,[0],[1.0])|\n",
            "|13.0|        8|       400.0|       175|  5140|        12.0|        71|     1| pontiac safari (sw)|     (29,[9],[1.0])|\n",
            "|18.0|        6|       258.0|       110|  2962|        13.5|        71|     1|amc hornet sporta...|     (29,[3],[1.0])|\n",
            "|22.0|        4|       140.0|        72|  2408|        19.0|        71|     1| chevrolet vega (sw)|     (29,[1],[1.0])|\n",
            "|19.0|        6|       250.0|       100|  3282|        15.0|        71|     1|    pontiac firebird|     (29,[9],[1.0])|\n",
            "|18.0|        6|       250.0|        88|  3139|        14.5|        71|     1|        ford mustang|     (29,[0],[1.0])|\n",
            "|23.0|        4|       122.0|        86|  2220|        14.0|        71|     1|  mercury capri 2000|    (29,[12],[1.0])|\n",
            "+----+---------+------------+----------+------+------------+----------+------+--------------------+-------------------+\n",
            "only showing top 50 rows\n",
            "\n"
          ]
        }
      ]
    },
    {
      "cell_type": "code",
      "source": [
        "\n",
        "\n"
      ],
      "metadata": {
        "id": "JU7AwOb-6YSw"
      },
      "execution_count": 83,
      "outputs": []
    },
    {
      "cell_type": "code",
      "source": [
        "df=df.drop('car name')\n",
        "df.show(10)"
      ],
      "metadata": {
        "colab": {
          "base_uri": "https://localhost:8080/"
        },
        "id": "1bMt-iwMqMHc",
        "outputId": "13c010da-2191-4e47-d85f-dbeecec1b7e5"
      },
      "execution_count": 84,
      "outputs": [
        {
          "output_type": "stream",
          "name": "stdout",
          "text": [
            "+----+---------+------------+----------+------+------------+----------+------+-------------------+\n",
            "| mpg|cylinders|displacement|horsepower|weight|acceleration|model year|origin|brand_OneHotEncoder|\n",
            "+----+---------+------------+----------+------+------------+----------+------+-------------------+\n",
            "|18.0|        8|       307.0|       130|  3504|        12.0|        70|     1|     (29,[1],[1.0])|\n",
            "|15.0|        8|       350.0|       165|  3693|        11.5|        70|     1|     (29,[8],[1.0])|\n",
            "|18.0|        8|       318.0|       150|  3436|        11.0|        70|     1|     (29,[2],[1.0])|\n",
            "|16.0|        8|       304.0|       150|  3433|        12.0|        70|     1|     (29,[3],[1.0])|\n",
            "|17.0|        8|       302.0|       140|  3449|        10.5|        70|     1|     (29,[0],[1.0])|\n",
            "|15.0|        8|       429.0|       198|  4341|        10.0|        70|     1|     (29,[0],[1.0])|\n",
            "|14.0|        8|       454.0|       220|  4354|         9.0|        70|     1|     (29,[1],[1.0])|\n",
            "|14.0|        8|       440.0|       215|  4312|         8.5|        70|     1|     (29,[2],[1.0])|\n",
            "|14.0|        8|       455.0|       225|  4425|        10.0|        70|     1|     (29,[9],[1.0])|\n",
            "|15.0|        8|       390.0|       190|  3850|         8.5|        70|     1|     (29,[3],[1.0])|\n",
            "+----+---------+------------+----------+------+------------+----------+------+-------------------+\n",
            "only showing top 10 rows\n",
            "\n"
          ]
        }
      ]
    },
    {
      "cell_type": "code",
      "source": [
        "from pyspark.ml.feature import VectorAssembler\n",
        "\n",
        "def vector_assembler(df,indep_cols):\n",
        "  assembler = VectorAssembler(inputCols=indep_cols,\n",
        "                              outputCol = 'features',\n",
        "                              handleInvalid=\"skip\")\n",
        "  output = assembler.transform(df).drop(*indep_cols)\n",
        "  return output\n",
        "\n",
        "df = vector_assembler(df,indep_cols=df.drop('mpg').columns)\n"
      ],
      "metadata": {
        "id": "AIH3GmdB-lIc"
      },
      "execution_count": 85,
      "outputs": []
    },
    {
      "cell_type": "code",
      "source": [
        "df.show(100,truncate=False)"
      ],
      "metadata": {
        "colab": {
          "base_uri": "https://localhost:8080/"
        },
        "id": "0jOFTH-6DskQ",
        "outputId": "541bef60-6cac-4b21-c872-1684a7df989e"
      },
      "execution_count": 86,
      "outputs": [
        {
          "output_type": "stream",
          "name": "stdout",
          "text": [
            "+----+------------------------------------------------------------------+\n",
            "|mpg |features                                                          |\n",
            "+----+------------------------------------------------------------------+\n",
            "|18.0|(36,[0,1,2,3,4,5,6,8],[8.0,307.0,130.0,3504.0,12.0,70.0,1.0,1.0]) |\n",
            "|15.0|(36,[0,1,2,3,4,5,6,15],[8.0,350.0,165.0,3693.0,11.5,70.0,1.0,1.0])|\n",
            "|18.0|(36,[0,1,2,3,4,5,6,9],[8.0,318.0,150.0,3436.0,11.0,70.0,1.0,1.0]) |\n",
            "|16.0|(36,[0,1,2,3,4,5,6,10],[8.0,304.0,150.0,3433.0,12.0,70.0,1.0,1.0])|\n",
            "|17.0|(36,[0,1,2,3,4,5,6,7],[8.0,302.0,140.0,3449.0,10.5,70.0,1.0,1.0]) |\n",
            "|15.0|(36,[0,1,2,3,4,5,6,7],[8.0,429.0,198.0,4341.0,10.0,70.0,1.0,1.0]) |\n",
            "|14.0|(36,[0,1,2,3,4,5,6,8],[8.0,454.0,220.0,4354.0,9.0,70.0,1.0,1.0])  |\n",
            "|14.0|(36,[0,1,2,3,4,5,6,9],[8.0,440.0,215.0,4312.0,8.5,70.0,1.0,1.0])  |\n",
            "|14.0|(36,[0,1,2,3,4,5,6,16],[8.0,455.0,225.0,4425.0,10.0,70.0,1.0,1.0])|\n",
            "|15.0|(36,[0,1,2,3,4,5,6,10],[8.0,390.0,190.0,3850.0,8.5,70.0,1.0,1.0]) |\n",
            "|15.0|(36,[0,1,2,3,4,5,6,11],[8.0,383.0,170.0,3563.0,10.0,70.0,1.0,1.0])|\n",
            "|14.0|(36,[0,1,2,3,4,5,6,9],[8.0,340.0,160.0,3609.0,8.0,70.0,1.0,1.0])  |\n",
            "|15.0|(36,[0,1,2,3,4,5,6,8],[8.0,400.0,150.0,3761.0,9.5,70.0,1.0,1.0])  |\n",
            "|14.0|(36,[0,1,2,3,4,5,6,15],[8.0,455.0,225.0,3086.0,10.0,70.0,1.0,1.0])|\n",
            "|24.0|(36,[0,1,2,3,4,5,6,12],[4.0,113.0,95.0,2372.0,15.0,70.0,3.0,1.0]) |\n",
            "|22.0|(36,[0,1,2,3,4,5,6,9],[6.0,198.0,95.0,2833.0,15.5,70.0,1.0,1.0])  |\n",
            "|18.0|(36,[0,1,2,3,4,5,6,10],[6.0,199.0,97.0,2774.0,15.5,70.0,1.0,1.0]) |\n",
            "|21.0|(36,[0,1,2,3,4,5,6,7],[6.0,200.0,85.0,2587.0,16.0,70.0,1.0,1.0])  |\n",
            "|27.0|(36,[0,1,2,3,4,5,6,13],[4.0,97.0,88.0,2130.0,14.5,70.0,3.0,1.0])  |\n",
            "|26.0|(36,[0,1,2,3,4,5,6,14],[4.0,97.0,46.0,1835.0,20.5,70.0,2.0,1.0])  |\n",
            "|25.0|(36,[0,1,2,3,4,5,6,22],[4.0,110.0,87.0,2672.0,17.5,70.0,2.0,1.0]) |\n",
            "|24.0|(36,[0,1,2,3,4,5,6,23],[4.0,107.0,90.0,2430.0,14.5,70.0,2.0,1.0]) |\n",
            "|25.0|(36,[0,1,2,3,4,5,6,28],[4.0,104.0,95.0,2375.0,17.5,70.0,2.0,1.0]) |\n",
            "|26.0|(36,[0,1,2,3,4,5,6,31],[4.0,121.0,113.0,2234.0,12.5,70.0,2.0,1.0])|\n",
            "|21.0|(36,[0,1,2,3,4,5,6,10],[6.0,199.0,90.0,2648.0,15.0,70.0,1.0,1.0]) |\n",
            "|10.0|(36,[0,1,2,3,4,5,6,7],[8.0,360.0,215.0,4615.0,14.0,70.0,1.0,1.0]) |\n",
            "|10.0|(36,[0,1,2,3,4,5,6,8],[8.0,307.0,200.0,4376.0,15.0,70.0,1.0,1.0]) |\n",
            "|11.0|(36,[0,1,2,3,4,5,6,11],[8.0,318.0,210.0,4382.0,13.5,70.0,1.0,1.0])|\n",
            "|9.0 |(36,[0,1,2,3,4,5,6,34],[8.0,304.0,193.0,4732.0,18.5,70.0,1.0,1.0])|\n",
            "|27.0|(36,[0,1,2,3,4,5,6,13],[4.0,97.0,88.0,2130.0,14.5,71.0,3.0,1.0])  |\n",
            "|28.0|(36,[0,1,2,3,4,5,6,8],[4.0,140.0,90.0,2264.0,15.5,71.0,1.0,1.0])  |\n",
            "|25.0|(36,[0,1,2,3,4,5,6,12],[4.0,113.0,95.0,2228.0,14.0,71.0,3.0,1.0]) |\n",
            "|25.0|(36,[0,1,3,4,5,6,7],[4.0,98.0,2046.0,19.0,71.0,1.0,1.0])          |\n",
            "|19.0|(36,[0,1,2,3,4,5,6,10],[6.0,232.0,100.0,2634.0,13.0,71.0,1.0,1.0])|\n",
            "|16.0|(36,[0,1,2,3,4,5,6,9],[6.0,225.0,105.0,3439.0,15.5,71.0,1.0,1.0]) |\n",
            "|17.0|(36,[0,1,2,3,4,5,6,8],[6.0,250.0,100.0,3329.0,15.5,71.0,1.0,1.0]) |\n",
            "|19.0|(36,[0,1,2,3,4,5,6,7],[6.0,250.0,88.0,3302.0,15.5,71.0,1.0,1.0])  |\n",
            "|18.0|(36,[0,1,2,3,4,5,6,10],[6.0,232.0,100.0,3288.0,15.5,71.0,1.0,1.0])|\n",
            "|14.0|(36,[0,1,2,3,4,5,6,8],[8.0,350.0,165.0,4209.0,12.0,71.0,1.0,1.0]) |\n",
            "|14.0|(36,[0,1,2,3,4,5,6,16],[8.0,400.0,175.0,4464.0,11.5,71.0,1.0,1.0])|\n",
            "|14.0|(36,[0,1,2,3,4,5,6,7],[8.0,351.0,153.0,4154.0,13.5,71.0,1.0,1.0]) |\n",
            "|14.0|(36,[0,1,2,3,4,5,6,9],[8.0,318.0,150.0,4096.0,13.0,71.0,1.0,1.0]) |\n",
            "|12.0|(36,[0,1,2,3,4,5,6,11],[8.0,383.0,180.0,4955.0,11.5,71.0,1.0,1.0])|\n",
            "|13.0|(36,[0,1,2,3,4,5,6,7],[8.0,400.0,170.0,4746.0,12.0,71.0,1.0,1.0]) |\n",
            "|13.0|(36,[0,1,2,3,4,5,6,16],[8.0,400.0,175.0,5140.0,12.0,71.0,1.0,1.0])|\n",
            "|18.0|(36,[0,1,2,3,4,5,6,10],[6.0,258.0,110.0,2962.0,13.5,71.0,1.0,1.0])|\n",
            "|22.0|(36,[0,1,2,3,4,5,6,8],[4.0,140.0,72.0,2408.0,19.0,71.0,1.0,1.0])  |\n",
            "|19.0|(36,[0,1,2,3,4,5,6,16],[6.0,250.0,100.0,3282.0,15.0,71.0,1.0,1.0])|\n",
            "|18.0|(36,[0,1,2,3,4,5,6,7],[6.0,250.0,88.0,3139.0,14.5,71.0,1.0,1.0])  |\n",
            "|23.0|(36,[0,1,2,3,4,5,6,19],[4.0,122.0,86.0,2220.0,14.0,71.0,1.0,1.0]) |\n",
            "|28.0|(36,[0,1,2,3,4,5,6,27],[4.0,116.0,90.0,2123.0,14.0,71.0,2.0,1.0]) |\n",
            "|30.0|(36,[0,1,2,3,4,5,6,22],[4.0,79.0,70.0,2074.0,19.5,71.0,2.0,1.0])  |\n",
            "|30.0|(36,[0,1,2,3,4,5,6,21],[4.0,88.0,76.0,2065.0,14.5,71.0,2.0,1.0])  |\n",
            "|31.0|(36,[0,1,2,3,4,5,6,12],[4.0,71.0,65.0,1773.0,19.0,71.0,3.0,1.0])  |\n",
            "|35.0|(36,[0,1,2,3,4,5,6,13],[4.0,72.0,69.0,1613.0,18.0,71.0,3.0,1.0])  |\n",
            "|27.0|(36,[0,1,2,3,4,5,6,14],[4.0,97.0,60.0,1834.0,19.0,71.0,2.0,1.0])  |\n",
            "|26.0|(36,[0,1,2,3,4,5,6,9],[4.0,91.0,70.0,1955.0,20.5,71.0,1.0,1.0])   |\n",
            "|24.0|(36,[0,1,2,3,4,5,6,12],[4.0,113.0,95.0,2278.0,15.5,72.0,3.0,1.0]) |\n",
            "|25.0|(36,[0,1,2,3,4,5,6,11],[4.0,97.5,80.0,2126.0,17.0,72.0,1.0,1.0])  |\n",
            "|23.0|(36,[0,1,2,3,4,5,6,14],[4.0,97.0,54.0,2254.0,23.5,72.0,2.0,1.0])  |\n",
            "|20.0|(36,[0,1,2,3,4,5,6,8],[4.0,140.0,90.0,2408.0,19.5,72.0,1.0,1.0])  |\n",
            "|21.0|(36,[0,1,2,3,4,5,6,7],[4.0,122.0,86.0,2226.0,16.5,72.0,1.0,1.0])  |\n",
            "|13.0|(36,[0,1,2,3,4,5,6,8],[8.0,350.0,165.0,4274.0,12.0,72.0,1.0,1.0]) |\n",
            "|14.0|(36,[0,1,2,3,4,5,6,16],[8.0,400.0,175.0,4385.0,12.0,72.0,1.0,1.0])|\n",
            "|15.0|(36,[0,1,2,3,4,5,6,9],[8.0,318.0,150.0,4135.0,13.5,72.0,1.0,1.0]) |\n",
            "|14.0|(36,[0,1,2,3,4,5,6,7],[8.0,351.0,153.0,4129.0,13.0,72.0,1.0,1.0]) |\n",
            "|17.0|(36,[0,1,2,3,4,5,6,10],[8.0,304.0,150.0,3672.0,11.5,72.0,1.0,1.0])|\n",
            "|11.0|(36,[0,1,2,3,4,5,6,19],[8.0,429.0,208.0,4633.0,11.0,72.0,1.0,1.0])|\n",
            "|13.0|(36,[0,1,2,3,4,5,6,15],[8.0,350.0,155.0,4502.0,13.5,72.0,1.0,1.0])|\n",
            "|12.0|(36,[0,1,2,3,4,5,6,20],[8.0,350.0,160.0,4456.0,13.5,72.0,1.0,1.0])|\n",
            "|13.0|(36,[0,1,2,3,4,5,6,24],[8.0,400.0,190.0,4422.0,12.5,72.0,1.0,1.0])|\n",
            "|19.0|(36,[0,1,2,3,4,5,6,18],[3.0,70.0,97.0,2330.0,13.5,72.0,3.0,1.0])  |\n",
            "|15.0|(36,[0,1,2,3,4,5,6,10],[8.0,304.0,150.0,3892.0,12.5,72.0,1.0,1.0])|\n",
            "|13.0|(36,[0,1,2,3,4,5,6,8],[8.0,307.0,130.0,4098.0,14.0,72.0,1.0,1.0]) |\n",
            "|13.0|(36,[0,1,2,3,4,5,6,7],[8.0,302.0,140.0,4294.0,16.0,72.0,1.0,1.0]) |\n",
            "|14.0|(36,[0,1,2,3,4,5,6,9],[8.0,318.0,150.0,4077.0,14.0,72.0,1.0,1.0]) |\n",
            "|18.0|(36,[0,1,2,3,4,5,6,25],[4.0,121.0,112.0,2933.0,14.5,72.0,2.0,1.0])|\n",
            "|22.0|(36,[0,1,2,3,4,5,6,14],[4.0,121.0,76.0,2511.0,18.0,72.0,2.0,1.0]) |\n",
            "|21.0|(36,[0,1,2,3,4,5,6,22],[4.0,120.0,87.0,2979.0,19.5,72.0,2.0,1.0]) |\n",
            "|26.0|(36,[0,1,2,3,4,5,6,26],[4.0,96.0,69.0,2189.0,18.0,72.0,2.0,1.0])  |\n",
            "|22.0|(36,[0,1,2,3,4,5,6,7],[4.0,122.0,86.0,2395.0,16.0,72.0,1.0,1.0])  |\n",
            "|28.0|(36,[0,1,2,3,4,5,6,13],[4.0,97.0,92.0,2288.0,17.0,72.0,3.0,1.0])  |\n",
            "|23.0|(36,[0,1,2,3,4,5,6,12],[4.0,120.0,97.0,2506.0,14.5,72.0,3.0,1.0]) |\n",
            "|28.0|(36,[0,1,2,3,4,5,6,11],[4.0,98.0,80.0,2164.0,15.0,72.0,1.0,1.0])  |\n",
            "|27.0|(36,[0,1,2,3,4,5,6,12],[4.0,97.0,88.0,2100.0,16.5,72.0,3.0,1.0])  |\n",
            "|13.0|(36,[0,1,2,3,4,5,6,15],[8.0,350.0,175.0,4100.0,13.0,73.0,1.0,1.0])|\n",
            "|14.0|(36,[0,1,2,3,4,5,6,10],[8.0,304.0,150.0,3672.0,11.5,73.0,1.0,1.0])|\n",
            "|13.0|(36,[0,1,2,3,4,5,6,8],[8.0,350.0,145.0,3988.0,13.0,73.0,1.0,1.0]) |\n",
            "|14.0|(36,[0,1,2,3,4,5,6,7],[8.0,302.0,137.0,4042.0,14.5,73.0,1.0,1.0]) |\n",
            "|15.0|(36,[0,1,2,3,4,5,6,11],[8.0,318.0,150.0,3777.0,12.5,73.0,1.0,1.0])|\n",
            "|12.0|(36,[0,1,2,3,4,5,6,19],[8.0,429.0,198.0,4952.0,11.5,73.0,1.0,1.0])|\n",
            "|13.0|(36,[0,1,2,3,4,5,6,8],[8.0,400.0,150.0,4464.0,12.0,73.0,1.0,1.0]) |\n",
            "|13.0|(36,[0,1,2,3,4,5,6,7],[8.0,351.0,158.0,4363.0,13.0,73.0,1.0,1.0]) |\n",
            "|14.0|(36,[0,1,2,3,4,5,6,9],[8.0,318.0,150.0,4237.0,14.5,73.0,1.0,1.0]) |\n",
            "|13.0|(36,[0,1,2,3,4,5,6,24],[8.0,440.0,215.0,4735.0,11.0,73.0,1.0,1.0])|\n",
            "|12.0|(36,[0,1,2,3,4,5,6,15],[8.0,455.0,225.0,4951.0,11.0,73.0,1.0,1.0])|\n",
            "|13.0|(36,[0,1,2,3,4,5,6,10],[8.0,360.0,175.0,3821.0,11.0,73.0,1.0,1.0])|\n",
            "|18.0|(36,[0,1,2,3,4,5,6,9],[6.0,225.0,105.0,3121.0,16.5,73.0,1.0,1.0]) |\n",
            "|16.0|(36,[0,1,2,3,4,5,6,8],[6.0,250.0,100.0,3278.0,18.0,73.0,1.0,1.0]) |\n",
            "|18.0|(36,[0,1,2,3,4,5,6,10],[6.0,232.0,100.0,2945.0,16.0,73.0,1.0,1.0])|\n",
            "+----+------------------------------------------------------------------+\n",
            "only showing top 100 rows\n",
            "\n"
          ]
        }
      ]
    },
    {
      "cell_type": "code",
      "source": [
        "train_data,test_data = df.randomSplit([0.8,0.2],seed=123)\n",
        "\n",
        "print(f\"Train data shape: {train_data.count()}, {len(train_data.columns)}\")\n",
        "print(f\"Test data shape: {test_data.count()}, {len(test_data.columns)}\")"
      ],
      "metadata": {
        "colab": {
          "base_uri": "https://localhost:8080/"
        },
        "id": "dv3BqW4WklLH",
        "outputId": "62f1090d-f635-4911-9454-5673e7d67bc0"
      },
      "execution_count": 87,
      "outputs": [
        {
          "output_type": "stream",
          "name": "stdout",
          "text": [
            "Train data shape: 318, 2\n",
            "Test data shape: 80, 2\n"
          ]
        }
      ]
    },
    {
      "cell_type": "code",
      "source": [
        "lr = LinearRegression(featuresCol='features',labelCol='mpg',regParam=0.3,standardization=False)\n",
        "lr_model = lr.fit(train_data)"
      ],
      "metadata": {
        "id": "MxQjWRMym3tS"
      },
      "execution_count": 88,
      "outputs": []
    },
    {
      "cell_type": "code",
      "source": [
        "def eval_model(model,test_data):\n",
        "  print(model.__class__.__name__.center(70,'='))\n",
        "  model_result = model.evaluate(test_data)\n",
        "  print(f\"RMSE: {model_result.rootMeanSquaredError}\")\n",
        "  print(f\"R2: {model_result.r2}\")\n",
        "  print(f\"MAE: {model_result.meanAbsoluteError}\")\n",
        "  print(f\"MSE: {model_result.meanSquaredError}\")\n",
        "  print(f\"Explained Variance: {model_result.explainedVariance}\")\n",
        "  print(70*'=')\n",
        "\n",
        "eval_model(lr_model,test_data)\n"
      ],
      "metadata": {
        "colab": {
          "base_uri": "https://localhost:8080/"
        },
        "id": "430KK-bOqkR0",
        "outputId": "11c6c9c5-668b-46ac-a90a-247de46000fd"
      },
      "execution_count": 89,
      "outputs": [
        {
          "output_type": "stream",
          "name": "stdout",
          "text": [
            "========================LinearRegressionModel=========================\n",
            "RMSE: 3.412223445197354\n",
            "R2: 0.7983309966898102\n",
            "MAE: 2.461164491835024\n",
            "MSE: 11.643268839954501\n",
            "Explained Variance: 43.63256309984281\n",
            "======================================================================\n"
          ]
        }
      ]
    },
    {
      "cell_type": "code",
      "source": [
        "from pyspark import SparkContext\n",
        "sc = SparkContext.getOrCreate()\n",
        "print(sc)"
      ],
      "metadata": {
        "colab": {
          "base_uri": "https://localhost:8080/"
        },
        "id": "cIOp99ZJxGWJ",
        "outputId": "3079a9e6-e270-4a5f-86e8-88a84f3d5980"
      },
      "execution_count": 90,
      "outputs": [
        {
          "output_type": "stream",
          "name": "stdout",
          "text": [
            "<SparkContext master=local[*] appName=First Session>\n"
          ]
        }
      ]
    },
    {
      "cell_type": "markdown",
      "source": [
        "##RDDs"
      ],
      "metadata": {
        "id": "xylP9oBc40wc"
      }
    },
    {
      "cell_type": "code",
      "source": [],
      "metadata": {
        "id": "bG1epyvQ430_"
      },
      "execution_count": 97,
      "outputs": []
    },
    {
      "cell_type": "code",
      "source": [],
      "metadata": {
        "id": "9s08syAfa6eT"
      },
      "execution_count": null,
      "outputs": []
    },
    {
      "cell_type": "code",
      "source": [],
      "metadata": {
        "id": "fzTOfEOBa6pD"
      },
      "execution_count": null,
      "outputs": []
    },
    {
      "cell_type": "code",
      "source": [],
      "metadata": {
        "id": "eF4SBFz4a6tg"
      },
      "execution_count": null,
      "outputs": []
    },
    {
      "cell_type": "code",
      "source": [],
      "metadata": {
        "id": "tTNBf1Gaa6xC"
      },
      "execution_count": null,
      "outputs": []
    },
    {
      "cell_type": "code",
      "source": [],
      "metadata": {
        "id": "GPilDI_ja60i"
      },
      "execution_count": null,
      "outputs": []
    }
  ]
}
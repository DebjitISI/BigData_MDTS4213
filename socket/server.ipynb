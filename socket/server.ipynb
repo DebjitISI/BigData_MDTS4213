{
 "cells": [
  {
   "cell_type": "code",
   "execution_count": null,
   "metadata": {},
   "outputs": [
    {
     "name": "stdout",
     "output_type": "stream",
     "text": [
      "Server is listening on localhost:1111\n",
      "Connection establlished from ('127.0.0.1', 33786)\n",
      "Recieved data: Hello Server!\n"
     ]
    }
   ],
   "source": [
    "import socket\n",
    "\n",
    "#Define the host and the port for the server\n",
    "HOST = 'localhost'\n",
    "PORT  = 1111\n",
    "\n",
    "#create a TCP socket\n",
    "server_socket = socket.socket(socket.AF_INET,socket.SOCK_STREAM) #(address of socket, protocol of socket )\n",
    "\n",
    "#bind the socket to the host and port\n",
    "server_socket.bind((HOST,PORT))\n",
    "\n",
    "#start listening for incoming connections\n",
    "server_socket.listen()\n",
    "\n",
    "print(f\"Server is listening on {HOST}:{PORT}\")\n",
    "\n",
    "#accept incoming connections\n",
    "client_socket , addr = server_socket.accept()\n",
    "\n",
    "print(f\"Connection establlished from {addr}\")\n",
    "\n",
    "#recieve the data from the client\n",
    "while True:\n",
    "    data = client_socket.recv(1024).decode()\n",
    "    if not data:\n",
    "        break\n",
    "    print(f\"Recieved data: {data}\")"
   ]
  },
  {
   "cell_type": "code",
   "execution_count": null,
   "metadata": {},
   "outputs": [],
   "source": []
  },
  {
   "cell_type": "code",
   "execution_count": null,
   "metadata": {},
   "outputs": [],
   "source": []
  }
 ],
 "metadata": {
  "kernelspec": {
   "display_name": "big-data",
   "language": "python",
   "name": "python3"
  },
  "language_info": {
   "codemirror_mode": {
    "name": "ipython",
    "version": 3
   },
   "file_extension": ".py",
   "mimetype": "text/x-python",
   "name": "python",
   "nbconvert_exporter": "python",
   "pygments_lexer": "ipython3",
   "version": "3.10.12"
  }
 },
 "nbformat": 4,
 "nbformat_minor": 2
}

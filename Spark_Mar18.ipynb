{
  "nbformat": 4,
  "nbformat_minor": 0,
  "metadata": {
    "colab": {
      "provenance": [],
      "toc_visible": true
    },
    "kernelspec": {
      "name": "python3",
      "display_name": "Python 3"
    },
    "language_info": {
      "name": "python"
    }
  },
  "cells": [
    {
      "cell_type": "code",
      "execution_count": 1,
      "metadata": {
        "colab": {
          "base_uri": "https://localhost:8080/"
        },
        "id": "_N6_1ooZZzzf",
        "outputId": "334f2b44-8e44-4ffd-c4c3-37598d917c58"
      },
      "outputs": [
        {
          "output_type": "stream",
          "name": "stdout",
          "text": [
            "Requirement already satisfied: pyspark in /usr/local/lib/python3.11/dist-packages (3.5.5)\n",
            "Requirement already satisfied: py4j==0.10.9.7 in /usr/local/lib/python3.11/dist-packages (from pyspark) (0.10.9.7)\n"
          ]
        }
      ],
      "source": [
        "!pip install pyspark"
      ]
    },
    {
      "cell_type": "code",
      "source": [
        "import pyspark"
      ],
      "metadata": {
        "id": "2rt0VDzkacj5"
      },
      "execution_count": 2,
      "outputs": []
    },
    {
      "cell_type": "code",
      "source": [
        "!pip install kaggle"
      ],
      "metadata": {
        "colab": {
          "base_uri": "https://localhost:8080/"
        },
        "id": "Yij9QJOiah0B",
        "outputId": "d3d87c50-0ba0-446a-d47a-b06443dbce81"
      },
      "execution_count": 3,
      "outputs": [
        {
          "output_type": "stream",
          "name": "stdout",
          "text": [
            "Requirement already satisfied: kaggle in /usr/local/lib/python3.11/dist-packages (1.6.17)\n",
            "Requirement already satisfied: six>=1.10 in /usr/local/lib/python3.11/dist-packages (from kaggle) (1.17.0)\n",
            "Requirement already satisfied: certifi>=2023.7.22 in /usr/local/lib/python3.11/dist-packages (from kaggle) (2025.1.31)\n",
            "Requirement already satisfied: python-dateutil in /usr/local/lib/python3.11/dist-packages (from kaggle) (2.8.2)\n",
            "Requirement already satisfied: requests in /usr/local/lib/python3.11/dist-packages (from kaggle) (2.32.3)\n",
            "Requirement already satisfied: tqdm in /usr/local/lib/python3.11/dist-packages (from kaggle) (4.67.1)\n",
            "Requirement already satisfied: python-slugify in /usr/local/lib/python3.11/dist-packages (from kaggle) (8.0.4)\n",
            "Requirement already satisfied: urllib3 in /usr/local/lib/python3.11/dist-packages (from kaggle) (2.3.0)\n",
            "Requirement already satisfied: bleach in /usr/local/lib/python3.11/dist-packages (from kaggle) (6.2.0)\n",
            "Requirement already satisfied: webencodings in /usr/local/lib/python3.11/dist-packages (from bleach->kaggle) (0.5.1)\n",
            "Requirement already satisfied: text-unidecode>=1.3 in /usr/local/lib/python3.11/dist-packages (from python-slugify->kaggle) (1.3)\n",
            "Requirement already satisfied: charset-normalizer<4,>=2 in /usr/local/lib/python3.11/dist-packages (from requests->kaggle) (3.4.1)\n",
            "Requirement already satisfied: idna<4,>=2.5 in /usr/local/lib/python3.11/dist-packages (from requests->kaggle) (3.10)\n"
          ]
        }
      ]
    },
    {
      "cell_type": "code",
      "source": [
        "from google.colab import drive\n",
        "drive.mount('/content/drive',force_remount=True)"
      ],
      "metadata": {
        "colab": {
          "base_uri": "https://localhost:8080/"
        },
        "id": "FULdmH8Wao1i",
        "outputId": "3c176172-837f-428d-8972-79e2e5b37edb"
      },
      "execution_count": 4,
      "outputs": [
        {
          "output_type": "stream",
          "name": "stdout",
          "text": [
            "Mounted at /content/drive\n"
          ]
        }
      ]
    },
    {
      "cell_type": "code",
      "source": [
        "!pip install --upgrade kaggle"
      ],
      "metadata": {
        "colab": {
          "base_uri": "https://localhost:8080/"
        },
        "id": "Qbj7PsKKbM81",
        "outputId": "0b4e4615-71f0-4d65-c5b4-9b5a348b3fce"
      },
      "execution_count": 5,
      "outputs": [
        {
          "output_type": "stream",
          "name": "stdout",
          "text": [
            "Requirement already satisfied: kaggle in /usr/local/lib/python3.11/dist-packages (1.6.17)\n",
            "Collecting kaggle\n",
            "  Downloading kaggle-1.7.4.2-py3-none-any.whl.metadata (16 kB)\n",
            "Requirement already satisfied: bleach in /usr/local/lib/python3.11/dist-packages (from kaggle) (6.2.0)\n",
            "Requirement already satisfied: certifi>=14.05.14 in /usr/local/lib/python3.11/dist-packages (from kaggle) (2025.1.31)\n",
            "Requirement already satisfied: charset-normalizer in /usr/local/lib/python3.11/dist-packages (from kaggle) (3.4.1)\n",
            "Requirement already satisfied: idna in /usr/local/lib/python3.11/dist-packages (from kaggle) (3.10)\n",
            "Requirement already satisfied: protobuf in /usr/local/lib/python3.11/dist-packages (from kaggle) (4.25.6)\n",
            "Requirement already satisfied: python-dateutil>=2.5.3 in /usr/local/lib/python3.11/dist-packages (from kaggle) (2.8.2)\n",
            "Requirement already satisfied: python-slugify in /usr/local/lib/python3.11/dist-packages (from kaggle) (8.0.4)\n",
            "Requirement already satisfied: requests in /usr/local/lib/python3.11/dist-packages (from kaggle) (2.32.3)\n",
            "Requirement already satisfied: setuptools>=21.0.0 in /usr/local/lib/python3.11/dist-packages (from kaggle) (75.1.0)\n",
            "Requirement already satisfied: six>=1.10 in /usr/local/lib/python3.11/dist-packages (from kaggle) (1.17.0)\n",
            "Requirement already satisfied: text-unidecode in /usr/local/lib/python3.11/dist-packages (from kaggle) (1.3)\n",
            "Requirement already satisfied: tqdm in /usr/local/lib/python3.11/dist-packages (from kaggle) (4.67.1)\n",
            "Requirement already satisfied: urllib3>=1.15.1 in /usr/local/lib/python3.11/dist-packages (from kaggle) (2.3.0)\n",
            "Requirement already satisfied: webencodings in /usr/local/lib/python3.11/dist-packages (from kaggle) (0.5.1)\n",
            "Downloading kaggle-1.7.4.2-py3-none-any.whl (173 kB)\n",
            "\u001b[2K   \u001b[90m━━━━━━━━━━━━━━━━━━━━━━━━━━━━━━━━━━━━━━━━\u001b[0m \u001b[32m173.2/173.2 kB\u001b[0m \u001b[31m3.7 MB/s\u001b[0m eta \u001b[36m0:00:00\u001b[0m\n",
            "\u001b[?25hInstalling collected packages: kaggle\n",
            "  Attempting uninstall: kaggle\n",
            "    Found existing installation: kaggle 1.6.17\n",
            "    Uninstalling kaggle-1.6.17:\n",
            "      Successfully uninstalled kaggle-1.6.17\n",
            "Successfully installed kaggle-1.7.4.2\n"
          ]
        }
      ]
    },
    {
      "cell_type": "code",
      "source": [
        "!mkdir -p ~/.kaggle"
      ],
      "metadata": {
        "id": "KM5MKe5HbnnY"
      },
      "execution_count": 6,
      "outputs": []
    },
    {
      "cell_type": "code",
      "source": [
        "!cp \"/content/drive/My Drive/kaggle.json\" /root/.kaggle/kaggle.json"
      ],
      "metadata": {
        "id": "pTQ4gnqVb0K6"
      },
      "execution_count": 7,
      "outputs": []
    },
    {
      "cell_type": "code",
      "source": [
        "!chmod 600 /root/.kaggle/kaggle.json"
      ],
      "metadata": {
        "id": "JZAegM10dzwL"
      },
      "execution_count": 8,
      "outputs": []
    },
    {
      "cell_type": "code",
      "source": [
        "!kaggle datasets download -d uciml/autompg-dataset --force"
      ],
      "metadata": {
        "colab": {
          "base_uri": "https://localhost:8080/"
        },
        "id": "s_nSnQB-hwPE",
        "outputId": "0125ae65-4914-4016-d9ff-364fbfd9c063"
      },
      "execution_count": 9,
      "outputs": [
        {
          "output_type": "stream",
          "name": "stdout",
          "text": [
            "Dataset URL: https://www.kaggle.com/datasets/uciml/autompg-dataset\n",
            "License(s): CC0-1.0\n",
            "Downloading autompg-dataset.zip to /content\n",
            "  0% 0.00/6.31k [00:00<?, ?B/s]\n",
            "100% 6.31k/6.31k [00:00<00:00, 21.0MB/s]\n"
          ]
        }
      ]
    },
    {
      "cell_type": "code",
      "source": [
        "import os\n",
        "folder_path = \"/content/drive/My Drive/data\"\n",
        "os.makedirs(folder_path, exist_ok=True)"
      ],
      "metadata": {
        "id": "gDmSUzrsiJ9V"
      },
      "execution_count": 10,
      "outputs": []
    },
    {
      "cell_type": "code",
      "source": [
        "!unzip autompg-dataset.zip -d \"/content/drive/My Drive/data\""
      ],
      "metadata": {
        "colab": {
          "base_uri": "https://localhost:8080/"
        },
        "id": "b-u5uthfjn8T",
        "outputId": "2e36d8e0-42ac-423e-9fba-a5f04e9c336d"
      },
      "execution_count": 11,
      "outputs": [
        {
          "output_type": "stream",
          "name": "stdout",
          "text": [
            "Archive:  autompg-dataset.zip\n",
            "replace /content/drive/My Drive/data/auto-mpg.csv? [y]es, [n]o, [A]ll, [N]one, [r]ename: y\n",
            "  inflating: /content/drive/My Drive/data/auto-mpg.csv  \n"
          ]
        }
      ]
    },
    {
      "cell_type": "code",
      "source": [
        "import os\n",
        "import warnings\n",
        "warnings.filterwarnings('ignore')\n",
        "from pyspark.sql import SparkSession\n",
        "from pyspark.sql.types import StructField, StructType, StringType, IntegerType, FloatType\n",
        "from pyspark.sql.functions import split, count, when, isnan, col, regexp_replace\n",
        "from pyspark.ml.regression import LinearRegression\n",
        "from pyspark.ml.feature import OneHotEncoder, StringIndexer, VectorAssembler\n",
        "from pyspark.ml.linalg import Vectors\n",
        "\n",
        "for dirname, _, filenames in os.walk('/kaggle/input'):\n",
        "  for filename in filenames:\n",
        "    print(os.path.join(dirname, filename))"
      ],
      "metadata": {
        "id": "obx9iUR_kl9X"
      },
      "execution_count": 12,
      "outputs": []
    },
    {
      "cell_type": "code",
      "source": [
        "spark = SparkSession.builder.appName('First Session').getOrCreate()\n",
        "\n",
        "print(f\"Spark Version ({format(spark.version)})\")"
      ],
      "metadata": {
        "colab": {
          "base_uri": "https://localhost:8080/"
        },
        "id": "-AhPAmU_lB6n",
        "outputId": "23d316b7-e8c6-4e05-83ca-29c21384f1e5"
      },
      "execution_count": 13,
      "outputs": [
        {
          "output_type": "stream",
          "name": "stdout",
          "text": [
            "Spark Version (3.5.5)\n"
          ]
        }
      ]
    },
    {
      "cell_type": "code",
      "source": [
        "file_path = '/content/drive/My Drive/data/auto-mpg.csv'\n",
        "df = spark.read.csv(file_path, header=True, inferSchema=True,nanValue='?')\n",
        "df.show()"
      ],
      "metadata": {
        "colab": {
          "base_uri": "https://localhost:8080/"
        },
        "id": "hU0Pi1gSsIS4",
        "outputId": "064e3d97-c305-48f5-c23a-e5f14235f7b0"
      },
      "execution_count": 14,
      "outputs": [
        {
          "output_type": "stream",
          "name": "stdout",
          "text": [
            "+----+---------+------------+----------+------+------------+----------+------+--------------------+\n",
            "| mpg|cylinders|displacement|horsepower|weight|acceleration|model year|origin|            car name|\n",
            "+----+---------+------------+----------+------+------------+----------+------+--------------------+\n",
            "|18.0|        8|       307.0|     130.0|  3504|        12.0|        70|     1|chevrolet chevell...|\n",
            "|15.0|        8|       350.0|     165.0|  3693|        11.5|        70|     1|   buick skylark 320|\n",
            "|18.0|        8|       318.0|     150.0|  3436|        11.0|        70|     1|  plymouth satellite|\n",
            "|16.0|        8|       304.0|     150.0|  3433|        12.0|        70|     1|       amc rebel sst|\n",
            "|17.0|        8|       302.0|     140.0|  3449|        10.5|        70|     1|         ford torino|\n",
            "|15.0|        8|       429.0|     198.0|  4341|        10.0|        70|     1|    ford galaxie 500|\n",
            "|14.0|        8|       454.0|     220.0|  4354|         9.0|        70|     1|    chevrolet impala|\n",
            "|14.0|        8|       440.0|     215.0|  4312|         8.5|        70|     1|   plymouth fury iii|\n",
            "|14.0|        8|       455.0|     225.0|  4425|        10.0|        70|     1|    pontiac catalina|\n",
            "|15.0|        8|       390.0|     190.0|  3850|         8.5|        70|     1|  amc ambassador dpl|\n",
            "|15.0|        8|       383.0|     170.0|  3563|        10.0|        70|     1| dodge challenger se|\n",
            "|14.0|        8|       340.0|     160.0|  3609|         8.0|        70|     1|  plymouth 'cuda 340|\n",
            "|15.0|        8|       400.0|     150.0|  3761|         9.5|        70|     1|chevrolet monte c...|\n",
            "|14.0|        8|       455.0|     225.0|  3086|        10.0|        70|     1|buick estate wago...|\n",
            "|24.0|        4|       113.0|      95.0|  2372|        15.0|        70|     3|toyota corona mar...|\n",
            "|22.0|        6|       198.0|      95.0|  2833|        15.5|        70|     1|     plymouth duster|\n",
            "|18.0|        6|       199.0|      97.0|  2774|        15.5|        70|     1|          amc hornet|\n",
            "|21.0|        6|       200.0|      85.0|  2587|        16.0|        70|     1|       ford maverick|\n",
            "|27.0|        4|        97.0|      88.0|  2130|        14.5|        70|     3|        datsun pl510|\n",
            "|26.0|        4|        97.0|      46.0|  1835|        20.5|        70|     2|volkswagen 1131 d...|\n",
            "+----+---------+------------+----------+------+------------+----------+------+--------------------+\n",
            "only showing top 20 rows\n",
            "\n"
          ]
        }
      ]
    },
    {
      "cell_type": "code",
      "source": [
        "df.dtypes\n",
        "\n"
      ],
      "metadata": {
        "colab": {
          "base_uri": "https://localhost:8080/"
        },
        "id": "6KzvdZfhszdg",
        "outputId": "b087e6a8-23a1-421c-abf8-028aeff0547c"
      },
      "execution_count": 15,
      "outputs": [
        {
          "output_type": "execute_result",
          "data": {
            "text/plain": [
              "[('mpg', 'double'),\n",
              " ('cylinders', 'int'),\n",
              " ('displacement', 'double'),\n",
              " ('horsepower', 'double'),\n",
              " ('weight', 'int'),\n",
              " ('acceleration', 'double'),\n",
              " ('model year', 'int'),\n",
              " ('origin', 'int'),\n",
              " ('car name', 'string')]"
            ]
          },
          "metadata": {},
          "execution_count": 15
        }
      ]
    },
    {
      "cell_type": "code",
      "source": [
        "def check_missing(dataframe):\n",
        "  return dataframe.select([count(when(isnan(col(c)) | col(c).isNull(), c)).alias(c) for c in dataframe.columns]).show()\n",
        "\n",
        "#check_missing(df)"
      ],
      "metadata": {
        "id": "dMCREfL9uwRn"
      },
      "execution_count": 16,
      "outputs": []
    },
    {
      "cell_type": "code",
      "source": [
        "df.dropna().show()"
      ],
      "metadata": {
        "colab": {
          "base_uri": "https://localhost:8080/"
        },
        "id": "r-ZCYovdd7rq",
        "outputId": "2ee78360-7bcc-4363-f427-25b0bcb1d4e4"
      },
      "execution_count": 17,
      "outputs": [
        {
          "output_type": "stream",
          "name": "stdout",
          "text": [
            "+----+---------+------------+----------+------+------------+----------+------+--------------------+\n",
            "| mpg|cylinders|displacement|horsepower|weight|acceleration|model year|origin|            car name|\n",
            "+----+---------+------------+----------+------+------------+----------+------+--------------------+\n",
            "|18.0|        8|       307.0|     130.0|  3504|        12.0|        70|     1|chevrolet chevell...|\n",
            "|15.0|        8|       350.0|     165.0|  3693|        11.5|        70|     1|   buick skylark 320|\n",
            "|18.0|        8|       318.0|     150.0|  3436|        11.0|        70|     1|  plymouth satellite|\n",
            "|16.0|        8|       304.0|     150.0|  3433|        12.0|        70|     1|       amc rebel sst|\n",
            "|17.0|        8|       302.0|     140.0|  3449|        10.5|        70|     1|         ford torino|\n",
            "|15.0|        8|       429.0|     198.0|  4341|        10.0|        70|     1|    ford galaxie 500|\n",
            "|14.0|        8|       454.0|     220.0|  4354|         9.0|        70|     1|    chevrolet impala|\n",
            "|14.0|        8|       440.0|     215.0|  4312|         8.5|        70|     1|   plymouth fury iii|\n",
            "|14.0|        8|       455.0|     225.0|  4425|        10.0|        70|     1|    pontiac catalina|\n",
            "|15.0|        8|       390.0|     190.0|  3850|         8.5|        70|     1|  amc ambassador dpl|\n",
            "|15.0|        8|       383.0|     170.0|  3563|        10.0|        70|     1| dodge challenger se|\n",
            "|14.0|        8|       340.0|     160.0|  3609|         8.0|        70|     1|  plymouth 'cuda 340|\n",
            "|15.0|        8|       400.0|     150.0|  3761|         9.5|        70|     1|chevrolet monte c...|\n",
            "|14.0|        8|       455.0|     225.0|  3086|        10.0|        70|     1|buick estate wago...|\n",
            "|24.0|        4|       113.0|      95.0|  2372|        15.0|        70|     3|toyota corona mar...|\n",
            "|22.0|        6|       198.0|      95.0|  2833|        15.5|        70|     1|     plymouth duster|\n",
            "|18.0|        6|       199.0|      97.0|  2774|        15.5|        70|     1|          amc hornet|\n",
            "|21.0|        6|       200.0|      85.0|  2587|        16.0|        70|     1|       ford maverick|\n",
            "|27.0|        4|        97.0|      88.0|  2130|        14.5|        70|     3|        datsun pl510|\n",
            "|26.0|        4|        97.0|      46.0|  1835|        20.5|        70|     2|volkswagen 1131 d...|\n",
            "+----+---------+------------+----------+------+------------+----------+------+--------------------+\n",
            "only showing top 20 rows\n",
            "\n"
          ]
        }
      ]
    },
    {
      "cell_type": "code",
      "source": [
        "#col_names = ['mpg', 'cylinders', 'displacement', 'horsepower', 'weight', 'acceleration', 'model year', 'origin', 'car name']\n",
        "#for col in col_names:\n",
        "#  cols=col.split(sep=\" \")\n",
        "#  colums=''\n",
        "#  for c in cols:\n",
        "#    colums += c + \"_\"\n",
        "#  print(colums)\n",
        "#df = df.withColumnRenamed(col, colums)\n",
        "#df.show()\n",
        "df.show(10)\n",
        "#df = df.withColumnRenamed('car name', regexp_replace('car name', ' ', '_'))\n",
        "df.show()\n",
        "#cols"
      ],
      "metadata": {
        "colab": {
          "base_uri": "https://localhost:8080/"
        },
        "id": "JS3eEX_MhMc0",
        "outputId": "f42ffa29-3e5a-4df9-e107-8eaccbf1069e"
      },
      "execution_count": 18,
      "outputs": [
        {
          "output_type": "stream",
          "name": "stdout",
          "text": [
            "+----+---------+------------+----------+------+------------+----------+------+--------------------+\n",
            "| mpg|cylinders|displacement|horsepower|weight|acceleration|model year|origin|            car name|\n",
            "+----+---------+------------+----------+------+------------+----------+------+--------------------+\n",
            "|18.0|        8|       307.0|     130.0|  3504|        12.0|        70|     1|chevrolet chevell...|\n",
            "|15.0|        8|       350.0|     165.0|  3693|        11.5|        70|     1|   buick skylark 320|\n",
            "|18.0|        8|       318.0|     150.0|  3436|        11.0|        70|     1|  plymouth satellite|\n",
            "|16.0|        8|       304.0|     150.0|  3433|        12.0|        70|     1|       amc rebel sst|\n",
            "|17.0|        8|       302.0|     140.0|  3449|        10.5|        70|     1|         ford torino|\n",
            "|15.0|        8|       429.0|     198.0|  4341|        10.0|        70|     1|    ford galaxie 500|\n",
            "|14.0|        8|       454.0|     220.0|  4354|         9.0|        70|     1|    chevrolet impala|\n",
            "|14.0|        8|       440.0|     215.0|  4312|         8.5|        70|     1|   plymouth fury iii|\n",
            "|14.0|        8|       455.0|     225.0|  4425|        10.0|        70|     1|    pontiac catalina|\n",
            "|15.0|        8|       390.0|     190.0|  3850|         8.5|        70|     1|  amc ambassador dpl|\n",
            "+----+---------+------------+----------+------+------------+----------+------+--------------------+\n",
            "only showing top 10 rows\n",
            "\n",
            "+----+---------+------------+----------+------+------------+----------+------+--------------------+\n",
            "| mpg|cylinders|displacement|horsepower|weight|acceleration|model year|origin|            car name|\n",
            "+----+---------+------------+----------+------+------------+----------+------+--------------------+\n",
            "|18.0|        8|       307.0|     130.0|  3504|        12.0|        70|     1|chevrolet chevell...|\n",
            "|15.0|        8|       350.0|     165.0|  3693|        11.5|        70|     1|   buick skylark 320|\n",
            "|18.0|        8|       318.0|     150.0|  3436|        11.0|        70|     1|  plymouth satellite|\n",
            "|16.0|        8|       304.0|     150.0|  3433|        12.0|        70|     1|       amc rebel sst|\n",
            "|17.0|        8|       302.0|     140.0|  3449|        10.5|        70|     1|         ford torino|\n",
            "|15.0|        8|       429.0|     198.0|  4341|        10.0|        70|     1|    ford galaxie 500|\n",
            "|14.0|        8|       454.0|     220.0|  4354|         9.0|        70|     1|    chevrolet impala|\n",
            "|14.0|        8|       440.0|     215.0|  4312|         8.5|        70|     1|   plymouth fury iii|\n",
            "|14.0|        8|       455.0|     225.0|  4425|        10.0|        70|     1|    pontiac catalina|\n",
            "|15.0|        8|       390.0|     190.0|  3850|         8.5|        70|     1|  amc ambassador dpl|\n",
            "|15.0|        8|       383.0|     170.0|  3563|        10.0|        70|     1| dodge challenger se|\n",
            "|14.0|        8|       340.0|     160.0|  3609|         8.0|        70|     1|  plymouth 'cuda 340|\n",
            "|15.0|        8|       400.0|     150.0|  3761|         9.5|        70|     1|chevrolet monte c...|\n",
            "|14.0|        8|       455.0|     225.0|  3086|        10.0|        70|     1|buick estate wago...|\n",
            "|24.0|        4|       113.0|      95.0|  2372|        15.0|        70|     3|toyota corona mar...|\n",
            "|22.0|        6|       198.0|      95.0|  2833|        15.5|        70|     1|     plymouth duster|\n",
            "|18.0|        6|       199.0|      97.0|  2774|        15.5|        70|     1|          amc hornet|\n",
            "|21.0|        6|       200.0|      85.0|  2587|        16.0|        70|     1|       ford maverick|\n",
            "|27.0|        4|        97.0|      88.0|  2130|        14.5|        70|     3|        datsun pl510|\n",
            "|26.0|        4|        97.0|      46.0|  1835|        20.5|        70|     2|volkswagen 1131 d...|\n",
            "+----+---------+------------+----------+------+------------+----------+------+--------------------+\n",
            "only showing top 20 rows\n",
            "\n"
          ]
        }
      ]
    },
    {
      "cell_type": "code",
      "source": [
        "#regexp_replace(col(df), ' ', '_')"
      ],
      "metadata": {
        "id": "BuKn25BSnROM"
      },
      "execution_count": 19,
      "outputs": []
    },
    {
      "cell_type": "code",
      "source": [
        "df = df.withColumn('horsepower', col('horsepower').cast('int'))\n",
        "df.dtypes"
      ],
      "metadata": {
        "colab": {
          "base_uri": "https://localhost:8080/"
        },
        "id": "ZqbSBZ_avupX",
        "outputId": "9e8f5983-c1e6-4800-881f-d5b0c951501c"
      },
      "execution_count": 20,
      "outputs": [
        {
          "output_type": "execute_result",
          "data": {
            "text/plain": [
              "[('mpg', 'double'),\n",
              " ('cylinders', 'int'),\n",
              " ('displacement', 'double'),\n",
              " ('horsepower', 'int'),\n",
              " ('weight', 'int'),\n",
              " ('acceleration', 'double'),\n",
              " ('model year', 'int'),\n",
              " ('origin', 'int'),\n",
              " ('car name', 'string')]"
            ]
          },
          "metadata": {},
          "execution_count": 20
        }
      ]
    },
    {
      "cell_type": "code",
      "source": [
        "numeric_cols= [c for c,t in df.dtypes if t.startswith('string')==False]\n",
        "df[numeric_cols].summary().show()"
      ],
      "metadata": {
        "colab": {
          "base_uri": "https://localhost:8080/"
        },
        "id": "eDmmfG_Om2ze",
        "outputId": "bb912eb7-f0f0-4252-801b-8873349cdc62"
      },
      "execution_count": 21,
      "outputs": [
        {
          "output_type": "stream",
          "name": "stdout",
          "text": [
            "+-------+------------------+------------------+------------------+------------------+-----------------+------------------+------------------+------------------+\n",
            "|summary|               mpg|         cylinders|      displacement|        horsepower|           weight|      acceleration|        model year|            origin|\n",
            "+-------+------------------+------------------+------------------+------------------+-----------------+------------------+------------------+------------------+\n",
            "|  count|               398|               398|               398|               398|              398|               398|               398|               398|\n",
            "|   mean|23.514572864321615| 5.454773869346734|193.42587939698493|102.89447236180905|2970.424623115578|15.568090452261291| 76.01005025125629|1.5728643216080402|\n",
            "| stddev| 7.815984312565783|1.7010042445332123|104.26983817119587| 40.26954421185716|846.8417741973268| 2.757688929812676|3.6976266467325862|0.8020548777266148|\n",
            "|    min|               9.0|                 3|              68.0|                 0|             1613|               8.0|                70|                 1|\n",
            "|    25%|              17.5|                 4|             104.0|                75|             2223|              13.8|                73|                 1|\n",
            "|    50%|              23.0|                 4|             146.0|                92|             2800|              15.5|                76|                 1|\n",
            "|    75%|              29.0|                 8|             262.0|               125|             3609|              17.2|                79|                 2|\n",
            "|    max|              46.6|                 8|             455.0|               230|             5140|              24.8|                82|                 3|\n",
            "+-------+------------------+------------------+------------------+------------------+-----------------+------------------+------------------+------------------+\n",
            "\n"
          ]
        }
      ]
    },
    {
      "cell_type": "code",
      "source": [
        "df.printSchema()"
      ],
      "metadata": {
        "colab": {
          "base_uri": "https://localhost:8080/"
        },
        "id": "jskaRjSO0j-q",
        "outputId": "44598cba-8325-40b9-f855-761045495de7"
      },
      "execution_count": 22,
      "outputs": [
        {
          "output_type": "stream",
          "name": "stdout",
          "text": [
            "root\n",
            " |-- mpg: double (nullable = true)\n",
            " |-- cylinders: integer (nullable = true)\n",
            " |-- displacement: double (nullable = true)\n",
            " |-- horsepower: integer (nullable = true)\n",
            " |-- weight: integer (nullable = true)\n",
            " |-- acceleration: double (nullable = true)\n",
            " |-- model year: integer (nullable = true)\n",
            " |-- origin: integer (nullable = true)\n",
            " |-- car name: string (nullable = true)\n",
            "\n"
          ]
        }
      ]
    },
    {
      "cell_type": "code",
      "source": [
        "df.filter(df['acceleration']>15).show()"
      ],
      "metadata": {
        "colab": {
          "base_uri": "https://localhost:8080/"
        },
        "id": "6b9wXgxmn4ft",
        "outputId": "ea489f86-4fa0-4fcd-d2e2-39c4170ba6ed"
      },
      "execution_count": 23,
      "outputs": [
        {
          "output_type": "stream",
          "name": "stdout",
          "text": [
            "+----+---------+------------+----------+------+------------+----------+------+--------------------+\n",
            "| mpg|cylinders|displacement|horsepower|weight|acceleration|model year|origin|            car name|\n",
            "+----+---------+------------+----------+------+------------+----------+------+--------------------+\n",
            "|22.0|        6|       198.0|        95|  2833|        15.5|        70|     1|     plymouth duster|\n",
            "|18.0|        6|       199.0|        97|  2774|        15.5|        70|     1|          amc hornet|\n",
            "|21.0|        6|       200.0|        85|  2587|        16.0|        70|     1|       ford maverick|\n",
            "|26.0|        4|        97.0|        46|  1835|        20.5|        70|     2|volkswagen 1131 d...|\n",
            "|25.0|        4|       110.0|        87|  2672|        17.5|        70|     2|         peugeot 504|\n",
            "|25.0|        4|       104.0|        95|  2375|        17.5|        70|     2|            saab 99e|\n",
            "| 9.0|        8|       304.0|       193|  4732|        18.5|        70|     1|            hi 1200d|\n",
            "|28.0|        4|       140.0|        90|  2264|        15.5|        71|     1| chevrolet vega 2300|\n",
            "|25.0|        4|        98.0|         0|  2046|        19.0|        71|     1|          ford pinto|\n",
            "|16.0|        6|       225.0|       105|  3439|        15.5|        71|     1|plymouth satellit...|\n",
            "|17.0|        6|       250.0|       100|  3329|        15.5|        71|     1|chevrolet chevell...|\n",
            "|19.0|        6|       250.0|        88|  3302|        15.5|        71|     1|     ford torino 500|\n",
            "|18.0|        6|       232.0|       100|  3288|        15.5|        71|     1|         amc matador|\n",
            "|22.0|        4|       140.0|        72|  2408|        19.0|        71|     1| chevrolet vega (sw)|\n",
            "|30.0|        4|        79.0|        70|  2074|        19.5|        71|     2|         peugeot 304|\n",
            "|31.0|        4|        71.0|        65|  1773|        19.0|        71|     3| toyota corolla 1200|\n",
            "|35.0|        4|        72.0|        69|  1613|        18.0|        71|     3|         datsun 1200|\n",
            "|27.0|        4|        97.0|        60|  1834|        19.0|        71|     2|volkswagen model 111|\n",
            "|26.0|        4|        91.0|        70|  1955|        20.5|        71|     1|    plymouth cricket|\n",
            "|24.0|        4|       113.0|        95|  2278|        15.5|        72|     3|toyota corona har...|\n",
            "+----+---------+------------+----------+------+------------+----------+------+--------------------+\n",
            "only showing top 20 rows\n",
            "\n"
          ]
        }
      ]
    },
    {
      "cell_type": "code",
      "source": [
        "df.filter(df['mpg']>23).show(10)"
      ],
      "metadata": {
        "colab": {
          "base_uri": "https://localhost:8080/"
        },
        "id": "gX7AV6ZL1b2O",
        "outputId": "96f64c1c-8791-4609-ea6f-4002dd67a218"
      },
      "execution_count": 24,
      "outputs": [
        {
          "output_type": "stream",
          "name": "stdout",
          "text": [
            "+----+---------+------------+----------+------+------------+----------+------+--------------------+\n",
            "| mpg|cylinders|displacement|horsepower|weight|acceleration|model year|origin|            car name|\n",
            "+----+---------+------------+----------+------+------------+----------+------+--------------------+\n",
            "|24.0|        4|       113.0|        95|  2372|        15.0|        70|     3|toyota corona mar...|\n",
            "|27.0|        4|        97.0|        88|  2130|        14.5|        70|     3|        datsun pl510|\n",
            "|26.0|        4|        97.0|        46|  1835|        20.5|        70|     2|volkswagen 1131 d...|\n",
            "|25.0|        4|       110.0|        87|  2672|        17.5|        70|     2|         peugeot 504|\n",
            "|24.0|        4|       107.0|        90|  2430|        14.5|        70|     2|         audi 100 ls|\n",
            "|25.0|        4|       104.0|        95|  2375|        17.5|        70|     2|            saab 99e|\n",
            "|26.0|        4|       121.0|       113|  2234|        12.5|        70|     2|            bmw 2002|\n",
            "|27.0|        4|        97.0|        88|  2130|        14.5|        71|     3|        datsun pl510|\n",
            "|28.0|        4|       140.0|        90|  2264|        15.5|        71|     1| chevrolet vega 2300|\n",
            "|25.0|        4|       113.0|        95|  2228|        14.0|        71|     3|       toyota corona|\n",
            "+----+---------+------------+----------+------+------------+----------+------+--------------------+\n",
            "only showing top 10 rows\n",
            "\n"
          ]
        }
      ]
    },
    {
      "cell_type": "code",
      "source": [
        "df.filter((col('weight')>2000) & (col('horsepower')>80)).show(10)"
      ],
      "metadata": {
        "colab": {
          "base_uri": "https://localhost:8080/"
        },
        "id": "95gO7zj-16q6",
        "outputId": "6c7925cc-7771-4414-8f10-993e14bd46a0"
      },
      "execution_count": 25,
      "outputs": [
        {
          "output_type": "stream",
          "name": "stdout",
          "text": [
            "+----+---------+------------+----------+------+------------+----------+------+--------------------+\n",
            "| mpg|cylinders|displacement|horsepower|weight|acceleration|model year|origin|            car name|\n",
            "+----+---------+------------+----------+------+------------+----------+------+--------------------+\n",
            "|18.0|        8|       307.0|       130|  3504|        12.0|        70|     1|chevrolet chevell...|\n",
            "|15.0|        8|       350.0|       165|  3693|        11.5|        70|     1|   buick skylark 320|\n",
            "|18.0|        8|       318.0|       150|  3436|        11.0|        70|     1|  plymouth satellite|\n",
            "|16.0|        8|       304.0|       150|  3433|        12.0|        70|     1|       amc rebel sst|\n",
            "|17.0|        8|       302.0|       140|  3449|        10.5|        70|     1|         ford torino|\n",
            "|15.0|        8|       429.0|       198|  4341|        10.0|        70|     1|    ford galaxie 500|\n",
            "|14.0|        8|       454.0|       220|  4354|         9.0|        70|     1|    chevrolet impala|\n",
            "|14.0|        8|       440.0|       215|  4312|         8.5|        70|     1|   plymouth fury iii|\n",
            "|14.0|        8|       455.0|       225|  4425|        10.0|        70|     1|    pontiac catalina|\n",
            "|15.0|        8|       390.0|       190|  3850|         8.5|        70|     1|  amc ambassador dpl|\n",
            "+----+---------+------------+----------+------+------------+----------+------+--------------------+\n",
            "only showing top 10 rows\n",
            "\n"
          ]
        }
      ]
    },
    {
      "cell_type": "code",
      "source": [
        "df.filter((col('weight')>2000) & (col('horsepower')>80)).sort('mpg').show(10)"
      ],
      "metadata": {
        "colab": {
          "base_uri": "https://localhost:8080/"
        },
        "id": "PTM5Cg3sobl2",
        "outputId": "c67d756b-22ea-4d2a-c989-375cae694bca"
      },
      "execution_count": 26,
      "outputs": [
        {
          "output_type": "stream",
          "name": "stdout",
          "text": [
            "+----+---------+------------+----------+------+------------+----------+------+--------------------+\n",
            "| mpg|cylinders|displacement|horsepower|weight|acceleration|model year|origin|            car name|\n",
            "+----+---------+------------+----------+------+------------+----------+------+--------------------+\n",
            "| 9.0|        8|       304.0|       193|  4732|        18.5|        70|     1|            hi 1200d|\n",
            "|10.0|        8|       360.0|       215|  4615|        14.0|        70|     1|           ford f250|\n",
            "|10.0|        8|       307.0|       200|  4376|        15.0|        70|     1|           chevy c20|\n",
            "|11.0|        8|       318.0|       210|  4382|        13.5|        70|     1|          dodge d200|\n",
            "|11.0|        8|       429.0|       208|  4633|        11.0|        72|     1|     mercury marquis|\n",
            "|11.0|        8|       400.0|       150|  4997|        14.0|        73|     1|    chevrolet impala|\n",
            "|11.0|        8|       350.0|       180|  3664|        11.0|        73|     1|    oldsmobile omega|\n",
            "|12.0|        8|       383.0|       180|  4955|        11.5|        71|     1|   dodge monaco (sw)|\n",
            "|12.0|        8|       350.0|       160|  4456|        13.5|        72|     1|oldsmobile delta ...|\n",
            "|12.0|        8|       429.0|       198|  4952|        11.5|        73|     1|mercury marquis b...|\n",
            "+----+---------+------------+----------+------+------------+----------+------+--------------------+\n",
            "only showing top 10 rows\n",
            "\n"
          ]
        }
      ]
    },
    {
      "cell_type": "code",
      "source": [
        "df.filter((col('weight')>2000) & (col('horsepower')>80)).sort('mpg').show(10)"
      ],
      "metadata": {
        "colab": {
          "base_uri": "https://localhost:8080/"
        },
        "outputId": "ede7d85f-484c-450f-8357-eac5d3098f99",
        "id": "GXidMJlio5h2"
      },
      "execution_count": 27,
      "outputs": [
        {
          "output_type": "stream",
          "name": "stdout",
          "text": [
            "+----+---------+------------+----------+------+------------+----------+------+--------------------+\n",
            "| mpg|cylinders|displacement|horsepower|weight|acceleration|model year|origin|            car name|\n",
            "+----+---------+------------+----------+------+------------+----------+------+--------------------+\n",
            "| 9.0|        8|       304.0|       193|  4732|        18.5|        70|     1|            hi 1200d|\n",
            "|10.0|        8|       360.0|       215|  4615|        14.0|        70|     1|           ford f250|\n",
            "|10.0|        8|       307.0|       200|  4376|        15.0|        70|     1|           chevy c20|\n",
            "|11.0|        8|       318.0|       210|  4382|        13.5|        70|     1|          dodge d200|\n",
            "|11.0|        8|       429.0|       208|  4633|        11.0|        72|     1|     mercury marquis|\n",
            "|11.0|        8|       400.0|       150|  4997|        14.0|        73|     1|    chevrolet impala|\n",
            "|11.0|        8|       350.0|       180|  3664|        11.0|        73|     1|    oldsmobile omega|\n",
            "|12.0|        8|       383.0|       180|  4955|        11.5|        71|     1|   dodge monaco (sw)|\n",
            "|12.0|        8|       350.0|       160|  4456|        13.5|        72|     1|oldsmobile delta ...|\n",
            "|12.0|        8|       429.0|       198|  4952|        11.5|        73|     1|mercury marquis b...|\n",
            "+----+---------+------------+----------+------+------------+----------+------+--------------------+\n",
            "only showing top 10 rows\n",
            "\n"
          ]
        }
      ]
    },
    {
      "cell_type": "code",
      "source": [
        "df.filter((col('weight')>2000) & (col('horsepower')>80)).sort('mpg').show(10)"
      ],
      "metadata": {
        "colab": {
          "base_uri": "https://localhost:8080/"
        },
        "outputId": "7659e656-6649-4f91-e8e0-2537d3c8022e",
        "id": "UN9R6Cw5o8A5"
      },
      "execution_count": 28,
      "outputs": [
        {
          "output_type": "stream",
          "name": "stdout",
          "text": [
            "+----+---------+------------+----------+------+------------+----------+------+--------------------+\n",
            "| mpg|cylinders|displacement|horsepower|weight|acceleration|model year|origin|            car name|\n",
            "+----+---------+------------+----------+------+------------+----------+------+--------------------+\n",
            "| 9.0|        8|       304.0|       193|  4732|        18.5|        70|     1|            hi 1200d|\n",
            "|10.0|        8|       360.0|       215|  4615|        14.0|        70|     1|           ford f250|\n",
            "|10.0|        8|       307.0|       200|  4376|        15.0|        70|     1|           chevy c20|\n",
            "|11.0|        8|       318.0|       210|  4382|        13.5|        70|     1|          dodge d200|\n",
            "|11.0|        8|       429.0|       208|  4633|        11.0|        72|     1|     mercury marquis|\n",
            "|11.0|        8|       400.0|       150|  4997|        14.0|        73|     1|    chevrolet impala|\n",
            "|11.0|        8|       350.0|       180|  3664|        11.0|        73|     1|    oldsmobile omega|\n",
            "|12.0|        8|       383.0|       180|  4955|        11.5|        71|     1|   dodge monaco (sw)|\n",
            "|12.0|        8|       350.0|       160|  4456|        13.5|        72|     1|oldsmobile delta ...|\n",
            "|12.0|        8|       429.0|       198|  4952|        11.5|        73|     1|mercury marquis b...|\n",
            "+----+---------+------------+----------+------+------------+----------+------+--------------------+\n",
            "only showing top 10 rows\n",
            "\n"
          ]
        }
      ]
    },
    {
      "cell_type": "code",
      "source": [
        "df.filter((col('weight')>2000) & (col('horsepower')>80)).sort(col('mpg').desc()).show(10)"
      ],
      "metadata": {
        "colab": {
          "base_uri": "https://localhost:8080/"
        },
        "outputId": "c04b07b2-e3bf-4927-9d0e-6ae17d92af10",
        "id": "JTd0s0r7pDAb"
      },
      "execution_count": 29,
      "outputs": [
        {
          "output_type": "stream",
          "name": "stdout",
          "text": [
            "+----+---------+------------+----------+------+------------+----------+------+--------------------+\n",
            "| mpg|cylinders|displacement|horsepower|weight|acceleration|model year|origin|            car name|\n",
            "+----+---------+------------+----------+------+------------+----------+------+--------------------+\n",
            "|38.0|        6|       262.0|        85|  3015|        17.0|        82|     1|oldsmobile cutlas...|\n",
            "|37.0|        4|       119.0|        92|  2434|        15.0|        80|     3|datsun 510 hatchback|\n",
            "|36.0|        4|       135.0|        84|  2370|        13.0|        82|     1|   dodge charger 2.2|\n",
            "|36.0|        4|       120.0|        88|  2160|        14.5|        82|     3|    nissan stanza xe|\n",
            "|35.0|        4|       122.0|        88|  2500|        15.1|        80|     2|   triumph tr7 coupe|\n",
            "|34.0|        4|       112.0|        88|  2395|        18.0|        82|     1|chevrolet cavalie...|\n",
            "|33.5|        4|        98.0|        83|  2075|        15.9|        77|     1|      dodge colt m/m|\n",
            "|33.5|        4|       151.0|        90|  2556|        13.2|        79|     1|     pontiac phoenix|\n",
            "|32.9|        4|       119.0|       100|  2615|        14.8|        81|     3|        datsun 200sx|\n",
            "|32.7|        6|       168.0|       132|  2910|        11.4|        80|     3|       datsun 280-zx|\n",
            "+----+---------+------------+----------+------+------------+----------+------+--------------------+\n",
            "only showing top 10 rows\n",
            "\n"
          ]
        }
      ]
    },
    {
      "cell_type": "code",
      "source": [],
      "metadata": {
        "id": "v5TNmd-JpU92"
      },
      "execution_count": 29,
      "outputs": []
    },
    {
      "cell_type": "code",
      "source": [
        "df.sort('model year').show(10)"
      ],
      "metadata": {
        "colab": {
          "base_uri": "https://localhost:8080/"
        },
        "id": "D8xGVCR43Ege",
        "outputId": "8f789d3e-0ab9-4681-a90d-fe5651276283"
      },
      "execution_count": 30,
      "outputs": [
        {
          "output_type": "stream",
          "name": "stdout",
          "text": [
            "+----+---------+------------+----------+------+------------+----------+------+--------------------+\n",
            "| mpg|cylinders|displacement|horsepower|weight|acceleration|model year|origin|            car name|\n",
            "+----+---------+------------+----------+------+------------+----------+------+--------------------+\n",
            "|18.0|        8|       307.0|       130|  3504|        12.0|        70|     1|chevrolet chevell...|\n",
            "|15.0|        8|       350.0|       165|  3693|        11.5|        70|     1|   buick skylark 320|\n",
            "|18.0|        8|       318.0|       150|  3436|        11.0|        70|     1|  plymouth satellite|\n",
            "|16.0|        8|       304.0|       150|  3433|        12.0|        70|     1|       amc rebel sst|\n",
            "|17.0|        8|       302.0|       140|  3449|        10.5|        70|     1|         ford torino|\n",
            "|15.0|        8|       429.0|       198|  4341|        10.0|        70|     1|    ford galaxie 500|\n",
            "|14.0|        8|       454.0|       220|  4354|         9.0|        70|     1|    chevrolet impala|\n",
            "|14.0|        8|       440.0|       215|  4312|         8.5|        70|     1|   plymouth fury iii|\n",
            "|14.0|        8|       455.0|       225|  4425|        10.0|        70|     1|    pontiac catalina|\n",
            "|15.0|        8|       390.0|       190|  3850|         8.5|        70|     1|  amc ambassador dpl|\n",
            "+----+---------+------------+----------+------+------------+----------+------+--------------------+\n",
            "only showing top 10 rows\n",
            "\n"
          ]
        }
      ]
    },
    {
      "cell_type": "code",
      "source": [
        "df.filter(col(\"car name\").contains(\"volkswagen\")).orderBy(['model year','horsepower'],ascending=[False,False]).show()"
      ],
      "metadata": {
        "colab": {
          "base_uri": "https://localhost:8080/"
        },
        "id": "KzKwpOwf3uOL",
        "outputId": "7f0b5819-d111-4828-c184-a9b7dfc1a29d"
      },
      "execution_count": 31,
      "outputs": [
        {
          "output_type": "stream",
          "name": "stdout",
          "text": [
            "+----+---------+------------+----------+------+------------+----------+------+--------------------+\n",
            "| mpg|cylinders|displacement|horsepower|weight|acceleration|model year|origin|            car name|\n",
            "+----+---------+------------+----------+------+------------+----------+------+--------------------+\n",
            "|36.0|        4|       105.0|        74|  1980|        15.3|        82|     2| volkswagen rabbit l|\n",
            "|33.0|        4|       105.0|        74|  2190|        14.2|        81|     2|    volkswagen jetta|\n",
            "|31.5|        4|        89.0|        71|  1990|        14.9|        78|     2| volkswagen scirocco|\n",
            "|43.1|        4|        90.0|        48|  1985|        21.5|        78|     2|volkswagen rabbit...|\n",
            "|29.0|        4|        97.0|        78|  1940|        14.5|        77|     2|volkswagen rabbit...|\n",
            "|30.5|        4|        97.0|        78|  2190|        14.1|        77|     2|   volkswagen dasher|\n",
            "|29.5|        4|        97.0|        71|  1825|        12.2|        76|     2|   volkswagen rabbit|\n",
            "|25.0|        4|        90.0|        71|  2223|        16.5|        75|     2|   volkswagen dasher|\n",
            "|29.0|        4|        90.0|        70|  1937|        14.0|        75|     2|   volkswagen rabbit|\n",
            "|26.0|        4|        79.0|        67|  1963|        15.5|        74|     2|   volkswagen dasher|\n",
            "|26.0|        4|        97.0|        46|  1950|        21.0|        73|     2|volkswagen super ...|\n",
            "|22.0|        4|       121.0|        76|  2511|        18.0|        72|     2| volkswagen 411 (sw)|\n",
            "|23.0|        4|        97.0|        54|  2254|        23.5|        72|     2|   volkswagen type 3|\n",
            "|27.0|        4|        97.0|        60|  1834|        19.0|        71|     2|volkswagen model 111|\n",
            "|26.0|        4|        97.0|        46|  1835|        20.5|        70|     2|volkswagen 1131 d...|\n",
            "+----+---------+------------+----------+------+------------+----------+------+--------------------+\n",
            "\n"
          ]
        }
      ]
    },
    {
      "cell_type": "code",
      "source": [],
      "metadata": {
        "id": "HZS893FIqO1R"
      },
      "execution_count": 31,
      "outputs": []
    },
    {
      "cell_type": "code",
      "source": [
        "df =df.withColumn('brand',split(col('car name'),' ').getItem(0))\n",
        "\n",
        "auto_misspelled = {'chevroelt':'chevrolet',\n",
        "                   'chevy':'chevrolet',\n",
        "                   'vw':'volkswagan',\n",
        "                   'volkswagen':'volkswagan',\n",
        "                   'vokswagen':'volkswagan',\n",
        "                   'toyouta':'toyota',\n",
        "                   'hi':'harvester',\n",
        "                   'maxda':'mazda',\n",
        "                   'mercedes-benz':'mercedes'}\n",
        "\n",
        "for key in auto_misspelled.keys():\n",
        "  df = df.withColumn('brand', regexp_replace('brand', key, auto_misspelled[key]))\n",
        "df.show(20)"
      ],
      "metadata": {
        "colab": {
          "base_uri": "https://localhost:8080/"
        },
        "id": "-qprM-Om5euZ",
        "outputId": "fa68f110-2c38-4ad2-cae6-2cb92a8c21c2"
      },
      "execution_count": 32,
      "outputs": [
        {
          "output_type": "stream",
          "name": "stdout",
          "text": [
            "+----+---------+------------+----------+------+------------+----------+------+--------------------+----------+\n",
            "| mpg|cylinders|displacement|horsepower|weight|acceleration|model year|origin|            car name|     brand|\n",
            "+----+---------+------------+----------+------+------------+----------+------+--------------------+----------+\n",
            "|18.0|        8|       307.0|       130|  3504|        12.0|        70|     1|chevrolet chevell...| chevrolet|\n",
            "|15.0|        8|       350.0|       165|  3693|        11.5|        70|     1|   buick skylark 320|     buick|\n",
            "|18.0|        8|       318.0|       150|  3436|        11.0|        70|     1|  plymouth satellite|  plymouth|\n",
            "|16.0|        8|       304.0|       150|  3433|        12.0|        70|     1|       amc rebel sst|       amc|\n",
            "|17.0|        8|       302.0|       140|  3449|        10.5|        70|     1|         ford torino|      ford|\n",
            "|15.0|        8|       429.0|       198|  4341|        10.0|        70|     1|    ford galaxie 500|      ford|\n",
            "|14.0|        8|       454.0|       220|  4354|         9.0|        70|     1|    chevrolet impala| chevrolet|\n",
            "|14.0|        8|       440.0|       215|  4312|         8.5|        70|     1|   plymouth fury iii|  plymouth|\n",
            "|14.0|        8|       455.0|       225|  4425|        10.0|        70|     1|    pontiac catalina|   pontiac|\n",
            "|15.0|        8|       390.0|       190|  3850|         8.5|        70|     1|  amc ambassador dpl|       amc|\n",
            "|15.0|        8|       383.0|       170|  3563|        10.0|        70|     1| dodge challenger se|     dodge|\n",
            "|14.0|        8|       340.0|       160|  3609|         8.0|        70|     1|  plymouth 'cuda 340|  plymouth|\n",
            "|15.0|        8|       400.0|       150|  3761|         9.5|        70|     1|chevrolet monte c...| chevrolet|\n",
            "|14.0|        8|       455.0|       225|  3086|        10.0|        70|     1|buick estate wago...|     buick|\n",
            "|24.0|        4|       113.0|        95|  2372|        15.0|        70|     3|toyota corona mar...|    toyota|\n",
            "|22.0|        6|       198.0|        95|  2833|        15.5|        70|     1|     plymouth duster|  plymouth|\n",
            "|18.0|        6|       199.0|        97|  2774|        15.5|        70|     1|          amc hornet|       amc|\n",
            "|21.0|        6|       200.0|        85|  2587|        16.0|        70|     1|       ford maverick|      ford|\n",
            "|27.0|        4|        97.0|        88|  2130|        14.5|        70|     3|        datsun pl510|    datsun|\n",
            "|26.0|        4|        97.0|        46|  1835|        20.5|        70|     2|volkswagen 1131 d...|volkswagan|\n",
            "+----+---------+------------+----------+------+------------+----------+------+--------------------+----------+\n",
            "only showing top 20 rows\n",
            "\n"
          ]
        }
      ]
    },
    {
      "cell_type": "code",
      "source": [
        "\n",
        "df.groupBy('brand').agg({'acceleration':'mean'}).withColumnRenamed('avg(acceleration)','Avg acceleration').show(10)\n"
      ],
      "metadata": {
        "colab": {
          "base_uri": "https://localhost:8080/"
        },
        "id": "VbR4dm_em0Xu",
        "outputId": "f72b8a8c-20bf-4331-8d2b-8239df54f537"
      },
      "execution_count": 33,
      "outputs": [
        {
          "output_type": "stream",
          "name": "stdout",
          "text": [
            "+----------+------------------+\n",
            "|     brand|  Avg acceleration|\n",
            "+----------+------------------+\n",
            "|volkswagan|17.404545454545453|\n",
            "|     buick|14.700000000000003|\n",
            "|   pontiac|14.081249999999999|\n",
            "|  mercedes| 19.53333333333333|\n",
            "|    toyota| 16.03846153846154|\n",
            "|      saab|            15.175|\n",
            "|       amc|15.264285714285716|\n",
            "|   peugeot|             19.55|\n",
            "|  chrysler|13.300000000000002|\n",
            "|  plymouth|14.851612903225801|\n",
            "+----------+------------------+\n",
            "only showing top 10 rows\n",
            "\n"
          ]
        }
      ]
    },
    {
      "cell_type": "code",
      "source": [
        "df.groupBy('brand').agg({'mpg':'max'}).show(10)"
      ],
      "metadata": {
        "colab": {
          "base_uri": "https://localhost:8080/"
        },
        "id": "lN11hnyk7H8l",
        "outputId": "101ea81e-fc36-48e3-dbe9-f42ce7cff7fa"
      },
      "execution_count": 34,
      "outputs": [
        {
          "output_type": "stream",
          "name": "stdout",
          "text": [
            "+----------+--------+\n",
            "|     brand|max(mpg)|\n",
            "+----------+--------+\n",
            "|volkswagan|    44.3|\n",
            "|     buick|    30.0|\n",
            "|   pontiac|    33.5|\n",
            "|  mercedes|    30.0|\n",
            "|    toyota|    39.1|\n",
            "|      saab|    25.0|\n",
            "|       amc|    27.4|\n",
            "|   peugeot|    30.0|\n",
            "|  chrysler|    26.0|\n",
            "|  plymouth|    39.0|\n",
            "+----------+--------+\n",
            "only showing top 10 rows\n",
            "\n"
          ]
        }
      ]
    },
    {
      "cell_type": "code",
      "source": [
        "df.groupBy('brand').agg({'acceleration':'mean'}).show(10)"
      ],
      "metadata": {
        "colab": {
          "base_uri": "https://localhost:8080/"
        },
        "id": "8jtArv-n7na9",
        "outputId": "96f735e8-484a-45c4-d1f3-df9a91aa9c9d"
      },
      "execution_count": 35,
      "outputs": [
        {
          "output_type": "stream",
          "name": "stdout",
          "text": [
            "+----------+------------------+\n",
            "|     brand| avg(acceleration)|\n",
            "+----------+------------------+\n",
            "|volkswagan|17.404545454545453|\n",
            "|     buick|14.700000000000003|\n",
            "|   pontiac|14.081249999999999|\n",
            "|  mercedes| 19.53333333333333|\n",
            "|    toyota| 16.03846153846154|\n",
            "|      saab|            15.175|\n",
            "|       amc|15.264285714285716|\n",
            "|   peugeot|             19.55|\n",
            "|  chrysler|13.300000000000002|\n",
            "|  plymouth|14.851612903225801|\n",
            "+----------+------------------+\n",
            "only showing top 10 rows\n",
            "\n"
          ]
        }
      ]
    },
    {
      "cell_type": "code",
      "source": [
        "distinct_brands = df.select('brand').distinct().count()\n",
        "print(f\"Number of distinct brands: {distinct_brands}\")\n",
        "\n",
        "df.select('brand').distinct().show(100,truncate=False)"
      ],
      "metadata": {
        "colab": {
          "base_uri": "https://localhost:8080/"
        },
        "id": "khKecF3qoaxN",
        "outputId": "9e349b3c-86bf-4d6d-d08e-07b197c8d2d0"
      },
      "execution_count": 36,
      "outputs": [
        {
          "output_type": "stream",
          "name": "stdout",
          "text": [
            "Number of distinct brands: 30\n",
            "+----------+\n",
            "|brand     |\n",
            "+----------+\n",
            "|volkswagan|\n",
            "|buick     |\n",
            "|pontiac   |\n",
            "|mercedes  |\n",
            "|toyota    |\n",
            "|saab      |\n",
            "|amc       |\n",
            "|peugeot   |\n",
            "|chrysler  |\n",
            "|plymouth  |\n",
            "|audi      |\n",
            "|datsun    |\n",
            "|bmw       |\n",
            "|dodge     |\n",
            "|ford      |\n",
            "|capri     |\n",
            "|cadillac  |\n",
            "|mazda     |\n",
            "|harvester |\n",
            "|chevrolet |\n",
            "|opel      |\n",
            "|honda     |\n",
            "|fiat      |\n",
            "|oldsmobile|\n",
            "|mercury   |\n",
            "|renault   |\n",
            "|nissan    |\n",
            "|triumph   |\n",
            "|subaru    |\n",
            "|volvo     |\n",
            "+----------+\n",
            "\n"
          ]
        }
      ]
    },
    {
      "cell_type": "code",
      "source": [
        "# prompt: command to generate unique values in brand\n",
        "\n",
        "#from pyspark.sql.functions import countDistinct\n",
        "\n",
        "# Assuming 'df' is your DataFrame as defined in the previous code\n",
        "\n",
        "#distinct_brands = df.select(countDistinct(\"brand\")).collect()[0][0]\n",
        "#print(f\"Number of distinct brands: {distinct_brands}\")\n",
        "#df.select(\"brand\").distinct().show(distinct_brands)\n",
        "#df.select('brand').distinct().show()\n",
        "\n",
        "\n",
        "def one_hot_encode(df, categorical_col):\n",
        "  # Create a StringIndexer\n",
        "  indexed = StringIndexer().setInputCol(categorical_col).setOutputCol(categorical_col + \"_cat\").fit(df).transform(df)\n",
        "  # Create a OneHotEncoder\n",
        "  encoder = OneHotEncoder().setInputCol(categorical_col + \"_cat\").setOutputCol(categorical_col + \"_OneHotEncoder\").fit(indexed).transform(indexed)\n",
        "\n",
        "  ohe = encoder.drop(*[categorical_col, categorical_col + '_cat'])\n",
        "\n",
        "  return ohe\n",
        "\n",
        "df = one_hot_encode(df, 'brand')\n",
        "\n",
        "\n"
      ],
      "metadata": {
        "id": "_e05MwXkslRQ"
      },
      "execution_count": 37,
      "outputs": []
    },
    {
      "cell_type": "code",
      "source": [
        "df.show(50)"
      ],
      "metadata": {
        "colab": {
          "base_uri": "https://localhost:8080/"
        },
        "id": "-WBXQPqIx9NS",
        "outputId": "203bcbb8-317a-4253-f6aa-12e268786fac"
      },
      "execution_count": 38,
      "outputs": [
        {
          "output_type": "stream",
          "name": "stdout",
          "text": [
            "+----+---------+------------+----------+------+------------+----------+------+--------------------+-------------------+\n",
            "| mpg|cylinders|displacement|horsepower|weight|acceleration|model year|origin|            car name|brand_OneHotEncoder|\n",
            "+----+---------+------------+----------+------+------------+----------+------+--------------------+-------------------+\n",
            "|18.0|        8|       307.0|       130|  3504|        12.0|        70|     1|chevrolet chevell...|     (29,[1],[1.0])|\n",
            "|15.0|        8|       350.0|       165|  3693|        11.5|        70|     1|   buick skylark 320|     (29,[8],[1.0])|\n",
            "|18.0|        8|       318.0|       150|  3436|        11.0|        70|     1|  plymouth satellite|     (29,[2],[1.0])|\n",
            "|16.0|        8|       304.0|       150|  3433|        12.0|        70|     1|       amc rebel sst|     (29,[3],[1.0])|\n",
            "|17.0|        8|       302.0|       140|  3449|        10.5|        70|     1|         ford torino|     (29,[0],[1.0])|\n",
            "|15.0|        8|       429.0|       198|  4341|        10.0|        70|     1|    ford galaxie 500|     (29,[0],[1.0])|\n",
            "|14.0|        8|       454.0|       220|  4354|         9.0|        70|     1|    chevrolet impala|     (29,[1],[1.0])|\n",
            "|14.0|        8|       440.0|       215|  4312|         8.5|        70|     1|   plymouth fury iii|     (29,[2],[1.0])|\n",
            "|14.0|        8|       455.0|       225|  4425|        10.0|        70|     1|    pontiac catalina|     (29,[9],[1.0])|\n",
            "|15.0|        8|       390.0|       190|  3850|         8.5|        70|     1|  amc ambassador dpl|     (29,[3],[1.0])|\n",
            "|15.0|        8|       383.0|       170|  3563|        10.0|        70|     1| dodge challenger se|     (29,[4],[1.0])|\n",
            "|14.0|        8|       340.0|       160|  3609|         8.0|        70|     1|  plymouth 'cuda 340|     (29,[2],[1.0])|\n",
            "|15.0|        8|       400.0|       150|  3761|         9.5|        70|     1|chevrolet monte c...|     (29,[1],[1.0])|\n",
            "|14.0|        8|       455.0|       225|  3086|        10.0|        70|     1|buick estate wago...|     (29,[8],[1.0])|\n",
            "|24.0|        4|       113.0|        95|  2372|        15.0|        70|     3|toyota corona mar...|     (29,[5],[1.0])|\n",
            "|22.0|        6|       198.0|        95|  2833|        15.5|        70|     1|     plymouth duster|     (29,[2],[1.0])|\n",
            "|18.0|        6|       199.0|        97|  2774|        15.5|        70|     1|          amc hornet|     (29,[3],[1.0])|\n",
            "|21.0|        6|       200.0|        85|  2587|        16.0|        70|     1|       ford maverick|     (29,[0],[1.0])|\n",
            "|27.0|        4|        97.0|        88|  2130|        14.5|        70|     3|        datsun pl510|     (29,[6],[1.0])|\n",
            "|26.0|        4|        97.0|        46|  1835|        20.5|        70|     2|volkswagen 1131 d...|     (29,[7],[1.0])|\n",
            "|25.0|        4|       110.0|        87|  2672|        17.5|        70|     2|         peugeot 504|    (29,[15],[1.0])|\n",
            "|24.0|        4|       107.0|        90|  2430|        14.5|        70|     2|         audi 100 ls|    (29,[16],[1.0])|\n",
            "|25.0|        4|       104.0|        95|  2375|        17.5|        70|     2|            saab 99e|    (29,[21],[1.0])|\n",
            "|26.0|        4|       121.0|       113|  2234|        12.5|        70|     2|            bmw 2002|    (29,[24],[1.0])|\n",
            "|21.0|        6|       199.0|        90|  2648|        15.0|        70|     1|         amc gremlin|     (29,[3],[1.0])|\n",
            "|10.0|        8|       360.0|       215|  4615|        14.0|        70|     1|           ford f250|     (29,[0],[1.0])|\n",
            "|10.0|        8|       307.0|       200|  4376|        15.0|        70|     1|           chevy c20|     (29,[1],[1.0])|\n",
            "|11.0|        8|       318.0|       210|  4382|        13.5|        70|     1|          dodge d200|     (29,[4],[1.0])|\n",
            "| 9.0|        8|       304.0|       193|  4732|        18.5|        70|     1|            hi 1200d|    (29,[27],[1.0])|\n",
            "|27.0|        4|        97.0|        88|  2130|        14.5|        71|     3|        datsun pl510|     (29,[6],[1.0])|\n",
            "|28.0|        4|       140.0|        90|  2264|        15.5|        71|     1| chevrolet vega 2300|     (29,[1],[1.0])|\n",
            "|25.0|        4|       113.0|        95|  2228|        14.0|        71|     3|       toyota corona|     (29,[5],[1.0])|\n",
            "|25.0|        4|        98.0|         0|  2046|        19.0|        71|     1|          ford pinto|     (29,[0],[1.0])|\n",
            "|19.0|        6|       232.0|       100|  2634|        13.0|        71|     1|         amc gremlin|     (29,[3],[1.0])|\n",
            "|16.0|        6|       225.0|       105|  3439|        15.5|        71|     1|plymouth satellit...|     (29,[2],[1.0])|\n",
            "|17.0|        6|       250.0|       100|  3329|        15.5|        71|     1|chevrolet chevell...|     (29,[1],[1.0])|\n",
            "|19.0|        6|       250.0|        88|  3302|        15.5|        71|     1|     ford torino 500|     (29,[0],[1.0])|\n",
            "|18.0|        6|       232.0|       100|  3288|        15.5|        71|     1|         amc matador|     (29,[3],[1.0])|\n",
            "|14.0|        8|       350.0|       165|  4209|        12.0|        71|     1|    chevrolet impala|     (29,[1],[1.0])|\n",
            "|14.0|        8|       400.0|       175|  4464|        11.5|        71|     1|pontiac catalina ...|     (29,[9],[1.0])|\n",
            "|14.0|        8|       351.0|       153|  4154|        13.5|        71|     1|    ford galaxie 500|     (29,[0],[1.0])|\n",
            "|14.0|        8|       318.0|       150|  4096|        13.0|        71|     1|   plymouth fury iii|     (29,[2],[1.0])|\n",
            "|12.0|        8|       383.0|       180|  4955|        11.5|        71|     1|   dodge monaco (sw)|     (29,[4],[1.0])|\n",
            "|13.0|        8|       400.0|       170|  4746|        12.0|        71|     1|ford country squi...|     (29,[0],[1.0])|\n",
            "|13.0|        8|       400.0|       175|  5140|        12.0|        71|     1| pontiac safari (sw)|     (29,[9],[1.0])|\n",
            "|18.0|        6|       258.0|       110|  2962|        13.5|        71|     1|amc hornet sporta...|     (29,[3],[1.0])|\n",
            "|22.0|        4|       140.0|        72|  2408|        19.0|        71|     1| chevrolet vega (sw)|     (29,[1],[1.0])|\n",
            "|19.0|        6|       250.0|       100|  3282|        15.0|        71|     1|    pontiac firebird|     (29,[9],[1.0])|\n",
            "|18.0|        6|       250.0|        88|  3139|        14.5|        71|     1|        ford mustang|     (29,[0],[1.0])|\n",
            "|23.0|        4|       122.0|        86|  2220|        14.0|        71|     1|  mercury capri 2000|    (29,[12],[1.0])|\n",
            "+----+---------+------------+----------+------+------------+----------+------+--------------------+-------------------+\n",
            "only showing top 50 rows\n",
            "\n"
          ]
        }
      ]
    },
    {
      "cell_type": "code",
      "source": [
        "\n",
        "\n"
      ],
      "metadata": {
        "id": "JU7AwOb-6YSw"
      },
      "execution_count": 38,
      "outputs": []
    },
    {
      "cell_type": "code",
      "source": [
        "df=df.drop('car name')\n",
        "df.show(10)"
      ],
      "metadata": {
        "colab": {
          "base_uri": "https://localhost:8080/"
        },
        "id": "1bMt-iwMqMHc",
        "outputId": "b20b65d6-97dd-4835-d22c-feba1aac214f"
      },
      "execution_count": 39,
      "outputs": [
        {
          "output_type": "stream",
          "name": "stdout",
          "text": [
            "+----+---------+------------+----------+------+------------+----------+------+-------------------+\n",
            "| mpg|cylinders|displacement|horsepower|weight|acceleration|model year|origin|brand_OneHotEncoder|\n",
            "+----+---------+------------+----------+------+------------+----------+------+-------------------+\n",
            "|18.0|        8|       307.0|       130|  3504|        12.0|        70|     1|     (29,[1],[1.0])|\n",
            "|15.0|        8|       350.0|       165|  3693|        11.5|        70|     1|     (29,[8],[1.0])|\n",
            "|18.0|        8|       318.0|       150|  3436|        11.0|        70|     1|     (29,[2],[1.0])|\n",
            "|16.0|        8|       304.0|       150|  3433|        12.0|        70|     1|     (29,[3],[1.0])|\n",
            "|17.0|        8|       302.0|       140|  3449|        10.5|        70|     1|     (29,[0],[1.0])|\n",
            "|15.0|        8|       429.0|       198|  4341|        10.0|        70|     1|     (29,[0],[1.0])|\n",
            "|14.0|        8|       454.0|       220|  4354|         9.0|        70|     1|     (29,[1],[1.0])|\n",
            "|14.0|        8|       440.0|       215|  4312|         8.5|        70|     1|     (29,[2],[1.0])|\n",
            "|14.0|        8|       455.0|       225|  4425|        10.0|        70|     1|     (29,[9],[1.0])|\n",
            "|15.0|        8|       390.0|       190|  3850|         8.5|        70|     1|     (29,[3],[1.0])|\n",
            "+----+---------+------------+----------+------+------------+----------+------+-------------------+\n",
            "only showing top 10 rows\n",
            "\n"
          ]
        }
      ]
    },
    {
      "cell_type": "code",
      "source": [
        "from pyspark.ml.feature import VectorAssembler\n",
        "\n",
        "def vector_assembler(df,indep_cols):\n",
        "  assembler = VectorAssembler(inputCols=indep_cols,\n",
        "                              outputCol = 'features',\n",
        "                              handleInvalid=\"skip\")\n",
        "  output = assembler.transform(df).drop(*indep_cols)\n",
        "  return output\n",
        "\n",
        "df = vector_assembler(df,indep_cols=df.drop('mpg').columns)\n"
      ],
      "metadata": {
        "id": "AIH3GmdB-lIc"
      },
      "execution_count": 40,
      "outputs": []
    },
    {
      "cell_type": "code",
      "source": [
        "df.show(100,truncate=False)"
      ],
      "metadata": {
        "colab": {
          "base_uri": "https://localhost:8080/"
        },
        "id": "0jOFTH-6DskQ",
        "outputId": "7794830f-1395-4d60-c939-5df4bb042875"
      },
      "execution_count": 41,
      "outputs": [
        {
          "output_type": "stream",
          "name": "stdout",
          "text": [
            "+----+------------------------------------------------------------------+\n",
            "|mpg |features                                                          |\n",
            "+----+------------------------------------------------------------------+\n",
            "|18.0|(36,[0,1,2,3,4,5,6,8],[8.0,307.0,130.0,3504.0,12.0,70.0,1.0,1.0]) |\n",
            "|15.0|(36,[0,1,2,3,4,5,6,15],[8.0,350.0,165.0,3693.0,11.5,70.0,1.0,1.0])|\n",
            "|18.0|(36,[0,1,2,3,4,5,6,9],[8.0,318.0,150.0,3436.0,11.0,70.0,1.0,1.0]) |\n",
            "|16.0|(36,[0,1,2,3,4,5,6,10],[8.0,304.0,150.0,3433.0,12.0,70.0,1.0,1.0])|\n",
            "|17.0|(36,[0,1,2,3,4,5,6,7],[8.0,302.0,140.0,3449.0,10.5,70.0,1.0,1.0]) |\n",
            "|15.0|(36,[0,1,2,3,4,5,6,7],[8.0,429.0,198.0,4341.0,10.0,70.0,1.0,1.0]) |\n",
            "|14.0|(36,[0,1,2,3,4,5,6,8],[8.0,454.0,220.0,4354.0,9.0,70.0,1.0,1.0])  |\n",
            "|14.0|(36,[0,1,2,3,4,5,6,9],[8.0,440.0,215.0,4312.0,8.5,70.0,1.0,1.0])  |\n",
            "|14.0|(36,[0,1,2,3,4,5,6,16],[8.0,455.0,225.0,4425.0,10.0,70.0,1.0,1.0])|\n",
            "|15.0|(36,[0,1,2,3,4,5,6,10],[8.0,390.0,190.0,3850.0,8.5,70.0,1.0,1.0]) |\n",
            "|15.0|(36,[0,1,2,3,4,5,6,11],[8.0,383.0,170.0,3563.0,10.0,70.0,1.0,1.0])|\n",
            "|14.0|(36,[0,1,2,3,4,5,6,9],[8.0,340.0,160.0,3609.0,8.0,70.0,1.0,1.0])  |\n",
            "|15.0|(36,[0,1,2,3,4,5,6,8],[8.0,400.0,150.0,3761.0,9.5,70.0,1.0,1.0])  |\n",
            "|14.0|(36,[0,1,2,3,4,5,6,15],[8.0,455.0,225.0,3086.0,10.0,70.0,1.0,1.0])|\n",
            "|24.0|(36,[0,1,2,3,4,5,6,12],[4.0,113.0,95.0,2372.0,15.0,70.0,3.0,1.0]) |\n",
            "|22.0|(36,[0,1,2,3,4,5,6,9],[6.0,198.0,95.0,2833.0,15.5,70.0,1.0,1.0])  |\n",
            "|18.0|(36,[0,1,2,3,4,5,6,10],[6.0,199.0,97.0,2774.0,15.5,70.0,1.0,1.0]) |\n",
            "|21.0|(36,[0,1,2,3,4,5,6,7],[6.0,200.0,85.0,2587.0,16.0,70.0,1.0,1.0])  |\n",
            "|27.0|(36,[0,1,2,3,4,5,6,13],[4.0,97.0,88.0,2130.0,14.5,70.0,3.0,1.0])  |\n",
            "|26.0|(36,[0,1,2,3,4,5,6,14],[4.0,97.0,46.0,1835.0,20.5,70.0,2.0,1.0])  |\n",
            "|25.0|(36,[0,1,2,3,4,5,6,22],[4.0,110.0,87.0,2672.0,17.5,70.0,2.0,1.0]) |\n",
            "|24.0|(36,[0,1,2,3,4,5,6,23],[4.0,107.0,90.0,2430.0,14.5,70.0,2.0,1.0]) |\n",
            "|25.0|(36,[0,1,2,3,4,5,6,28],[4.0,104.0,95.0,2375.0,17.5,70.0,2.0,1.0]) |\n",
            "|26.0|(36,[0,1,2,3,4,5,6,31],[4.0,121.0,113.0,2234.0,12.5,70.0,2.0,1.0])|\n",
            "|21.0|(36,[0,1,2,3,4,5,6,10],[6.0,199.0,90.0,2648.0,15.0,70.0,1.0,1.0]) |\n",
            "|10.0|(36,[0,1,2,3,4,5,6,7],[8.0,360.0,215.0,4615.0,14.0,70.0,1.0,1.0]) |\n",
            "|10.0|(36,[0,1,2,3,4,5,6,8],[8.0,307.0,200.0,4376.0,15.0,70.0,1.0,1.0]) |\n",
            "|11.0|(36,[0,1,2,3,4,5,6,11],[8.0,318.0,210.0,4382.0,13.5,70.0,1.0,1.0])|\n",
            "|9.0 |(36,[0,1,2,3,4,5,6,34],[8.0,304.0,193.0,4732.0,18.5,70.0,1.0,1.0])|\n",
            "|27.0|(36,[0,1,2,3,4,5,6,13],[4.0,97.0,88.0,2130.0,14.5,71.0,3.0,1.0])  |\n",
            "|28.0|(36,[0,1,2,3,4,5,6,8],[4.0,140.0,90.0,2264.0,15.5,71.0,1.0,1.0])  |\n",
            "|25.0|(36,[0,1,2,3,4,5,6,12],[4.0,113.0,95.0,2228.0,14.0,71.0,3.0,1.0]) |\n",
            "|25.0|(36,[0,1,3,4,5,6,7],[4.0,98.0,2046.0,19.0,71.0,1.0,1.0])          |\n",
            "|19.0|(36,[0,1,2,3,4,5,6,10],[6.0,232.0,100.0,2634.0,13.0,71.0,1.0,1.0])|\n",
            "|16.0|(36,[0,1,2,3,4,5,6,9],[6.0,225.0,105.0,3439.0,15.5,71.0,1.0,1.0]) |\n",
            "|17.0|(36,[0,1,2,3,4,5,6,8],[6.0,250.0,100.0,3329.0,15.5,71.0,1.0,1.0]) |\n",
            "|19.0|(36,[0,1,2,3,4,5,6,7],[6.0,250.0,88.0,3302.0,15.5,71.0,1.0,1.0])  |\n",
            "|18.0|(36,[0,1,2,3,4,5,6,10],[6.0,232.0,100.0,3288.0,15.5,71.0,1.0,1.0])|\n",
            "|14.0|(36,[0,1,2,3,4,5,6,8],[8.0,350.0,165.0,4209.0,12.0,71.0,1.0,1.0]) |\n",
            "|14.0|(36,[0,1,2,3,4,5,6,16],[8.0,400.0,175.0,4464.0,11.5,71.0,1.0,1.0])|\n",
            "|14.0|(36,[0,1,2,3,4,5,6,7],[8.0,351.0,153.0,4154.0,13.5,71.0,1.0,1.0]) |\n",
            "|14.0|(36,[0,1,2,3,4,5,6,9],[8.0,318.0,150.0,4096.0,13.0,71.0,1.0,1.0]) |\n",
            "|12.0|(36,[0,1,2,3,4,5,6,11],[8.0,383.0,180.0,4955.0,11.5,71.0,1.0,1.0])|\n",
            "|13.0|(36,[0,1,2,3,4,5,6,7],[8.0,400.0,170.0,4746.0,12.0,71.0,1.0,1.0]) |\n",
            "|13.0|(36,[0,1,2,3,4,5,6,16],[8.0,400.0,175.0,5140.0,12.0,71.0,1.0,1.0])|\n",
            "|18.0|(36,[0,1,2,3,4,5,6,10],[6.0,258.0,110.0,2962.0,13.5,71.0,1.0,1.0])|\n",
            "|22.0|(36,[0,1,2,3,4,5,6,8],[4.0,140.0,72.0,2408.0,19.0,71.0,1.0,1.0])  |\n",
            "|19.0|(36,[0,1,2,3,4,5,6,16],[6.0,250.0,100.0,3282.0,15.0,71.0,1.0,1.0])|\n",
            "|18.0|(36,[0,1,2,3,4,5,6,7],[6.0,250.0,88.0,3139.0,14.5,71.0,1.0,1.0])  |\n",
            "|23.0|(36,[0,1,2,3,4,5,6,19],[4.0,122.0,86.0,2220.0,14.0,71.0,1.0,1.0]) |\n",
            "|28.0|(36,[0,1,2,3,4,5,6,27],[4.0,116.0,90.0,2123.0,14.0,71.0,2.0,1.0]) |\n",
            "|30.0|(36,[0,1,2,3,4,5,6,22],[4.0,79.0,70.0,2074.0,19.5,71.0,2.0,1.0])  |\n",
            "|30.0|(36,[0,1,2,3,4,5,6,21],[4.0,88.0,76.0,2065.0,14.5,71.0,2.0,1.0])  |\n",
            "|31.0|(36,[0,1,2,3,4,5,6,12],[4.0,71.0,65.0,1773.0,19.0,71.0,3.0,1.0])  |\n",
            "|35.0|(36,[0,1,2,3,4,5,6,13],[4.0,72.0,69.0,1613.0,18.0,71.0,3.0,1.0])  |\n",
            "|27.0|(36,[0,1,2,3,4,5,6,14],[4.0,97.0,60.0,1834.0,19.0,71.0,2.0,1.0])  |\n",
            "|26.0|(36,[0,1,2,3,4,5,6,9],[4.0,91.0,70.0,1955.0,20.5,71.0,1.0,1.0])   |\n",
            "|24.0|(36,[0,1,2,3,4,5,6,12],[4.0,113.0,95.0,2278.0,15.5,72.0,3.0,1.0]) |\n",
            "|25.0|(36,[0,1,2,3,4,5,6,11],[4.0,97.5,80.0,2126.0,17.0,72.0,1.0,1.0])  |\n",
            "|23.0|(36,[0,1,2,3,4,5,6,14],[4.0,97.0,54.0,2254.0,23.5,72.0,2.0,1.0])  |\n",
            "|20.0|(36,[0,1,2,3,4,5,6,8],[4.0,140.0,90.0,2408.0,19.5,72.0,1.0,1.0])  |\n",
            "|21.0|(36,[0,1,2,3,4,5,6,7],[4.0,122.0,86.0,2226.0,16.5,72.0,1.0,1.0])  |\n",
            "|13.0|(36,[0,1,2,3,4,5,6,8],[8.0,350.0,165.0,4274.0,12.0,72.0,1.0,1.0]) |\n",
            "|14.0|(36,[0,1,2,3,4,5,6,16],[8.0,400.0,175.0,4385.0,12.0,72.0,1.0,1.0])|\n",
            "|15.0|(36,[0,1,2,3,4,5,6,9],[8.0,318.0,150.0,4135.0,13.5,72.0,1.0,1.0]) |\n",
            "|14.0|(36,[0,1,2,3,4,5,6,7],[8.0,351.0,153.0,4129.0,13.0,72.0,1.0,1.0]) |\n",
            "|17.0|(36,[0,1,2,3,4,5,6,10],[8.0,304.0,150.0,3672.0,11.5,72.0,1.0,1.0])|\n",
            "|11.0|(36,[0,1,2,3,4,5,6,19],[8.0,429.0,208.0,4633.0,11.0,72.0,1.0,1.0])|\n",
            "|13.0|(36,[0,1,2,3,4,5,6,15],[8.0,350.0,155.0,4502.0,13.5,72.0,1.0,1.0])|\n",
            "|12.0|(36,[0,1,2,3,4,5,6,20],[8.0,350.0,160.0,4456.0,13.5,72.0,1.0,1.0])|\n",
            "|13.0|(36,[0,1,2,3,4,5,6,24],[8.0,400.0,190.0,4422.0,12.5,72.0,1.0,1.0])|\n",
            "|19.0|(36,[0,1,2,3,4,5,6,18],[3.0,70.0,97.0,2330.0,13.5,72.0,3.0,1.0])  |\n",
            "|15.0|(36,[0,1,2,3,4,5,6,10],[8.0,304.0,150.0,3892.0,12.5,72.0,1.0,1.0])|\n",
            "|13.0|(36,[0,1,2,3,4,5,6,8],[8.0,307.0,130.0,4098.0,14.0,72.0,1.0,1.0]) |\n",
            "|13.0|(36,[0,1,2,3,4,5,6,7],[8.0,302.0,140.0,4294.0,16.0,72.0,1.0,1.0]) |\n",
            "|14.0|(36,[0,1,2,3,4,5,6,9],[8.0,318.0,150.0,4077.0,14.0,72.0,1.0,1.0]) |\n",
            "|18.0|(36,[0,1,2,3,4,5,6,25],[4.0,121.0,112.0,2933.0,14.5,72.0,2.0,1.0])|\n",
            "|22.0|(36,[0,1,2,3,4,5,6,14],[4.0,121.0,76.0,2511.0,18.0,72.0,2.0,1.0]) |\n",
            "|21.0|(36,[0,1,2,3,4,5,6,22],[4.0,120.0,87.0,2979.0,19.5,72.0,2.0,1.0]) |\n",
            "|26.0|(36,[0,1,2,3,4,5,6,26],[4.0,96.0,69.0,2189.0,18.0,72.0,2.0,1.0])  |\n",
            "|22.0|(36,[0,1,2,3,4,5,6,7],[4.0,122.0,86.0,2395.0,16.0,72.0,1.0,1.0])  |\n",
            "|28.0|(36,[0,1,2,3,4,5,6,13],[4.0,97.0,92.0,2288.0,17.0,72.0,3.0,1.0])  |\n",
            "|23.0|(36,[0,1,2,3,4,5,6,12],[4.0,120.0,97.0,2506.0,14.5,72.0,3.0,1.0]) |\n",
            "|28.0|(36,[0,1,2,3,4,5,6,11],[4.0,98.0,80.0,2164.0,15.0,72.0,1.0,1.0])  |\n",
            "|27.0|(36,[0,1,2,3,4,5,6,12],[4.0,97.0,88.0,2100.0,16.5,72.0,3.0,1.0])  |\n",
            "|13.0|(36,[0,1,2,3,4,5,6,15],[8.0,350.0,175.0,4100.0,13.0,73.0,1.0,1.0])|\n",
            "|14.0|(36,[0,1,2,3,4,5,6,10],[8.0,304.0,150.0,3672.0,11.5,73.0,1.0,1.0])|\n",
            "|13.0|(36,[0,1,2,3,4,5,6,8],[8.0,350.0,145.0,3988.0,13.0,73.0,1.0,1.0]) |\n",
            "|14.0|(36,[0,1,2,3,4,5,6,7],[8.0,302.0,137.0,4042.0,14.5,73.0,1.0,1.0]) |\n",
            "|15.0|(36,[0,1,2,3,4,5,6,11],[8.0,318.0,150.0,3777.0,12.5,73.0,1.0,1.0])|\n",
            "|12.0|(36,[0,1,2,3,4,5,6,19],[8.0,429.0,198.0,4952.0,11.5,73.0,1.0,1.0])|\n",
            "|13.0|(36,[0,1,2,3,4,5,6,8],[8.0,400.0,150.0,4464.0,12.0,73.0,1.0,1.0]) |\n",
            "|13.0|(36,[0,1,2,3,4,5,6,7],[8.0,351.0,158.0,4363.0,13.0,73.0,1.0,1.0]) |\n",
            "|14.0|(36,[0,1,2,3,4,5,6,9],[8.0,318.0,150.0,4237.0,14.5,73.0,1.0,1.0]) |\n",
            "|13.0|(36,[0,1,2,3,4,5,6,24],[8.0,440.0,215.0,4735.0,11.0,73.0,1.0,1.0])|\n",
            "|12.0|(36,[0,1,2,3,4,5,6,15],[8.0,455.0,225.0,4951.0,11.0,73.0,1.0,1.0])|\n",
            "|13.0|(36,[0,1,2,3,4,5,6,10],[8.0,360.0,175.0,3821.0,11.0,73.0,1.0,1.0])|\n",
            "|18.0|(36,[0,1,2,3,4,5,6,9],[6.0,225.0,105.0,3121.0,16.5,73.0,1.0,1.0]) |\n",
            "|16.0|(36,[0,1,2,3,4,5,6,8],[6.0,250.0,100.0,3278.0,18.0,73.0,1.0,1.0]) |\n",
            "|18.0|(36,[0,1,2,3,4,5,6,10],[6.0,232.0,100.0,2945.0,16.0,73.0,1.0,1.0])|\n",
            "+----+------------------------------------------------------------------+\n",
            "only showing top 100 rows\n",
            "\n"
          ]
        }
      ]
    },
    {
      "cell_type": "code",
      "source": [
        "train_data,test_data = df.randomSplit([0.8,0.2],seed=123)\n",
        "\n",
        "print(f\"Train data shape: {train_data.count()}, {len(train_data.columns)}\")\n",
        "print(f\"Test data shape: {test_data.count()}, {len(test_data.columns)}\")"
      ],
      "metadata": {
        "colab": {
          "base_uri": "https://localhost:8080/"
        },
        "id": "dv3BqW4WklLH",
        "outputId": "74833eae-ab5f-48fb-a8cc-46739db9a142"
      },
      "execution_count": 42,
      "outputs": [
        {
          "output_type": "stream",
          "name": "stdout",
          "text": [
            "Train data shape: 318, 2\n",
            "Test data shape: 80, 2\n"
          ]
        }
      ]
    },
    {
      "cell_type": "code",
      "source": [
        "lr = LinearRegression(featuresCol='features',labelCol='mpg',regParam=0.3,standardization=False)\n",
        "lr_model = lr.fit(train_data)"
      ],
      "metadata": {
        "id": "MxQjWRMym3tS"
      },
      "execution_count": 43,
      "outputs": []
    },
    {
      "cell_type": "code",
      "source": [
        "def eval_model(model,test_data):\n",
        "  print(model.__class__.__name__.center(70,'='))\n",
        "  model_result = model.evaluate(test_data)\n",
        "  print(f\"RMSE: {model_result.rootMeanSquaredError}\")\n",
        "  print(f\"R2: {model_result.r2}\")\n",
        "  print(f\"MAE: {model_result.meanAbsoluteError}\")\n",
        "  print(f\"MSE: {model_result.meanSquaredError}\")\n",
        "  print(f\"Explained Variance: {model_result.explainedVariance}\")\n",
        "  print(70*'=')\n",
        "\n",
        "eval_model(lr_model,test_data)\n"
      ],
      "metadata": {
        "colab": {
          "base_uri": "https://localhost:8080/"
        },
        "id": "430KK-bOqkR0",
        "outputId": "07a4051e-ff6c-41c1-aa33-65041e3b6b52"
      },
      "execution_count": 44,
      "outputs": [
        {
          "output_type": "stream",
          "name": "stdout",
          "text": [
            "========================LinearRegressionModel=========================\n",
            "RMSE: 3.412223445197354\n",
            "R2: 0.7983309966898102\n",
            "MAE: 2.461164491835024\n",
            "MSE: 11.643268839954501\n",
            "Explained Variance: 43.63256309984281\n",
            "======================================================================\n"
          ]
        }
      ]
    },
    {
      "cell_type": "code",
      "source": [
        "from pyspark import SparkContext\n",
        "sc = SparkContext.getOrCreate()\n",
        "print(sc)"
      ],
      "metadata": {
        "colab": {
          "base_uri": "https://localhost:8080/"
        },
        "id": "cIOp99ZJxGWJ",
        "outputId": "9bd74583-284e-489c-be8a-32b60aa45ece"
      },
      "execution_count": 45,
      "outputs": [
        {
          "output_type": "stream",
          "name": "stdout",
          "text": [
            "<SparkContext master=local[*] appName=First Session>\n"
          ]
        }
      ]
    },
    {
      "cell_type": "markdown",
      "source": [
        "##RDDs"
      ],
      "metadata": {
        "id": "xylP9oBc40wc"
      }
    },
    {
      "cell_type": "code",
      "source": [
        "rdd = sc.emptyRDD()\n",
        "rdd.isEmpty()\n",
        "#print(rdd)"
      ],
      "metadata": {
        "id": "bG1epyvQ430_",
        "colab": {
          "base_uri": "https://localhost:8080/"
        },
        "outputId": "f18c4eaf-9769-4706-a853-20821642e093"
      },
      "execution_count": 46,
      "outputs": [
        {
          "output_type": "execute_result",
          "data": {
            "text/plain": [
              "True"
            ]
          },
          "metadata": {},
          "execution_count": 46
        }
      ]
    },
    {
      "cell_type": "code",
      "source": [
        "a = sc.parallelize([])\n",
        "a.isEmpty()"
      ],
      "metadata": {
        "id": "9s08syAfa6eT",
        "colab": {
          "base_uri": "https://localhost:8080/"
        },
        "outputId": "1a8a289c-f6a5-4f81-e7d9-5f9313effb31"
      },
      "execution_count": 47,
      "outputs": [
        {
          "output_type": "execute_result",
          "data": {
            "text/plain": [
              "True"
            ]
          },
          "metadata": {},
          "execution_count": 47
        }
      ]
    },
    {
      "cell_type": "code",
      "source": [
        "mixRDD = sc.parallelize([True,[11,22,33,44,55],(10,20,30,40,50)],3)\n",
        "mixRDD.collect()"
      ],
      "metadata": {
        "id": "fzTOfEOBa6pD",
        "colab": {
          "base_uri": "https://localhost:8080/"
        },
        "outputId": "9fd66297-e8ad-4f7d-cb43-26034b359fbb"
      },
      "execution_count": 48,
      "outputs": [
        {
          "output_type": "execute_result",
          "data": {
            "text/plain": [
              "[True, [11, 22, 33, 44, 55], (10, 20, 30, 40, 50)]"
            ]
          },
          "metadata": {},
          "execution_count": 48
        }
      ]
    },
    {
      "cell_type": "code",
      "source": [
        "mixRDD.getNumPartitions()"
      ],
      "metadata": {
        "id": "eF4SBFz4a6tg",
        "colab": {
          "base_uri": "https://localhost:8080/"
        },
        "outputId": "d232f791-0023-4ae6-8feb-12c01d17e201"
      },
      "execution_count": 49,
      "outputs": [
        {
          "output_type": "execute_result",
          "data": {
            "text/plain": [
              "3"
            ]
          },
          "metadata": {},
          "execution_count": 49
        }
      ]
    },
    {
      "cell_type": "code",
      "source": [
        "mixRDD.glom().collect()"
      ],
      "metadata": {
        "id": "tTNBf1Gaa6xC",
        "colab": {
          "base_uri": "https://localhost:8080/"
        },
        "outputId": "ca93a40c-5a19-4c14-e6f4-5024e70d1f34"
      },
      "execution_count": 50,
      "outputs": [
        {
          "output_type": "execute_result",
          "data": {
            "text/plain": [
              "[[True], [[11, 22, 33, 44, 55]], [(10, 20, 30, 40, 50)]]"
            ]
          },
          "metadata": {},
          "execution_count": 50
        }
      ]
    },
    {
      "cell_type": "code",
      "source": [
        "mixRDD.setName('MyRDD')"
      ],
      "metadata": {
        "colab": {
          "base_uri": "https://localhost:8080/"
        },
        "id": "JkhApDQsljVF",
        "outputId": "94993568-a049-4a05-feb7-9300f32de283"
      },
      "execution_count": 51,
      "outputs": [
        {
          "output_type": "execute_result",
          "data": {
            "text/plain": [
              "MyRDD ParallelCollectionRDD[189] at readRDDFromFile at PythonRDD.scala:289"
            ]
          },
          "metadata": {},
          "execution_count": 51
        }
      ]
    },
    {
      "cell_type": "code",
      "source": [
        "import random\n",
        "random.randint(1, 1000)"
      ],
      "metadata": {
        "colab": {
          "base_uri": "https://localhost:8080/"
        },
        "id": "x6kVtkFTrvLj",
        "outputId": "17fe07d1-923a-44e5-d271-bdeb7a333ff6"
      },
      "execution_count": 52,
      "outputs": [
        {
          "output_type": "execute_result",
          "data": {
            "text/plain": [
              "524"
            ]
          },
          "metadata": {},
          "execution_count": 52
        }
      ]
    },
    {
      "cell_type": "code",
      "source": [
        "#a = sc.parallelize([random.randint(1, 6) for _ in range(20)],4)\n",
        "a = sc.parallelize(range(1,1000),4)\n",
        "print(a.getNumPartitions())\n",
        "print(\"\\n\")\n",
        "print(a.glom().take(4))\n",
        "print(\"\\n\")\n",
        "print(a.glom().min()) # to get min partitions data means first one partition(0)\n",
        "print(\"\\n\")\n",
        "print(a.glom().max()) # to get max partitions data means last one partition(3)"
      ],
      "metadata": {
        "id": "GPilDI_ja60i",
        "colab": {
          "base_uri": "https://localhost:8080/"
        },
        "outputId": "483cc532-db71-4eca-871b-9ddd61d8f92d"
      },
      "execution_count": 53,
      "outputs": [
        {
          "output_type": "stream",
          "name": "stdout",
          "text": [
            "4\n",
            "\n",
            "\n",
            "[[1, 2, 3, 4, 5, 6, 7, 8, 9, 10, 11, 12, 13, 14, 15, 16, 17, 18, 19, 20, 21, 22, 23, 24, 25, 26, 27, 28, 29, 30, 31, 32, 33, 34, 35, 36, 37, 38, 39, 40, 41, 42, 43, 44, 45, 46, 47, 48, 49, 50, 51, 52, 53, 54, 55, 56, 57, 58, 59, 60, 61, 62, 63, 64, 65, 66, 67, 68, 69, 70, 71, 72, 73, 74, 75, 76, 77, 78, 79, 80, 81, 82, 83, 84, 85, 86, 87, 88, 89, 90, 91, 92, 93, 94, 95, 96, 97, 98, 99, 100, 101, 102, 103, 104, 105, 106, 107, 108, 109, 110, 111, 112, 113, 114, 115, 116, 117, 118, 119, 120, 121, 122, 123, 124, 125, 126, 127, 128, 129, 130, 131, 132, 133, 134, 135, 136, 137, 138, 139, 140, 141, 142, 143, 144, 145, 146, 147, 148, 149, 150, 151, 152, 153, 154, 155, 156, 157, 158, 159, 160, 161, 162, 163, 164, 165, 166, 167, 168, 169, 170, 171, 172, 173, 174, 175, 176, 177, 178, 179, 180, 181, 182, 183, 184, 185, 186, 187, 188, 189, 190, 191, 192, 193, 194, 195, 196, 197, 198, 199, 200, 201, 202, 203, 204, 205, 206, 207, 208, 209, 210, 211, 212, 213, 214, 215, 216, 217, 218, 219, 220, 221, 222, 223, 224, 225, 226, 227, 228, 229, 230, 231, 232, 233, 234, 235, 236, 237, 238, 239, 240, 241, 242, 243, 244, 245, 246, 247, 248, 249], [250, 251, 252, 253, 254, 255, 256, 257, 258, 259, 260, 261, 262, 263, 264, 265, 266, 267, 268, 269, 270, 271, 272, 273, 274, 275, 276, 277, 278, 279, 280, 281, 282, 283, 284, 285, 286, 287, 288, 289, 290, 291, 292, 293, 294, 295, 296, 297, 298, 299, 300, 301, 302, 303, 304, 305, 306, 307, 308, 309, 310, 311, 312, 313, 314, 315, 316, 317, 318, 319, 320, 321, 322, 323, 324, 325, 326, 327, 328, 329, 330, 331, 332, 333, 334, 335, 336, 337, 338, 339, 340, 341, 342, 343, 344, 345, 346, 347, 348, 349, 350, 351, 352, 353, 354, 355, 356, 357, 358, 359, 360, 361, 362, 363, 364, 365, 366, 367, 368, 369, 370, 371, 372, 373, 374, 375, 376, 377, 378, 379, 380, 381, 382, 383, 384, 385, 386, 387, 388, 389, 390, 391, 392, 393, 394, 395, 396, 397, 398, 399, 400, 401, 402, 403, 404, 405, 406, 407, 408, 409, 410, 411, 412, 413, 414, 415, 416, 417, 418, 419, 420, 421, 422, 423, 424, 425, 426, 427, 428, 429, 430, 431, 432, 433, 434, 435, 436, 437, 438, 439, 440, 441, 442, 443, 444, 445, 446, 447, 448, 449, 450, 451, 452, 453, 454, 455, 456, 457, 458, 459, 460, 461, 462, 463, 464, 465, 466, 467, 468, 469, 470, 471, 472, 473, 474, 475, 476, 477, 478, 479, 480, 481, 482, 483, 484, 485, 486, 487, 488, 489, 490, 491, 492, 493, 494, 495, 496, 497, 498, 499], [500, 501, 502, 503, 504, 505, 506, 507, 508, 509, 510, 511, 512, 513, 514, 515, 516, 517, 518, 519, 520, 521, 522, 523, 524, 525, 526, 527, 528, 529, 530, 531, 532, 533, 534, 535, 536, 537, 538, 539, 540, 541, 542, 543, 544, 545, 546, 547, 548, 549, 550, 551, 552, 553, 554, 555, 556, 557, 558, 559, 560, 561, 562, 563, 564, 565, 566, 567, 568, 569, 570, 571, 572, 573, 574, 575, 576, 577, 578, 579, 580, 581, 582, 583, 584, 585, 586, 587, 588, 589, 590, 591, 592, 593, 594, 595, 596, 597, 598, 599, 600, 601, 602, 603, 604, 605, 606, 607, 608, 609, 610, 611, 612, 613, 614, 615, 616, 617, 618, 619, 620, 621, 622, 623, 624, 625, 626, 627, 628, 629, 630, 631, 632, 633, 634, 635, 636, 637, 638, 639, 640, 641, 642, 643, 644, 645, 646, 647, 648, 649, 650, 651, 652, 653, 654, 655, 656, 657, 658, 659, 660, 661, 662, 663, 664, 665, 666, 667, 668, 669, 670, 671, 672, 673, 674, 675, 676, 677, 678, 679, 680, 681, 682, 683, 684, 685, 686, 687, 688, 689, 690, 691, 692, 693, 694, 695, 696, 697, 698, 699, 700, 701, 702, 703, 704, 705, 706, 707, 708, 709, 710, 711, 712, 713, 714, 715, 716, 717, 718, 719, 720, 721, 722, 723, 724, 725, 726, 727, 728, 729, 730, 731, 732, 733, 734, 735, 736, 737, 738, 739, 740, 741, 742, 743, 744, 745, 746, 747, 748, 749], [750, 751, 752, 753, 754, 755, 756, 757, 758, 759, 760, 761, 762, 763, 764, 765, 766, 767, 768, 769, 770, 771, 772, 773, 774, 775, 776, 777, 778, 779, 780, 781, 782, 783, 784, 785, 786, 787, 788, 789, 790, 791, 792, 793, 794, 795, 796, 797, 798, 799, 800, 801, 802, 803, 804, 805, 806, 807, 808, 809, 810, 811, 812, 813, 814, 815, 816, 817, 818, 819, 820, 821, 822, 823, 824, 825, 826, 827, 828, 829, 830, 831, 832, 833, 834, 835, 836, 837, 838, 839, 840, 841, 842, 843, 844, 845, 846, 847, 848, 849, 850, 851, 852, 853, 854, 855, 856, 857, 858, 859, 860, 861, 862, 863, 864, 865, 866, 867, 868, 869, 870, 871, 872, 873, 874, 875, 876, 877, 878, 879, 880, 881, 882, 883, 884, 885, 886, 887, 888, 889, 890, 891, 892, 893, 894, 895, 896, 897, 898, 899, 900, 901, 902, 903, 904, 905, 906, 907, 908, 909, 910, 911, 912, 913, 914, 915, 916, 917, 918, 919, 920, 921, 922, 923, 924, 925, 926, 927, 928, 929, 930, 931, 932, 933, 934, 935, 936, 937, 938, 939, 940, 941, 942, 943, 944, 945, 946, 947, 948, 949, 950, 951, 952, 953, 954, 955, 956, 957, 958, 959, 960, 961, 962, 963, 964, 965, 966, 967, 968, 969, 970, 971, 972, 973, 974, 975, 976, 977, 978, 979, 980, 981, 982, 983, 984, 985, 986, 987, 988, 989, 990, 991, 992, 993, 994, 995, 996, 997, 998, 999]]\n",
            "\n",
            "\n",
            "[1, 2, 3, 4, 5, 6, 7, 8, 9, 10, 11, 12, 13, 14, 15, 16, 17, 18, 19, 20, 21, 22, 23, 24, 25, 26, 27, 28, 29, 30, 31, 32, 33, 34, 35, 36, 37, 38, 39, 40, 41, 42, 43, 44, 45, 46, 47, 48, 49, 50, 51, 52, 53, 54, 55, 56, 57, 58, 59, 60, 61, 62, 63, 64, 65, 66, 67, 68, 69, 70, 71, 72, 73, 74, 75, 76, 77, 78, 79, 80, 81, 82, 83, 84, 85, 86, 87, 88, 89, 90, 91, 92, 93, 94, 95, 96, 97, 98, 99, 100, 101, 102, 103, 104, 105, 106, 107, 108, 109, 110, 111, 112, 113, 114, 115, 116, 117, 118, 119, 120, 121, 122, 123, 124, 125, 126, 127, 128, 129, 130, 131, 132, 133, 134, 135, 136, 137, 138, 139, 140, 141, 142, 143, 144, 145, 146, 147, 148, 149, 150, 151, 152, 153, 154, 155, 156, 157, 158, 159, 160, 161, 162, 163, 164, 165, 166, 167, 168, 169, 170, 171, 172, 173, 174, 175, 176, 177, 178, 179, 180, 181, 182, 183, 184, 185, 186, 187, 188, 189, 190, 191, 192, 193, 194, 195, 196, 197, 198, 199, 200, 201, 202, 203, 204, 205, 206, 207, 208, 209, 210, 211, 212, 213, 214, 215, 216, 217, 218, 219, 220, 221, 222, 223, 224, 225, 226, 227, 228, 229, 230, 231, 232, 233, 234, 235, 236, 237, 238, 239, 240, 241, 242, 243, 244, 245, 246, 247, 248, 249]\n",
            "\n",
            "\n",
            "[750, 751, 752, 753, 754, 755, 756, 757, 758, 759, 760, 761, 762, 763, 764, 765, 766, 767, 768, 769, 770, 771, 772, 773, 774, 775, 776, 777, 778, 779, 780, 781, 782, 783, 784, 785, 786, 787, 788, 789, 790, 791, 792, 793, 794, 795, 796, 797, 798, 799, 800, 801, 802, 803, 804, 805, 806, 807, 808, 809, 810, 811, 812, 813, 814, 815, 816, 817, 818, 819, 820, 821, 822, 823, 824, 825, 826, 827, 828, 829, 830, 831, 832, 833, 834, 835, 836, 837, 838, 839, 840, 841, 842, 843, 844, 845, 846, 847, 848, 849, 850, 851, 852, 853, 854, 855, 856, 857, 858, 859, 860, 861, 862, 863, 864, 865, 866, 867, 868, 869, 870, 871, 872, 873, 874, 875, 876, 877, 878, 879, 880, 881, 882, 883, 884, 885, 886, 887, 888, 889, 890, 891, 892, 893, 894, 895, 896, 897, 898, 899, 900, 901, 902, 903, 904, 905, 906, 907, 908, 909, 910, 911, 912, 913, 914, 915, 916, 917, 918, 919, 920, 921, 922, 923, 924, 925, 926, 927, 928, 929, 930, 931, 932, 933, 934, 935, 936, 937, 938, 939, 940, 941, 942, 943, 944, 945, 946, 947, 948, 949, 950, 951, 952, 953, 954, 955, 956, 957, 958, 959, 960, 961, 962, 963, 964, 965, 966, 967, 968, 969, 970, 971, 972, 973, 974, 975, 976, 977, 978, 979, 980, 981, 982, 983, 984, 985, 986, 987, 988, 989, 990, 991, 992, 993, 994, 995, 996, 997, 998, 999]\n"
          ]
        }
      ]
    },
    {
      "cell_type": "code",
      "source": [
        "b = sc.parallelize([12,21,23,43,1,22,11,45,56])\n",
        "print(b.takeOrdered(4))\n",
        "print(b.takeOrdered(4,key = lambda x:-x))"
      ],
      "metadata": {
        "colab": {
          "base_uri": "https://localhost:8080/"
        },
        "id": "CEU3rhiLlsaK",
        "outputId": "e69a8a2e-4e99-4be1-e2a2-f451b6e1300a"
      },
      "execution_count": 54,
      "outputs": [
        {
          "output_type": "stream",
          "name": "stdout",
          "text": [
            "[1, 11, 12, 21]\n",
            "[56, 45, 43, 23]\n"
          ]
        }
      ]
    },
    {
      "cell_type": "code",
      "source": [
        "a.glom().map(lambda x:max(x)).collect()"
      ],
      "metadata": {
        "colab": {
          "base_uri": "https://localhost:8080/"
        },
        "id": "MCK6n0BltvQl",
        "outputId": "4dbcdf37-9b6f-401d-e49b-3777ceca3f46"
      },
      "execution_count": 55,
      "outputs": [
        {
          "output_type": "execute_result",
          "data": {
            "text/plain": [
              "[249, 499, 749, 999]"
            ]
          },
          "metadata": {},
          "execution_count": 55
        }
      ]
    },
    {
      "cell_type": "code",
      "source": [
        "for i in range(a.getNumPartitions()):\n",
        "  print(f\"Max of partition({i}) : {max(a.glom().collect()[i])}\")\n",
        "  print(f\"Min of partition({i}) : {min(a.glom().collect()[i])}\")"
      ],
      "metadata": {
        "colab": {
          "base_uri": "https://localhost:8080/"
        },
        "id": "9u7ts381nwQ6",
        "outputId": "09f523e9-3e9d-4449-c2eb-c85d2f6bd0e2"
      },
      "execution_count": 56,
      "outputs": [
        {
          "output_type": "stream",
          "name": "stdout",
          "text": [
            "Max of partition(0) : 249\n",
            "Min of partition(0) : 1\n",
            "Max of partition(1) : 499\n",
            "Min of partition(1) : 250\n",
            "Max of partition(2) : 749\n",
            "Min of partition(2) : 500\n",
            "Max of partition(3) : 999\n",
            "Min of partition(3) : 750\n"
          ]
        }
      ]
    },
    {
      "cell_type": "markdown",
      "source": [
        "##Repartitioning and Coalesce"
      ],
      "metadata": {
        "id": "WvI_tm9xs0bF"
      }
    },
    {
      "cell_type": "code",
      "source": [
        "d= b.repartition(7)\n",
        "d.getNumPartitions()"
      ],
      "metadata": {
        "colab": {
          "base_uri": "https://localhost:8080/"
        },
        "id": "yOLs2o4VsmBj",
        "outputId": "fc1c4a46-1175-4e7f-eed7-271bbdc7aa5b"
      },
      "execution_count": 57,
      "outputs": [
        {
          "output_type": "execute_result",
          "data": {
            "text/plain": [
              "7"
            ]
          },
          "metadata": {},
          "execution_count": 57
        }
      ]
    },
    {
      "cell_type": "code",
      "source": [
        "e = d.repartition(4)\n",
        "e.getNumPartitions()"
      ],
      "metadata": {
        "colab": {
          "base_uri": "https://localhost:8080/"
        },
        "id": "AUXpCakgsthb",
        "outputId": "d49c7514-f56c-4158-ec9c-34ad524cc805"
      },
      "execution_count": 58,
      "outputs": [
        {
          "output_type": "execute_result",
          "data": {
            "text/plain": [
              "4"
            ]
          },
          "metadata": {},
          "execution_count": 58
        }
      ]
    },
    {
      "cell_type": "code",
      "source": [
        "c=b\n",
        "e = d.coalesce(2)\n",
        "e.getNumPartitions()"
      ],
      "metadata": {
        "colab": {
          "base_uri": "https://localhost:8080/"
        },
        "id": "MSpBM_f6szYG",
        "outputId": "13432304-e69b-4295-8e16-1f2eae606752"
      },
      "execution_count": 59,
      "outputs": [
        {
          "output_type": "execute_result",
          "data": {
            "text/plain": [
              "2"
            ]
          },
          "metadata": {},
          "execution_count": 59
        }
      ]
    },
    {
      "cell_type": "code",
      "source": [
        "file_path='/content/UberDatasetCleaned.csv'\n",
        "df = spark.read.csv(file_path, header=True, inferSchema=True,nanValue='?')"
      ],
      "metadata": {
        "id": "DD4JFh2vwKao"
      },
      "execution_count": 88,
      "outputs": []
    },
    {
      "cell_type": "code",
      "source": [
        "df.show()"
      ],
      "metadata": {
        "colab": {
          "base_uri": "https://localhost:8080/"
        },
        "id": "TPqeGCnDwKnb",
        "outputId": "9bacadf6-aa7f-45dc-9d05-6cd6f057f6bc"
      },
      "execution_count": 62,
      "outputs": [
        {
          "output_type": "stream",
          "name": "stdout",
          "text": [
            "+----------+----------+------------+----------+--------+----------+-----+----+--------+-----------------+---------------+----------+---------------+--------+----------------+---------+---------+\n",
            "|start_date|start_hour|start_minute|  end_date|end_hour|end_minute|month|year|CATEGORY|            START|           STOP|     MILES|        PURPOSE|duration|           speed|      day| day_time|\n",
            "+----------+----------+------------+----------+--------+----------+-----+----+--------+-----------------+---------------+----------+---------------+--------+----------------+---------+---------+\n",
            "|2016-01-01|        21|          11|2016-01-01|      21|        17|  Jan|2016|Business|      Fort Pierce|    Fort Pierce|  8.207634| Meal/Entertain|       6|        82.07634|   Friday|  Evening|\n",
            "|2016-01-02|         1|          25|2016-01-02|       1|        37|  Jan|2016|Business|      Fort Pierce|    Fort Pierce|    8.0467| Meal/Entertain|      12|         40.2335| Saturday|    Night|\n",
            "|2016-01-02|        20|          25|2016-01-02|      20|        38|  Jan|2016|Business|      Fort Pierce|    Fort Pierce|  7.724832|Errand/Supplies|      13|35.6530707692308| Saturday|  Evening|\n",
            "|2016-01-05|        17|          31|2016-01-05|      17|        45|  Jan|2016|Business|      Fort Pierce|    Fort Pierce|  7.563898|        Meeting|      14|32.4167057142857|  Tuesday|Afternoon|\n",
            "|2016-01-06|        14|          42|2016-01-06|      15|        49|  Jan|2016|Business|      Fort Pierce|West Palm Beach|102.514958| Customer Visit|      67|        91.80444|Wednesday|Afternoon|\n",
            "|2016-01-06|        17|          15|2016-01-06|      17|        19|  Jan|2016|Business|  West Palm Beach|West Palm Beach|  6.920162| Meal/Entertain|       4|       103.80243|Wednesday|Afternoon|\n",
            "|2016-01-06|        17|          30|2016-01-06|      17|        35|  Jan|2016|Business|  West Palm Beach|     Palm Beach| 11.426314|        Meeting|       5|      137.115768|Wednesday|Afternoon|\n",
            "|2016-01-07|        13|          27|2016-01-07|      13|        33|  Jan|2016|Business|             Cary|           Cary|  1.287472|        Meeting|       6|        12.87472| Thursday|Afternoon|\n",
            "|2016-01-10|         8|           5|2016-01-10|       8|        25|  Jan|2016|Business|             Cary|    Morrisville| 13.357522|        Meeting|      20|       40.072566|   Sunday|  Morning|\n",
            "|2016-01-10|        12|          17|2016-01-10|      12|        44|  Jan|2016|Business|          Jamaica|       New York|  26.55411| Customer Visit|      27|59.0091333333333|   Sunday|  Morning|\n",
            "|2016-01-10|        15|           8|2016-01-10|      15|        51|  Jan|2016|Business|         New York|         Queens| 17.380872|        Meeting|      43|24.2523795348837|   Sunday|Afternoon|\n",
            "|2016-01-10|        18|          18|2016-01-10|      18|        53|  Jan|2016|Business|         Elmhurst|       New York|  12.07005|        Meeting|      35|20.6915142857143|   Sunday|Afternoon|\n",
            "|2016-01-10|        19|          12|2016-01-10|      19|        32|  Jan|2016|Business|          Midtown|    East Harlem|  9.977908|        Meeting|      20|       29.933724|   Sunday|  Evening|\n",
            "|2016-01-11|         8|          55|2016-01-11|       9|        21|  Jan|2016|Business|      East Harlem|          NoMad| 10.299776| Temporary Site|      26|23.7687138461538|   Monday|  Morning|\n",
            "|2016-01-11|        11|          56|2016-01-11|      12|         3|  Jan|2016|Business|Flatiron District|        Midtown|  2.574944|Errand/Supplies|       7|22.0709485714286|   Monday|  Morning|\n",
            "|2016-01-11|        13|          32|2016-01-11|      13|        46|  Jan|2016|Business|          Midtown|   Midtown East|  2.735878| Meal/Entertain|      14|11.7251914285714|   Monday|Afternoon|\n",
            "|2016-01-11|        14|          30|2016-01-11|      14|        43|  Jan|2016|Business|     Midtown East|        Midtown|  3.057746| Meal/Entertain|      13|14.1126738461538|   Monday|Afternoon|\n",
            "|2016-01-12|        12|          33|2016-01-12|      12|        49|  Jan|2016|Business|          Midtown|  Hudson Square|  3.057746| Meal/Entertain|      16|      11.4665475|  Tuesday|  Morning|\n",
            "|2016-01-12|        12|          53|2016-01-12|      13|         9|  Jan|2016|Business|    Hudson Square|Lower Manhattan|   6.43736| Meal/Entertain|      16|         24.1401|  Tuesday|  Morning|\n",
            "|2016-01-12|        14|          42|2016-01-12|      14|        56|  Jan|2016|Business|  Lower Manhattan|  Hudson Square|  2.896812|Errand/Supplies|      14|12.4149085714286|  Tuesday|Afternoon|\n",
            "+----------+----------+------------+----------+--------+----------+-----+----+--------+-----------------+---------------+----------+---------------+--------+----------------+---------+---------+\n",
            "only showing top 20 rows\n",
            "\n"
          ]
        }
      ]
    },
    {
      "cell_type": "code",
      "source": [
        "def check_missing(dataframe):\n",
        "  \"\"\"\n",
        "  Checks for missing values in each column of a DataFrame and displays the count.\n",
        "\n",
        "  Args:\n",
        "    dataframe: The input DataFrame.\n",
        "  \"\"\"\n",
        "  # Iterate through columns and handle different data types\n",
        "  for c in dataframe.columns:\n",
        "    if dataframe.schema[c].dataType in [IntegerType(), FloatType()]:\n",
        "      # Use isnan and isNull for numeric types\n",
        "      missing_count = dataframe.select(count(when(isnan(col(c)) | col(c).isNull(), c))).first()[0]\n",
        "      print(f\"Missing values in column '{c}': {missing_count}\")\n",
        "    else:\n",
        "      # Use isNull for non-numeric types\n",
        "      missing_count = dataframe.select(count(when(col(c).isNull(), c))).first()[0]\n",
        "      print(f\"Missing values in column '{c}': {missing_count}\")\n",
        "\n",
        "check_missing(df)"
      ],
      "metadata": {
        "colab": {
          "base_uri": "https://localhost:8080/"
        },
        "id": "GUnYqXTzwKrH",
        "outputId": "b1457c2a-22b3-4247-faeb-46d84eaaa216"
      },
      "execution_count": 63,
      "outputs": [
        {
          "output_type": "stream",
          "name": "stdout",
          "text": [
            "Missing values in column 'start_date': 0\n",
            "Missing values in column 'start_hour': 0\n",
            "Missing values in column 'start_minute': 0\n",
            "Missing values in column 'end_date': 0\n",
            "Missing values in column 'end_hour': 0\n",
            "Missing values in column 'end_minute': 0\n",
            "Missing values in column 'month': 0\n",
            "Missing values in column 'year': 0\n",
            "Missing values in column 'CATEGORY': 0\n",
            "Missing values in column 'START': 0\n",
            "Missing values in column 'STOP': 0\n",
            "Missing values in column 'MILES': 0\n",
            "Missing values in column 'PURPOSE': 0\n",
            "Missing values in column 'duration': 0\n",
            "Missing values in column 'speed': 0\n",
            "Missing values in column 'day': 0\n",
            "Missing values in column 'day_time': 0\n"
          ]
        }
      ]
    },
    {
      "cell_type": "markdown",
      "source": [
        "Q1. Identify most frequent travel routes\\\n",
        "Q2. Analyze peak travel hours\\\n",
        "Q3. find the longest business trips\\\n",
        "Q4. Find the avg speed bassed on daytime\\\n",
        "Q5. Identify most common travel apttern by day of te week\\\n",
        "Q6. analyze travel pattern by day of the week\\\n",
        "Q7. Find the best customer(who travel  more frequently than others)\\\n",
        "Q8. identify each customer most frequent start location\\\n",
        "Q9. Identify shortest business route\\\n",
        "Q10."
      ],
      "metadata": {
        "id": "8__QPVe6xZOj"
      }
    },
    {
      "cell_type": "code",
      "source": [],
      "metadata": {
        "id": "8Rp9ZGfrHfzT"
      },
      "execution_count": null,
      "outputs": []
    },
    {
      "cell_type": "markdown",
      "source": [
        "##Q1 Identify most frequent travel routes"
      ],
      "metadata": {
        "id": "BJ-4Gjdhrhxe"
      }
    },
    {
      "cell_type": "code",
      "source": [
        "from pyspark.sql.functions import concat, lit\n",
        "\n",
        "df = df.withColumn('route', concat(df['START'], lit('-'), df['STOP']))"
      ],
      "metadata": {
        "id": "AdoNAnMMHeWd"
      },
      "execution_count": 89,
      "outputs": []
    },
    {
      "cell_type": "code",
      "source": [
        "#df = df.withColumn('route', pyspark.sql.functions.concat(df['START'],df['STOP']))\n",
        "df.show()"
      ],
      "metadata": {
        "colab": {
          "base_uri": "https://localhost:8080/"
        },
        "id": "Y30IyCjGwKuq",
        "outputId": "bc125c73-9ab1-4938-e281-704d77c518ac"
      },
      "execution_count": 65,
      "outputs": [
        {
          "output_type": "stream",
          "name": "stdout",
          "text": [
            "+----------+----------+------------+----------+--------+----------+-----+----+--------+-----------------+---------------+----------+---------------+--------+----------------+---------+---------+--------------------+\n",
            "|start_date|start_hour|start_minute|  end_date|end_hour|end_minute|month|year|CATEGORY|            START|           STOP|     MILES|        PURPOSE|duration|           speed|      day| day_time|               route|\n",
            "+----------+----------+------------+----------+--------+----------+-----+----+--------+-----------------+---------------+----------+---------------+--------+----------------+---------+---------+--------------------+\n",
            "|2016-01-01|        21|          11|2016-01-01|      21|        17|  Jan|2016|Business|      Fort Pierce|    Fort Pierce|  8.207634| Meal/Entertain|       6|        82.07634|   Friday|  Evening|Fort Pierce-Fort ...|\n",
            "|2016-01-02|         1|          25|2016-01-02|       1|        37|  Jan|2016|Business|      Fort Pierce|    Fort Pierce|    8.0467| Meal/Entertain|      12|         40.2335| Saturday|    Night|Fort Pierce-Fort ...|\n",
            "|2016-01-02|        20|          25|2016-01-02|      20|        38|  Jan|2016|Business|      Fort Pierce|    Fort Pierce|  7.724832|Errand/Supplies|      13|35.6530707692308| Saturday|  Evening|Fort Pierce-Fort ...|\n",
            "|2016-01-05|        17|          31|2016-01-05|      17|        45|  Jan|2016|Business|      Fort Pierce|    Fort Pierce|  7.563898|        Meeting|      14|32.4167057142857|  Tuesday|Afternoon|Fort Pierce-Fort ...|\n",
            "|2016-01-06|        14|          42|2016-01-06|      15|        49|  Jan|2016|Business|      Fort Pierce|West Palm Beach|102.514958| Customer Visit|      67|        91.80444|Wednesday|Afternoon|Fort Pierce-West ...|\n",
            "|2016-01-06|        17|          15|2016-01-06|      17|        19|  Jan|2016|Business|  West Palm Beach|West Palm Beach|  6.920162| Meal/Entertain|       4|       103.80243|Wednesday|Afternoon|West Palm Beach-W...|\n",
            "|2016-01-06|        17|          30|2016-01-06|      17|        35|  Jan|2016|Business|  West Palm Beach|     Palm Beach| 11.426314|        Meeting|       5|      137.115768|Wednesday|Afternoon|West Palm Beach-P...|\n",
            "|2016-01-07|        13|          27|2016-01-07|      13|        33|  Jan|2016|Business|             Cary|           Cary|  1.287472|        Meeting|       6|        12.87472| Thursday|Afternoon|           Cary-Cary|\n",
            "|2016-01-10|         8|           5|2016-01-10|       8|        25|  Jan|2016|Business|             Cary|    Morrisville| 13.357522|        Meeting|      20|       40.072566|   Sunday|  Morning|    Cary-Morrisville|\n",
            "|2016-01-10|        12|          17|2016-01-10|      12|        44|  Jan|2016|Business|          Jamaica|       New York|  26.55411| Customer Visit|      27|59.0091333333333|   Sunday|  Morning|    Jamaica-New York|\n",
            "|2016-01-10|        15|           8|2016-01-10|      15|        51|  Jan|2016|Business|         New York|         Queens| 17.380872|        Meeting|      43|24.2523795348837|   Sunday|Afternoon|     New York-Queens|\n",
            "|2016-01-10|        18|          18|2016-01-10|      18|        53|  Jan|2016|Business|         Elmhurst|       New York|  12.07005|        Meeting|      35|20.6915142857143|   Sunday|Afternoon|   Elmhurst-New York|\n",
            "|2016-01-10|        19|          12|2016-01-10|      19|        32|  Jan|2016|Business|          Midtown|    East Harlem|  9.977908|        Meeting|      20|       29.933724|   Sunday|  Evening| Midtown-East Harlem|\n",
            "|2016-01-11|         8|          55|2016-01-11|       9|        21|  Jan|2016|Business|      East Harlem|          NoMad| 10.299776| Temporary Site|      26|23.7687138461538|   Monday|  Morning|   East Harlem-NoMad|\n",
            "|2016-01-11|        11|          56|2016-01-11|      12|         3|  Jan|2016|Business|Flatiron District|        Midtown|  2.574944|Errand/Supplies|       7|22.0709485714286|   Monday|  Morning|Flatiron District...|\n",
            "|2016-01-11|        13|          32|2016-01-11|      13|        46|  Jan|2016|Business|          Midtown|   Midtown East|  2.735878| Meal/Entertain|      14|11.7251914285714|   Monday|Afternoon|Midtown-Midtown East|\n",
            "|2016-01-11|        14|          30|2016-01-11|      14|        43|  Jan|2016|Business|     Midtown East|        Midtown|  3.057746| Meal/Entertain|      13|14.1126738461538|   Monday|Afternoon|Midtown East-Midtown|\n",
            "|2016-01-12|        12|          33|2016-01-12|      12|        49|  Jan|2016|Business|          Midtown|  Hudson Square|  3.057746| Meal/Entertain|      16|      11.4665475|  Tuesday|  Morning|Midtown-Hudson Sq...|\n",
            "|2016-01-12|        12|          53|2016-01-12|      13|         9|  Jan|2016|Business|    Hudson Square|Lower Manhattan|   6.43736| Meal/Entertain|      16|         24.1401|  Tuesday|  Morning|Hudson Square-Low...|\n",
            "|2016-01-12|        14|          42|2016-01-12|      14|        56|  Jan|2016|Business|  Lower Manhattan|  Hudson Square|  2.896812|Errand/Supplies|      14|12.4149085714286|  Tuesday|Afternoon|Lower Manhattan-H...|\n",
            "+----------+----------+------------+----------+--------+----------+-----+----+--------+-----------------+---------------+----------+---------------+--------+----------------+---------+---------+--------------------+\n",
            "only showing top 20 rows\n",
            "\n"
          ]
        }
      ]
    },
    {
      "cell_type": "code",
      "source": [
        "#filtered_df = df.where(df['START'] != 'Unknown Location')\n",
        "#filtered_df.show()"
      ],
      "metadata": {
        "colab": {
          "base_uri": "https://localhost:8080/"
        },
        "id": "Mumr5Xsv1kh_",
        "outputId": "4e6dff47-e53a-4294-a94a-2838b6df24bb"
      },
      "execution_count": 66,
      "outputs": [
        {
          "output_type": "stream",
          "name": "stdout",
          "text": [
            "+----------+----------+------------+----------+--------+----------+-----+----+--------+-----------------+---------------+----------+---------------+--------+----------------+---------+---------+--------------------+\n",
            "|start_date|start_hour|start_minute|  end_date|end_hour|end_minute|month|year|CATEGORY|            START|           STOP|     MILES|        PURPOSE|duration|           speed|      day| day_time|               route|\n",
            "+----------+----------+------------+----------+--------+----------+-----+----+--------+-----------------+---------------+----------+---------------+--------+----------------+---------+---------+--------------------+\n",
            "|2016-01-01|        21|          11|2016-01-01|      21|        17|  Jan|2016|Business|      Fort Pierce|    Fort Pierce|  8.207634| Meal/Entertain|       6|        82.07634|   Friday|  Evening|Fort Pierce-Fort ...|\n",
            "|2016-01-02|         1|          25|2016-01-02|       1|        37|  Jan|2016|Business|      Fort Pierce|    Fort Pierce|    8.0467| Meal/Entertain|      12|         40.2335| Saturday|    Night|Fort Pierce-Fort ...|\n",
            "|2016-01-02|        20|          25|2016-01-02|      20|        38|  Jan|2016|Business|      Fort Pierce|    Fort Pierce|  7.724832|Errand/Supplies|      13|35.6530707692308| Saturday|  Evening|Fort Pierce-Fort ...|\n",
            "|2016-01-05|        17|          31|2016-01-05|      17|        45|  Jan|2016|Business|      Fort Pierce|    Fort Pierce|  7.563898|        Meeting|      14|32.4167057142857|  Tuesday|Afternoon|Fort Pierce-Fort ...|\n",
            "|2016-01-06|        14|          42|2016-01-06|      15|        49|  Jan|2016|Business|      Fort Pierce|West Palm Beach|102.514958| Customer Visit|      67|        91.80444|Wednesday|Afternoon|Fort Pierce-West ...|\n",
            "|2016-01-06|        17|          15|2016-01-06|      17|        19|  Jan|2016|Business|  West Palm Beach|West Palm Beach|  6.920162| Meal/Entertain|       4|       103.80243|Wednesday|Afternoon|West Palm Beach-W...|\n",
            "|2016-01-06|        17|          30|2016-01-06|      17|        35|  Jan|2016|Business|  West Palm Beach|     Palm Beach| 11.426314|        Meeting|       5|      137.115768|Wednesday|Afternoon|West Palm Beach-P...|\n",
            "|2016-01-07|        13|          27|2016-01-07|      13|        33|  Jan|2016|Business|             Cary|           Cary|  1.287472|        Meeting|       6|        12.87472| Thursday|Afternoon|           Cary-Cary|\n",
            "|2016-01-10|         8|           5|2016-01-10|       8|        25|  Jan|2016|Business|             Cary|    Morrisville| 13.357522|        Meeting|      20|       40.072566|   Sunday|  Morning|    Cary-Morrisville|\n",
            "|2016-01-10|        12|          17|2016-01-10|      12|        44|  Jan|2016|Business|          Jamaica|       New York|  26.55411| Customer Visit|      27|59.0091333333333|   Sunday|  Morning|    Jamaica-New York|\n",
            "|2016-01-10|        15|           8|2016-01-10|      15|        51|  Jan|2016|Business|         New York|         Queens| 17.380872|        Meeting|      43|24.2523795348837|   Sunday|Afternoon|     New York-Queens|\n",
            "|2016-01-10|        18|          18|2016-01-10|      18|        53|  Jan|2016|Business|         Elmhurst|       New York|  12.07005|        Meeting|      35|20.6915142857143|   Sunday|Afternoon|   Elmhurst-New York|\n",
            "|2016-01-10|        19|          12|2016-01-10|      19|        32|  Jan|2016|Business|          Midtown|    East Harlem|  9.977908|        Meeting|      20|       29.933724|   Sunday|  Evening| Midtown-East Harlem|\n",
            "|2016-01-11|         8|          55|2016-01-11|       9|        21|  Jan|2016|Business|      East Harlem|          NoMad| 10.299776| Temporary Site|      26|23.7687138461538|   Monday|  Morning|   East Harlem-NoMad|\n",
            "|2016-01-11|        11|          56|2016-01-11|      12|         3|  Jan|2016|Business|Flatiron District|        Midtown|  2.574944|Errand/Supplies|       7|22.0709485714286|   Monday|  Morning|Flatiron District...|\n",
            "|2016-01-11|        13|          32|2016-01-11|      13|        46|  Jan|2016|Business|          Midtown|   Midtown East|  2.735878| Meal/Entertain|      14|11.7251914285714|   Monday|Afternoon|Midtown-Midtown East|\n",
            "|2016-01-11|        14|          30|2016-01-11|      14|        43|  Jan|2016|Business|     Midtown East|        Midtown|  3.057746| Meal/Entertain|      13|14.1126738461538|   Monday|Afternoon|Midtown East-Midtown|\n",
            "|2016-01-12|        12|          33|2016-01-12|      12|        49|  Jan|2016|Business|          Midtown|  Hudson Square|  3.057746| Meal/Entertain|      16|      11.4665475|  Tuesday|  Morning|Midtown-Hudson Sq...|\n",
            "|2016-01-12|        12|          53|2016-01-12|      13|         9|  Jan|2016|Business|    Hudson Square|Lower Manhattan|   6.43736| Meal/Entertain|      16|         24.1401|  Tuesday|  Morning|Hudson Square-Low...|\n",
            "|2016-01-12|        14|          42|2016-01-12|      14|        56|  Jan|2016|Business|  Lower Manhattan|  Hudson Square|  2.896812|Errand/Supplies|      14|12.4149085714286|  Tuesday|Afternoon|Lower Manhattan-H...|\n",
            "+----------+----------+------------+----------+--------+----------+-----+----+--------+-----------------+---------------+----------+---------------+--------+----------------+---------+---------+--------------------+\n",
            "only showing top 20 rows\n",
            "\n"
          ]
        }
      ]
    },
    {
      "cell_type": "code",
      "source": [
        "#df= filtered_df"
      ],
      "metadata": {
        "id": "UxXmcj_W13sR"
      },
      "execution_count": 67,
      "outputs": []
    },
    {
      "cell_type": "code",
      "source": [
        "route_counts = df.where(df['START'] != 'Unknown Location').groupBy('route').count()\n",
        "route_counts.show(2000)"
      ],
      "metadata": {
        "colab": {
          "base_uri": "https://localhost:8080/"
        },
        "id": "LIFtt9D0wKyA",
        "outputId": "f03787fe-08db-4823-faf2-dd23db9e499d"
      },
      "execution_count": 90,
      "outputs": [
        {
          "output_type": "stream",
          "name": "stdout",
          "text": [
            "+--------------------+-----+\n",
            "|               route|count|\n",
            "+--------------------+-----+\n",
            "|Meredith Townes-H...|    1|\n",
            "|San Francisco-Pal...|    1|\n",
            "| Berkeley-Menlo Park|    1|\n",
            "|R?walpindi-Unknow...|    8|\n",
            "|Edgehill Farms-Wh...|    6|\n",
            "|  Katunayake-Gampaha|    1|\n",
            "|         Cary-Durham|   36|\n",
            "|Red River Distric...|    1|\n",
            "|South Congress-No...|    1|\n",
            "|   Coxville-The Drag|    1|\n",
            "|Cary-Unknown Loca...|    1|\n",
            "|   Orlando-Kissimmee|    7|\n",
            "|Tribeca-Financial...|    1|\n",
            "|Financial Distric...|    1|\n",
            "|Heritage Pines-Wh...|    1|\n",
            "|San Francisco-Ber...|    4|\n",
            "|Lower Manhattan-H...|    1|\n",
            "|Whitebridge-Savon...|    3|\n",
            "|Central-College A...|    1|\n",
            "|Berkeley-Mountain...|    1|\n",
            "|Midtown-Midtown West|    1|\n",
            "| Whitebridge-Preston|    3|\n",
            "|Seaport-Gramercy-...|    1|\n",
            "|   Berkeley-San Jose|    1|\n",
            "|    Berkeley-Oakland|    3|\n",
            "|         CBD-Bywater|    1|\n",
            "|San Francisco-Oak...|    2|\n",
            "| SOMISSPO-Tenderloin|    1|\n",
            "|Kar?chi-Unknown L...|    7|\n",
            "|Hudson Square-Low...|    1|\n",
            "|Fairmont-Meredith...|    1|\n",
            "|   Galveston-Houston|    1|\n",
            "|Bryson City-Ashev...|    1|\n",
            "|     Kenner-Metairie|    1|\n",
            "|  Bryson City-Almond|    1|\n",
            "|Midtown East-Midtown|    1|\n",
            "|  Tanglewood-Parkway|    1|\n",
            "|Islamabad-Unknown...|   28|\n",
            "| Berkeley-El Cerrito|    1|\n",
            "|R?walpindi-R?walp...|    2|\n",
            "|   Parkwood-Parkwood|    1|\n",
            "|   Agnew-Renaissance|    2|\n",
            "|    Midtown-Downtown|    1|\n",
            "|Whitebridge-Wayne...|    4|\n",
            "|University Distri...|    1|\n",
            "| Tenderloin-SOMISSPO|    1|\n",
            "|       Weston-Weston|    2|\n",
            "|Lexington Park at...|    1|\n",
            "|  Latta-Jacksonville|    1|\n",
            "| Berkeley-Emeryville|    5|\n",
            "|Sharpstown-Briar ...|    1|\n",
            "| Palo Alto-Sunnyvale|    1|\n",
            "|New Orleans-Chalm...|    1|\n",
            "|  Cary-Winston Salem|    1|\n",
            "|Rawalpindi-Rawalp...|    1|\n",
            "|   Houston-Galveston|    1|\n",
            "|  Holly Springs-Cary|    2|\n",
            "|    Jamaica-New York|    2|\n",
            "|    Redmond-Bellevue|    1|\n",
            "|Westpark Place-Ha...|    1|\n",
            "|Whitebridge-Waver...|    5|\n",
            "|Newark-San Francisco|    1|\n",
            "|Heritage Pines-Ed...|    1|\n",
            "|Whitebridge-Lake ...|    1|\n",
            "|Emeryville-San Fr...|    1|\n",
            "|     Newland-Newland|    1|\n",
            "|Hell's Kitchen-Mi...|    1|\n",
            "|    Colombo-Nugegoda|    1|\n",
            "|  Emeryville-Oakland|    3|\n",
            "|Metairie-New Orleans|    2|\n",
            "|         Agnew-Agnew|    1|\n",
            "|Rawalpindi-Islamabad|    1|\n",
            "|Whitebridge-North...|    2|\n",
            "|Briar Meadow-Midtown|    1|\n",
            "|Banner Elk-Banner...|    5|\n",
            "|North Berkeley Hi...|    1|\n",
            "|           Apex-Cary|   13|\n",
            "|The Drag-South Co...|    2|\n",
            "|       NOMA-Downtown|    1|\n",
            "|Fort Pierce-West ...|    1|\n",
            "|Fort Pierce-Fort ...|    4|\n",
            "|   Southside-Central|    2|\n",
            "| Parkway-Whitebridge|    5|\n",
            "|Old City-Parkway ...|    1|\n",
            "|Kilarney Woods-Wh...|    1|\n",
            "|  Kenner-New Orleans|    8|\n",
            "|    Hazelwood-Weston|    1|\n",
            "|Katunayaka-Unknow...|    1|\n",
            "|Hazelwood-Whitebr...|    5|\n",
            "| Lakeview-Storyville|    1|\n",
            "|Mandeville-Mandev...|    1|\n",
            "|Arlington Park at...|    1|\n",
            "|Connecticut Avenu...|    1|\n",
            "|         Durham-Cary|   25|\n",
            "|Savon Height-Kila...|    1|\n",
            "|   Central-Southside|    2|\n",
            "|Farmington Woods-...|    1|\n",
            "|   Capitol One-Mcvan|    1|\n",
            "|       Kenner-Kenner|    2|\n",
            "|  Downtown-Sunnyside|    1|\n",
            "|      Rose Hill-Soho|    1|\n",
            "|Karachi-Unknown L...|    2|\n",
            "|Whitebridge-Herit...|    2|\n",
            "|    Downtown-Midtown|    1|\n",
            "|West Berkeley-Cen...|    2|\n",
            "|           Cary-Apex|   14|\n",
            "|  Sharpstown-Midtown|    3|\n",
            "|   Newark-Menlo Park|    1|\n",
            "|     Chalmette-Arabi|    1|\n",
            "|  Marigny-Storyville|    1|\n",
            "|Columbia Heights-...|    1|\n",
            "|San Jose-Santa Clara|    1|\n",
            "| Sunnyside-Ingleside|    1|\n",
            "|  New Orleans-Kenner|    6|\n",
            "|Whitebridge-Hazel...|    4|\n",
            "|Oakland-Unknown L...|    1|\n",
            "|Kilarney Woods-Ki...|    1|\n",
            "|Arlington-Washington|    1|\n",
            "|Huntington Woods-...|    1|\n",
            "|          Cary-Latta|    1|\n",
            "|     Central-Central|    3|\n",
            "|    Boone-Banner Elk|    1|\n",
            "|   Hayesville-Topton|    1|\n",
            "|   Renaissance-Agnew|    2|\n",
            "|       Cary-Wake Co.|    1|\n",
            "|  Durham-Morrisville|    4|\n",
            "|     Orlando-Orlando|    1|\n",
            "|San Francisco-Eme...|    1|\n",
            "| Covington-Covington|    5|\n",
            "|College Avenue-Ce...|    1|\n",
            "|South-Southwest B...|    1|\n",
            "|   Downtown-The Drag|    2|\n",
            "|Morrisville-Morri...|    5|\n",
            "|West End-Northwes...|    1|\n",
            "|Whitebridge-Chess...|    1|\n",
            "|Krendle Woods-Whi...|    1|\n",
            "|Wayne Ridge-White...|    4|\n",
            "|Medical Centre-Tu...|    1|\n",
            "|    Downtown-Gulfton|    1|\n",
            "|Waverly Place-Mac...|    1|\n",
            "|Eastgate-Walnut T...|    1|\n",
            "|Chessington-White...|    1|\n",
            "|Washington-Arlington|    1|\n",
            "|Farmington Woods-...|    1|\n",
            "|       Newland-Boone|    1|\n",
            "|Fayetteville Stre...|    1|\n",
            "|Whitebridge-Farmi...|    1|\n",
            "|West Palm Beach-W...|    1|\n",
            "|West Palm Beach-P...|    1|\n",
            "| Midtown-East Harlem|    1|\n",
            "| Islamabad-Islamabad|   25|\n",
            "|The Drag-Conventi...|    2|\n",
            "|Kalorama Triangle...|    1|\n",
            "| Old City-Hog Island|    1|\n",
            "|   Elmhurst-New York|    1|\n",
            "| Mandeville-Metairie|    1|\n",
            "|    Asheville-Mebane|    1|\n",
            "|    Oakland-Berkeley|    2|\n",
            "|    Cary-Chapel Hill|    1|\n",
            "|Fayetteville Stre...|    1|\n",
            "|    Cary-Wake Forest|    1|\n",
            "|       Florence-Cary|    1|\n",
            "|Northwoods-Tangle...|    1|\n",
            "|Northwoods-Whiteb...|    1|\n",
            "|     Colombo-Colombo|    6|\n",
            "|Chessington-Chess...|    1|\n",
            "|Whitebridge-Summe...|    1|\n",
            "|Whitebridge-Arlin...|    1|\n",
            "|Midtown-Washingto...|    1|\n",
            "|Ingleside-Potrero...|    1|\n",
            "|    Cary-Morrisville|   67|\n",
            "|Islamabad-Noorpur...|    1|\n",
            "|Stonewater-Lexing...|    1|\n",
            "|Savon Height-Whit...|    2|\n",
            "|       CBD-St Thomas|    1|\n",
            "|Midtown-Hudson Sq...|    1|\n",
            "|Daytona Beach-Jac...|    1|\n",
            "|Central-West Berk...|    1|\n",
            "|  Houston-Sugar Land|    1|\n",
            "|Oakland-San Franc...|    2|\n",
            "|Fayetteville Stre...|    1|\n",
            "| Elk Park-Banner Elk|    1|\n",
            "|  Topton-Bryson City|    1|\n",
            "|Mountain View-Ber...|    1|\n",
            "|Port Bolivar-Port...|    2|\n",
            "|Downtown-Bay Farm...|    1|\n",
            "|      South-Downtown|    1|\n",
            "|Flatiron District...|    1|\n",
            "|Nugegoda-Unknown ...|    1|\n",
            "| San Jose-Emeryville|    1|\n",
            "|New Orleans-Metairie|    2|\n",
            "|  Banner Elk-Newland|    1|\n",
            "|     Karachi-Karachi|    2|\n",
            "|Southside-South B...|    1|\n",
            "|          Agnew-Cory|    1|\n",
            "| Preston-Whitebridge|    5|\n",
            "|   Kissimmee-Orlando|    6|\n",
            "|SOMISSPO-French Q...|    1|\n",
            "|Congress Ave Dist...|    1|\n",
            "|Santa Clara-Berkeley|    1|\n",
            "|Whitebridge-Macgr...|    1|\n",
            "| Raleigh-Morrisville|    5|\n",
            "|West University-C...|    1|\n",
            "|    Asheville-Topton|    1|\n",
            "|Meredith Townes-L...|    2|\n",
            "|Burtrose-Whitebridge|    1|\n",
            "|       Central-South|    1|\n",
            "|     Kar?chi-Kar?chi|   20|\n",
            "|      Arabi-Metairie|    1|\n",
            "|Noorpur Shahan-Un...|    2|\n",
            "|           Cary-Cary|   53|\n",
            "|New York-Long Isl...|    1|\n",
            "|Long Island City-...|    1|\n",
            "|Pontchartrain Bea...|    1|\n",
            "|     Raleigh-Raleigh|    2|\n",
            "|Galveston-Port Bo...|    1|\n",
            "|Lahore-Unknown Lo...|    9|\n",
            "|Kissimmee-Daytona...|    1|\n",
            "|Eagan Park-Jamest...|    1|\n",
            "|Whitebridge-Burtrose|    1|\n",
            "|     Eagle Rock-Cary|    1|\n",
            "|Jackson Heights-E...|    1|\n",
            "|         Durham-Apex|    1|\n",
            "|Rawalpindi-Unknow...|    3|\n",
            "|Convention Center...|    1|\n",
            "|  Midtown-Sharpstown|    4|\n",
            "|Morrisville-Banne...|    1|\n",
            "|South Congress-Th...|    3|\n",
            "|Lake Reams-Lake R...|    2|\n",
            "| Morrisville-Raleigh|    4|\n",
            "|         Mebane-Cary|    1|\n",
            "|    New York-Jamaica|    1|\n",
            "| Banner Elk-Elk Park|    1|\n",
            "| Menlo Park-Berkeley|    1|\n",
            "|        Katy-Houston|    1|\n",
            "|    Banner Elk-Boone|    1|\n",
            "|        Raleigh-Cary|   21|\n",
            "|Katunayaka-Katuna...|    1|\n",
            "|  Cary-Fuquay-Varina|    1|\n",
            "|Whitebridge-Tangl...|    3|\n",
            "|  Sugar Land-Houston|    1|\n",
            "|Pontchartrain Sho...|    2|\n",
            "|     Apex-Eagle Rock|    1|\n",
            "|  Northwoods-Preston|    1|\n",
            "|Washington Avenue...|    1|\n",
            "|   Topton-Hayesville|    1|\n",
            "| Kissimmee-Kissimmee|    4|\n",
            "|Downtown-West Ber...|    1|\n",
            "|   Mcvan-Capitol One|    1|\n",
            "|Tanglewood-Whiteb...|    2|\n",
            "|West Berkeley-Nor...|    1|\n",
            "|South Berkeley-So...|    1|\n",
            "|  Apex-Holly Springs|    1|\n",
            "|Waverly Place-Whi...|    3|\n",
            "|Georgian Acres-Th...|    1|\n",
            "|  Cary-Holly Springs|    1|\n",
            "|Chapel Hill-Morri...|    1|\n",
            "|Lower Garden Dist...|    1|\n",
            "|Hazelwood-Lexingt...|    1|\n",
            "|  Colombo-Katunayaka|    1|\n",
            "|       Midtown-Alief|    1|\n",
            "|        Cary-Raleigh|   23|\n",
            "|K Street-Kalorama...|    2|\n",
            "|Sand Lake Commons...|    1|\n",
            "|Hudson Square-Hel...|    1|\n",
            "|West University-S...|    1|\n",
            "|    Wake Forest-Cary|    1|\n",
            "|West Berkeley-Sou...|    1|\n",
            "|    Gulfton-Downtown|    1|\n",
            "|Savon Height-Parkway|    1|\n",
            "|    Sunnyvale-Newark|    1|\n",
            "|Edgehill Farms-Pr...|    1|\n",
            "|    Chapel Hill-Cary|    1|\n",
            "|         Austin-Katy|    1|\n",
            "|Islamabad-R?walpindi|    2|\n",
            "|South Congress-Ar...|    1|\n",
            "|Noorpur Shahan-Is...|    3|\n",
            "|Whitebridge-White...|    7|\n",
            "|Couples Glen-Isle...|    1|\n",
            "|East Austin-West ...|    1|\n",
            "|Jamestown Court-J...|    1|\n",
            "|CBD-Pontchartrain...|    1|\n",
            "|       St Thomas-CBD|    1|\n",
            "|Whitebridge-Stone...|    1|\n",
            "|Kalorama Triangle...|    1|\n",
            "|   East Harlem-NoMad|    1|\n",
            "| West Berkeley-South|    1|\n",
            "|       Lahore-Lahore|   27|\n",
            "|   Gampaha-Ilukwatta|    1|\n",
            "| Emeryville-Berkeley|    6|\n",
            "|    Morrisville-Cary|   74|\n",
            "|  Oakland-Emeryville|    2|\n",
            "|Whitebridge-Westp...|   14|\n",
            "|Summerwinds-White...|    1|\n",
            "|Whitebridge-Kilda...|    1|\n",
            "|          Boone-Cary|    1|\n",
            "|Kalorama Triangle...|    1|\n",
            "|R?walpindi-Islamabad|    1|\n",
            "|Wake Co.-Morrisville|    1|\n",
            "|Port Bolivar-Galv...|    1|\n",
            "|     Seattle-Redmond|    1|\n",
            "|Berkeley-San Fran...|    4|\n",
            "|Midtown-Midtown East|    1|\n",
            "|Townes at Everett...|    1|\n",
            "| Whitebridge-Parkway|    3|\n",
            "|Couples Glen-Vist...|    1|\n",
            "|New Orleans-Covin...|    1|\n",
            "|Whitebridge-Edgeh...|    8|\n",
            "|Midtown-Greater G...|    1|\n",
            "|Capitol One-Unive...|    1|\n",
            "|     Metairie-Kenner|    2|\n",
            "| El Cerrito-Berkeley|    1|\n",
            "|Jacksonville-Ridg...|    1|\n",
            "|     Houston-Houston|    3|\n",
            "|North Austin-Coxv...|    1|\n",
            "|Storyville-Faubou...|    1|\n",
            "|Edgehill Farms-Bu...|    1|\n",
            "|Huntington Woods-...|    2|\n",
            "|        Soho-Tribeca|    1|\n",
            "|CBD-Lower Garden ...|    1|\n",
            "|  Storyville-Marigny|    1|\n",
            "|Whitebridge-Willi...|    1|\n",
            "|     Midtown-Midtown|    2|\n",
            "|The Drag-North Au...|    1|\n",
            "| Meredith-Cedar Hill|    1|\n",
            "|The Drag-Congress...|    2|\n",
            "|   Menlo Park-Newark|    1|\n",
            "|Winston Salem-Ash...|    1|\n",
            "|Sky Lake-Sand Lak...|    1|\n",
            "|Covington-Mandeville|    1|\n",
            "|Palo Alto-Menlo Park|    1|\n",
            "|Southside-West Be...|    1|\n",
            "|Downtown-Red Rive...|    1|\n",
            "|Lexington Park at...|    1|\n",
            "|           Apex-Apex|    2|\n",
            "|Menlo Park-Palo Alto|    1|\n",
            "|Preston-Westpark ...|    1|\n",
            "|  Fuquay-Varina-Cary|    1|\n",
            "|     New York-Queens|    1|\n",
            "|East Elmhurst-New...|    1|\n",
            "|  Tanglewood-Preston|    1|\n",
            "|    Downtown-Central|    1|\n",
            "|          Cory-Agnew|    1|\n",
            "|Lake Wellingborou...|    1|\n",
            "|Westpark Place-Wh...|   16|\n",
            "|Bryson City-Bryso...|    3|\n",
            "|Sharpstown-Sharps...|    1|\n",
            "|New York-Queens C...|    1|\n",
            "|  Almond-Bryson City|    1|\n",
            "|Islamabad-Rawalpindi|    1|\n",
            "+--------------------+-----+\n",
            "\n"
          ]
        }
      ]
    },
    {
      "cell_type": "code",
      "source": [
        "route_counts.orderBy('count',ascending=False).show(10)"
      ],
      "metadata": {
        "colab": {
          "base_uri": "https://localhost:8080/"
        },
        "id": "dCCDRCQnHBA9",
        "outputId": "61ab327b-0212-484f-88a2-cf58bdf179ed"
      },
      "execution_count": 91,
      "outputs": [
        {
          "output_type": "stream",
          "name": "stdout",
          "text": [
            "+--------------------+-----+\n",
            "|               route|count|\n",
            "+--------------------+-----+\n",
            "|    Morrisville-Cary|   74|\n",
            "|    Cary-Morrisville|   67|\n",
            "|           Cary-Cary|   53|\n",
            "|         Cary-Durham|   36|\n",
            "|Islamabad-Unknown...|   28|\n",
            "|       Lahore-Lahore|   27|\n",
            "| Islamabad-Islamabad|   25|\n",
            "|         Durham-Cary|   25|\n",
            "|        Cary-Raleigh|   23|\n",
            "|        Raleigh-Cary|   21|\n",
            "+--------------------+-----+\n",
            "only showing top 10 rows\n",
            "\n"
          ]
        }
      ]
    },
    {
      "cell_type": "markdown",
      "source": [
        "##Q2 Analyze peak travel hours"
      ],
      "metadata": {
        "id": "TsG7vPJgrcw_"
      }
    },
    {
      "cell_type": "code",
      "source": [
        "#df = df.withColumn('peak_travel', concat(df['start_hour'], lit('-'), df['end_hour']))"
      ],
      "metadata": {
        "id": "eHr4cWjzk9H7"
      },
      "execution_count": 72,
      "outputs": []
    },
    {
      "cell_type": "code",
      "source": [
        "df.groupBy('start_hour').count().orderBy('count',ascending=False).show(10)"
      ],
      "metadata": {
        "colab": {
          "base_uri": "https://localhost:8080/"
        },
        "id": "lLAwG2PlIa1a",
        "outputId": "86b199f5-caa7-4b10-b5e1-20d2d3410edd"
      },
      "execution_count": 92,
      "outputs": [
        {
          "output_type": "stream",
          "name": "stdout",
          "text": [
            "+----------+-----+\n",
            "|start_hour|count|\n",
            "+----------+-----+\n",
            "|        15|   98|\n",
            "|        17|   95|\n",
            "|        18|   94|\n",
            "|        13|   94|\n",
            "|        14|   89|\n",
            "|        16|   88|\n",
            "|        12|   77|\n",
            "|        11|   72|\n",
            "|        20|   71|\n",
            "|        19|   68|\n",
            "+----------+-----+\n",
            "only showing top 10 rows\n",
            "\n"
          ]
        }
      ]
    },
    {
      "cell_type": "markdown",
      "source": [
        "##Q3 find the longest business trips"
      ],
      "metadata": {
        "id": "94IlAMQhrpOP"
      }
    },
    {
      "cell_type": "code",
      "source": [
        "df.where(df.CATEGORY== 'Business').orderBy('duration',ascending=False).show(1)"
      ],
      "metadata": {
        "colab": {
          "base_uri": "https://localhost:8080/"
        },
        "id": "VtVe2vtzI9J6",
        "outputId": "0da96aba-2946-4809-83be-c1c37c9de8b4"
      },
      "execution_count": 101,
      "outputs": [
        {
          "output_type": "stream",
          "name": "stdout",
          "text": [
            "+----------+----------+------------+----------+--------+----------+-----+----+--------+-----+------------+----------+--------------+--------+----------------+------+---------+------------------+\n",
            "|start_date|start_hour|start_minute|  end_date|end_hour|end_minute|month|year|CATEGORY|START|        STOP|     MILES|       PURPOSE|duration|           speed|   day| day_time|             route|\n",
            "+----------+----------+------------+----------+--------+----------+-----+----+--------+-----+------------+----------+--------------+--------+----------------+------+---------+------------------+\n",
            "|2016-03-25|        16|          52|2016-03-25|      22|        22|  Mar|2016|Business|Latta|Jacksonville|499.378202|Customer Visit|     330|90.7960367272727|Friday|Afternoon|Latta-Jacksonville|\n",
            "+----------+----------+------------+----------+--------+----------+-----+----+--------+-----+------------+----------+--------------+--------+----------------+------+---------+------------------+\n",
            "only showing top 1 row\n",
            "\n"
          ]
        }
      ]
    },
    {
      "cell_type": "markdown",
      "source": [
        "##Q4 Find the avg speed bassed on daytime"
      ],
      "metadata": {
        "id": "towqV57VrYKa"
      }
    },
    {
      "cell_type": "code",
      "source": [],
      "metadata": {
        "colab": {
          "base_uri": "https://localhost:8080/"
        },
        "id": "rJvI9TQQlPZB",
        "outputId": "9105b355-f826-4453-903a-8ef1cce48d8e"
      },
      "execution_count": 94,
      "outputs": [
        {
          "output_type": "execute_result",
          "data": {
            "text/plain": [
              "DataFrame[day_time: string]"
            ]
          },
          "metadata": {},
          "execution_count": 94
        }
      ]
    },
    {
      "cell_type": "code",
      "source": [
        "df = df.where(df.duration > 0)"
      ],
      "metadata": {
        "id": "NwKFgj_HoLZK"
      },
      "execution_count": 95,
      "outputs": []
    },
    {
      "cell_type": "code",
      "source": [
        "from pyspark.sql.functions import avg\n",
        "\n",
        "df.groupBy('day_time').agg(avg('speed').alias('avg_speed')).show()"
      ],
      "metadata": {
        "colab": {
          "base_uri": "https://localhost:8080/"
        },
        "id": "rdjc-DO3meCf",
        "outputId": "f6cb0d4c-2f65-47e8-8e36-5b1782e4b52a"
      },
      "execution_count": 96,
      "outputs": [
        {
          "output_type": "stream",
          "name": "stdout",
          "text": [
            "+---------+------------------+\n",
            "| day_time|         avg_speed|\n",
            "+---------+------------------+\n",
            "|  Evening|  43.4256712248582|\n",
            "|  Morning| 47.72446648096086|\n",
            "|Afternoon| 39.87152502771442|\n",
            "|    Night|46.036096350678385|\n",
            "+---------+------------------+\n",
            "\n"
          ]
        }
      ]
    },
    {
      "cell_type": "markdown",
      "source": [
        "##Q5 Identify most common trip purpose"
      ],
      "metadata": {
        "id": "GMWSQEmdrsnv"
      }
    },
    {
      "cell_type": "code",
      "source": [
        "df.groupBy('PURPOSE').count().orderBy('count',ascending=False).show(1)"
      ],
      "metadata": {
        "colab": {
          "base_uri": "https://localhost:8080/"
        },
        "id": "zE4ETnWorzsi",
        "outputId": "f30fe41c-09cd-4280-935e-ea5f59157724"
      },
      "execution_count": 100,
      "outputs": [
        {
          "output_type": "stream",
          "name": "stdout",
          "text": [
            "+-------+-----+\n",
            "|PURPOSE|count|\n",
            "+-------+-----+\n",
            "|Meeting|  295|\n",
            "+-------+-----+\n",
            "only showing top 1 row\n",
            "\n"
          ]
        }
      ]
    },
    {
      "cell_type": "markdown",
      "source": [
        "##Q6. Analyze travel pattern by the day of the week"
      ],
      "metadata": {
        "id": "tPdc0266svF_"
      }
    },
    {
      "cell_type": "code",
      "source": [
        "df.groupBy('day').count().orderBy('count',ascending=False).show()"
      ],
      "metadata": {
        "colab": {
          "base_uri": "https://localhost:8080/"
        },
        "id": "ZMnvwCRnsubs",
        "outputId": "6cd10ac4-0017-44fd-b8c6-6a05a125a8bf"
      },
      "execution_count": 102,
      "outputs": [
        {
          "output_type": "stream",
          "name": "stdout",
          "text": [
            "+---------+-----+\n",
            "|      day|count|\n",
            "+---------+-----+\n",
            "|   Friday|  201|\n",
            "|   Monday|  174|\n",
            "|  Tuesday|  172|\n",
            "| Thursday|  152|\n",
            "|   Sunday|  147|\n",
            "|Wednesday|  146|\n",
            "| Saturday|  145|\n",
            "+---------+-----+\n",
            "\n"
          ]
        }
      ]
    },
    {
      "cell_type": "markdown",
      "source": [
        "##Q7. Identify most frequent start location with respect to daytime"
      ],
      "metadata": {
        "id": "x4IZkqR5xC7u"
      }
    },
    {
      "cell_type": "markdown",
      "source": [
        "Simplest way"
      ],
      "metadata": {
        "id": "EM8Tv7KNCNYq"
      }
    },
    {
      "cell_type": "code",
      "source": [
        "ans = df.where(df.START != 'Unknown Location').groupBy('START','day_time').count().orderBy('count',ascending=False)"
      ],
      "metadata": {
        "id": "s4vfWyvvzedY"
      },
      "execution_count": 127,
      "outputs": []
    },
    {
      "cell_type": "code",
      "source": [
        "ans.where(ans.day_time == 'Morning').orderBy('count',ascending=False).show(1)\n",
        "ans.where(ans.day_time == 'Night').orderBy('count',ascending=False).show(1)\n",
        "ans.where(ans.day_time == 'Afternoon').orderBy('count',ascending=False).show(1)\n",
        "ans.where(ans.day_time == 'Evening').orderBy('count',ascending=False).show(1)"
      ],
      "metadata": {
        "colab": {
          "base_uri": "https://localhost:8080/"
        },
        "id": "GXbNa6Ad4HTZ",
        "outputId": "f337ed52-fa2f-4008-e0c9-2c667b1c3b56"
      },
      "execution_count": 126,
      "outputs": [
        {
          "output_type": "stream",
          "name": "stdout",
          "text": [
            "+-----+--------+-----+\n",
            "|START|day_time|count|\n",
            "+-----+--------+-----+\n",
            "| Cary| Morning|   62|\n",
            "+-----+--------+-----+\n",
            "only showing top 1 row\n",
            "\n",
            "+-----------+--------+-----+\n",
            "|      START|day_time|count|\n",
            "+-----------+--------+-----+\n",
            "|Morrisville|   Night|    8|\n",
            "+-----------+--------+-----+\n",
            "only showing top 1 row\n",
            "\n",
            "+-----+---------+-----+\n",
            "|START| day_time|count|\n",
            "+-----+---------+-----+\n",
            "| Cary|Afternoon|   96|\n",
            "+-----+---------+-----+\n",
            "only showing top 1 row\n",
            "\n",
            "+-----+--------+-----+\n",
            "|START|day_time|count|\n",
            "+-----+--------+-----+\n",
            "| Cary| Evening|   38|\n",
            "+-----+--------+-----+\n",
            "only showing top 1 row\n",
            "\n"
          ]
        }
      ]
    },
    {
      "cell_type": "markdown",
      "source": [
        "One way"
      ],
      "metadata": {
        "id": "ZmjdTYdICIxu"
      }
    },
    {
      "cell_type": "code",
      "source": [
        "from pyspark.sql.functions import max\n",
        "filtered_df= df.where(df['START']!= 'Unknown Location')\n",
        "start_location= filtered_df.groupBy('day_time','START').count().orderBy('count', ascending=False)\n",
        "\n",
        "from pyspark.sql import functions as F\n",
        "from pyspark.sql.window import Window\n",
        "window_spec = Window.partitionBy('day_time').orderBy(F.col('count').desc())\n",
        "ranked_df = start_location.withColumn('rank', F.row_number().over(window_spec))\n",
        "most_frequent_locations = ranked_df.filter(ranked_df['rank'] == 1).drop('rank')\n",
        "\n",
        "most_frequent_locations.show()"
      ],
      "metadata": {
        "colab": {
          "base_uri": "https://localhost:8080/"
        },
        "id": "ky6ShDSA9m7F",
        "outputId": "f6eb9766-e430-4868-955e-0d2f9df5a53d"
      },
      "execution_count": 142,
      "outputs": [
        {
          "output_type": "stream",
          "name": "stdout",
          "text": [
            "+---------+-----------+-----+\n",
            "| day_time|      START|count|\n",
            "+---------+-----------+-----+\n",
            "|Afternoon|       Cary|   96|\n",
            "|  Evening|       Cary|   38|\n",
            "|  Morning|       Cary|   62|\n",
            "|    Night|Morrisville|    8|\n",
            "+---------+-----------+-----+\n",
            "\n"
          ]
        }
      ]
    },
    {
      "cell_type": "markdown",
      "source": [
        "Another way"
      ],
      "metadata": {
        "id": "KaXQCLJBCK96"
      }
    },
    {
      "cell_type": "code",
      "source": [
        "d2 = df.where(df.START != 'Unknown Location').groupBy('START','day_time').count().orderBy('count',ascending=False)\n",
        "Max_counts = d2.groupBy('day_time').agg(max('count').alias('Max_count'))\n",
        "\n",
        "d2_alias = d2.alias('d2')\n",
        "Max_counts_alias = Max_counts.alias('Max_counts')\n",
        "result = d2.join(Max_counts,(d2['day_time'] == Max_counts['day_time']) & (d2['count'] == Max_counts['Max_count'])).select(d2_alias['day_time'], d2_alias['START'], d2_alias['count'])\n",
        "result.show()"
      ],
      "metadata": {
        "colab": {
          "base_uri": "https://localhost:8080/"
        },
        "id": "hmvFZrz3BcBP",
        "outputId": "aa118fc6-d200-4e22-e2ec-ad27a7cae2e4"
      },
      "execution_count": 175,
      "outputs": [
        {
          "output_type": "stream",
          "name": "stdout",
          "text": [
            "+---------+-----------+-----+\n",
            "| day_time|      START|count|\n",
            "+---------+-----------+-----+\n",
            "|  Evening|       Cary|   38|\n",
            "|  Morning|       Cary|   62|\n",
            "|Afternoon|       Cary|   96|\n",
            "|    Night|Morrisville|    8|\n",
            "+---------+-----------+-----+\n",
            "\n"
          ]
        }
      ]
    },
    {
      "cell_type": "code",
      "source": [
        "d2.show()\n",
        "d2_alias.show()"
      ],
      "metadata": {
        "colab": {
          "base_uri": "https://localhost:8080/"
        },
        "id": "ZnyEqqhTC7QN",
        "outputId": "c67ffe46-38b9-404e-9921-d96cc936c56e"
      },
      "execution_count": 167,
      "outputs": [
        {
          "output_type": "stream",
          "name": "stdout",
          "text": [
            "+--------------+---------+-----+\n",
            "|         START| day_time|count|\n",
            "+--------------+---------+-----+\n",
            "|          Cary|Afternoon|   96|\n",
            "|          Cary|  Morning|   62|\n",
            "|   Whitebridge|Afternoon|   39|\n",
            "|          Cary|  Evening|   38|\n",
            "|   Morrisville|  Evening|   36|\n",
            "|     Islamabad|Afternoon|   34|\n",
            "|   Morrisville|Afternoon|   30|\n",
            "|       Raleigh|Afternoon|   19|\n",
            "|   Whitebridge|  Morning|   17|\n",
            "|        Durham|Afternoon|   17|\n",
            "|     Islamabad|  Morning|   16|\n",
            "|Westpark Place|Afternoon|   13|\n",
            "|        Lahore|Afternoon|   13|\n",
            "|       Kar?chi|Afternoon|   12|\n",
            "|        Lahore|  Morning|   12|\n",
            "|   Whitebridge|  Evening|   11|\n",
            "|          Apex|Afternoon|   11|\n",
            "|   Morrisville|  Morning|   10|\n",
            "|        Lahore|  Evening|   10|\n",
            "|       Kar?chi|  Morning|    8|\n",
            "+--------------+---------+-----+\n",
            "only showing top 20 rows\n",
            "\n",
            "+--------------+---------+-----+\n",
            "|         START| day_time|count|\n",
            "+--------------+---------+-----+\n",
            "|          Cary|Afternoon|   96|\n",
            "|          Cary|  Morning|   62|\n",
            "|   Whitebridge|Afternoon|   39|\n",
            "|          Cary|  Evening|   38|\n",
            "|   Morrisville|  Evening|   36|\n",
            "|     Islamabad|Afternoon|   34|\n",
            "|   Morrisville|Afternoon|   30|\n",
            "|       Raleigh|Afternoon|   19|\n",
            "|   Whitebridge|  Morning|   17|\n",
            "|        Durham|Afternoon|   17|\n",
            "|     Islamabad|  Morning|   16|\n",
            "|Westpark Place|Afternoon|   13|\n",
            "|        Lahore|Afternoon|   13|\n",
            "|       Kar?chi|Afternoon|   12|\n",
            "|        Lahore|  Morning|   12|\n",
            "|   Whitebridge|  Evening|   11|\n",
            "|          Apex|Afternoon|   11|\n",
            "|   Morrisville|  Morning|   10|\n",
            "|        Lahore|  Evening|   10|\n",
            "|       Kar?chi|  Morning|    8|\n",
            "+--------------+---------+-----+\n",
            "only showing top 20 rows\n",
            "\n"
          ]
        }
      ]
    },
    {
      "cell_type": "markdown",
      "source": [
        "##Q8. Identify shortest business route"
      ],
      "metadata": {
        "id": "t9FpVnYLyTmo"
      }
    },
    {
      "cell_type": "code",
      "source": [
        "d = df.where(df.CATEGORY == 'Business').orderBy('MILES',ascending=True).first()\n",
        "df.where(df.MILES == d.MILES).show()"
      ],
      "metadata": {
        "colab": {
          "base_uri": "https://localhost:8080/"
        },
        "id": "_oJ14nUhyTXt",
        "outputId": "00ba6d22-3361-4ea5-9dba-09f952797319"
      },
      "execution_count": 178,
      "outputs": [
        {
          "output_type": "stream",
          "name": "stdout",
          "text": [
            "+----------+----------+------------+----------+--------+----------+-----+----+--------+----------+----------+-------+---------------+--------+-------+---------+---------+--------------------+\n",
            "|start_date|start_hour|start_minute|  end_date|end_hour|end_minute|month|year|CATEGORY|     START|      STOP|  MILES|        PURPOSE|duration|  speed|      day| day_time|               route|\n",
            "+----------+----------+------------+----------+--------+----------+-----+----+--------+----------+----------+-------+---------------+--------+-------+---------+---------+--------------------+\n",
            "|2016-01-26|        17|          27|2016-01-26|      17|        29|  Jan|2016|Business|      Cary|      Cary|0.80467|Errand/Supplies|       2|24.1401|  Tuesday|Afternoon|           Cary-Cary|\n",
            "|2016-02-17|        16|          38|2016-02-17|      16|        43|  Feb|2016|Business|Katunayaka|Katunayaka|0.80467|Errand/Supplies|       5|9.65604|Wednesday|Afternoon|Katunayaka-Katuna...|\n",
            "|2016-06-08|        17|          16|2016-06-08|      17|        18| June|2016|Business|      Soho|   Tribeca|0.80467|Errand/Supplies|       2|24.1401|Wednesday|Afternoon|        Soho-Tribeca|\n",
            "+----------+----------+------------+----------+--------+----------+-----+----+--------+----------+----------+-------+---------------+--------+-------+---------+---------+--------------------+\n",
            "\n"
          ]
        }
      ]
    },
    {
      "cell_type": "code",
      "source": [
        "d.MILES"
      ],
      "metadata": {
        "colab": {
          "base_uri": "https://localhost:8080/"
        },
        "id": "EIxJKbhaGmQC",
        "outputId": "7bb594f7-5482-4167-927d-7e9c0f507b4f"
      },
      "execution_count": 184,
      "outputs": [
        {
          "output_type": "execute_result",
          "data": {
            "text/plain": [
              "0.80467"
            ]
          },
          "metadata": {},
          "execution_count": 184
        }
      ]
    },
    {
      "cell_type": "code",
      "source": [
        "df.select(df[0]).show()"
      ],
      "metadata": {
        "colab": {
          "base_uri": "https://localhost:8080/"
        },
        "id": "RSlUCMiUz5eF",
        "outputId": "633627a7-007d-41dd-bef1-f1cf4d27d056"
      },
      "execution_count": 183,
      "outputs": [
        {
          "output_type": "stream",
          "name": "stdout",
          "text": [
            "+----------+\n",
            "|start_date|\n",
            "+----------+\n",
            "|2016-01-01|\n",
            "|2016-01-02|\n",
            "|2016-01-02|\n",
            "|2016-01-05|\n",
            "|2016-01-06|\n",
            "|2016-01-06|\n",
            "|2016-01-06|\n",
            "|2016-01-07|\n",
            "|2016-01-10|\n",
            "|2016-01-10|\n",
            "|2016-01-10|\n",
            "|2016-01-10|\n",
            "|2016-01-10|\n",
            "|2016-01-11|\n",
            "|2016-01-11|\n",
            "|2016-01-11|\n",
            "|2016-01-11|\n",
            "|2016-01-12|\n",
            "|2016-01-12|\n",
            "|2016-01-12|\n",
            "+----------+\n",
            "only showing top 20 rows\n",
            "\n"
          ]
        }
      ]
    }
  ]
}
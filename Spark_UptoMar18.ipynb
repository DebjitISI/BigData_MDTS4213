{
  "nbformat": 4,
  "nbformat_minor": 0,
  "metadata": {
    "colab": {
      "provenance": []
    },
    "kernelspec": {
      "name": "python3",
      "display_name": "Python 3"
    },
    "language_info": {
      "name": "python"
    }
  },
  "cells": [
    {
      "cell_type": "code",
      "execution_count": null,
      "metadata": {
        "colab": {
          "base_uri": "https://localhost:8080/"
        },
        "id": "_N6_1ooZZzzf",
        "outputId": "d0909c04-2eb4-4030-b8d1-6be33d2bdc66"
      },
      "outputs": [
        {
          "output_type": "stream",
          "name": "stdout",
          "text": [
            "Requirement already satisfied: pyspark in /usr/local/lib/python3.11/dist-packages (3.5.5)\n",
            "Requirement already satisfied: py4j==0.10.9.7 in /usr/local/lib/python3.11/dist-packages (from pyspark) (0.10.9.7)\n"
          ]
        }
      ],
      "source": [
        "!pip install pyspark"
      ]
    },
    {
      "cell_type": "code",
      "source": [
        "import pyspark"
      ],
      "metadata": {
        "id": "2rt0VDzkacj5"
      },
      "execution_count": null,
      "outputs": []
    },
    {
      "cell_type": "code",
      "source": [
        "!pip install kaggle"
      ],
      "metadata": {
        "colab": {
          "base_uri": "https://localhost:8080/"
        },
        "id": "Yij9QJOiah0B",
        "outputId": "f2bdc222-923b-4121-8aed-76ed4680f251"
      },
      "execution_count": null,
      "outputs": [
        {
          "output_type": "stream",
          "name": "stdout",
          "text": [
            "Requirement already satisfied: kaggle in /usr/local/lib/python3.11/dist-packages (1.6.17)\n",
            "Requirement already satisfied: six>=1.10 in /usr/local/lib/python3.11/dist-packages (from kaggle) (1.17.0)\n",
            "Requirement already satisfied: certifi>=2023.7.22 in /usr/local/lib/python3.11/dist-packages (from kaggle) (2025.1.31)\n",
            "Requirement already satisfied: python-dateutil in /usr/local/lib/python3.11/dist-packages (from kaggle) (2.8.2)\n",
            "Requirement already satisfied: requests in /usr/local/lib/python3.11/dist-packages (from kaggle) (2.32.3)\n",
            "Requirement already satisfied: tqdm in /usr/local/lib/python3.11/dist-packages (from kaggle) (4.67.1)\n",
            "Requirement already satisfied: python-slugify in /usr/local/lib/python3.11/dist-packages (from kaggle) (8.0.4)\n",
            "Requirement already satisfied: urllib3 in /usr/local/lib/python3.11/dist-packages (from kaggle) (2.3.0)\n",
            "Requirement already satisfied: bleach in /usr/local/lib/python3.11/dist-packages (from kaggle) (6.2.0)\n",
            "Requirement already satisfied: webencodings in /usr/local/lib/python3.11/dist-packages (from bleach->kaggle) (0.5.1)\n",
            "Requirement already satisfied: text-unidecode>=1.3 in /usr/local/lib/python3.11/dist-packages (from python-slugify->kaggle) (1.3)\n",
            "Requirement already satisfied: charset-normalizer<4,>=2 in /usr/local/lib/python3.11/dist-packages (from requests->kaggle) (3.4.1)\n",
            "Requirement already satisfied: idna<4,>=2.5 in /usr/local/lib/python3.11/dist-packages (from requests->kaggle) (3.10)\n"
          ]
        }
      ]
    },
    {
      "cell_type": "code",
      "source": [
        "from google.colab import drive\n",
        "drive.mount('/content/drive',force_remount=True)"
      ],
      "metadata": {
        "colab": {
          "base_uri": "https://localhost:8080/"
        },
        "id": "FULdmH8Wao1i",
        "outputId": "f40b9aa9-05fe-4051-9693-a38441468d1d"
      },
      "execution_count": null,
      "outputs": [
        {
          "output_type": "stream",
          "name": "stdout",
          "text": [
            "Mounted at /content/drive\n"
          ]
        }
      ]
    },
    {
      "cell_type": "code",
      "source": [
        "!pip install --upgrade kaggle"
      ],
      "metadata": {
        "colab": {
          "base_uri": "https://localhost:8080/"
        },
        "id": "Qbj7PsKKbM81",
        "outputId": "7042c0a4-9043-41e6-850a-739ae1522ff6"
      },
      "execution_count": null,
      "outputs": [
        {
          "output_type": "stream",
          "name": "stdout",
          "text": [
            "Requirement already satisfied: kaggle in /usr/local/lib/python3.11/dist-packages (1.6.17)\n",
            "Collecting kaggle\n",
            "  Downloading kaggle-1.7.4.2-py3-none-any.whl.metadata (16 kB)\n",
            "Requirement already satisfied: bleach in /usr/local/lib/python3.11/dist-packages (from kaggle) (6.2.0)\n",
            "Requirement already satisfied: certifi>=14.05.14 in /usr/local/lib/python3.11/dist-packages (from kaggle) (2025.1.31)\n",
            "Requirement already satisfied: charset-normalizer in /usr/local/lib/python3.11/dist-packages (from kaggle) (3.4.1)\n",
            "Requirement already satisfied: idna in /usr/local/lib/python3.11/dist-packages (from kaggle) (3.10)\n",
            "Requirement already satisfied: protobuf in /usr/local/lib/python3.11/dist-packages (from kaggle) (4.25.6)\n",
            "Requirement already satisfied: python-dateutil>=2.5.3 in /usr/local/lib/python3.11/dist-packages (from kaggle) (2.8.2)\n",
            "Requirement already satisfied: python-slugify in /usr/local/lib/python3.11/dist-packages (from kaggle) (8.0.4)\n",
            "Requirement already satisfied: requests in /usr/local/lib/python3.11/dist-packages (from kaggle) (2.32.3)\n",
            "Requirement already satisfied: setuptools>=21.0.0 in /usr/local/lib/python3.11/dist-packages (from kaggle) (75.1.0)\n",
            "Requirement already satisfied: six>=1.10 in /usr/local/lib/python3.11/dist-packages (from kaggle) (1.17.0)\n",
            "Requirement already satisfied: text-unidecode in /usr/local/lib/python3.11/dist-packages (from kaggle) (1.3)\n",
            "Requirement already satisfied: tqdm in /usr/local/lib/python3.11/dist-packages (from kaggle) (4.67.1)\n",
            "Requirement already satisfied: urllib3>=1.15.1 in /usr/local/lib/python3.11/dist-packages (from kaggle) (2.3.0)\n",
            "Requirement already satisfied: webencodings in /usr/local/lib/python3.11/dist-packages (from kaggle) (0.5.1)\n",
            "Downloading kaggle-1.7.4.2-py3-none-any.whl (173 kB)\n",
            "\u001b[2K   \u001b[90m━━━━━━━━━━━━━━━━━━━━━━━━━━━━━━━━━━━━━━━━\u001b[0m \u001b[32m173.2/173.2 kB\u001b[0m \u001b[31m6.5 MB/s\u001b[0m eta \u001b[36m0:00:00\u001b[0m\n",
            "\u001b[?25hInstalling collected packages: kaggle\n",
            "  Attempting uninstall: kaggle\n",
            "    Found existing installation: kaggle 1.6.17\n",
            "    Uninstalling kaggle-1.6.17:\n",
            "      Successfully uninstalled kaggle-1.6.17\n",
            "Successfully installed kaggle-1.7.4.2\n"
          ]
        }
      ]
    },
    {
      "cell_type": "code",
      "source": [
        "!mkdir -p ~/.kaggle"
      ],
      "metadata": {
        "id": "KM5MKe5HbnnY"
      },
      "execution_count": null,
      "outputs": []
    },
    {
      "cell_type": "code",
      "source": [
        "!cp \"/content/drive/My Drive/kaggle.json\" /root/.kaggle/kaggle.json"
      ],
      "metadata": {
        "id": "pTQ4gnqVb0K6"
      },
      "execution_count": null,
      "outputs": []
    },
    {
      "cell_type": "code",
      "source": [
        "!chmod 600 /root/.kaggle/kaggle.json"
      ],
      "metadata": {
        "id": "JZAegM10dzwL"
      },
      "execution_count": null,
      "outputs": []
    },
    {
      "cell_type": "code",
      "source": [],
      "metadata": {
        "id": "mOyBH9Hj2H3w"
      },
      "execution_count": null,
      "outputs": []
    },
    {
      "cell_type": "code",
      "source": [
        "!kaggle datasets download -d uciml/autompg-dataset --force"
      ],
      "metadata": {
        "colab": {
          "base_uri": "https://localhost:8080/"
        },
        "id": "s_nSnQB-hwPE",
        "outputId": "f1e76a66-9eba-4b5b-d9c6-589e72805e48"
      },
      "execution_count": null,
      "outputs": [
        {
          "output_type": "stream",
          "name": "stdout",
          "text": [
            "Dataset URL: https://www.kaggle.com/datasets/uciml/autompg-dataset\n",
            "License(s): CC0-1.0\n",
            "Downloading autompg-dataset.zip to /content\n",
            "  0% 0.00/6.31k [00:00<?, ?B/s]\n",
            "100% 6.31k/6.31k [00:00<00:00, 19.4MB/s]\n"
          ]
        }
      ]
    },
    {
      "cell_type": "code",
      "source": [
        "import os\n",
        "folder_path = \"/content/drive/My Drive/data\"\n",
        "os.makedirs(folder_path, exist_ok=True)"
      ],
      "metadata": {
        "id": "gDmSUzrsiJ9V"
      },
      "execution_count": null,
      "outputs": []
    },
    {
      "cell_type": "code",
      "source": [
        "!unzip autompg-dataset.zip -d \"/content/drive/My Drive/data\""
      ],
      "metadata": {
        "colab": {
          "base_uri": "https://localhost:8080/"
        },
        "id": "b-u5uthfjn8T",
        "outputId": "4d8e5dfa-4832-4a5e-ff83-c2bdb1b9d1e4"
      },
      "execution_count": null,
      "outputs": [
        {
          "output_type": "stream",
          "name": "stdout",
          "text": [
            "Archive:  autompg-dataset.zip\n",
            "replace /content/drive/My Drive/data/auto-mpg.csv? [y]es, [n]o, [A]ll, [N]one, [r]ename: y\n",
            "  inflating: /content/drive/My Drive/data/auto-mpg.csv  \n"
          ]
        }
      ]
    },
    {
      "cell_type": "code",
      "source": [
        "import os\n",
        "import warnings\n",
        "warnings.filterwarnings('ignore')\n",
        "from pyspark.sql import SparkSession\n",
        "from pyspark.sql.types import StructField, StructType, StringType, IntegerType, FloatType\n",
        "from pyspark.sql.functions import split, count, when, isnan, col, regexp_replace\n",
        "from pyspark.ml.regression import LinearRegression\n",
        "from pyspark.ml.feature import OneHotEncoder, StringIndexer, VectorAssembler\n",
        "from pyspark.ml.linalg import Vectors\n",
        "\n",
        "for dirname, _, filenames in os.walk('/kaggle/input'):\n",
        "  for filename in filenames:\n",
        "    print(os.path.join(dirname, filename))"
      ],
      "metadata": {
        "id": "obx9iUR_kl9X"
      },
      "execution_count": null,
      "outputs": []
    },
    {
      "cell_type": "code",
      "source": [
        "spark = SparkSession.builder.appName('First Session').getOrCreate()\n",
        "\n",
        "print(f\"Spark Version ({format(spark.version)})\")"
      ],
      "metadata": {
        "colab": {
          "base_uri": "https://localhost:8080/",
          "height": 176
        },
        "id": "-AhPAmU_lB6n",
        "outputId": "16ca11f6-9db2-47a6-98ed-a384ecfb7032"
      },
      "execution_count": null,
      "outputs": [
        {
          "output_type": "error",
          "ename": "NameError",
          "evalue": "name 'SparkSession' is not defined",
          "traceback": [
            "\u001b[0;31m---------------------------------------------------------------------------\u001b[0m",
            "\u001b[0;31mNameError\u001b[0m                                 Traceback (most recent call last)",
            "\u001b[0;32m<ipython-input-9-c648b045005e>\u001b[0m in \u001b[0;36m<cell line: 0>\u001b[0;34m()\u001b[0m\n\u001b[0;32m----> 1\u001b[0;31m \u001b[0mspark\u001b[0m \u001b[0;34m=\u001b[0m \u001b[0mSparkSession\u001b[0m\u001b[0;34m.\u001b[0m\u001b[0mbuilder\u001b[0m\u001b[0;34m.\u001b[0m\u001b[0mappName\u001b[0m\u001b[0;34m(\u001b[0m\u001b[0;34m'First Session'\u001b[0m\u001b[0;34m)\u001b[0m\u001b[0;34m.\u001b[0m\u001b[0mgetOrCreate\u001b[0m\u001b[0;34m(\u001b[0m\u001b[0;34m)\u001b[0m\u001b[0;34m\u001b[0m\u001b[0;34m\u001b[0m\u001b[0m\n\u001b[0m\u001b[1;32m      2\u001b[0m \u001b[0;34m\u001b[0m\u001b[0m\n\u001b[1;32m      3\u001b[0m \u001b[0mprint\u001b[0m\u001b[0;34m(\u001b[0m\u001b[0;34mf\"Spark Version ({format(spark.version)})\"\u001b[0m\u001b[0;34m)\u001b[0m\u001b[0;34m\u001b[0m\u001b[0;34m\u001b[0m\u001b[0m\n",
            "\u001b[0;31mNameError\u001b[0m: name 'SparkSession' is not defined"
          ]
        }
      ]
    },
    {
      "cell_type": "code",
      "source": [
        "file_path = '/content/drive/My Drive/data/auto-mpg.csv'\n",
        "df = spark.read.csv(file_path, header=True, inferSchema=True,nanValue='?')\n",
        "df.show()"
      ],
      "metadata": {
        "colab": {
          "base_uri": "https://localhost:8080/"
        },
        "id": "hU0Pi1gSsIS4",
        "outputId": "ea7c98cc-6787-4dfc-9537-4a1313f2fd53"
      },
      "execution_count": null,
      "outputs": [
        {
          "output_type": "stream",
          "name": "stdout",
          "text": [
            "+----+---------+------------+----------+------+------------+----------+------+--------------------+\n",
            "| mpg|cylinders|displacement|horsepower|weight|acceleration|model year|origin|            car name|\n",
            "+----+---------+------------+----------+------+------------+----------+------+--------------------+\n",
            "|18.0|        8|       307.0|     130.0|  3504|        12.0|        70|     1|chevrolet chevell...|\n",
            "|15.0|        8|       350.0|     165.0|  3693|        11.5|        70|     1|   buick skylark 320|\n",
            "|18.0|        8|       318.0|     150.0|  3436|        11.0|        70|     1|  plymouth satellite|\n",
            "|16.0|        8|       304.0|     150.0|  3433|        12.0|        70|     1|       amc rebel sst|\n",
            "|17.0|        8|       302.0|     140.0|  3449|        10.5|        70|     1|         ford torino|\n",
            "|15.0|        8|       429.0|     198.0|  4341|        10.0|        70|     1|    ford galaxie 500|\n",
            "|14.0|        8|       454.0|     220.0|  4354|         9.0|        70|     1|    chevrolet impala|\n",
            "|14.0|        8|       440.0|     215.0|  4312|         8.5|        70|     1|   plymouth fury iii|\n",
            "|14.0|        8|       455.0|     225.0|  4425|        10.0|        70|     1|    pontiac catalina|\n",
            "|15.0|        8|       390.0|     190.0|  3850|         8.5|        70|     1|  amc ambassador dpl|\n",
            "|15.0|        8|       383.0|     170.0|  3563|        10.0|        70|     1| dodge challenger se|\n",
            "|14.0|        8|       340.0|     160.0|  3609|         8.0|        70|     1|  plymouth 'cuda 340|\n",
            "|15.0|        8|       400.0|     150.0|  3761|         9.5|        70|     1|chevrolet monte c...|\n",
            "|14.0|        8|       455.0|     225.0|  3086|        10.0|        70|     1|buick estate wago...|\n",
            "|24.0|        4|       113.0|      95.0|  2372|        15.0|        70|     3|toyota corona mar...|\n",
            "|22.0|        6|       198.0|      95.0|  2833|        15.5|        70|     1|     plymouth duster|\n",
            "|18.0|        6|       199.0|      97.0|  2774|        15.5|        70|     1|          amc hornet|\n",
            "|21.0|        6|       200.0|      85.0|  2587|        16.0|        70|     1|       ford maverick|\n",
            "|27.0|        4|        97.0|      88.0|  2130|        14.5|        70|     3|        datsun pl510|\n",
            "|26.0|        4|        97.0|      46.0|  1835|        20.5|        70|     2|volkswagen 1131 d...|\n",
            "+----+---------+------------+----------+------+------------+----------+------+--------------------+\n",
            "only showing top 20 rows\n",
            "\n"
          ]
        }
      ]
    },
    {
      "cell_type": "code",
      "source": [
        "df.dtypes\n",
        "\n"
      ],
      "metadata": {
        "colab": {
          "base_uri": "https://localhost:8080/"
        },
        "id": "6KzvdZfhszdg",
        "outputId": "f947bd80-ac69-40da-fa9e-15e29a0fa6ed"
      },
      "execution_count": null,
      "outputs": [
        {
          "output_type": "execute_result",
          "data": {
            "text/plain": [
              "[('mpg', 'double'),\n",
              " ('cylinders', 'int'),\n",
              " ('displacement', 'double'),\n",
              " ('horsepower', 'double'),\n",
              " ('weight', 'int'),\n",
              " ('acceleration', 'double'),\n",
              " ('model year', 'int'),\n",
              " ('origin', 'int'),\n",
              " ('car name', 'string')]"
            ]
          },
          "metadata": {},
          "execution_count": 15
        }
      ]
    },
    {
      "cell_type": "code",
      "source": [
        "def check_missing(dataframe):\n",
        "  return dataframe.select([count(when(isnan(col(c)) | col(c).isNull(), c)).alias(c) for c in dataframe.columns]).show()\n",
        "\n",
        "#check_missing(df)"
      ],
      "metadata": {
        "id": "dMCREfL9uwRn"
      },
      "execution_count": null,
      "outputs": []
    },
    {
      "cell_type": "code",
      "source": [
        "df.dropna().show()"
      ],
      "metadata": {
        "colab": {
          "base_uri": "https://localhost:8080/"
        },
        "id": "r-ZCYovdd7rq",
        "outputId": "a847c42d-4010-4218-d719-00e4996bf010"
      },
      "execution_count": null,
      "outputs": [
        {
          "output_type": "stream",
          "name": "stdout",
          "text": [
            "+----+---------+------------+----------+------+------------+----------+------+--------------------+\n",
            "| mpg|cylinders|displacement|horsepower|weight|acceleration|model year|origin|            car name|\n",
            "+----+---------+------------+----------+------+------------+----------+------+--------------------+\n",
            "|18.0|        8|       307.0|     130.0|  3504|        12.0|        70|     1|chevrolet chevell...|\n",
            "|15.0|        8|       350.0|     165.0|  3693|        11.5|        70|     1|   buick skylark 320|\n",
            "|18.0|        8|       318.0|     150.0|  3436|        11.0|        70|     1|  plymouth satellite|\n",
            "|16.0|        8|       304.0|     150.0|  3433|        12.0|        70|     1|       amc rebel sst|\n",
            "|17.0|        8|       302.0|     140.0|  3449|        10.5|        70|     1|         ford torino|\n",
            "|15.0|        8|       429.0|     198.0|  4341|        10.0|        70|     1|    ford galaxie 500|\n",
            "|14.0|        8|       454.0|     220.0|  4354|         9.0|        70|     1|    chevrolet impala|\n",
            "|14.0|        8|       440.0|     215.0|  4312|         8.5|        70|     1|   plymouth fury iii|\n",
            "|14.0|        8|       455.0|     225.0|  4425|        10.0|        70|     1|    pontiac catalina|\n",
            "|15.0|        8|       390.0|     190.0|  3850|         8.5|        70|     1|  amc ambassador dpl|\n",
            "|15.0|        8|       383.0|     170.0|  3563|        10.0|        70|     1| dodge challenger se|\n",
            "|14.0|        8|       340.0|     160.0|  3609|         8.0|        70|     1|  plymouth 'cuda 340|\n",
            "|15.0|        8|       400.0|     150.0|  3761|         9.5|        70|     1|chevrolet monte c...|\n",
            "|14.0|        8|       455.0|     225.0|  3086|        10.0|        70|     1|buick estate wago...|\n",
            "|24.0|        4|       113.0|      95.0|  2372|        15.0|        70|     3|toyota corona mar...|\n",
            "|22.0|        6|       198.0|      95.0|  2833|        15.5|        70|     1|     plymouth duster|\n",
            "|18.0|        6|       199.0|      97.0|  2774|        15.5|        70|     1|          amc hornet|\n",
            "|21.0|        6|       200.0|      85.0|  2587|        16.0|        70|     1|       ford maverick|\n",
            "|27.0|        4|        97.0|      88.0|  2130|        14.5|        70|     3|        datsun pl510|\n",
            "|26.0|        4|        97.0|      46.0|  1835|        20.5|        70|     2|volkswagen 1131 d...|\n",
            "+----+---------+------------+----------+------+------------+----------+------+--------------------+\n",
            "only showing top 20 rows\n",
            "\n"
          ]
        }
      ]
    },
    {
      "cell_type": "code",
      "source": [
        "#col_names = ['mpg', 'cylinders', 'displacement', 'horsepower', 'weight', 'acceleration', 'model year', 'origin', 'car name']\n",
        "#for col in col_names:\n",
        "#  cols=col.split(sep=\" \")\n",
        "#  colums=''\n",
        "#  for c in cols:\n",
        "#    colums += c + \"_\"\n",
        "#  print(colums)\n",
        "#df = df.withColumnRenamed(col, colums)\n",
        "#df.show()\n",
        "df.show(10)\n",
        "#df = df.withColumnRenamed('car name', regexp_replace('car name', ' ', '_'))\n",
        "df.show()\n",
        "#cols"
      ],
      "metadata": {
        "colab": {
          "base_uri": "https://localhost:8080/"
        },
        "id": "JS3eEX_MhMc0",
        "outputId": "81b73de1-b2c0-4267-bb5e-a1f7ce08ba4b"
      },
      "execution_count": null,
      "outputs": [
        {
          "output_type": "stream",
          "name": "stdout",
          "text": [
            "+----+---------+------------+----------+------+------------+----------+------+--------------------+\n",
            "| mpg|cylinders|displacement|horsepower|weight|acceleration|model year|origin|            car name|\n",
            "+----+---------+------------+----------+------+------------+----------+------+--------------------+\n",
            "|18.0|        8|       307.0|     130.0|  3504|        12.0|        70|     1|chevrolet chevell...|\n",
            "|15.0|        8|       350.0|     165.0|  3693|        11.5|        70|     1|   buick skylark 320|\n",
            "|18.0|        8|       318.0|     150.0|  3436|        11.0|        70|     1|  plymouth satellite|\n",
            "|16.0|        8|       304.0|     150.0|  3433|        12.0|        70|     1|       amc rebel sst|\n",
            "|17.0|        8|       302.0|     140.0|  3449|        10.5|        70|     1|         ford torino|\n",
            "|15.0|        8|       429.0|     198.0|  4341|        10.0|        70|     1|    ford galaxie 500|\n",
            "|14.0|        8|       454.0|     220.0|  4354|         9.0|        70|     1|    chevrolet impala|\n",
            "|14.0|        8|       440.0|     215.0|  4312|         8.5|        70|     1|   plymouth fury iii|\n",
            "|14.0|        8|       455.0|     225.0|  4425|        10.0|        70|     1|    pontiac catalina|\n",
            "|15.0|        8|       390.0|     190.0|  3850|         8.5|        70|     1|  amc ambassador dpl|\n",
            "+----+---------+------------+----------+------+------------+----------+------+--------------------+\n",
            "only showing top 10 rows\n",
            "\n",
            "+----+---------+------------+----------+------+------------+----------+------+--------------------+\n",
            "| mpg|cylinders|displacement|horsepower|weight|acceleration|model year|origin|            car name|\n",
            "+----+---------+------------+----------+------+------------+----------+------+--------------------+\n",
            "|18.0|        8|       307.0|     130.0|  3504|        12.0|        70|     1|chevrolet chevell...|\n",
            "|15.0|        8|       350.0|     165.0|  3693|        11.5|        70|     1|   buick skylark 320|\n",
            "|18.0|        8|       318.0|     150.0|  3436|        11.0|        70|     1|  plymouth satellite|\n",
            "|16.0|        8|       304.0|     150.0|  3433|        12.0|        70|     1|       amc rebel sst|\n",
            "|17.0|        8|       302.0|     140.0|  3449|        10.5|        70|     1|         ford torino|\n",
            "|15.0|        8|       429.0|     198.0|  4341|        10.0|        70|     1|    ford galaxie 500|\n",
            "|14.0|        8|       454.0|     220.0|  4354|         9.0|        70|     1|    chevrolet impala|\n",
            "|14.0|        8|       440.0|     215.0|  4312|         8.5|        70|     1|   plymouth fury iii|\n",
            "|14.0|        8|       455.0|     225.0|  4425|        10.0|        70|     1|    pontiac catalina|\n",
            "|15.0|        8|       390.0|     190.0|  3850|         8.5|        70|     1|  amc ambassador dpl|\n",
            "|15.0|        8|       383.0|     170.0|  3563|        10.0|        70|     1| dodge challenger se|\n",
            "|14.0|        8|       340.0|     160.0|  3609|         8.0|        70|     1|  plymouth 'cuda 340|\n",
            "|15.0|        8|       400.0|     150.0|  3761|         9.5|        70|     1|chevrolet monte c...|\n",
            "|14.0|        8|       455.0|     225.0|  3086|        10.0|        70|     1|buick estate wago...|\n",
            "|24.0|        4|       113.0|      95.0|  2372|        15.0|        70|     3|toyota corona mar...|\n",
            "|22.0|        6|       198.0|      95.0|  2833|        15.5|        70|     1|     plymouth duster|\n",
            "|18.0|        6|       199.0|      97.0|  2774|        15.5|        70|     1|          amc hornet|\n",
            "|21.0|        6|       200.0|      85.0|  2587|        16.0|        70|     1|       ford maverick|\n",
            "|27.0|        4|        97.0|      88.0|  2130|        14.5|        70|     3|        datsun pl510|\n",
            "|26.0|        4|        97.0|      46.0|  1835|        20.5|        70|     2|volkswagen 1131 d...|\n",
            "+----+---------+------------+----------+------+------------+----------+------+--------------------+\n",
            "only showing top 20 rows\n",
            "\n"
          ]
        }
      ]
    },
    {
      "cell_type": "code",
      "source": [
        "#regexp_replace(col(df), ' ', '_')"
      ],
      "metadata": {
        "id": "BuKn25BSnROM"
      },
      "execution_count": null,
      "outputs": []
    },
    {
      "cell_type": "code",
      "source": [
        "df = df.withColumn('horsepower', col('horsepower').cast('int'))\n",
        "df.dtypes"
      ],
      "metadata": {
        "colab": {
          "base_uri": "https://localhost:8080/"
        },
        "id": "ZqbSBZ_avupX",
        "outputId": "db3526b5-ad9c-4259-8efb-2243ea3b6d75"
      },
      "execution_count": null,
      "outputs": [
        {
          "output_type": "execute_result",
          "data": {
            "text/plain": [
              "[('mpg', 'double'),\n",
              " ('cylinders', 'int'),\n",
              " ('displacement', 'double'),\n",
              " ('horsepower', 'int'),\n",
              " ('weight', 'int'),\n",
              " ('acceleration', 'double'),\n",
              " ('model year', 'int'),\n",
              " ('origin', 'int'),\n",
              " ('car name', 'string')]"
            ]
          },
          "metadata": {},
          "execution_count": 20
        }
      ]
    },
    {
      "cell_type": "code",
      "source": [
        "numeric_cols= [c for c,t in df.dtypes if t.startswith('string')==False]\n",
        "df[numeric_cols].summary().show()"
      ],
      "metadata": {
        "colab": {
          "base_uri": "https://localhost:8080/"
        },
        "id": "eDmmfG_Om2ze",
        "outputId": "499ea654-f9f7-40ae-9ca5-75363747d390"
      },
      "execution_count": null,
      "outputs": [
        {
          "output_type": "stream",
          "name": "stdout",
          "text": [
            "+-------+------------------+------------------+------------------+------------------+-----------------+------------------+------------------+------------------+\n",
            "|summary|               mpg|         cylinders|      displacement|        horsepower|           weight|      acceleration|        model year|            origin|\n",
            "+-------+------------------+------------------+------------------+------------------+-----------------+------------------+------------------+------------------+\n",
            "|  count|               398|               398|               398|               398|              398|               398|               398|               398|\n",
            "|   mean|23.514572864321615| 5.454773869346734|193.42587939698493|102.89447236180905|2970.424623115578|15.568090452261291| 76.01005025125629|1.5728643216080402|\n",
            "| stddev| 7.815984312565783|1.7010042445332123|104.26983817119587| 40.26954421185716|846.8417741973268| 2.757688929812676|3.6976266467325862|0.8020548777266148|\n",
            "|    min|               9.0|                 3|              68.0|                 0|             1613|               8.0|                70|                 1|\n",
            "|    25%|              17.5|                 4|             104.0|                75|             2223|              13.8|                73|                 1|\n",
            "|    50%|              23.0|                 4|             146.0|                92|             2800|              15.5|                76|                 1|\n",
            "|    75%|              29.0|                 8|             262.0|               125|             3609|              17.2|                79|                 2|\n",
            "|    max|              46.6|                 8|             455.0|               230|             5140|              24.8|                82|                 3|\n",
            "+-------+------------------+------------------+------------------+------------------+-----------------+------------------+------------------+------------------+\n",
            "\n"
          ]
        }
      ]
    },
    {
      "cell_type": "code",
      "source": [
        "df.printSchema()"
      ],
      "metadata": {
        "colab": {
          "base_uri": "https://localhost:8080/"
        },
        "id": "jskaRjSO0j-q",
        "outputId": "18ddf0e5-2dde-422c-c940-21b5ddaef6fe"
      },
      "execution_count": null,
      "outputs": [
        {
          "output_type": "stream",
          "name": "stdout",
          "text": [
            "root\n",
            " |-- mpg: double (nullable = true)\n",
            " |-- cylinders: integer (nullable = true)\n",
            " |-- displacement: double (nullable = true)\n",
            " |-- horsepower: integer (nullable = true)\n",
            " |-- weight: integer (nullable = true)\n",
            " |-- acceleration: double (nullable = true)\n",
            " |-- model year: integer (nullable = true)\n",
            " |-- origin: integer (nullable = true)\n",
            " |-- car name: string (nullable = true)\n",
            "\n"
          ]
        }
      ]
    },
    {
      "cell_type": "code",
      "source": [
        "df.filter(df['acceleration']>15).show()"
      ],
      "metadata": {
        "colab": {
          "base_uri": "https://localhost:8080/"
        },
        "id": "6b9wXgxmn4ft",
        "outputId": "be8287e7-0175-43b1-e9b0-74c5ad3db1f8"
      },
      "execution_count": null,
      "outputs": [
        {
          "output_type": "stream",
          "name": "stdout",
          "text": [
            "+----+---------+------------+----------+------+------------+----------+------+--------------------+\n",
            "| mpg|cylinders|displacement|horsepower|weight|acceleration|model year|origin|            car name|\n",
            "+----+---------+------------+----------+------+------------+----------+------+--------------------+\n",
            "|22.0|        6|       198.0|        95|  2833|        15.5|        70|     1|     plymouth duster|\n",
            "|18.0|        6|       199.0|        97|  2774|        15.5|        70|     1|          amc hornet|\n",
            "|21.0|        6|       200.0|        85|  2587|        16.0|        70|     1|       ford maverick|\n",
            "|26.0|        4|        97.0|        46|  1835|        20.5|        70|     2|volkswagen 1131 d...|\n",
            "|25.0|        4|       110.0|        87|  2672|        17.5|        70|     2|         peugeot 504|\n",
            "|25.0|        4|       104.0|        95|  2375|        17.5|        70|     2|            saab 99e|\n",
            "| 9.0|        8|       304.0|       193|  4732|        18.5|        70|     1|            hi 1200d|\n",
            "|28.0|        4|       140.0|        90|  2264|        15.5|        71|     1| chevrolet vega 2300|\n",
            "|25.0|        4|        98.0|         0|  2046|        19.0|        71|     1|          ford pinto|\n",
            "|16.0|        6|       225.0|       105|  3439|        15.5|        71|     1|plymouth satellit...|\n",
            "|17.0|        6|       250.0|       100|  3329|        15.5|        71|     1|chevrolet chevell...|\n",
            "|19.0|        6|       250.0|        88|  3302|        15.5|        71|     1|     ford torino 500|\n",
            "|18.0|        6|       232.0|       100|  3288|        15.5|        71|     1|         amc matador|\n",
            "|22.0|        4|       140.0|        72|  2408|        19.0|        71|     1| chevrolet vega (sw)|\n",
            "|30.0|        4|        79.0|        70|  2074|        19.5|        71|     2|         peugeot 304|\n",
            "|31.0|        4|        71.0|        65|  1773|        19.0|        71|     3| toyota corolla 1200|\n",
            "|35.0|        4|        72.0|        69|  1613|        18.0|        71|     3|         datsun 1200|\n",
            "|27.0|        4|        97.0|        60|  1834|        19.0|        71|     2|volkswagen model 111|\n",
            "|26.0|        4|        91.0|        70|  1955|        20.5|        71|     1|    plymouth cricket|\n",
            "|24.0|        4|       113.0|        95|  2278|        15.5|        72|     3|toyota corona har...|\n",
            "+----+---------+------------+----------+------+------------+----------+------+--------------------+\n",
            "only showing top 20 rows\n",
            "\n"
          ]
        }
      ]
    },
    {
      "cell_type": "code",
      "source": [
        "df.filter(df['mpg']>23).show(10)"
      ],
      "metadata": {
        "colab": {
          "base_uri": "https://localhost:8080/"
        },
        "id": "gX7AV6ZL1b2O",
        "outputId": "e5bb3c23-c127-440c-9746-2bf4ac1e350e"
      },
      "execution_count": null,
      "outputs": [
        {
          "output_type": "stream",
          "name": "stdout",
          "text": [
            "+----+---------+------------+----------+------+------------+----------+------+--------------------+\n",
            "| mpg|cylinders|displacement|horsepower|weight|acceleration|model year|origin|            car name|\n",
            "+----+---------+------------+----------+------+------------+----------+------+--------------------+\n",
            "|24.0|        4|       113.0|        95|  2372|        15.0|        70|     3|toyota corona mar...|\n",
            "|27.0|        4|        97.0|        88|  2130|        14.5|        70|     3|        datsun pl510|\n",
            "|26.0|        4|        97.0|        46|  1835|        20.5|        70|     2|volkswagen 1131 d...|\n",
            "|25.0|        4|       110.0|        87|  2672|        17.5|        70|     2|         peugeot 504|\n",
            "|24.0|        4|       107.0|        90|  2430|        14.5|        70|     2|         audi 100 ls|\n",
            "|25.0|        4|       104.0|        95|  2375|        17.5|        70|     2|            saab 99e|\n",
            "|26.0|        4|       121.0|       113|  2234|        12.5|        70|     2|            bmw 2002|\n",
            "|27.0|        4|        97.0|        88|  2130|        14.5|        71|     3|        datsun pl510|\n",
            "|28.0|        4|       140.0|        90|  2264|        15.5|        71|     1| chevrolet vega 2300|\n",
            "|25.0|        4|       113.0|        95|  2228|        14.0|        71|     3|       toyota corona|\n",
            "+----+---------+------------+----------+------+------------+----------+------+--------------------+\n",
            "only showing top 10 rows\n",
            "\n"
          ]
        }
      ]
    },
    {
      "cell_type": "code",
      "source": [
        "df.filter((col('weight')>2000) & (col('horsepower')>80)).show(10)"
      ],
      "metadata": {
        "colab": {
          "base_uri": "https://localhost:8080/"
        },
        "id": "95gO7zj-16q6",
        "outputId": "1b8e84ba-a2db-479b-8a96-dc82f7a747af"
      },
      "execution_count": null,
      "outputs": [
        {
          "output_type": "stream",
          "name": "stdout",
          "text": [
            "+----+---------+------------+----------+------+------------+----------+------+--------------------+\n",
            "| mpg|cylinders|displacement|horsepower|weight|acceleration|model year|origin|            car name|\n",
            "+----+---------+------------+----------+------+------------+----------+------+--------------------+\n",
            "|18.0|        8|       307.0|       130|  3504|        12.0|        70|     1|chevrolet chevell...|\n",
            "|15.0|        8|       350.0|       165|  3693|        11.5|        70|     1|   buick skylark 320|\n",
            "|18.0|        8|       318.0|       150|  3436|        11.0|        70|     1|  plymouth satellite|\n",
            "|16.0|        8|       304.0|       150|  3433|        12.0|        70|     1|       amc rebel sst|\n",
            "|17.0|        8|       302.0|       140|  3449|        10.5|        70|     1|         ford torino|\n",
            "|15.0|        8|       429.0|       198|  4341|        10.0|        70|     1|    ford galaxie 500|\n",
            "|14.0|        8|       454.0|       220|  4354|         9.0|        70|     1|    chevrolet impala|\n",
            "|14.0|        8|       440.0|       215|  4312|         8.5|        70|     1|   plymouth fury iii|\n",
            "|14.0|        8|       455.0|       225|  4425|        10.0|        70|     1|    pontiac catalina|\n",
            "|15.0|        8|       390.0|       190|  3850|         8.5|        70|     1|  amc ambassador dpl|\n",
            "+----+---------+------------+----------+------+------------+----------+------+--------------------+\n",
            "only showing top 10 rows\n",
            "\n"
          ]
        }
      ]
    },
    {
      "cell_type": "code",
      "source": [
        "df.filter((col('weight')>2000) & (col('horsepower')>80)).sort('mpg').show(10)"
      ],
      "metadata": {
        "colab": {
          "base_uri": "https://localhost:8080/"
        },
        "id": "PTM5Cg3sobl2",
        "outputId": "81c707f4-1d88-4807-987e-956c831bdbcd"
      },
      "execution_count": null,
      "outputs": [
        {
          "output_type": "stream",
          "name": "stdout",
          "text": [
            "+----+---------+------------+----------+------+------------+----------+------+--------------------+\n",
            "| mpg|cylinders|displacement|horsepower|weight|acceleration|model year|origin|            car name|\n",
            "+----+---------+------------+----------+------+------------+----------+------+--------------------+\n",
            "| 9.0|        8|       304.0|       193|  4732|        18.5|        70|     1|            hi 1200d|\n",
            "|10.0|        8|       360.0|       215|  4615|        14.0|        70|     1|           ford f250|\n",
            "|10.0|        8|       307.0|       200|  4376|        15.0|        70|     1|           chevy c20|\n",
            "|11.0|        8|       318.0|       210|  4382|        13.5|        70|     1|          dodge d200|\n",
            "|11.0|        8|       429.0|       208|  4633|        11.0|        72|     1|     mercury marquis|\n",
            "|11.0|        8|       400.0|       150|  4997|        14.0|        73|     1|    chevrolet impala|\n",
            "|11.0|        8|       350.0|       180|  3664|        11.0|        73|     1|    oldsmobile omega|\n",
            "|12.0|        8|       383.0|       180|  4955|        11.5|        71|     1|   dodge monaco (sw)|\n",
            "|12.0|        8|       350.0|       160|  4456|        13.5|        72|     1|oldsmobile delta ...|\n",
            "|12.0|        8|       429.0|       198|  4952|        11.5|        73|     1|mercury marquis b...|\n",
            "+----+---------+------------+----------+------+------------+----------+------+--------------------+\n",
            "only showing top 10 rows\n",
            "\n"
          ]
        }
      ]
    },
    {
      "cell_type": "code",
      "source": [
        "df.filter((col('weight')>2000) & (col('horsepower')>80)).sort('mpg').show(10)"
      ],
      "metadata": {
        "colab": {
          "base_uri": "https://localhost:8080/"
        },
        "outputId": "e582d98c-8493-4265-eb16-69d638773f8c",
        "id": "GXidMJlio5h2"
      },
      "execution_count": null,
      "outputs": [
        {
          "output_type": "stream",
          "name": "stdout",
          "text": [
            "+----+---------+------------+----------+------+------------+----------+------+--------------------+\n",
            "| mpg|cylinders|displacement|horsepower|weight|acceleration|model year|origin|            car name|\n",
            "+----+---------+------------+----------+------+------------+----------+------+--------------------+\n",
            "| 9.0|        8|       304.0|       193|  4732|        18.5|        70|     1|            hi 1200d|\n",
            "|10.0|        8|       360.0|       215|  4615|        14.0|        70|     1|           ford f250|\n",
            "|10.0|        8|       307.0|       200|  4376|        15.0|        70|     1|           chevy c20|\n",
            "|11.0|        8|       318.0|       210|  4382|        13.5|        70|     1|          dodge d200|\n",
            "|11.0|        8|       429.0|       208|  4633|        11.0|        72|     1|     mercury marquis|\n",
            "|11.0|        8|       400.0|       150|  4997|        14.0|        73|     1|    chevrolet impala|\n",
            "|11.0|        8|       350.0|       180|  3664|        11.0|        73|     1|    oldsmobile omega|\n",
            "|12.0|        8|       383.0|       180|  4955|        11.5|        71|     1|   dodge monaco (sw)|\n",
            "|12.0|        8|       350.0|       160|  4456|        13.5|        72|     1|oldsmobile delta ...|\n",
            "|12.0|        8|       429.0|       198|  4952|        11.5|        73|     1|mercury marquis b...|\n",
            "+----+---------+------------+----------+------+------------+----------+------+--------------------+\n",
            "only showing top 10 rows\n",
            "\n"
          ]
        }
      ]
    },
    {
      "cell_type": "code",
      "source": [
        "df.filter((col('weight')>2000) & (col('horsepower')>80)).sort('mpg').show(10)"
      ],
      "metadata": {
        "colab": {
          "base_uri": "https://localhost:8080/"
        },
        "outputId": "205e7df5-91a0-4bba-b508-d232e6c4970a",
        "id": "UN9R6Cw5o8A5"
      },
      "execution_count": null,
      "outputs": [
        {
          "output_type": "stream",
          "name": "stdout",
          "text": [
            "+----+---------+------------+----------+------+------------+----------+------+--------------------+\n",
            "| mpg|cylinders|displacement|horsepower|weight|acceleration|model year|origin|            car name|\n",
            "+----+---------+------------+----------+------+------------+----------+------+--------------------+\n",
            "| 9.0|        8|       304.0|       193|  4732|        18.5|        70|     1|            hi 1200d|\n",
            "|10.0|        8|       360.0|       215|  4615|        14.0|        70|     1|           ford f250|\n",
            "|10.0|        8|       307.0|       200|  4376|        15.0|        70|     1|           chevy c20|\n",
            "|11.0|        8|       318.0|       210|  4382|        13.5|        70|     1|          dodge d200|\n",
            "|11.0|        8|       429.0|       208|  4633|        11.0|        72|     1|     mercury marquis|\n",
            "|11.0|        8|       400.0|       150|  4997|        14.0|        73|     1|    chevrolet impala|\n",
            "|11.0|        8|       350.0|       180|  3664|        11.0|        73|     1|    oldsmobile omega|\n",
            "|12.0|        8|       383.0|       180|  4955|        11.5|        71|     1|   dodge monaco (sw)|\n",
            "|12.0|        8|       350.0|       160|  4456|        13.5|        72|     1|oldsmobile delta ...|\n",
            "|12.0|        8|       429.0|       198|  4952|        11.5|        73|     1|mercury marquis b...|\n",
            "+----+---------+------------+----------+------+------------+----------+------+--------------------+\n",
            "only showing top 10 rows\n",
            "\n"
          ]
        }
      ]
    },
    {
      "cell_type": "code",
      "source": [
        "df.filter((col('weight')>2000) & (col('horsepower')>80)).sort(col('mpg').desc()).show(10)"
      ],
      "metadata": {
        "colab": {
          "base_uri": "https://localhost:8080/"
        },
        "outputId": "9f3023df-1c92-498c-f80b-fadd2b8b6afe",
        "id": "JTd0s0r7pDAb"
      },
      "execution_count": null,
      "outputs": [
        {
          "output_type": "stream",
          "name": "stdout",
          "text": [
            "+----+---------+------------+----------+------+------------+----------+------+--------------------+\n",
            "| mpg|cylinders|displacement|horsepower|weight|acceleration|model year|origin|            car name|\n",
            "+----+---------+------------+----------+------+------------+----------+------+--------------------+\n",
            "|38.0|        6|       262.0|        85|  3015|        17.0|        82|     1|oldsmobile cutlas...|\n",
            "|37.0|        4|       119.0|        92|  2434|        15.0|        80|     3|datsun 510 hatchback|\n",
            "|36.0|        4|       135.0|        84|  2370|        13.0|        82|     1|   dodge charger 2.2|\n",
            "|36.0|        4|       120.0|        88|  2160|        14.5|        82|     3|    nissan stanza xe|\n",
            "|35.0|        4|       122.0|        88|  2500|        15.1|        80|     2|   triumph tr7 coupe|\n",
            "|34.0|        4|       112.0|        88|  2395|        18.0|        82|     1|chevrolet cavalie...|\n",
            "|33.5|        4|        98.0|        83|  2075|        15.9|        77|     1|      dodge colt m/m|\n",
            "|33.5|        4|       151.0|        90|  2556|        13.2|        79|     1|     pontiac phoenix|\n",
            "|32.9|        4|       119.0|       100|  2615|        14.8|        81|     3|        datsun 200sx|\n",
            "|32.7|        6|       168.0|       132|  2910|        11.4|        80|     3|       datsun 280-zx|\n",
            "+----+---------+------------+----------+------+------------+----------+------+--------------------+\n",
            "only showing top 10 rows\n",
            "\n"
          ]
        }
      ]
    },
    {
      "cell_type": "code",
      "source": [],
      "metadata": {
        "id": "v5TNmd-JpU92"
      },
      "execution_count": null,
      "outputs": []
    },
    {
      "cell_type": "code",
      "source": [
        "df.sort('model year').show(10)"
      ],
      "metadata": {
        "colab": {
          "base_uri": "https://localhost:8080/"
        },
        "id": "D8xGVCR43Ege",
        "outputId": "e092d116-cafd-4b24-fb41-0b027529f022"
      },
      "execution_count": null,
      "outputs": [
        {
          "output_type": "stream",
          "name": "stdout",
          "text": [
            "+----+---------+------------+----------+------+------------+----------+------+--------------------+\n",
            "| mpg|cylinders|displacement|horsepower|weight|acceleration|model year|origin|            car name|\n",
            "+----+---------+------------+----------+------+------------+----------+------+--------------------+\n",
            "|18.0|        8|       307.0|       130|  3504|        12.0|        70|     1|chevrolet chevell...|\n",
            "|15.0|        8|       350.0|       165|  3693|        11.5|        70|     1|   buick skylark 320|\n",
            "|18.0|        8|       318.0|       150|  3436|        11.0|        70|     1|  plymouth satellite|\n",
            "|16.0|        8|       304.0|       150|  3433|        12.0|        70|     1|       amc rebel sst|\n",
            "|17.0|        8|       302.0|       140|  3449|        10.5|        70|     1|         ford torino|\n",
            "|15.0|        8|       429.0|       198|  4341|        10.0|        70|     1|    ford galaxie 500|\n",
            "|14.0|        8|       454.0|       220|  4354|         9.0|        70|     1|    chevrolet impala|\n",
            "|14.0|        8|       440.0|       215|  4312|         8.5|        70|     1|   plymouth fury iii|\n",
            "|14.0|        8|       455.0|       225|  4425|        10.0|        70|     1|    pontiac catalina|\n",
            "|15.0|        8|       390.0|       190|  3850|         8.5|        70|     1|  amc ambassador dpl|\n",
            "+----+---------+------------+----------+------+------------+----------+------+--------------------+\n",
            "only showing top 10 rows\n",
            "\n"
          ]
        }
      ]
    },
    {
      "cell_type": "code",
      "source": [
        "df.filter(col(\"car name\").contains(\"volkswagen\")).orderBy(['model year','horsepower'],ascending=[False,False]).show()"
      ],
      "metadata": {
        "colab": {
          "base_uri": "https://localhost:8080/"
        },
        "id": "KzKwpOwf3uOL",
        "outputId": "a634e0e4-48d2-4d6f-d125-88bde7365e87"
      },
      "execution_count": null,
      "outputs": [
        {
          "output_type": "stream",
          "name": "stdout",
          "text": [
            "+----+---------+------------+----------+------+------------+----------+------+--------------------+\n",
            "| mpg|cylinders|displacement|horsepower|weight|acceleration|model year|origin|            car name|\n",
            "+----+---------+------------+----------+------+------------+----------+------+--------------------+\n",
            "|36.0|        4|       105.0|        74|  1980|        15.3|        82|     2| volkswagen rabbit l|\n",
            "|33.0|        4|       105.0|        74|  2190|        14.2|        81|     2|    volkswagen jetta|\n",
            "|31.5|        4|        89.0|        71|  1990|        14.9|        78|     2| volkswagen scirocco|\n",
            "|43.1|        4|        90.0|        48|  1985|        21.5|        78|     2|volkswagen rabbit...|\n",
            "|29.0|        4|        97.0|        78|  1940|        14.5|        77|     2|volkswagen rabbit...|\n",
            "|30.5|        4|        97.0|        78|  2190|        14.1|        77|     2|   volkswagen dasher|\n",
            "|29.5|        4|        97.0|        71|  1825|        12.2|        76|     2|   volkswagen rabbit|\n",
            "|25.0|        4|        90.0|        71|  2223|        16.5|        75|     2|   volkswagen dasher|\n",
            "|29.0|        4|        90.0|        70|  1937|        14.0|        75|     2|   volkswagen rabbit|\n",
            "|26.0|        4|        79.0|        67|  1963|        15.5|        74|     2|   volkswagen dasher|\n",
            "|26.0|        4|        97.0|        46|  1950|        21.0|        73|     2|volkswagen super ...|\n",
            "|22.0|        4|       121.0|        76|  2511|        18.0|        72|     2| volkswagen 411 (sw)|\n",
            "|23.0|        4|        97.0|        54|  2254|        23.5|        72|     2|   volkswagen type 3|\n",
            "|27.0|        4|        97.0|        60|  1834|        19.0|        71|     2|volkswagen model 111|\n",
            "|26.0|        4|        97.0|        46|  1835|        20.5|        70|     2|volkswagen 1131 d...|\n",
            "+----+---------+------------+----------+------+------------+----------+------+--------------------+\n",
            "\n"
          ]
        }
      ]
    },
    {
      "cell_type": "code",
      "source": [],
      "metadata": {
        "id": "HZS893FIqO1R"
      },
      "execution_count": null,
      "outputs": []
    },
    {
      "cell_type": "code",
      "source": [
        "df =df.withColumn('brand',split(col('car name'),' ').getItem(0))\n",
        "\n",
        "auto_misspelled = {'chevroelt':'chevrolet',\n",
        "                   'chevy':'chevrolet',\n",
        "                   'vw':'volkswagan',\n",
        "                   'volkswagen':'volkswagan',\n",
        "                   'vokswagen':'volkswagan',\n",
        "                   'toyouta':'toyota',\n",
        "                   'hi':'harvester',\n",
        "                   'maxda':'mazda',\n",
        "                   'mercedes-benz':'mercedes'}\n",
        "\n",
        "for key in auto_misspelled.keys():\n",
        "  df = df.withColumn('brand', regexp_replace('brand', key, auto_misspelled[key]))\n",
        "df.show(20)"
      ],
      "metadata": {
        "colab": {
          "base_uri": "https://localhost:8080/"
        },
        "id": "-qprM-Om5euZ",
        "outputId": "50494a6b-a661-413e-fdf4-abaf65ed070d"
      },
      "execution_count": null,
      "outputs": [
        {
          "output_type": "stream",
          "name": "stdout",
          "text": [
            "+----+---------+------------+----------+------+------------+----------+------+--------------------+----------+\n",
            "| mpg|cylinders|displacement|horsepower|weight|acceleration|model year|origin|            car name|     brand|\n",
            "+----+---------+------------+----------+------+------------+----------+------+--------------------+----------+\n",
            "|18.0|        8|       307.0|       130|  3504|        12.0|        70|     1|chevrolet chevell...| chevrolet|\n",
            "|15.0|        8|       350.0|       165|  3693|        11.5|        70|     1|   buick skylark 320|     buick|\n",
            "|18.0|        8|       318.0|       150|  3436|        11.0|        70|     1|  plymouth satellite|  plymouth|\n",
            "|16.0|        8|       304.0|       150|  3433|        12.0|        70|     1|       amc rebel sst|       amc|\n",
            "|17.0|        8|       302.0|       140|  3449|        10.5|        70|     1|         ford torino|      ford|\n",
            "|15.0|        8|       429.0|       198|  4341|        10.0|        70|     1|    ford galaxie 500|      ford|\n",
            "|14.0|        8|       454.0|       220|  4354|         9.0|        70|     1|    chevrolet impala| chevrolet|\n",
            "|14.0|        8|       440.0|       215|  4312|         8.5|        70|     1|   plymouth fury iii|  plymouth|\n",
            "|14.0|        8|       455.0|       225|  4425|        10.0|        70|     1|    pontiac catalina|   pontiac|\n",
            "|15.0|        8|       390.0|       190|  3850|         8.5|        70|     1|  amc ambassador dpl|       amc|\n",
            "|15.0|        8|       383.0|       170|  3563|        10.0|        70|     1| dodge challenger se|     dodge|\n",
            "|14.0|        8|       340.0|       160|  3609|         8.0|        70|     1|  plymouth 'cuda 340|  plymouth|\n",
            "|15.0|        8|       400.0|       150|  3761|         9.5|        70|     1|chevrolet monte c...| chevrolet|\n",
            "|14.0|        8|       455.0|       225|  3086|        10.0|        70|     1|buick estate wago...|     buick|\n",
            "|24.0|        4|       113.0|        95|  2372|        15.0|        70|     3|toyota corona mar...|    toyota|\n",
            "|22.0|        6|       198.0|        95|  2833|        15.5|        70|     1|     plymouth duster|  plymouth|\n",
            "|18.0|        6|       199.0|        97|  2774|        15.5|        70|     1|          amc hornet|       amc|\n",
            "|21.0|        6|       200.0|        85|  2587|        16.0|        70|     1|       ford maverick|      ford|\n",
            "|27.0|        4|        97.0|        88|  2130|        14.5|        70|     3|        datsun pl510|    datsun|\n",
            "|26.0|        4|        97.0|        46|  1835|        20.5|        70|     2|volkswagen 1131 d...|volkswagan|\n",
            "+----+---------+------------+----------+------+------------+----------+------+--------------------+----------+\n",
            "only showing top 20 rows\n",
            "\n"
          ]
        }
      ]
    },
    {
      "cell_type": "code",
      "source": [
        "\n",
        "df.groupBy('brand').agg({'acceleration':'mean'}).withColumnRenamed('avg(acceleration)','Avg acceleration').show(10)\n"
      ],
      "metadata": {
        "colab": {
          "base_uri": "https://localhost:8080/"
        },
        "id": "VbR4dm_em0Xu",
        "outputId": "50aaee64-92e9-4dfd-ea2e-0020cc58a2a0"
      },
      "execution_count": null,
      "outputs": [
        {
          "output_type": "stream",
          "name": "stdout",
          "text": [
            "+----------+------------------+\n",
            "|     brand|  Avg acceleration|\n",
            "+----------+------------------+\n",
            "|volkswagan|17.404545454545453|\n",
            "|     buick|14.700000000000003|\n",
            "|   pontiac|14.081249999999999|\n",
            "|  mercedes| 19.53333333333333|\n",
            "|    toyota| 16.03846153846154|\n",
            "|      saab|            15.175|\n",
            "|       amc|15.264285714285716|\n",
            "|   peugeot|             19.55|\n",
            "|  chrysler|13.300000000000002|\n",
            "|  plymouth|14.851612903225801|\n",
            "+----------+------------------+\n",
            "only showing top 10 rows\n",
            "\n"
          ]
        }
      ]
    },
    {
      "cell_type": "code",
      "source": [
        "df.groupBy('brand').agg({'mpg':'max'}).show(10)"
      ],
      "metadata": {
        "colab": {
          "base_uri": "https://localhost:8080/"
        },
        "id": "lN11hnyk7H8l",
        "outputId": "1eda91aa-3385-4ea7-da27-4bcdf6470982"
      },
      "execution_count": null,
      "outputs": [
        {
          "output_type": "stream",
          "name": "stdout",
          "text": [
            "+----------+--------+\n",
            "|     brand|max(mpg)|\n",
            "+----------+--------+\n",
            "|volkswagan|    44.3|\n",
            "|     buick|    30.0|\n",
            "|   pontiac|    33.5|\n",
            "|  mercedes|    30.0|\n",
            "|    toyota|    39.1|\n",
            "|      saab|    25.0|\n",
            "|       amc|    27.4|\n",
            "|   peugeot|    30.0|\n",
            "|  chrysler|    26.0|\n",
            "|  plymouth|    39.0|\n",
            "+----------+--------+\n",
            "only showing top 10 rows\n",
            "\n"
          ]
        }
      ]
    },
    {
      "cell_type": "code",
      "source": [
        "df.groupBy('brand').agg({'acceleration':'mean'}).show(10)"
      ],
      "metadata": {
        "colab": {
          "base_uri": "https://localhost:8080/"
        },
        "id": "8jtArv-n7na9",
        "outputId": "3c1811ab-cf54-4a89-cfbb-f3bafa54d6d6"
      },
      "execution_count": null,
      "outputs": [
        {
          "output_type": "stream",
          "name": "stdout",
          "text": [
            "+----------+------------------+\n",
            "|     brand| avg(acceleration)|\n",
            "+----------+------------------+\n",
            "|volkswagan|17.404545454545453|\n",
            "|     buick|14.700000000000003|\n",
            "|   pontiac|14.081249999999999|\n",
            "|  mercedes| 19.53333333333333|\n",
            "|    toyota| 16.03846153846154|\n",
            "|      saab|            15.175|\n",
            "|       amc|15.264285714285716|\n",
            "|   peugeot|             19.55|\n",
            "|  chrysler|13.300000000000002|\n",
            "|  plymouth|14.851612903225801|\n",
            "+----------+------------------+\n",
            "only showing top 10 rows\n",
            "\n"
          ]
        }
      ]
    },
    {
      "cell_type": "code",
      "source": [
        "distinct_brands = df.select('brand').distinct().count()\n",
        "print(f\"Number of distinct brands: {distinct_brands}\")\n",
        "\n",
        "df.select('brand').distinct().show(100,truncate=False)"
      ],
      "metadata": {
        "colab": {
          "base_uri": "https://localhost:8080/"
        },
        "id": "khKecF3qoaxN",
        "outputId": "ce603806-be9d-48ff-9a38-4c9651c099b6"
      },
      "execution_count": null,
      "outputs": [
        {
          "output_type": "stream",
          "name": "stdout",
          "text": [
            "Number of distinct brands: 30\n",
            "+----------+\n",
            "|brand     |\n",
            "+----------+\n",
            "|volkswagan|\n",
            "|buick     |\n",
            "|pontiac   |\n",
            "|mercedes  |\n",
            "|toyota    |\n",
            "|saab      |\n",
            "|amc       |\n",
            "|peugeot   |\n",
            "|chrysler  |\n",
            "|plymouth  |\n",
            "|audi      |\n",
            "|datsun    |\n",
            "|bmw       |\n",
            "|dodge     |\n",
            "|ford      |\n",
            "|capri     |\n",
            "|cadillac  |\n",
            "|mazda     |\n",
            "|harvester |\n",
            "|chevrolet |\n",
            "|opel      |\n",
            "|honda     |\n",
            "|fiat      |\n",
            "|oldsmobile|\n",
            "|mercury   |\n",
            "|renault   |\n",
            "|nissan    |\n",
            "|triumph   |\n",
            "|subaru    |\n",
            "|volvo     |\n",
            "+----------+\n",
            "\n"
          ]
        }
      ]
    },
    {
      "cell_type": "code",
      "source": [
        "# prompt: command to generate unique values in brand\n",
        "\n",
        "#from pyspark.sql.functions import countDistinct\n",
        "\n",
        "# Assuming 'df' is your DataFrame as defined in the previous code\n",
        "\n",
        "#distinct_brands = df.select(countDistinct(\"brand\")).collect()[0][0]\n",
        "#print(f\"Number of distinct brands: {distinct_brands}\")\n",
        "#df.select(\"brand\").distinct().show(distinct_brands)\n",
        "#df.select('brand').distinct().show()\n",
        "\n",
        "\n",
        "def one_hot_encode(df, categorical_col):\n",
        "  # Create a StringIndexer\n",
        "  indexed = StringIndexer().setInputCol(categorical_col).setOutputCol(categorical_col + \"_cat\").fit(df).transform(df)\n",
        "  # Create a OneHotEncoder\n",
        "  encoder = OneHotEncoder().setInputCol(categorical_col + \"_cat\").setOutputCol(categorical_col + \"_OneHotEncoder\").fit(indexed).transform(indexed)\n",
        "\n",
        "  ohe = encoder.drop(*[categorical_col, categorical_col + '_cat'])\n",
        "\n",
        "  return ohe\n",
        "\n",
        "df = one_hot_encode(df, 'brand')\n",
        "\n",
        "\n"
      ],
      "metadata": {
        "id": "_e05MwXkslRQ"
      },
      "execution_count": null,
      "outputs": []
    },
    {
      "cell_type": "code",
      "source": [
        "df.show(50)"
      ],
      "metadata": {
        "colab": {
          "base_uri": "https://localhost:8080/"
        },
        "id": "-WBXQPqIx9NS",
        "outputId": "760a2655-c145-4c9e-bb66-64405aad9da4"
      },
      "execution_count": null,
      "outputs": [
        {
          "output_type": "stream",
          "name": "stdout",
          "text": [
            "+----+---------+------------+----------+------+------------+----------+------+--------------------+-------------------+\n",
            "| mpg|cylinders|displacement|horsepower|weight|acceleration|model year|origin|            car name|brand_OneHotEncoder|\n",
            "+----+---------+------------+----------+------+------------+----------+------+--------------------+-------------------+\n",
            "|18.0|        8|       307.0|       130|  3504|        12.0|        70|     1|chevrolet chevell...|     (29,[1],[1.0])|\n",
            "|15.0|        8|       350.0|       165|  3693|        11.5|        70|     1|   buick skylark 320|     (29,[8],[1.0])|\n",
            "|18.0|        8|       318.0|       150|  3436|        11.0|        70|     1|  plymouth satellite|     (29,[2],[1.0])|\n",
            "|16.0|        8|       304.0|       150|  3433|        12.0|        70|     1|       amc rebel sst|     (29,[3],[1.0])|\n",
            "|17.0|        8|       302.0|       140|  3449|        10.5|        70|     1|         ford torino|     (29,[0],[1.0])|\n",
            "|15.0|        8|       429.0|       198|  4341|        10.0|        70|     1|    ford galaxie 500|     (29,[0],[1.0])|\n",
            "|14.0|        8|       454.0|       220|  4354|         9.0|        70|     1|    chevrolet impala|     (29,[1],[1.0])|\n",
            "|14.0|        8|       440.0|       215|  4312|         8.5|        70|     1|   plymouth fury iii|     (29,[2],[1.0])|\n",
            "|14.0|        8|       455.0|       225|  4425|        10.0|        70|     1|    pontiac catalina|     (29,[9],[1.0])|\n",
            "|15.0|        8|       390.0|       190|  3850|         8.5|        70|     1|  amc ambassador dpl|     (29,[3],[1.0])|\n",
            "|15.0|        8|       383.0|       170|  3563|        10.0|        70|     1| dodge challenger se|     (29,[4],[1.0])|\n",
            "|14.0|        8|       340.0|       160|  3609|         8.0|        70|     1|  plymouth 'cuda 340|     (29,[2],[1.0])|\n",
            "|15.0|        8|       400.0|       150|  3761|         9.5|        70|     1|chevrolet monte c...|     (29,[1],[1.0])|\n",
            "|14.0|        8|       455.0|       225|  3086|        10.0|        70|     1|buick estate wago...|     (29,[8],[1.0])|\n",
            "|24.0|        4|       113.0|        95|  2372|        15.0|        70|     3|toyota corona mar...|     (29,[5],[1.0])|\n",
            "|22.0|        6|       198.0|        95|  2833|        15.5|        70|     1|     plymouth duster|     (29,[2],[1.0])|\n",
            "|18.0|        6|       199.0|        97|  2774|        15.5|        70|     1|          amc hornet|     (29,[3],[1.0])|\n",
            "|21.0|        6|       200.0|        85|  2587|        16.0|        70|     1|       ford maverick|     (29,[0],[1.0])|\n",
            "|27.0|        4|        97.0|        88|  2130|        14.5|        70|     3|        datsun pl510|     (29,[6],[1.0])|\n",
            "|26.0|        4|        97.0|        46|  1835|        20.5|        70|     2|volkswagen 1131 d...|     (29,[7],[1.0])|\n",
            "|25.0|        4|       110.0|        87|  2672|        17.5|        70|     2|         peugeot 504|    (29,[15],[1.0])|\n",
            "|24.0|        4|       107.0|        90|  2430|        14.5|        70|     2|         audi 100 ls|    (29,[16],[1.0])|\n",
            "|25.0|        4|       104.0|        95|  2375|        17.5|        70|     2|            saab 99e|    (29,[21],[1.0])|\n",
            "|26.0|        4|       121.0|       113|  2234|        12.5|        70|     2|            bmw 2002|    (29,[24],[1.0])|\n",
            "|21.0|        6|       199.0|        90|  2648|        15.0|        70|     1|         amc gremlin|     (29,[3],[1.0])|\n",
            "|10.0|        8|       360.0|       215|  4615|        14.0|        70|     1|           ford f250|     (29,[0],[1.0])|\n",
            "|10.0|        8|       307.0|       200|  4376|        15.0|        70|     1|           chevy c20|     (29,[1],[1.0])|\n",
            "|11.0|        8|       318.0|       210|  4382|        13.5|        70|     1|          dodge d200|     (29,[4],[1.0])|\n",
            "| 9.0|        8|       304.0|       193|  4732|        18.5|        70|     1|            hi 1200d|    (29,[27],[1.0])|\n",
            "|27.0|        4|        97.0|        88|  2130|        14.5|        71|     3|        datsun pl510|     (29,[6],[1.0])|\n",
            "|28.0|        4|       140.0|        90|  2264|        15.5|        71|     1| chevrolet vega 2300|     (29,[1],[1.0])|\n",
            "|25.0|        4|       113.0|        95|  2228|        14.0|        71|     3|       toyota corona|     (29,[5],[1.0])|\n",
            "|25.0|        4|        98.0|         0|  2046|        19.0|        71|     1|          ford pinto|     (29,[0],[1.0])|\n",
            "|19.0|        6|       232.0|       100|  2634|        13.0|        71|     1|         amc gremlin|     (29,[3],[1.0])|\n",
            "|16.0|        6|       225.0|       105|  3439|        15.5|        71|     1|plymouth satellit...|     (29,[2],[1.0])|\n",
            "|17.0|        6|       250.0|       100|  3329|        15.5|        71|     1|chevrolet chevell...|     (29,[1],[1.0])|\n",
            "|19.0|        6|       250.0|        88|  3302|        15.5|        71|     1|     ford torino 500|     (29,[0],[1.0])|\n",
            "|18.0|        6|       232.0|       100|  3288|        15.5|        71|     1|         amc matador|     (29,[3],[1.0])|\n",
            "|14.0|        8|       350.0|       165|  4209|        12.0|        71|     1|    chevrolet impala|     (29,[1],[1.0])|\n",
            "|14.0|        8|       400.0|       175|  4464|        11.5|        71|     1|pontiac catalina ...|     (29,[9],[1.0])|\n",
            "|14.0|        8|       351.0|       153|  4154|        13.5|        71|     1|    ford galaxie 500|     (29,[0],[1.0])|\n",
            "|14.0|        8|       318.0|       150|  4096|        13.0|        71|     1|   plymouth fury iii|     (29,[2],[1.0])|\n",
            "|12.0|        8|       383.0|       180|  4955|        11.5|        71|     1|   dodge monaco (sw)|     (29,[4],[1.0])|\n",
            "|13.0|        8|       400.0|       170|  4746|        12.0|        71|     1|ford country squi...|     (29,[0],[1.0])|\n",
            "|13.0|        8|       400.0|       175|  5140|        12.0|        71|     1| pontiac safari (sw)|     (29,[9],[1.0])|\n",
            "|18.0|        6|       258.0|       110|  2962|        13.5|        71|     1|amc hornet sporta...|     (29,[3],[1.0])|\n",
            "|22.0|        4|       140.0|        72|  2408|        19.0|        71|     1| chevrolet vega (sw)|     (29,[1],[1.0])|\n",
            "|19.0|        6|       250.0|       100|  3282|        15.0|        71|     1|    pontiac firebird|     (29,[9],[1.0])|\n",
            "|18.0|        6|       250.0|        88|  3139|        14.5|        71|     1|        ford mustang|     (29,[0],[1.0])|\n",
            "|23.0|        4|       122.0|        86|  2220|        14.0|        71|     1|  mercury capri 2000|    (29,[12],[1.0])|\n",
            "+----+---------+------------+----------+------+------------+----------+------+--------------------+-------------------+\n",
            "only showing top 50 rows\n",
            "\n"
          ]
        }
      ]
    },
    {
      "cell_type": "code",
      "source": [
        "\n",
        "\n"
      ],
      "metadata": {
        "id": "JU7AwOb-6YSw"
      },
      "execution_count": null,
      "outputs": []
    },
    {
      "cell_type": "code",
      "source": [
        "df=df.drop('car name')\n",
        "df.show(10)"
      ],
      "metadata": {
        "colab": {
          "base_uri": "https://localhost:8080/"
        },
        "id": "1bMt-iwMqMHc",
        "outputId": "8eead855-eb12-4e49-cd50-289ceeb42f2d"
      },
      "execution_count": null,
      "outputs": [
        {
          "output_type": "stream",
          "name": "stdout",
          "text": [
            "+----+---------+------------+----------+------+------------+----------+------+-------------------+\n",
            "| mpg|cylinders|displacement|horsepower|weight|acceleration|model year|origin|brand_OneHotEncoder|\n",
            "+----+---------+------------+----------+------+------------+----------+------+-------------------+\n",
            "|18.0|        8|       307.0|       130|  3504|        12.0|        70|     1|     (29,[1],[1.0])|\n",
            "|15.0|        8|       350.0|       165|  3693|        11.5|        70|     1|     (29,[8],[1.0])|\n",
            "|18.0|        8|       318.0|       150|  3436|        11.0|        70|     1|     (29,[2],[1.0])|\n",
            "|16.0|        8|       304.0|       150|  3433|        12.0|        70|     1|     (29,[3],[1.0])|\n",
            "|17.0|        8|       302.0|       140|  3449|        10.5|        70|     1|     (29,[0],[1.0])|\n",
            "|15.0|        8|       429.0|       198|  4341|        10.0|        70|     1|     (29,[0],[1.0])|\n",
            "|14.0|        8|       454.0|       220|  4354|         9.0|        70|     1|     (29,[1],[1.0])|\n",
            "|14.0|        8|       440.0|       215|  4312|         8.5|        70|     1|     (29,[2],[1.0])|\n",
            "|14.0|        8|       455.0|       225|  4425|        10.0|        70|     1|     (29,[9],[1.0])|\n",
            "|15.0|        8|       390.0|       190|  3850|         8.5|        70|     1|     (29,[3],[1.0])|\n",
            "+----+---------+------------+----------+------+------------+----------+------+-------------------+\n",
            "only showing top 10 rows\n",
            "\n"
          ]
        }
      ]
    },
    {
      "cell_type": "code",
      "source": [
        "from pyspark.ml.feature import VectorAssembler\n",
        "\n",
        "def vector_assembler(df,indep_cols):\n",
        "  assembler = VectorAssembler(inputCols=indep_cols,\n",
        "                              outputCol = 'features',\n",
        "                              handleInvalid=\"skip\")\n",
        "  output = assembler.transform(df).drop(*indep_cols)\n",
        "  return output\n",
        "\n",
        "df = vector_assembler(df,indep_cols=df.drop('mpg').columns)\n"
      ],
      "metadata": {
        "id": "AIH3GmdB-lIc"
      },
      "execution_count": null,
      "outputs": []
    },
    {
      "cell_type": "code",
      "source": [
        "df.show(100,truncate=False)"
      ],
      "metadata": {
        "colab": {
          "base_uri": "https://localhost:8080/"
        },
        "id": "0jOFTH-6DskQ",
        "outputId": "77769554-ddc3-44a4-aa70-3904370a733d"
      },
      "execution_count": null,
      "outputs": [
        {
          "output_type": "stream",
          "name": "stdout",
          "text": [
            "+----+------------------------------------------------------------------+\n",
            "|mpg |features                                                          |\n",
            "+----+------------------------------------------------------------------+\n",
            "|18.0|(36,[0,1,2,3,4,5,6,8],[8.0,307.0,130.0,3504.0,12.0,70.0,1.0,1.0]) |\n",
            "|15.0|(36,[0,1,2,3,4,5,6,15],[8.0,350.0,165.0,3693.0,11.5,70.0,1.0,1.0])|\n",
            "|18.0|(36,[0,1,2,3,4,5,6,9],[8.0,318.0,150.0,3436.0,11.0,70.0,1.0,1.0]) |\n",
            "|16.0|(36,[0,1,2,3,4,5,6,10],[8.0,304.0,150.0,3433.0,12.0,70.0,1.0,1.0])|\n",
            "|17.0|(36,[0,1,2,3,4,5,6,7],[8.0,302.0,140.0,3449.0,10.5,70.0,1.0,1.0]) |\n",
            "|15.0|(36,[0,1,2,3,4,5,6,7],[8.0,429.0,198.0,4341.0,10.0,70.0,1.0,1.0]) |\n",
            "|14.0|(36,[0,1,2,3,4,5,6,8],[8.0,454.0,220.0,4354.0,9.0,70.0,1.0,1.0])  |\n",
            "|14.0|(36,[0,1,2,3,4,5,6,9],[8.0,440.0,215.0,4312.0,8.5,70.0,1.0,1.0])  |\n",
            "|14.0|(36,[0,1,2,3,4,5,6,16],[8.0,455.0,225.0,4425.0,10.0,70.0,1.0,1.0])|\n",
            "|15.0|(36,[0,1,2,3,4,5,6,10],[8.0,390.0,190.0,3850.0,8.5,70.0,1.0,1.0]) |\n",
            "|15.0|(36,[0,1,2,3,4,5,6,11],[8.0,383.0,170.0,3563.0,10.0,70.0,1.0,1.0])|\n",
            "|14.0|(36,[0,1,2,3,4,5,6,9],[8.0,340.0,160.0,3609.0,8.0,70.0,1.0,1.0])  |\n",
            "|15.0|(36,[0,1,2,3,4,5,6,8],[8.0,400.0,150.0,3761.0,9.5,70.0,1.0,1.0])  |\n",
            "|14.0|(36,[0,1,2,3,4,5,6,15],[8.0,455.0,225.0,3086.0,10.0,70.0,1.0,1.0])|\n",
            "|24.0|(36,[0,1,2,3,4,5,6,12],[4.0,113.0,95.0,2372.0,15.0,70.0,3.0,1.0]) |\n",
            "|22.0|(36,[0,1,2,3,4,5,6,9],[6.0,198.0,95.0,2833.0,15.5,70.0,1.0,1.0])  |\n",
            "|18.0|(36,[0,1,2,3,4,5,6,10],[6.0,199.0,97.0,2774.0,15.5,70.0,1.0,1.0]) |\n",
            "|21.0|(36,[0,1,2,3,4,5,6,7],[6.0,200.0,85.0,2587.0,16.0,70.0,1.0,1.0])  |\n",
            "|27.0|(36,[0,1,2,3,4,5,6,13],[4.0,97.0,88.0,2130.0,14.5,70.0,3.0,1.0])  |\n",
            "|26.0|(36,[0,1,2,3,4,5,6,14],[4.0,97.0,46.0,1835.0,20.5,70.0,2.0,1.0])  |\n",
            "|25.0|(36,[0,1,2,3,4,5,6,22],[4.0,110.0,87.0,2672.0,17.5,70.0,2.0,1.0]) |\n",
            "|24.0|(36,[0,1,2,3,4,5,6,23],[4.0,107.0,90.0,2430.0,14.5,70.0,2.0,1.0]) |\n",
            "|25.0|(36,[0,1,2,3,4,5,6,28],[4.0,104.0,95.0,2375.0,17.5,70.0,2.0,1.0]) |\n",
            "|26.0|(36,[0,1,2,3,4,5,6,31],[4.0,121.0,113.0,2234.0,12.5,70.0,2.0,1.0])|\n",
            "|21.0|(36,[0,1,2,3,4,5,6,10],[6.0,199.0,90.0,2648.0,15.0,70.0,1.0,1.0]) |\n",
            "|10.0|(36,[0,1,2,3,4,5,6,7],[8.0,360.0,215.0,4615.0,14.0,70.0,1.0,1.0]) |\n",
            "|10.0|(36,[0,1,2,3,4,5,6,8],[8.0,307.0,200.0,4376.0,15.0,70.0,1.0,1.0]) |\n",
            "|11.0|(36,[0,1,2,3,4,5,6,11],[8.0,318.0,210.0,4382.0,13.5,70.0,1.0,1.0])|\n",
            "|9.0 |(36,[0,1,2,3,4,5,6,34],[8.0,304.0,193.0,4732.0,18.5,70.0,1.0,1.0])|\n",
            "|27.0|(36,[0,1,2,3,4,5,6,13],[4.0,97.0,88.0,2130.0,14.5,71.0,3.0,1.0])  |\n",
            "|28.0|(36,[0,1,2,3,4,5,6,8],[4.0,140.0,90.0,2264.0,15.5,71.0,1.0,1.0])  |\n",
            "|25.0|(36,[0,1,2,3,4,5,6,12],[4.0,113.0,95.0,2228.0,14.0,71.0,3.0,1.0]) |\n",
            "|25.0|(36,[0,1,3,4,5,6,7],[4.0,98.0,2046.0,19.0,71.0,1.0,1.0])          |\n",
            "|19.0|(36,[0,1,2,3,4,5,6,10],[6.0,232.0,100.0,2634.0,13.0,71.0,1.0,1.0])|\n",
            "|16.0|(36,[0,1,2,3,4,5,6,9],[6.0,225.0,105.0,3439.0,15.5,71.0,1.0,1.0]) |\n",
            "|17.0|(36,[0,1,2,3,4,5,6,8],[6.0,250.0,100.0,3329.0,15.5,71.0,1.0,1.0]) |\n",
            "|19.0|(36,[0,1,2,3,4,5,6,7],[6.0,250.0,88.0,3302.0,15.5,71.0,1.0,1.0])  |\n",
            "|18.0|(36,[0,1,2,3,4,5,6,10],[6.0,232.0,100.0,3288.0,15.5,71.0,1.0,1.0])|\n",
            "|14.0|(36,[0,1,2,3,4,5,6,8],[8.0,350.0,165.0,4209.0,12.0,71.0,1.0,1.0]) |\n",
            "|14.0|(36,[0,1,2,3,4,5,6,16],[8.0,400.0,175.0,4464.0,11.5,71.0,1.0,1.0])|\n",
            "|14.0|(36,[0,1,2,3,4,5,6,7],[8.0,351.0,153.0,4154.0,13.5,71.0,1.0,1.0]) |\n",
            "|14.0|(36,[0,1,2,3,4,5,6,9],[8.0,318.0,150.0,4096.0,13.0,71.0,1.0,1.0]) |\n",
            "|12.0|(36,[0,1,2,3,4,5,6,11],[8.0,383.0,180.0,4955.0,11.5,71.0,1.0,1.0])|\n",
            "|13.0|(36,[0,1,2,3,4,5,6,7],[8.0,400.0,170.0,4746.0,12.0,71.0,1.0,1.0]) |\n",
            "|13.0|(36,[0,1,2,3,4,5,6,16],[8.0,400.0,175.0,5140.0,12.0,71.0,1.0,1.0])|\n",
            "|18.0|(36,[0,1,2,3,4,5,6,10],[6.0,258.0,110.0,2962.0,13.5,71.0,1.0,1.0])|\n",
            "|22.0|(36,[0,1,2,3,4,5,6,8],[4.0,140.0,72.0,2408.0,19.0,71.0,1.0,1.0])  |\n",
            "|19.0|(36,[0,1,2,3,4,5,6,16],[6.0,250.0,100.0,3282.0,15.0,71.0,1.0,1.0])|\n",
            "|18.0|(36,[0,1,2,3,4,5,6,7],[6.0,250.0,88.0,3139.0,14.5,71.0,1.0,1.0])  |\n",
            "|23.0|(36,[0,1,2,3,4,5,6,19],[4.0,122.0,86.0,2220.0,14.0,71.0,1.0,1.0]) |\n",
            "|28.0|(36,[0,1,2,3,4,5,6,27],[4.0,116.0,90.0,2123.0,14.0,71.0,2.0,1.0]) |\n",
            "|30.0|(36,[0,1,2,3,4,5,6,22],[4.0,79.0,70.0,2074.0,19.5,71.0,2.0,1.0])  |\n",
            "|30.0|(36,[0,1,2,3,4,5,6,21],[4.0,88.0,76.0,2065.0,14.5,71.0,2.0,1.0])  |\n",
            "|31.0|(36,[0,1,2,3,4,5,6,12],[4.0,71.0,65.0,1773.0,19.0,71.0,3.0,1.0])  |\n",
            "|35.0|(36,[0,1,2,3,4,5,6,13],[4.0,72.0,69.0,1613.0,18.0,71.0,3.0,1.0])  |\n",
            "|27.0|(36,[0,1,2,3,4,5,6,14],[4.0,97.0,60.0,1834.0,19.0,71.0,2.0,1.0])  |\n",
            "|26.0|(36,[0,1,2,3,4,5,6,9],[4.0,91.0,70.0,1955.0,20.5,71.0,1.0,1.0])   |\n",
            "|24.0|(36,[0,1,2,3,4,5,6,12],[4.0,113.0,95.0,2278.0,15.5,72.0,3.0,1.0]) |\n",
            "|25.0|(36,[0,1,2,3,4,5,6,11],[4.0,97.5,80.0,2126.0,17.0,72.0,1.0,1.0])  |\n",
            "|23.0|(36,[0,1,2,3,4,5,6,14],[4.0,97.0,54.0,2254.0,23.5,72.0,2.0,1.0])  |\n",
            "|20.0|(36,[0,1,2,3,4,5,6,8],[4.0,140.0,90.0,2408.0,19.5,72.0,1.0,1.0])  |\n",
            "|21.0|(36,[0,1,2,3,4,5,6,7],[4.0,122.0,86.0,2226.0,16.5,72.0,1.0,1.0])  |\n",
            "|13.0|(36,[0,1,2,3,4,5,6,8],[8.0,350.0,165.0,4274.0,12.0,72.0,1.0,1.0]) |\n",
            "|14.0|(36,[0,1,2,3,4,5,6,16],[8.0,400.0,175.0,4385.0,12.0,72.0,1.0,1.0])|\n",
            "|15.0|(36,[0,1,2,3,4,5,6,9],[8.0,318.0,150.0,4135.0,13.5,72.0,1.0,1.0]) |\n",
            "|14.0|(36,[0,1,2,3,4,5,6,7],[8.0,351.0,153.0,4129.0,13.0,72.0,1.0,1.0]) |\n",
            "|17.0|(36,[0,1,2,3,4,5,6,10],[8.0,304.0,150.0,3672.0,11.5,72.0,1.0,1.0])|\n",
            "|11.0|(36,[0,1,2,3,4,5,6,19],[8.0,429.0,208.0,4633.0,11.0,72.0,1.0,1.0])|\n",
            "|13.0|(36,[0,1,2,3,4,5,6,15],[8.0,350.0,155.0,4502.0,13.5,72.0,1.0,1.0])|\n",
            "|12.0|(36,[0,1,2,3,4,5,6,20],[8.0,350.0,160.0,4456.0,13.5,72.0,1.0,1.0])|\n",
            "|13.0|(36,[0,1,2,3,4,5,6,24],[8.0,400.0,190.0,4422.0,12.5,72.0,1.0,1.0])|\n",
            "|19.0|(36,[0,1,2,3,4,5,6,18],[3.0,70.0,97.0,2330.0,13.5,72.0,3.0,1.0])  |\n",
            "|15.0|(36,[0,1,2,3,4,5,6,10],[8.0,304.0,150.0,3892.0,12.5,72.0,1.0,1.0])|\n",
            "|13.0|(36,[0,1,2,3,4,5,6,8],[8.0,307.0,130.0,4098.0,14.0,72.0,1.0,1.0]) |\n",
            "|13.0|(36,[0,1,2,3,4,5,6,7],[8.0,302.0,140.0,4294.0,16.0,72.0,1.0,1.0]) |\n",
            "|14.0|(36,[0,1,2,3,4,5,6,9],[8.0,318.0,150.0,4077.0,14.0,72.0,1.0,1.0]) |\n",
            "|18.0|(36,[0,1,2,3,4,5,6,25],[4.0,121.0,112.0,2933.0,14.5,72.0,2.0,1.0])|\n",
            "|22.0|(36,[0,1,2,3,4,5,6,14],[4.0,121.0,76.0,2511.0,18.0,72.0,2.0,1.0]) |\n",
            "|21.0|(36,[0,1,2,3,4,5,6,22],[4.0,120.0,87.0,2979.0,19.5,72.0,2.0,1.0]) |\n",
            "|26.0|(36,[0,1,2,3,4,5,6,26],[4.0,96.0,69.0,2189.0,18.0,72.0,2.0,1.0])  |\n",
            "|22.0|(36,[0,1,2,3,4,5,6,7],[4.0,122.0,86.0,2395.0,16.0,72.0,1.0,1.0])  |\n",
            "|28.0|(36,[0,1,2,3,4,5,6,13],[4.0,97.0,92.0,2288.0,17.0,72.0,3.0,1.0])  |\n",
            "|23.0|(36,[0,1,2,3,4,5,6,12],[4.0,120.0,97.0,2506.0,14.5,72.0,3.0,1.0]) |\n",
            "|28.0|(36,[0,1,2,3,4,5,6,11],[4.0,98.0,80.0,2164.0,15.0,72.0,1.0,1.0])  |\n",
            "|27.0|(36,[0,1,2,3,4,5,6,12],[4.0,97.0,88.0,2100.0,16.5,72.0,3.0,1.0])  |\n",
            "|13.0|(36,[0,1,2,3,4,5,6,15],[8.0,350.0,175.0,4100.0,13.0,73.0,1.0,1.0])|\n",
            "|14.0|(36,[0,1,2,3,4,5,6,10],[8.0,304.0,150.0,3672.0,11.5,73.0,1.0,1.0])|\n",
            "|13.0|(36,[0,1,2,3,4,5,6,8],[8.0,350.0,145.0,3988.0,13.0,73.0,1.0,1.0]) |\n",
            "|14.0|(36,[0,1,2,3,4,5,6,7],[8.0,302.0,137.0,4042.0,14.5,73.0,1.0,1.0]) |\n",
            "|15.0|(36,[0,1,2,3,4,5,6,11],[8.0,318.0,150.0,3777.0,12.5,73.0,1.0,1.0])|\n",
            "|12.0|(36,[0,1,2,3,4,5,6,19],[8.0,429.0,198.0,4952.0,11.5,73.0,1.0,1.0])|\n",
            "|13.0|(36,[0,1,2,3,4,5,6,8],[8.0,400.0,150.0,4464.0,12.0,73.0,1.0,1.0]) |\n",
            "|13.0|(36,[0,1,2,3,4,5,6,7],[8.0,351.0,158.0,4363.0,13.0,73.0,1.0,1.0]) |\n",
            "|14.0|(36,[0,1,2,3,4,5,6,9],[8.0,318.0,150.0,4237.0,14.5,73.0,1.0,1.0]) |\n",
            "|13.0|(36,[0,1,2,3,4,5,6,24],[8.0,440.0,215.0,4735.0,11.0,73.0,1.0,1.0])|\n",
            "|12.0|(36,[0,1,2,3,4,5,6,15],[8.0,455.0,225.0,4951.0,11.0,73.0,1.0,1.0])|\n",
            "|13.0|(36,[0,1,2,3,4,5,6,10],[8.0,360.0,175.0,3821.0,11.0,73.0,1.0,1.0])|\n",
            "|18.0|(36,[0,1,2,3,4,5,6,9],[6.0,225.0,105.0,3121.0,16.5,73.0,1.0,1.0]) |\n",
            "|16.0|(36,[0,1,2,3,4,5,6,8],[6.0,250.0,100.0,3278.0,18.0,73.0,1.0,1.0]) |\n",
            "|18.0|(36,[0,1,2,3,4,5,6,10],[6.0,232.0,100.0,2945.0,16.0,73.0,1.0,1.0])|\n",
            "+----+------------------------------------------------------------------+\n",
            "only showing top 100 rows\n",
            "\n"
          ]
        }
      ]
    },
    {
      "cell_type": "code",
      "source": [
        "train_data,test_data = df.randomSplit([0.8,0.2],seed=123)\n",
        "\n",
        "print(f\"Train data shape: {train_data.count()}, {len(train_data.columns)}\")\n",
        "print(f\"Test data shape: {test_data.count()}, {len(test_data.columns)}\")"
      ],
      "metadata": {
        "colab": {
          "base_uri": "https://localhost:8080/"
        },
        "id": "dv3BqW4WklLH",
        "outputId": "fbf153b7-ff93-4bd7-d920-3472aadcd179"
      },
      "execution_count": null,
      "outputs": [
        {
          "output_type": "stream",
          "name": "stdout",
          "text": [
            "Train data shape: 318, 2\n",
            "Test data shape: 80, 2\n"
          ]
        }
      ]
    },
    {
      "cell_type": "code",
      "source": [
        "lr = LinearRegression(featuresCol='features',labelCol='mpg',regParam=0.3,standardization=False)\n",
        "lr_model = lr.fit(train_data)"
      ],
      "metadata": {
        "id": "MxQjWRMym3tS"
      },
      "execution_count": null,
      "outputs": []
    },
    {
      "cell_type": "code",
      "source": [
        "def eval_model(model,test_data):\n",
        "  print(model.__class__.__name__.center(70,'='))\n",
        "  model_result = model.evaluate(test_data)\n",
        "  print(f\"RMSE: {model_result.rootMeanSquaredError}\")\n",
        "  print(f\"R2: {model_result.r2}\")\n",
        "  print(f\"MAE: {model_result.meanAbsoluteError}\")\n",
        "  print(f\"MSE: {model_result.meanSquaredError}\")\n",
        "  print(f\"Explained Variance: {model_result.explainedVariance}\")\n",
        "  print(70*'=')\n",
        "\n",
        "eval_model(lr_model,test_data)\n"
      ],
      "metadata": {
        "colab": {
          "base_uri": "https://localhost:8080/"
        },
        "id": "430KK-bOqkR0",
        "outputId": "8fbcfffc-ccdf-49de-ffa3-ba759dc6be25"
      },
      "execution_count": null,
      "outputs": [
        {
          "output_type": "stream",
          "name": "stdout",
          "text": [
            "========================LinearRegressionModel=========================\n",
            "RMSE: 3.412223445197354\n",
            "R2: 0.7983309966898102\n",
            "MAE: 2.461164491835024\n",
            "MSE: 11.643268839954501\n",
            "Explained Variance: 43.63256309984281\n",
            "======================================================================\n"
          ]
        }
      ]
    },
    {
      "cell_type": "code",
      "source": [
        "from pyspark import SparkContext\n",
        "sc = SparkContext.getOrCreate()\n",
        "print(sc)"
      ],
      "metadata": {
        "colab": {
          "base_uri": "https://localhost:8080/"
        },
        "id": "cIOp99ZJxGWJ",
        "outputId": "a80d3fd1-c5f6-46fe-d0e6-05ad64ea3ab3"
      },
      "execution_count": null,
      "outputs": [
        {
          "output_type": "stream",
          "name": "stdout",
          "text": [
            "<SparkContext master=local[*] appName=First Session>\n"
          ]
        }
      ]
    },
    {
      "cell_type": "markdown",
      "source": [
        "##RDDs"
      ],
      "metadata": {
        "id": "xylP9oBc40wc"
      }
    },
    {
      "cell_type": "code",
      "source": [
        "rdd = sc.emptyRDD()\n",
        "rdd.isEmpty()\n",
        "#print(rdd)"
      ],
      "metadata": {
        "id": "bG1epyvQ430_",
        "colab": {
          "base_uri": "https://localhost:8080/"
        },
        "outputId": "b7faac4d-0a48-442e-bbe3-234c4e09bfb1"
      },
      "execution_count": null,
      "outputs": [
        {
          "output_type": "execute_result",
          "data": {
            "text/plain": [
              "True"
            ]
          },
          "metadata": {},
          "execution_count": 46
        }
      ]
    },
    {
      "cell_type": "code",
      "source": [
        "a = sc.parallelize([])\n",
        "a.isEmpty()"
      ],
      "metadata": {
        "id": "9s08syAfa6eT",
        "colab": {
          "base_uri": "https://localhost:8080/"
        },
        "outputId": "b27f1916-e4e0-446e-f6d6-943204f07429"
      },
      "execution_count": null,
      "outputs": [
        {
          "output_type": "execute_result",
          "data": {
            "text/plain": [
              "True"
            ]
          },
          "metadata": {},
          "execution_count": 47
        }
      ]
    },
    {
      "cell_type": "code",
      "source": [
        "mixRDD = sc.parallelize([True,[11,22,33,44,55],(10,20,30,40,50)],3)\n",
        "mixRDD.collect()"
      ],
      "metadata": {
        "id": "fzTOfEOBa6pD",
        "colab": {
          "base_uri": "https://localhost:8080/"
        },
        "outputId": "436814de-619a-41e5-b27a-c10de4b15df2"
      },
      "execution_count": null,
      "outputs": [
        {
          "output_type": "execute_result",
          "data": {
            "text/plain": [
              "[True, [11, 22, 33, 44, 55], (10, 20, 30, 40, 50)]"
            ]
          },
          "metadata": {},
          "execution_count": 48
        }
      ]
    },
    {
      "cell_type": "code",
      "source": [
        "mixRDD.getNumPartitions()"
      ],
      "metadata": {
        "id": "eF4SBFz4a6tg",
        "colab": {
          "base_uri": "https://localhost:8080/"
        },
        "outputId": "45e29c74-5f06-4ae9-a95e-a02ec906ca6b"
      },
      "execution_count": null,
      "outputs": [
        {
          "output_type": "execute_result",
          "data": {
            "text/plain": [
              "3"
            ]
          },
          "metadata": {},
          "execution_count": 49
        }
      ]
    },
    {
      "cell_type": "code",
      "source": [
        "mixRDD.glom().collect()"
      ],
      "metadata": {
        "id": "tTNBf1Gaa6xC",
        "colab": {
          "base_uri": "https://localhost:8080/"
        },
        "outputId": "f015749f-838c-45e8-f750-29244254c253"
      },
      "execution_count": null,
      "outputs": [
        {
          "output_type": "execute_result",
          "data": {
            "text/plain": [
              "[[True], [[11, 22, 33, 44, 55]], [(10, 20, 30, 40, 50)]]"
            ]
          },
          "metadata": {},
          "execution_count": 50
        }
      ]
    },
    {
      "cell_type": "code",
      "source": [
        "mixRDD.setName('MyRDD')"
      ],
      "metadata": {
        "colab": {
          "base_uri": "https://localhost:8080/"
        },
        "id": "JkhApDQsljVF",
        "outputId": "e927c628-7938-431c-f863-e58fc16f0197"
      },
      "execution_count": null,
      "outputs": [
        {
          "output_type": "execute_result",
          "data": {
            "text/plain": [
              "MyRDD ParallelCollectionRDD[189] at readRDDFromFile at PythonRDD.scala:289"
            ]
          },
          "metadata": {},
          "execution_count": 51
        }
      ]
    },
    {
      "cell_type": "code",
      "source": [
        "import random\n",
        "random.randint(1, 1000)"
      ],
      "metadata": {
        "colab": {
          "base_uri": "https://localhost:8080/"
        },
        "id": "x6kVtkFTrvLj",
        "outputId": "6e68d091-d38b-4d0c-fb92-a55346a23328"
      },
      "execution_count": null,
      "outputs": [
        {
          "output_type": "execute_result",
          "data": {
            "text/plain": [
              "396"
            ]
          },
          "metadata": {},
          "execution_count": 52
        }
      ]
    },
    {
      "cell_type": "code",
      "source": [
        "#a = sc.parallelize([random.randint(1, 6) for _ in range(20)],4)\n",
        "a = sc.parallelize(range(1,1000),4)\n",
        "print(a.getNumPartitions())\n",
        "print(\"\\n\")\n",
        "print(a.glom().take(4))\n",
        "print(\"\\n\")\n",
        "print(a.glom().min()) # to get min partitions data means first one partition(0)\n",
        "print(\"\\n\")\n",
        "print(a.glom().max()) # to get max partitions data means last one partition(3)"
      ],
      "metadata": {
        "id": "GPilDI_ja60i",
        "colab": {
          "base_uri": "https://localhost:8080/"
        },
        "outputId": "1fadb6f1-cb74-415d-cf69-7a6ff6b1fa95"
      },
      "execution_count": null,
      "outputs": [
        {
          "output_type": "stream",
          "name": "stdout",
          "text": [
            "4\n",
            "\n",
            "\n",
            "[[1, 2, 3, 4, 5, 6, 7, 8, 9, 10, 11, 12, 13, 14, 15, 16, 17, 18, 19, 20, 21, 22, 23, 24, 25, 26, 27, 28, 29, 30, 31, 32, 33, 34, 35, 36, 37, 38, 39, 40, 41, 42, 43, 44, 45, 46, 47, 48, 49, 50, 51, 52, 53, 54, 55, 56, 57, 58, 59, 60, 61, 62, 63, 64, 65, 66, 67, 68, 69, 70, 71, 72, 73, 74, 75, 76, 77, 78, 79, 80, 81, 82, 83, 84, 85, 86, 87, 88, 89, 90, 91, 92, 93, 94, 95, 96, 97, 98, 99, 100, 101, 102, 103, 104, 105, 106, 107, 108, 109, 110, 111, 112, 113, 114, 115, 116, 117, 118, 119, 120, 121, 122, 123, 124, 125, 126, 127, 128, 129, 130, 131, 132, 133, 134, 135, 136, 137, 138, 139, 140, 141, 142, 143, 144, 145, 146, 147, 148, 149, 150, 151, 152, 153, 154, 155, 156, 157, 158, 159, 160, 161, 162, 163, 164, 165, 166, 167, 168, 169, 170, 171, 172, 173, 174, 175, 176, 177, 178, 179, 180, 181, 182, 183, 184, 185, 186, 187, 188, 189, 190, 191, 192, 193, 194, 195, 196, 197, 198, 199, 200, 201, 202, 203, 204, 205, 206, 207, 208, 209, 210, 211, 212, 213, 214, 215, 216, 217, 218, 219, 220, 221, 222, 223, 224, 225, 226, 227, 228, 229, 230, 231, 232, 233, 234, 235, 236, 237, 238, 239, 240, 241, 242, 243, 244, 245, 246, 247, 248, 249], [250, 251, 252, 253, 254, 255, 256, 257, 258, 259, 260, 261, 262, 263, 264, 265, 266, 267, 268, 269, 270, 271, 272, 273, 274, 275, 276, 277, 278, 279, 280, 281, 282, 283, 284, 285, 286, 287, 288, 289, 290, 291, 292, 293, 294, 295, 296, 297, 298, 299, 300, 301, 302, 303, 304, 305, 306, 307, 308, 309, 310, 311, 312, 313, 314, 315, 316, 317, 318, 319, 320, 321, 322, 323, 324, 325, 326, 327, 328, 329, 330, 331, 332, 333, 334, 335, 336, 337, 338, 339, 340, 341, 342, 343, 344, 345, 346, 347, 348, 349, 350, 351, 352, 353, 354, 355, 356, 357, 358, 359, 360, 361, 362, 363, 364, 365, 366, 367, 368, 369, 370, 371, 372, 373, 374, 375, 376, 377, 378, 379, 380, 381, 382, 383, 384, 385, 386, 387, 388, 389, 390, 391, 392, 393, 394, 395, 396, 397, 398, 399, 400, 401, 402, 403, 404, 405, 406, 407, 408, 409, 410, 411, 412, 413, 414, 415, 416, 417, 418, 419, 420, 421, 422, 423, 424, 425, 426, 427, 428, 429, 430, 431, 432, 433, 434, 435, 436, 437, 438, 439, 440, 441, 442, 443, 444, 445, 446, 447, 448, 449, 450, 451, 452, 453, 454, 455, 456, 457, 458, 459, 460, 461, 462, 463, 464, 465, 466, 467, 468, 469, 470, 471, 472, 473, 474, 475, 476, 477, 478, 479, 480, 481, 482, 483, 484, 485, 486, 487, 488, 489, 490, 491, 492, 493, 494, 495, 496, 497, 498, 499], [500, 501, 502, 503, 504, 505, 506, 507, 508, 509, 510, 511, 512, 513, 514, 515, 516, 517, 518, 519, 520, 521, 522, 523, 524, 525, 526, 527, 528, 529, 530, 531, 532, 533, 534, 535, 536, 537, 538, 539, 540, 541, 542, 543, 544, 545, 546, 547, 548, 549, 550, 551, 552, 553, 554, 555, 556, 557, 558, 559, 560, 561, 562, 563, 564, 565, 566, 567, 568, 569, 570, 571, 572, 573, 574, 575, 576, 577, 578, 579, 580, 581, 582, 583, 584, 585, 586, 587, 588, 589, 590, 591, 592, 593, 594, 595, 596, 597, 598, 599, 600, 601, 602, 603, 604, 605, 606, 607, 608, 609, 610, 611, 612, 613, 614, 615, 616, 617, 618, 619, 620, 621, 622, 623, 624, 625, 626, 627, 628, 629, 630, 631, 632, 633, 634, 635, 636, 637, 638, 639, 640, 641, 642, 643, 644, 645, 646, 647, 648, 649, 650, 651, 652, 653, 654, 655, 656, 657, 658, 659, 660, 661, 662, 663, 664, 665, 666, 667, 668, 669, 670, 671, 672, 673, 674, 675, 676, 677, 678, 679, 680, 681, 682, 683, 684, 685, 686, 687, 688, 689, 690, 691, 692, 693, 694, 695, 696, 697, 698, 699, 700, 701, 702, 703, 704, 705, 706, 707, 708, 709, 710, 711, 712, 713, 714, 715, 716, 717, 718, 719, 720, 721, 722, 723, 724, 725, 726, 727, 728, 729, 730, 731, 732, 733, 734, 735, 736, 737, 738, 739, 740, 741, 742, 743, 744, 745, 746, 747, 748, 749], [750, 751, 752, 753, 754, 755, 756, 757, 758, 759, 760, 761, 762, 763, 764, 765, 766, 767, 768, 769, 770, 771, 772, 773, 774, 775, 776, 777, 778, 779, 780, 781, 782, 783, 784, 785, 786, 787, 788, 789, 790, 791, 792, 793, 794, 795, 796, 797, 798, 799, 800, 801, 802, 803, 804, 805, 806, 807, 808, 809, 810, 811, 812, 813, 814, 815, 816, 817, 818, 819, 820, 821, 822, 823, 824, 825, 826, 827, 828, 829, 830, 831, 832, 833, 834, 835, 836, 837, 838, 839, 840, 841, 842, 843, 844, 845, 846, 847, 848, 849, 850, 851, 852, 853, 854, 855, 856, 857, 858, 859, 860, 861, 862, 863, 864, 865, 866, 867, 868, 869, 870, 871, 872, 873, 874, 875, 876, 877, 878, 879, 880, 881, 882, 883, 884, 885, 886, 887, 888, 889, 890, 891, 892, 893, 894, 895, 896, 897, 898, 899, 900, 901, 902, 903, 904, 905, 906, 907, 908, 909, 910, 911, 912, 913, 914, 915, 916, 917, 918, 919, 920, 921, 922, 923, 924, 925, 926, 927, 928, 929, 930, 931, 932, 933, 934, 935, 936, 937, 938, 939, 940, 941, 942, 943, 944, 945, 946, 947, 948, 949, 950, 951, 952, 953, 954, 955, 956, 957, 958, 959, 960, 961, 962, 963, 964, 965, 966, 967, 968, 969, 970, 971, 972, 973, 974, 975, 976, 977, 978, 979, 980, 981, 982, 983, 984, 985, 986, 987, 988, 989, 990, 991, 992, 993, 994, 995, 996, 997, 998, 999]]\n",
            "\n",
            "\n",
            "[1, 2, 3, 4, 5, 6, 7, 8, 9, 10, 11, 12, 13, 14, 15, 16, 17, 18, 19, 20, 21, 22, 23, 24, 25, 26, 27, 28, 29, 30, 31, 32, 33, 34, 35, 36, 37, 38, 39, 40, 41, 42, 43, 44, 45, 46, 47, 48, 49, 50, 51, 52, 53, 54, 55, 56, 57, 58, 59, 60, 61, 62, 63, 64, 65, 66, 67, 68, 69, 70, 71, 72, 73, 74, 75, 76, 77, 78, 79, 80, 81, 82, 83, 84, 85, 86, 87, 88, 89, 90, 91, 92, 93, 94, 95, 96, 97, 98, 99, 100, 101, 102, 103, 104, 105, 106, 107, 108, 109, 110, 111, 112, 113, 114, 115, 116, 117, 118, 119, 120, 121, 122, 123, 124, 125, 126, 127, 128, 129, 130, 131, 132, 133, 134, 135, 136, 137, 138, 139, 140, 141, 142, 143, 144, 145, 146, 147, 148, 149, 150, 151, 152, 153, 154, 155, 156, 157, 158, 159, 160, 161, 162, 163, 164, 165, 166, 167, 168, 169, 170, 171, 172, 173, 174, 175, 176, 177, 178, 179, 180, 181, 182, 183, 184, 185, 186, 187, 188, 189, 190, 191, 192, 193, 194, 195, 196, 197, 198, 199, 200, 201, 202, 203, 204, 205, 206, 207, 208, 209, 210, 211, 212, 213, 214, 215, 216, 217, 218, 219, 220, 221, 222, 223, 224, 225, 226, 227, 228, 229, 230, 231, 232, 233, 234, 235, 236, 237, 238, 239, 240, 241, 242, 243, 244, 245, 246, 247, 248, 249]\n",
            "\n",
            "\n",
            "[750, 751, 752, 753, 754, 755, 756, 757, 758, 759, 760, 761, 762, 763, 764, 765, 766, 767, 768, 769, 770, 771, 772, 773, 774, 775, 776, 777, 778, 779, 780, 781, 782, 783, 784, 785, 786, 787, 788, 789, 790, 791, 792, 793, 794, 795, 796, 797, 798, 799, 800, 801, 802, 803, 804, 805, 806, 807, 808, 809, 810, 811, 812, 813, 814, 815, 816, 817, 818, 819, 820, 821, 822, 823, 824, 825, 826, 827, 828, 829, 830, 831, 832, 833, 834, 835, 836, 837, 838, 839, 840, 841, 842, 843, 844, 845, 846, 847, 848, 849, 850, 851, 852, 853, 854, 855, 856, 857, 858, 859, 860, 861, 862, 863, 864, 865, 866, 867, 868, 869, 870, 871, 872, 873, 874, 875, 876, 877, 878, 879, 880, 881, 882, 883, 884, 885, 886, 887, 888, 889, 890, 891, 892, 893, 894, 895, 896, 897, 898, 899, 900, 901, 902, 903, 904, 905, 906, 907, 908, 909, 910, 911, 912, 913, 914, 915, 916, 917, 918, 919, 920, 921, 922, 923, 924, 925, 926, 927, 928, 929, 930, 931, 932, 933, 934, 935, 936, 937, 938, 939, 940, 941, 942, 943, 944, 945, 946, 947, 948, 949, 950, 951, 952, 953, 954, 955, 956, 957, 958, 959, 960, 961, 962, 963, 964, 965, 966, 967, 968, 969, 970, 971, 972, 973, 974, 975, 976, 977, 978, 979, 980, 981, 982, 983, 984, 985, 986, 987, 988, 989, 990, 991, 992, 993, 994, 995, 996, 997, 998, 999]\n"
          ]
        }
      ]
    },
    {
      "cell_type": "code",
      "source": [
        "b = sc.parallelize([12,21,23,43,1,22,11,45,56])\n",
        "print(b.takeOrdered(4))\n",
        "print(b.takeOrdered(4,key = lambda x:-x))"
      ],
      "metadata": {
        "colab": {
          "base_uri": "https://localhost:8080/"
        },
        "id": "CEU3rhiLlsaK",
        "outputId": "a1303d19-b31b-4b77-c554-916641c9b1bc"
      },
      "execution_count": null,
      "outputs": [
        {
          "output_type": "stream",
          "name": "stdout",
          "text": [
            "[1, 11, 12, 21]\n",
            "[56, 45, 43, 23]\n"
          ]
        }
      ]
    },
    {
      "cell_type": "code",
      "source": [
        "a.glom().map(lambda x:max(x)).collect()"
      ],
      "metadata": {
        "colab": {
          "base_uri": "https://localhost:8080/"
        },
        "id": "MCK6n0BltvQl",
        "outputId": "88941624-b16d-4897-96fe-7388e73ae3eb"
      },
      "execution_count": null,
      "outputs": [
        {
          "output_type": "execute_result",
          "data": {
            "text/plain": [
              "[249, 499, 749, 999]"
            ]
          },
          "metadata": {},
          "execution_count": 55
        }
      ]
    },
    {
      "cell_type": "code",
      "source": [
        "for i in range(a.getNumPartitions()):\n",
        "  print(f\"Max of partition({i}) : {max(a.glom().collect()[i])}\")\n",
        "  print(f\"Min of partition({i}) : {min(a.glom().collect()[i])}\")"
      ],
      "metadata": {
        "colab": {
          "base_uri": "https://localhost:8080/"
        },
        "id": "9u7ts381nwQ6",
        "outputId": "19f6680c-2017-4073-8cc5-0c81225497a6"
      },
      "execution_count": null,
      "outputs": [
        {
          "output_type": "stream",
          "name": "stdout",
          "text": [
            "Max of partition(0) : 249\n",
            "Min of partition(0) : 1\n",
            "Max of partition(1) : 499\n",
            "Min of partition(1) : 250\n",
            "Max of partition(2) : 749\n",
            "Min of partition(2) : 500\n",
            "Max of partition(3) : 999\n",
            "Min of partition(3) : 750\n"
          ]
        }
      ]
    },
    {
      "cell_type": "markdown",
      "source": [
        "##Repartitioning and Coalesce"
      ],
      "metadata": {
        "id": "WvI_tm9xs0bF"
      }
    },
    {
      "cell_type": "code",
      "source": [
        "d= b.repartition(7)\n",
        "d.getNumPartitions()"
      ],
      "metadata": {
        "colab": {
          "base_uri": "https://localhost:8080/"
        },
        "id": "yOLs2o4VsmBj",
        "outputId": "50cb06b3-51ad-4a14-d16b-f3306a6ae680"
      },
      "execution_count": null,
      "outputs": [
        {
          "output_type": "execute_result",
          "data": {
            "text/plain": [
              "7"
            ]
          },
          "metadata": {},
          "execution_count": 57
        }
      ]
    },
    {
      "cell_type": "code",
      "source": [
        "e = d.repartition(4)\n",
        "e.getNumPartitions()"
      ],
      "metadata": {
        "colab": {
          "base_uri": "https://localhost:8080/"
        },
        "id": "AUXpCakgsthb",
        "outputId": "a4e8cd09-70b2-4f99-ff74-dd12da7b79e5"
      },
      "execution_count": null,
      "outputs": [
        {
          "output_type": "execute_result",
          "data": {
            "text/plain": [
              "4"
            ]
          },
          "metadata": {},
          "execution_count": 58
        }
      ]
    },
    {
      "cell_type": "code",
      "source": [
        "c=b\n",
        "e = d.coalesce(2)\n",
        "e.getNumPartitions()"
      ],
      "metadata": {
        "colab": {
          "base_uri": "https://localhost:8080/"
        },
        "id": "MSpBM_f6szYG",
        "outputId": "578b6367-736b-4ec3-948c-f08b5814c79f"
      },
      "execution_count": null,
      "outputs": [
        {
          "output_type": "execute_result",
          "data": {
            "text/plain": [
              "2"
            ]
          },
          "metadata": {},
          "execution_count": 59
        }
      ]
    },
    {
      "cell_type": "code",
      "source": [
        "file_path='/content/UberDatasetCleaned.csv'\n",
        "df = spark.read.csv(file_path, header=True, inferSchema=True,nanValue='?')"
      ],
      "metadata": {
        "id": "DD4JFh2vwKao"
      },
      "execution_count": null,
      "outputs": []
    },
    {
      "cell_type": "code",
      "source": [
        "df.show()"
      ],
      "metadata": {
        "colab": {
          "base_uri": "https://localhost:8080/"
        },
        "id": "TPqeGCnDwKnb",
        "outputId": "eaa7a00a-fb65-4486-b86a-32ed79ee4aa9"
      },
      "execution_count": null,
      "outputs": [
        {
          "output_type": "stream",
          "name": "stdout",
          "text": [
            "+----------+----------+------------+----------+--------+----------+-----+----+--------+-----------------+---------------+----------+---------------+--------+----------------+---------+---------+\n",
            "|start_date|start_hour|start_minute|  end_date|end_hour|end_minute|month|year|CATEGORY|            START|           STOP|     MILES|        PURPOSE|duration|           speed|      day| day_time|\n",
            "+----------+----------+------------+----------+--------+----------+-----+----+--------+-----------------+---------------+----------+---------------+--------+----------------+---------+---------+\n",
            "|2016-01-01|        21|          11|2016-01-01|      21|        17|  Jan|2016|Business|      Fort Pierce|    Fort Pierce|  8.207634| Meal/Entertain|       6|        82.07634|   Friday|  Evening|\n",
            "|2016-01-02|         1|          25|2016-01-02|       1|        37|  Jan|2016|Business|      Fort Pierce|    Fort Pierce|    8.0467| Meal/Entertain|      12|         40.2335| Saturday|    Night|\n",
            "|2016-01-02|        20|          25|2016-01-02|      20|        38|  Jan|2016|Business|      Fort Pierce|    Fort Pierce|  7.724832|Errand/Supplies|      13|35.6530707692308| Saturday|  Evening|\n",
            "|2016-01-05|        17|          31|2016-01-05|      17|        45|  Jan|2016|Business|      Fort Pierce|    Fort Pierce|  7.563898|        Meeting|      14|32.4167057142857|  Tuesday|Afternoon|\n",
            "|2016-01-06|        14|          42|2016-01-06|      15|        49|  Jan|2016|Business|      Fort Pierce|West Palm Beach|102.514958| Customer Visit|      67|        91.80444|Wednesday|Afternoon|\n",
            "|2016-01-06|        17|          15|2016-01-06|      17|        19|  Jan|2016|Business|  West Palm Beach|West Palm Beach|  6.920162| Meal/Entertain|       4|       103.80243|Wednesday|Afternoon|\n",
            "|2016-01-06|        17|          30|2016-01-06|      17|        35|  Jan|2016|Business|  West Palm Beach|     Palm Beach| 11.426314|        Meeting|       5|      137.115768|Wednesday|Afternoon|\n",
            "|2016-01-07|        13|          27|2016-01-07|      13|        33|  Jan|2016|Business|             Cary|           Cary|  1.287472|        Meeting|       6|        12.87472| Thursday|Afternoon|\n",
            "|2016-01-10|         8|           5|2016-01-10|       8|        25|  Jan|2016|Business|             Cary|    Morrisville| 13.357522|        Meeting|      20|       40.072566|   Sunday|  Morning|\n",
            "|2016-01-10|        12|          17|2016-01-10|      12|        44|  Jan|2016|Business|          Jamaica|       New York|  26.55411| Customer Visit|      27|59.0091333333333|   Sunday|  Morning|\n",
            "|2016-01-10|        15|           8|2016-01-10|      15|        51|  Jan|2016|Business|         New York|         Queens| 17.380872|        Meeting|      43|24.2523795348837|   Sunday|Afternoon|\n",
            "|2016-01-10|        18|          18|2016-01-10|      18|        53|  Jan|2016|Business|         Elmhurst|       New York|  12.07005|        Meeting|      35|20.6915142857143|   Sunday|Afternoon|\n",
            "|2016-01-10|        19|          12|2016-01-10|      19|        32|  Jan|2016|Business|          Midtown|    East Harlem|  9.977908|        Meeting|      20|       29.933724|   Sunday|  Evening|\n",
            "|2016-01-11|         8|          55|2016-01-11|       9|        21|  Jan|2016|Business|      East Harlem|          NoMad| 10.299776| Temporary Site|      26|23.7687138461538|   Monday|  Morning|\n",
            "|2016-01-11|        11|          56|2016-01-11|      12|         3|  Jan|2016|Business|Flatiron District|        Midtown|  2.574944|Errand/Supplies|       7|22.0709485714286|   Monday|  Morning|\n",
            "|2016-01-11|        13|          32|2016-01-11|      13|        46|  Jan|2016|Business|          Midtown|   Midtown East|  2.735878| Meal/Entertain|      14|11.7251914285714|   Monday|Afternoon|\n",
            "|2016-01-11|        14|          30|2016-01-11|      14|        43|  Jan|2016|Business|     Midtown East|        Midtown|  3.057746| Meal/Entertain|      13|14.1126738461538|   Monday|Afternoon|\n",
            "|2016-01-12|        12|          33|2016-01-12|      12|        49|  Jan|2016|Business|          Midtown|  Hudson Square|  3.057746| Meal/Entertain|      16|      11.4665475|  Tuesday|  Morning|\n",
            "|2016-01-12|        12|          53|2016-01-12|      13|         9|  Jan|2016|Business|    Hudson Square|Lower Manhattan|   6.43736| Meal/Entertain|      16|         24.1401|  Tuesday|  Morning|\n",
            "|2016-01-12|        14|          42|2016-01-12|      14|        56|  Jan|2016|Business|  Lower Manhattan|  Hudson Square|  2.896812|Errand/Supplies|      14|12.4149085714286|  Tuesday|Afternoon|\n",
            "+----------+----------+------------+----------+--------+----------+-----+----+--------+-----------------+---------------+----------+---------------+--------+----------------+---------+---------+\n",
            "only showing top 20 rows\n",
            "\n"
          ]
        }
      ]
    },
    {
      "cell_type": "code",
      "source": [
        "def check_missing(dataframe):\n",
        "  \"\"\"\n",
        "  Checks for missing values in each column of a DataFrame and displays the count.\n",
        "\n",
        "  Args:\n",
        "    dataframe: The input DataFrame.\n",
        "  \"\"\"\n",
        "  # Iterate through columns and handle different data types\n",
        "  for c in dataframe.columns:\n",
        "    if dataframe.schema[c].dataType in [IntegerType(), FloatType()]:\n",
        "      # Use isnan and isNull for numeric types\n",
        "      missing_count = dataframe.select(count(when(isnan(col(c)) | col(c).isNull(), c))).first()[0]\n",
        "      print(f\"Missing values in column '{c}': {missing_count}\")\n",
        "    else:\n",
        "      # Use isNull for non-numeric types\n",
        "      missing_count = dataframe.select(count(when(col(c).isNull(), c))).first()[0]\n",
        "      print(f\"Missing values in column '{c}': {missing_count}\")\n",
        "\n",
        "check_missing(df)"
      ],
      "metadata": {
        "id": "GUnYqXTzwKrH"
      },
      "execution_count": null,
      "outputs": []
    },
    {
      "cell_type": "markdown",
      "source": [
        "Q1. Identify most frequent travel routes\\\n",
        "Q2. Analyze peak travel hours\\\n",
        "Q3. find the longest business trips\\\n",
        "Q4. Find the avg speed bassed on daytime\\\n",
        "Q5. Identify most common travel apttern by day of te week\\\n",
        "Q6. analyze travel pattern by day of the week\\\n",
        "Q7. Find the best customer(who travel  more frequently than others)\\\n",
        "Q8. identify each customer most frequent start location\\\n",
        "Q9. Identify shortest business route\\\n",
        "Q10."
      ],
      "metadata": {
        "id": "8__QPVe6xZOj"
      }
    },
    {
      "cell_type": "code",
      "source": [],
      "metadata": {
        "id": "8Rp9ZGfrHfzT"
      },
      "execution_count": null,
      "outputs": []
    },
    {
      "cell_type": "markdown",
      "source": [
        "##Q1 Identify most frequent travel routes"
      ],
      "metadata": {
        "id": "BJ-4Gjdhrhxe"
      }
    },
    {
      "cell_type": "code",
      "source": [
        "from pyspark.sql.functions import concat, lit\n",
        "\n",
        "df = df.withColumn('route', concat(df['START'], lit('-'), df['STOP']))"
      ],
      "metadata": {
        "id": "AdoNAnMMHeWd"
      },
      "execution_count": null,
      "outputs": []
    },
    {
      "cell_type": "code",
      "source": [
        "#df = df.withColumn('route', pyspark.sql.functions.concat(df['START'],df['STOP']))\n",
        "df.show()"
      ],
      "metadata": {
        "colab": {
          "base_uri": "https://localhost:8080/"
        },
        "id": "Y30IyCjGwKuq",
        "outputId": "bd3b791c-6818-4b50-8a2b-73d78e7d535e"
      },
      "execution_count": null,
      "outputs": [
        {
          "output_type": "stream",
          "name": "stdout",
          "text": [
            "+----------+----------+------------+----------+--------+----------+-----+----+--------+-----------------+---------------+----------+---------------+--------+----------------+---------+---------+--------------------+\n",
            "|start_date|start_hour|start_minute|  end_date|end_hour|end_minute|month|year|CATEGORY|            START|           STOP|     MILES|        PURPOSE|duration|           speed|      day| day_time|               route|\n",
            "+----------+----------+------------+----------+--------+----------+-----+----+--------+-----------------+---------------+----------+---------------+--------+----------------+---------+---------+--------------------+\n",
            "|2016-01-01|        21|          11|2016-01-01|      21|        17|  Jan|2016|Business|      Fort Pierce|    Fort Pierce|  8.207634| Meal/Entertain|       6|        82.07634|   Friday|  Evening|Fort Pierce-Fort ...|\n",
            "|2016-01-02|         1|          25|2016-01-02|       1|        37|  Jan|2016|Business|      Fort Pierce|    Fort Pierce|    8.0467| Meal/Entertain|      12|         40.2335| Saturday|    Night|Fort Pierce-Fort ...|\n",
            "|2016-01-02|        20|          25|2016-01-02|      20|        38|  Jan|2016|Business|      Fort Pierce|    Fort Pierce|  7.724832|Errand/Supplies|      13|35.6530707692308| Saturday|  Evening|Fort Pierce-Fort ...|\n",
            "|2016-01-05|        17|          31|2016-01-05|      17|        45|  Jan|2016|Business|      Fort Pierce|    Fort Pierce|  7.563898|        Meeting|      14|32.4167057142857|  Tuesday|Afternoon|Fort Pierce-Fort ...|\n",
            "|2016-01-06|        14|          42|2016-01-06|      15|        49|  Jan|2016|Business|      Fort Pierce|West Palm Beach|102.514958| Customer Visit|      67|        91.80444|Wednesday|Afternoon|Fort Pierce-West ...|\n",
            "|2016-01-06|        17|          15|2016-01-06|      17|        19|  Jan|2016|Business|  West Palm Beach|West Palm Beach|  6.920162| Meal/Entertain|       4|       103.80243|Wednesday|Afternoon|West Palm Beach-W...|\n",
            "|2016-01-06|        17|          30|2016-01-06|      17|        35|  Jan|2016|Business|  West Palm Beach|     Palm Beach| 11.426314|        Meeting|       5|      137.115768|Wednesday|Afternoon|West Palm Beach-P...|\n",
            "|2016-01-07|        13|          27|2016-01-07|      13|        33|  Jan|2016|Business|             Cary|           Cary|  1.287472|        Meeting|       6|        12.87472| Thursday|Afternoon|           Cary-Cary|\n",
            "|2016-01-10|         8|           5|2016-01-10|       8|        25|  Jan|2016|Business|             Cary|    Morrisville| 13.357522|        Meeting|      20|       40.072566|   Sunday|  Morning|    Cary-Morrisville|\n",
            "|2016-01-10|        12|          17|2016-01-10|      12|        44|  Jan|2016|Business|          Jamaica|       New York|  26.55411| Customer Visit|      27|59.0091333333333|   Sunday|  Morning|    Jamaica-New York|\n",
            "|2016-01-10|        15|           8|2016-01-10|      15|        51|  Jan|2016|Business|         New York|         Queens| 17.380872|        Meeting|      43|24.2523795348837|   Sunday|Afternoon|     New York-Queens|\n",
            "|2016-01-10|        18|          18|2016-01-10|      18|        53|  Jan|2016|Business|         Elmhurst|       New York|  12.07005|        Meeting|      35|20.6915142857143|   Sunday|Afternoon|   Elmhurst-New York|\n",
            "|2016-01-10|        19|          12|2016-01-10|      19|        32|  Jan|2016|Business|          Midtown|    East Harlem|  9.977908|        Meeting|      20|       29.933724|   Sunday|  Evening| Midtown-East Harlem|\n",
            "|2016-01-11|         8|          55|2016-01-11|       9|        21|  Jan|2016|Business|      East Harlem|          NoMad| 10.299776| Temporary Site|      26|23.7687138461538|   Monday|  Morning|   East Harlem-NoMad|\n",
            "|2016-01-11|        11|          56|2016-01-11|      12|         3|  Jan|2016|Business|Flatiron District|        Midtown|  2.574944|Errand/Supplies|       7|22.0709485714286|   Monday|  Morning|Flatiron District...|\n",
            "|2016-01-11|        13|          32|2016-01-11|      13|        46|  Jan|2016|Business|          Midtown|   Midtown East|  2.735878| Meal/Entertain|      14|11.7251914285714|   Monday|Afternoon|Midtown-Midtown East|\n",
            "|2016-01-11|        14|          30|2016-01-11|      14|        43|  Jan|2016|Business|     Midtown East|        Midtown|  3.057746| Meal/Entertain|      13|14.1126738461538|   Monday|Afternoon|Midtown East-Midtown|\n",
            "|2016-01-12|        12|          33|2016-01-12|      12|        49|  Jan|2016|Business|          Midtown|  Hudson Square|  3.057746| Meal/Entertain|      16|      11.4665475|  Tuesday|  Morning|Midtown-Hudson Sq...|\n",
            "|2016-01-12|        12|          53|2016-01-12|      13|         9|  Jan|2016|Business|    Hudson Square|Lower Manhattan|   6.43736| Meal/Entertain|      16|         24.1401|  Tuesday|  Morning|Hudson Square-Low...|\n",
            "|2016-01-12|        14|          42|2016-01-12|      14|        56|  Jan|2016|Business|  Lower Manhattan|  Hudson Square|  2.896812|Errand/Supplies|      14|12.4149085714286|  Tuesday|Afternoon|Lower Manhattan-H...|\n",
            "+----------+----------+------------+----------+--------+----------+-----+----+--------+-----------------+---------------+----------+---------------+--------+----------------+---------+---------+--------------------+\n",
            "only showing top 20 rows\n",
            "\n"
          ]
        }
      ]
    },
    {
      "cell_type": "code",
      "source": [
        "#filtered_df = df.where(df['START'] != 'Unknown Location')\n",
        "#filtered_df.show()"
      ],
      "metadata": {
        "id": "Mumr5Xsv1kh_"
      },
      "execution_count": null,
      "outputs": []
    },
    {
      "cell_type": "code",
      "source": [
        "#df= filtered_df"
      ],
      "metadata": {
        "id": "UxXmcj_W13sR"
      },
      "execution_count": null,
      "outputs": []
    },
    {
      "cell_type": "code",
      "source": [
        "route_counts = df.where(df['START'] != 'Unknown Location').groupBy('route').count()\n",
        "route_counts.show(2000)"
      ],
      "metadata": {
        "colab": {
          "base_uri": "https://localhost:8080/"
        },
        "id": "LIFtt9D0wKyA",
        "outputId": "169e4034-e75a-4080-bb49-805944e1eb04"
      },
      "execution_count": null,
      "outputs": [
        {
          "output_type": "stream",
          "name": "stdout",
          "text": [
            "+--------------------+-----+\n",
            "|               route|count|\n",
            "+--------------------+-----+\n",
            "|Meredith Townes-H...|    1|\n",
            "|San Francisco-Pal...|    1|\n",
            "| Berkeley-Menlo Park|    1|\n",
            "|R?walpindi-Unknow...|    8|\n",
            "|Edgehill Farms-Wh...|    6|\n",
            "|  Katunayake-Gampaha|    1|\n",
            "|         Cary-Durham|   36|\n",
            "|Red River Distric...|    1|\n",
            "|South Congress-No...|    1|\n",
            "|   Coxville-The Drag|    1|\n",
            "|Cary-Unknown Loca...|    1|\n",
            "|   Orlando-Kissimmee|    7|\n",
            "|Tribeca-Financial...|    1|\n",
            "|Financial Distric...|    1|\n",
            "|Heritage Pines-Wh...|    1|\n",
            "|San Francisco-Ber...|    4|\n",
            "|Lower Manhattan-H...|    1|\n",
            "|Whitebridge-Savon...|    3|\n",
            "|Central-College A...|    1|\n",
            "|Berkeley-Mountain...|    1|\n",
            "|Midtown-Midtown West|    1|\n",
            "| Whitebridge-Preston|    3|\n",
            "|Seaport-Gramercy-...|    1|\n",
            "|   Berkeley-San Jose|    1|\n",
            "|    Berkeley-Oakland|    3|\n",
            "|         CBD-Bywater|    1|\n",
            "|San Francisco-Oak...|    2|\n",
            "| SOMISSPO-Tenderloin|    1|\n",
            "|Kar?chi-Unknown L...|    7|\n",
            "|Hudson Square-Low...|    1|\n",
            "|Fairmont-Meredith...|    1|\n",
            "|   Galveston-Houston|    1|\n",
            "|Bryson City-Ashev...|    1|\n",
            "|     Kenner-Metairie|    1|\n",
            "|  Bryson City-Almond|    1|\n",
            "|Midtown East-Midtown|    1|\n",
            "|  Tanglewood-Parkway|    1|\n",
            "|Islamabad-Unknown...|   28|\n",
            "| Berkeley-El Cerrito|    1|\n",
            "|R?walpindi-R?walp...|    2|\n",
            "|   Parkwood-Parkwood|    1|\n",
            "|   Agnew-Renaissance|    2|\n",
            "|    Midtown-Downtown|    1|\n",
            "|Whitebridge-Wayne...|    4|\n",
            "|University Distri...|    1|\n",
            "| Tenderloin-SOMISSPO|    1|\n",
            "|       Weston-Weston|    2|\n",
            "|Lexington Park at...|    1|\n",
            "|  Latta-Jacksonville|    1|\n",
            "| Berkeley-Emeryville|    5|\n",
            "|Sharpstown-Briar ...|    1|\n",
            "| Palo Alto-Sunnyvale|    1|\n",
            "|New Orleans-Chalm...|    1|\n",
            "|  Cary-Winston Salem|    1|\n",
            "|Rawalpindi-Rawalp...|    1|\n",
            "|   Houston-Galveston|    1|\n",
            "|  Holly Springs-Cary|    2|\n",
            "|    Jamaica-New York|    2|\n",
            "|    Redmond-Bellevue|    1|\n",
            "|Westpark Place-Ha...|    1|\n",
            "|Whitebridge-Waver...|    5|\n",
            "|Newark-San Francisco|    1|\n",
            "|Heritage Pines-Ed...|    1|\n",
            "|Whitebridge-Lake ...|    1|\n",
            "|Emeryville-San Fr...|    1|\n",
            "|     Newland-Newland|    1|\n",
            "|Hell's Kitchen-Mi...|    1|\n",
            "|    Colombo-Nugegoda|    1|\n",
            "|  Emeryville-Oakland|    3|\n",
            "|Metairie-New Orleans|    2|\n",
            "|         Agnew-Agnew|    1|\n",
            "|Rawalpindi-Islamabad|    1|\n",
            "|Whitebridge-North...|    2|\n",
            "|Briar Meadow-Midtown|    1|\n",
            "|Banner Elk-Banner...|    5|\n",
            "|North Berkeley Hi...|    1|\n",
            "|           Apex-Cary|   13|\n",
            "|The Drag-South Co...|    2|\n",
            "|       NOMA-Downtown|    1|\n",
            "|Fort Pierce-West ...|    1|\n",
            "|Fort Pierce-Fort ...|    4|\n",
            "|   Southside-Central|    2|\n",
            "| Parkway-Whitebridge|    5|\n",
            "|Old City-Parkway ...|    1|\n",
            "|Kilarney Woods-Wh...|    1|\n",
            "|  Kenner-New Orleans|    8|\n",
            "|    Hazelwood-Weston|    1|\n",
            "|Katunayaka-Unknow...|    1|\n",
            "|Hazelwood-Whitebr...|    5|\n",
            "| Lakeview-Storyville|    1|\n",
            "|Mandeville-Mandev...|    1|\n",
            "|Arlington Park at...|    1|\n",
            "|Connecticut Avenu...|    1|\n",
            "|         Durham-Cary|   25|\n",
            "|Savon Height-Kila...|    1|\n",
            "|   Central-Southside|    2|\n",
            "|Farmington Woods-...|    1|\n",
            "|   Capitol One-Mcvan|    1|\n",
            "|       Kenner-Kenner|    2|\n",
            "|  Downtown-Sunnyside|    1|\n",
            "|      Rose Hill-Soho|    1|\n",
            "|Karachi-Unknown L...|    2|\n",
            "|Whitebridge-Herit...|    2|\n",
            "|    Downtown-Midtown|    1|\n",
            "|West Berkeley-Cen...|    2|\n",
            "|           Cary-Apex|   14|\n",
            "|  Sharpstown-Midtown|    3|\n",
            "|   Newark-Menlo Park|    1|\n",
            "|     Chalmette-Arabi|    1|\n",
            "|  Marigny-Storyville|    1|\n",
            "|Columbia Heights-...|    1|\n",
            "|San Jose-Santa Clara|    1|\n",
            "| Sunnyside-Ingleside|    1|\n",
            "|  New Orleans-Kenner|    6|\n",
            "|Whitebridge-Hazel...|    4|\n",
            "|Oakland-Unknown L...|    1|\n",
            "|Kilarney Woods-Ki...|    1|\n",
            "|Arlington-Washington|    1|\n",
            "|Huntington Woods-...|    1|\n",
            "|          Cary-Latta|    1|\n",
            "|     Central-Central|    3|\n",
            "|    Boone-Banner Elk|    1|\n",
            "|   Hayesville-Topton|    1|\n",
            "|   Renaissance-Agnew|    2|\n",
            "|       Cary-Wake Co.|    1|\n",
            "|  Durham-Morrisville|    4|\n",
            "|     Orlando-Orlando|    1|\n",
            "|San Francisco-Eme...|    1|\n",
            "| Covington-Covington|    5|\n",
            "|College Avenue-Ce...|    1|\n",
            "|South-Southwest B...|    1|\n",
            "|   Downtown-The Drag|    2|\n",
            "|Morrisville-Morri...|    5|\n",
            "|West End-Northwes...|    1|\n",
            "|Whitebridge-Chess...|    1|\n",
            "|Krendle Woods-Whi...|    1|\n",
            "|Wayne Ridge-White...|    4|\n",
            "|Medical Centre-Tu...|    1|\n",
            "|    Downtown-Gulfton|    1|\n",
            "|Waverly Place-Mac...|    1|\n",
            "|Eastgate-Walnut T...|    1|\n",
            "|Chessington-White...|    1|\n",
            "|Washington-Arlington|    1|\n",
            "|Farmington Woods-...|    1|\n",
            "|       Newland-Boone|    1|\n",
            "|Fayetteville Stre...|    1|\n",
            "|Whitebridge-Farmi...|    1|\n",
            "|West Palm Beach-W...|    1|\n",
            "|West Palm Beach-P...|    1|\n",
            "| Midtown-East Harlem|    1|\n",
            "| Islamabad-Islamabad|   25|\n",
            "|The Drag-Conventi...|    2|\n",
            "|Kalorama Triangle...|    1|\n",
            "| Old City-Hog Island|    1|\n",
            "|   Elmhurst-New York|    1|\n",
            "| Mandeville-Metairie|    1|\n",
            "|    Asheville-Mebane|    1|\n",
            "|    Oakland-Berkeley|    2|\n",
            "|    Cary-Chapel Hill|    1|\n",
            "|Fayetteville Stre...|    1|\n",
            "|    Cary-Wake Forest|    1|\n",
            "|       Florence-Cary|    1|\n",
            "|Northwoods-Tangle...|    1|\n",
            "|Northwoods-Whiteb...|    1|\n",
            "|     Colombo-Colombo|    6|\n",
            "|Chessington-Chess...|    1|\n",
            "|Whitebridge-Summe...|    1|\n",
            "|Whitebridge-Arlin...|    1|\n",
            "|Midtown-Washingto...|    1|\n",
            "|Ingleside-Potrero...|    1|\n",
            "|    Cary-Morrisville|   67|\n",
            "|Islamabad-Noorpur...|    1|\n",
            "|Stonewater-Lexing...|    1|\n",
            "|Savon Height-Whit...|    2|\n",
            "|       CBD-St Thomas|    1|\n",
            "|Midtown-Hudson Sq...|    1|\n",
            "|Daytona Beach-Jac...|    1|\n",
            "|Central-West Berk...|    1|\n",
            "|  Houston-Sugar Land|    1|\n",
            "|Oakland-San Franc...|    2|\n",
            "|Fayetteville Stre...|    1|\n",
            "| Elk Park-Banner Elk|    1|\n",
            "|  Topton-Bryson City|    1|\n",
            "|Mountain View-Ber...|    1|\n",
            "|Port Bolivar-Port...|    2|\n",
            "|Downtown-Bay Farm...|    1|\n",
            "|      South-Downtown|    1|\n",
            "|Flatiron District...|    1|\n",
            "|Nugegoda-Unknown ...|    1|\n",
            "| San Jose-Emeryville|    1|\n",
            "|New Orleans-Metairie|    2|\n",
            "|  Banner Elk-Newland|    1|\n",
            "|     Karachi-Karachi|    2|\n",
            "|Southside-South B...|    1|\n",
            "|          Agnew-Cory|    1|\n",
            "| Preston-Whitebridge|    5|\n",
            "|   Kissimmee-Orlando|    6|\n",
            "|SOMISSPO-French Q...|    1|\n",
            "|Congress Ave Dist...|    1|\n",
            "|Santa Clara-Berkeley|    1|\n",
            "|Whitebridge-Macgr...|    1|\n",
            "| Raleigh-Morrisville|    5|\n",
            "|West University-C...|    1|\n",
            "|    Asheville-Topton|    1|\n",
            "|Meredith Townes-L...|    2|\n",
            "|Burtrose-Whitebridge|    1|\n",
            "|       Central-South|    1|\n",
            "|     Kar?chi-Kar?chi|   20|\n",
            "|      Arabi-Metairie|    1|\n",
            "|Noorpur Shahan-Un...|    2|\n",
            "|           Cary-Cary|   53|\n",
            "|New York-Long Isl...|    1|\n",
            "|Long Island City-...|    1|\n",
            "|Pontchartrain Bea...|    1|\n",
            "|     Raleigh-Raleigh|    2|\n",
            "|Galveston-Port Bo...|    1|\n",
            "|Lahore-Unknown Lo...|    9|\n",
            "|Kissimmee-Daytona...|    1|\n",
            "|Eagan Park-Jamest...|    1|\n",
            "|Whitebridge-Burtrose|    1|\n",
            "|     Eagle Rock-Cary|    1|\n",
            "|Jackson Heights-E...|    1|\n",
            "|         Durham-Apex|    1|\n",
            "|Rawalpindi-Unknow...|    3|\n",
            "|Convention Center...|    1|\n",
            "|  Midtown-Sharpstown|    4|\n",
            "|Morrisville-Banne...|    1|\n",
            "|South Congress-Th...|    3|\n",
            "|Lake Reams-Lake R...|    2|\n",
            "| Morrisville-Raleigh|    4|\n",
            "|         Mebane-Cary|    1|\n",
            "|    New York-Jamaica|    1|\n",
            "| Banner Elk-Elk Park|    1|\n",
            "| Menlo Park-Berkeley|    1|\n",
            "|        Katy-Houston|    1|\n",
            "|    Banner Elk-Boone|    1|\n",
            "|        Raleigh-Cary|   21|\n",
            "|Katunayaka-Katuna...|    1|\n",
            "|  Cary-Fuquay-Varina|    1|\n",
            "|Whitebridge-Tangl...|    3|\n",
            "|  Sugar Land-Houston|    1|\n",
            "|Pontchartrain Sho...|    2|\n",
            "|     Apex-Eagle Rock|    1|\n",
            "|  Northwoods-Preston|    1|\n",
            "|Washington Avenue...|    1|\n",
            "|   Topton-Hayesville|    1|\n",
            "| Kissimmee-Kissimmee|    4|\n",
            "|Downtown-West Ber...|    1|\n",
            "|   Mcvan-Capitol One|    1|\n",
            "|Tanglewood-Whiteb...|    2|\n",
            "|West Berkeley-Nor...|    1|\n",
            "|South Berkeley-So...|    1|\n",
            "|  Apex-Holly Springs|    1|\n",
            "|Waverly Place-Whi...|    3|\n",
            "|Georgian Acres-Th...|    1|\n",
            "|  Cary-Holly Springs|    1|\n",
            "|Chapel Hill-Morri...|    1|\n",
            "|Lower Garden Dist...|    1|\n",
            "|Hazelwood-Lexingt...|    1|\n",
            "|  Colombo-Katunayaka|    1|\n",
            "|       Midtown-Alief|    1|\n",
            "|        Cary-Raleigh|   23|\n",
            "|K Street-Kalorama...|    2|\n",
            "|Sand Lake Commons...|    1|\n",
            "|Hudson Square-Hel...|    1|\n",
            "|West University-S...|    1|\n",
            "|    Wake Forest-Cary|    1|\n",
            "|West Berkeley-Sou...|    1|\n",
            "|    Gulfton-Downtown|    1|\n",
            "|Savon Height-Parkway|    1|\n",
            "|    Sunnyvale-Newark|    1|\n",
            "|Edgehill Farms-Pr...|    1|\n",
            "|    Chapel Hill-Cary|    1|\n",
            "|         Austin-Katy|    1|\n",
            "|Islamabad-R?walpindi|    2|\n",
            "|South Congress-Ar...|    1|\n",
            "|Noorpur Shahan-Is...|    3|\n",
            "|Whitebridge-White...|    7|\n",
            "|Couples Glen-Isle...|    1|\n",
            "|East Austin-West ...|    1|\n",
            "|Jamestown Court-J...|    1|\n",
            "|CBD-Pontchartrain...|    1|\n",
            "|       St Thomas-CBD|    1|\n",
            "|Whitebridge-Stone...|    1|\n",
            "|Kalorama Triangle...|    1|\n",
            "|   East Harlem-NoMad|    1|\n",
            "| West Berkeley-South|    1|\n",
            "|       Lahore-Lahore|   27|\n",
            "|   Gampaha-Ilukwatta|    1|\n",
            "| Emeryville-Berkeley|    6|\n",
            "|    Morrisville-Cary|   74|\n",
            "|  Oakland-Emeryville|    2|\n",
            "|Whitebridge-Westp...|   14|\n",
            "|Summerwinds-White...|    1|\n",
            "|Whitebridge-Kilda...|    1|\n",
            "|          Boone-Cary|    1|\n",
            "|Kalorama Triangle...|    1|\n",
            "|R?walpindi-Islamabad|    1|\n",
            "|Wake Co.-Morrisville|    1|\n",
            "|Port Bolivar-Galv...|    1|\n",
            "|     Seattle-Redmond|    1|\n",
            "|Berkeley-San Fran...|    4|\n",
            "|Midtown-Midtown East|    1|\n",
            "|Townes at Everett...|    1|\n",
            "| Whitebridge-Parkway|    3|\n",
            "|Couples Glen-Vist...|    1|\n",
            "|New Orleans-Covin...|    1|\n",
            "|Whitebridge-Edgeh...|    8|\n",
            "|Midtown-Greater G...|    1|\n",
            "|Capitol One-Unive...|    1|\n",
            "|     Metairie-Kenner|    2|\n",
            "| El Cerrito-Berkeley|    1|\n",
            "|Jacksonville-Ridg...|    1|\n",
            "|     Houston-Houston|    3|\n",
            "|North Austin-Coxv...|    1|\n",
            "|Storyville-Faubou...|    1|\n",
            "|Edgehill Farms-Bu...|    1|\n",
            "|Huntington Woods-...|    2|\n",
            "|        Soho-Tribeca|    1|\n",
            "|CBD-Lower Garden ...|    1|\n",
            "|  Storyville-Marigny|    1|\n",
            "|Whitebridge-Willi...|    1|\n",
            "|     Midtown-Midtown|    2|\n",
            "|The Drag-North Au...|    1|\n",
            "| Meredith-Cedar Hill|    1|\n",
            "|The Drag-Congress...|    2|\n",
            "|   Menlo Park-Newark|    1|\n",
            "|Winston Salem-Ash...|    1|\n",
            "|Sky Lake-Sand Lak...|    1|\n",
            "|Covington-Mandeville|    1|\n",
            "|Palo Alto-Menlo Park|    1|\n",
            "|Southside-West Be...|    1|\n",
            "|Downtown-Red Rive...|    1|\n",
            "|Lexington Park at...|    1|\n",
            "|           Apex-Apex|    2|\n",
            "|Menlo Park-Palo Alto|    1|\n",
            "|Preston-Westpark ...|    1|\n",
            "|  Fuquay-Varina-Cary|    1|\n",
            "|     New York-Queens|    1|\n",
            "|East Elmhurst-New...|    1|\n",
            "|  Tanglewood-Preston|    1|\n",
            "|    Downtown-Central|    1|\n",
            "|          Cory-Agnew|    1|\n",
            "|Lake Wellingborou...|    1|\n",
            "|Westpark Place-Wh...|   16|\n",
            "|Bryson City-Bryso...|    3|\n",
            "|Sharpstown-Sharps...|    1|\n",
            "|New York-Queens C...|    1|\n",
            "|  Almond-Bryson City|    1|\n",
            "|Islamabad-Rawalpindi|    1|\n",
            "+--------------------+-----+\n",
            "\n"
          ]
        }
      ]
    },
    {
      "cell_type": "code",
      "source": [
        "route_counts.orderBy('count',ascending=False).show(10)"
      ],
      "metadata": {
        "colab": {
          "base_uri": "https://localhost:8080/"
        },
        "id": "dCCDRCQnHBA9",
        "outputId": "25aaafc0-3c86-4871-a2a3-da6c93142f4c"
      },
      "execution_count": null,
      "outputs": [
        {
          "output_type": "stream",
          "name": "stdout",
          "text": [
            "+--------------------+-----+\n",
            "|               route|count|\n",
            "+--------------------+-----+\n",
            "|    Morrisville-Cary|   74|\n",
            "|    Cary-Morrisville|   67|\n",
            "|           Cary-Cary|   53|\n",
            "|         Cary-Durham|   36|\n",
            "|Islamabad-Unknown...|   28|\n",
            "|       Lahore-Lahore|   27|\n",
            "| Islamabad-Islamabad|   25|\n",
            "|         Durham-Cary|   25|\n",
            "|        Cary-Raleigh|   23|\n",
            "|        Raleigh-Cary|   21|\n",
            "+--------------------+-----+\n",
            "only showing top 10 rows\n",
            "\n"
          ]
        }
      ]
    },
    {
      "cell_type": "markdown",
      "source": [
        "##Q2 Analyze peak travel hours"
      ],
      "metadata": {
        "id": "TsG7vPJgrcw_"
      }
    },
    {
      "cell_type": "code",
      "source": [
        "#df = df.withColumn('peak_travel', concat(df['start_hour'], lit('-'), df['end_hour']))"
      ],
      "metadata": {
        "id": "eHr4cWjzk9H7"
      },
      "execution_count": null,
      "outputs": []
    },
    {
      "cell_type": "code",
      "source": [
        "df.groupBy('start_hour').count().orderBy('count',ascending=False).show(10)"
      ],
      "metadata": {
        "colab": {
          "base_uri": "https://localhost:8080/"
        },
        "id": "lLAwG2PlIa1a",
        "outputId": "2d0e9707-ad09-4faf-c5d5-485b642aaeb9"
      },
      "execution_count": null,
      "outputs": [
        {
          "output_type": "stream",
          "name": "stdout",
          "text": [
            "+----------+-----+\n",
            "|start_hour|count|\n",
            "+----------+-----+\n",
            "|        15|   98|\n",
            "|        17|   95|\n",
            "|        18|   94|\n",
            "|        13|   94|\n",
            "|        14|   89|\n",
            "|        16|   88|\n",
            "|        12|   77|\n",
            "|        11|   72|\n",
            "|        20|   71|\n",
            "|        19|   68|\n",
            "+----------+-----+\n",
            "only showing top 10 rows\n",
            "\n"
          ]
        }
      ]
    },
    {
      "cell_type": "markdown",
      "source": [
        "##Q3 find the longest business trips"
      ],
      "metadata": {
        "id": "94IlAMQhrpOP"
      }
    },
    {
      "cell_type": "code",
      "source": [
        "df.where(df.CATEGORY== 'Business').orderBy('duration',ascending=False).show(1)"
      ],
      "metadata": {
        "colab": {
          "base_uri": "https://localhost:8080/"
        },
        "id": "VtVe2vtzI9J6",
        "outputId": "2e57a771-0d94-44e2-99e2-f7688db3b699"
      },
      "execution_count": null,
      "outputs": [
        {
          "output_type": "stream",
          "name": "stdout",
          "text": [
            "+----------+----------+------------+----------+--------+----------+-----+----+--------+-----+------------+----------+--------------+--------+----------------+------+---------+------------------+\n",
            "|start_date|start_hour|start_minute|  end_date|end_hour|end_minute|month|year|CATEGORY|START|        STOP|     MILES|       PURPOSE|duration|           speed|   day| day_time|             route|\n",
            "+----------+----------+------------+----------+--------+----------+-----+----+--------+-----+------------+----------+--------------+--------+----------------+------+---------+------------------+\n",
            "|2016-03-25|        16|          52|2016-03-25|      22|        22|  Mar|2016|Business|Latta|Jacksonville|499.378202|Customer Visit|     330|90.7960367272727|Friday|Afternoon|Latta-Jacksonville|\n",
            "+----------+----------+------------+----------+--------+----------+-----+----+--------+-----+------------+----------+--------------+--------+----------------+------+---------+------------------+\n",
            "only showing top 1 row\n",
            "\n"
          ]
        }
      ]
    },
    {
      "cell_type": "markdown",
      "source": [
        "##Q4 Find the avg speed bassed on daytime"
      ],
      "metadata": {
        "id": "towqV57VrYKa"
      }
    },
    {
      "cell_type": "code",
      "source": [],
      "metadata": {
        "id": "rJvI9TQQlPZB"
      },
      "execution_count": null,
      "outputs": []
    },
    {
      "cell_type": "code",
      "source": [
        "df = df.where(df.duration > 0)"
      ],
      "metadata": {
        "id": "NwKFgj_HoLZK"
      },
      "execution_count": null,
      "outputs": []
    },
    {
      "cell_type": "code",
      "source": [
        "from pyspark.sql.functions import avg\n",
        "\n",
        "df.groupBy('day_time').agg(avg('speed').alias('avg_speed')).show()"
      ],
      "metadata": {
        "colab": {
          "base_uri": "https://localhost:8080/"
        },
        "id": "rdjc-DO3meCf",
        "outputId": "f00170ca-ccd2-4aac-fc37-0cb5283adccd"
      },
      "execution_count": null,
      "outputs": [
        {
          "output_type": "stream",
          "name": "stdout",
          "text": [
            "+---------+------------------+\n",
            "| day_time|         avg_speed|\n",
            "+---------+------------------+\n",
            "|  Evening|  43.4256712248582|\n",
            "|  Morning| 47.72446648096086|\n",
            "|Afternoon| 39.87152502771442|\n",
            "|    Night|46.036096350678385|\n",
            "+---------+------------------+\n",
            "\n"
          ]
        }
      ]
    },
    {
      "cell_type": "markdown",
      "source": [
        "##Q5 Identify most common trip purpose"
      ],
      "metadata": {
        "id": "GMWSQEmdrsnv"
      }
    },
    {
      "cell_type": "code",
      "source": [
        "df.groupBy('PURPOSE').count().orderBy('count',ascending=False).show(1)"
      ],
      "metadata": {
        "colab": {
          "base_uri": "https://localhost:8080/"
        },
        "id": "zE4ETnWorzsi",
        "outputId": "62c62c93-6574-437f-c30f-2a63886d9943"
      },
      "execution_count": null,
      "outputs": [
        {
          "output_type": "stream",
          "name": "stdout",
          "text": [
            "+-------+-----+\n",
            "|PURPOSE|count|\n",
            "+-------+-----+\n",
            "|Meeting|  295|\n",
            "+-------+-----+\n",
            "only showing top 1 row\n",
            "\n"
          ]
        }
      ]
    },
    {
      "cell_type": "markdown",
      "source": [
        "##Q6. Analyze travel pattern by the day of the week"
      ],
      "metadata": {
        "id": "tPdc0266svF_"
      }
    },
    {
      "cell_type": "code",
      "source": [
        "df.groupBy('day').count().orderBy('count',ascending=False).show()"
      ],
      "metadata": {
        "colab": {
          "base_uri": "https://localhost:8080/"
        },
        "id": "ZMnvwCRnsubs",
        "outputId": "cbbac10b-44be-4b8f-9e06-eb4fdb0b3769"
      },
      "execution_count": null,
      "outputs": [
        {
          "output_type": "stream",
          "name": "stdout",
          "text": [
            "+---------+-----+\n",
            "|      day|count|\n",
            "+---------+-----+\n",
            "|   Friday|  201|\n",
            "|   Monday|  174|\n",
            "|  Tuesday|  172|\n",
            "| Thursday|  152|\n",
            "|   Sunday|  147|\n",
            "|Wednesday|  146|\n",
            "| Saturday|  145|\n",
            "+---------+-----+\n",
            "\n"
          ]
        }
      ]
    },
    {
      "cell_type": "markdown",
      "source": [
        "##Q7. Identify most frequent start location with respect to daytime"
      ],
      "metadata": {
        "id": "x4IZkqR5xC7u"
      }
    },
    {
      "cell_type": "markdown",
      "source": [
        "Simplest way"
      ],
      "metadata": {
        "id": "EM8Tv7KNCNYq"
      }
    },
    {
      "cell_type": "code",
      "source": [
        "ans = df.where(df.START != 'Unknown Location').groupBy('START','day_time').count().orderBy('count',ascending=False)"
      ],
      "metadata": {
        "id": "s4vfWyvvzedY"
      },
      "execution_count": null,
      "outputs": []
    },
    {
      "cell_type": "code",
      "source": [
        "ans.where(ans.day_time == 'Morning').orderBy('count',ascending=False).show(1)\n",
        "ans.where(ans.day_time == 'Night').orderBy('count',ascending=False).show(1)\n",
        "ans.where(ans.day_time == 'Afternoon').orderBy('count',ascending=False).show(1)\n",
        "ans.where(ans.day_time == 'Evening').orderBy('count',ascending=False).show(1)"
      ],
      "metadata": {
        "colab": {
          "base_uri": "https://localhost:8080/"
        },
        "id": "GXbNa6Ad4HTZ",
        "outputId": "4fc63ace-f827-4de2-d6a3-44d7e87c8c30"
      },
      "execution_count": null,
      "outputs": [
        {
          "output_type": "stream",
          "name": "stdout",
          "text": [
            "+-----+--------+-----+\n",
            "|START|day_time|count|\n",
            "+-----+--------+-----+\n",
            "| Cary| Morning|   62|\n",
            "+-----+--------+-----+\n",
            "only showing top 1 row\n",
            "\n",
            "+-----------+--------+-----+\n",
            "|      START|day_time|count|\n",
            "+-----------+--------+-----+\n",
            "|Morrisville|   Night|    8|\n",
            "+-----------+--------+-----+\n",
            "only showing top 1 row\n",
            "\n",
            "+-----+---------+-----+\n",
            "|START| day_time|count|\n",
            "+-----+---------+-----+\n",
            "| Cary|Afternoon|   96|\n",
            "+-----+---------+-----+\n",
            "only showing top 1 row\n",
            "\n",
            "+-----+--------+-----+\n",
            "|START|day_time|count|\n",
            "+-----+--------+-----+\n",
            "| Cary| Evening|   38|\n",
            "+-----+--------+-----+\n",
            "only showing top 1 row\n",
            "\n"
          ]
        }
      ]
    },
    {
      "cell_type": "markdown",
      "source": [
        "One way"
      ],
      "metadata": {
        "id": "ZmjdTYdICIxu"
      }
    },
    {
      "cell_type": "code",
      "source": [
        "from pyspark.sql.functions import max\n",
        "filtered_df= df.where(df['START']!= 'Unknown Location')\n",
        "start_location= filtered_df.groupBy('day_time','START').count().orderBy('count', ascending=False)\n",
        "\n",
        "from pyspark.sql import functions as F\n",
        "from pyspark.sql.window import Window\n",
        "window_spec = Window.partitionBy('day_time').orderBy(F.col('count').desc())\n",
        "ranked_df = start_location.withColumn('rank', F.row_number().over(window_spec))\n",
        "most_frequent_locations = ranked_df.filter(ranked_df['rank'] == 1).drop('rank')\n",
        "\n",
        "most_frequent_locations.show()"
      ],
      "metadata": {
        "colab": {
          "base_uri": "https://localhost:8080/"
        },
        "id": "ky6ShDSA9m7F",
        "outputId": "c582d141-0f0e-41e1-d23f-def12a2bb1a7"
      },
      "execution_count": null,
      "outputs": [
        {
          "output_type": "stream",
          "name": "stdout",
          "text": [
            "+---------+-----------+-----+\n",
            "| day_time|      START|count|\n",
            "+---------+-----------+-----+\n",
            "|Afternoon|       Cary|   96|\n",
            "|  Evening|       Cary|   38|\n",
            "|  Morning|       Cary|   62|\n",
            "|    Night|Morrisville|    8|\n",
            "+---------+-----------+-----+\n",
            "\n"
          ]
        }
      ]
    },
    {
      "cell_type": "markdown",
      "source": [
        "Another way"
      ],
      "metadata": {
        "id": "KaXQCLJBCK96"
      }
    },
    {
      "cell_type": "code",
      "source": [
        "d2 = df.where(df.START != 'Unknown Location').groupBy('START','day_time').count().orderBy('count',ascending=False)\n",
        "Max_counts = d2.groupBy('day_time').agg(max('count').alias('Max_count'))\n",
        "\n",
        "d2_alias = d2.alias('d2')\n",
        "Max_counts_alias = Max_counts.alias('Max_counts')\n",
        "result = d2.join(Max_counts,(d2['day_time'] == Max_counts['day_time']) & (d2['count'] == Max_counts['Max_count'])).select(d2_alias['day_time'], d2_alias['START'], d2_alias['count'])\n",
        "result.show()"
      ],
      "metadata": {
        "colab": {
          "base_uri": "https://localhost:8080/"
        },
        "id": "hmvFZrz3BcBP",
        "outputId": "a07b93e6-7f48-4ba3-9bcd-acca4847fdcf"
      },
      "execution_count": null,
      "outputs": [
        {
          "output_type": "stream",
          "name": "stdout",
          "text": [
            "+---------+-----------+-----+\n",
            "| day_time|      START|count|\n",
            "+---------+-----------+-----+\n",
            "|  Evening|       Cary|   38|\n",
            "|  Morning|       Cary|   62|\n",
            "|Afternoon|       Cary|   96|\n",
            "|    Night|Morrisville|    8|\n",
            "+---------+-----------+-----+\n",
            "\n"
          ]
        }
      ]
    },
    {
      "cell_type": "code",
      "source": [
        "d2.show()\n",
        "d2_alias.show()"
      ],
      "metadata": {
        "colab": {
          "base_uri": "https://localhost:8080/"
        },
        "id": "ZnyEqqhTC7QN",
        "outputId": "d82c827b-e597-48d8-bbc0-2c634f21dcad"
      },
      "execution_count": null,
      "outputs": [
        {
          "output_type": "stream",
          "name": "stdout",
          "text": [
            "+--------------+---------+-----+\n",
            "|         START| day_time|count|\n",
            "+--------------+---------+-----+\n",
            "|          Cary|Afternoon|   96|\n",
            "|          Cary|  Morning|   62|\n",
            "|   Whitebridge|Afternoon|   39|\n",
            "|          Cary|  Evening|   38|\n",
            "|   Morrisville|  Evening|   36|\n",
            "|     Islamabad|Afternoon|   34|\n",
            "|   Morrisville|Afternoon|   30|\n",
            "|       Raleigh|Afternoon|   19|\n",
            "|   Whitebridge|  Morning|   17|\n",
            "|        Durham|Afternoon|   17|\n",
            "|     Islamabad|  Morning|   16|\n",
            "|Westpark Place|Afternoon|   13|\n",
            "|        Lahore|Afternoon|   13|\n",
            "|       Kar?chi|Afternoon|   12|\n",
            "|        Lahore|  Morning|   12|\n",
            "|   Whitebridge|  Evening|   11|\n",
            "|          Apex|Afternoon|   11|\n",
            "|   Morrisville|  Morning|   10|\n",
            "|        Lahore|  Evening|   10|\n",
            "|       Kar?chi|  Morning|    8|\n",
            "+--------------+---------+-----+\n",
            "only showing top 20 rows\n",
            "\n",
            "+--------------+---------+-----+\n",
            "|         START| day_time|count|\n",
            "+--------------+---------+-----+\n",
            "|          Cary|Afternoon|   96|\n",
            "|          Cary|  Morning|   62|\n",
            "|   Whitebridge|Afternoon|   39|\n",
            "|          Cary|  Evening|   38|\n",
            "|   Morrisville|  Evening|   36|\n",
            "|     Islamabad|Afternoon|   34|\n",
            "|   Morrisville|Afternoon|   30|\n",
            "|       Raleigh|Afternoon|   19|\n",
            "|   Whitebridge|  Morning|   17|\n",
            "|        Durham|Afternoon|   17|\n",
            "|     Islamabad|  Morning|   16|\n",
            "|Westpark Place|Afternoon|   13|\n",
            "|        Lahore|Afternoon|   13|\n",
            "|       Kar?chi|Afternoon|   12|\n",
            "|        Lahore|  Morning|   12|\n",
            "|   Whitebridge|  Evening|   11|\n",
            "|          Apex|Afternoon|   11|\n",
            "|   Morrisville|  Morning|   10|\n",
            "|        Lahore|  Evening|   10|\n",
            "|       Kar?chi|  Morning|    8|\n",
            "+--------------+---------+-----+\n",
            "only showing top 20 rows\n",
            "\n"
          ]
        }
      ]
    },
    {
      "cell_type": "markdown",
      "source": [
        "##Q8. Identify shortest business route"
      ],
      "metadata": {
        "id": "t9FpVnYLyTmo"
      }
    },
    {
      "cell_type": "code",
      "source": [
        "d = df.where(df.CATEGORY == 'Business').orderBy('MILES',ascending=True).first()\n",
        "df.where(df.MILES == d.MILES).show()"
      ],
      "metadata": {
        "colab": {
          "base_uri": "https://localhost:8080/"
        },
        "id": "_oJ14nUhyTXt",
        "outputId": "0abd6472-b3a1-482f-8746-8fd5cf145e26"
      },
      "execution_count": null,
      "outputs": [
        {
          "output_type": "stream",
          "name": "stdout",
          "text": [
            "+----------+----------+------------+----------+--------+----------+-----+----+--------+----------+----------+-------+---------------+--------+-------+---------+---------+--------------------+\n",
            "|start_date|start_hour|start_minute|  end_date|end_hour|end_minute|month|year|CATEGORY|     START|      STOP|  MILES|        PURPOSE|duration|  speed|      day| day_time|               route|\n",
            "+----------+----------+------------+----------+--------+----------+-----+----+--------+----------+----------+-------+---------------+--------+-------+---------+---------+--------------------+\n",
            "|2016-01-26|        17|          27|2016-01-26|      17|        29|  Jan|2016|Business|      Cary|      Cary|0.80467|Errand/Supplies|       2|24.1401|  Tuesday|Afternoon|           Cary-Cary|\n",
            "|2016-02-17|        16|          38|2016-02-17|      16|        43|  Feb|2016|Business|Katunayaka|Katunayaka|0.80467|Errand/Supplies|       5|9.65604|Wednesday|Afternoon|Katunayaka-Katuna...|\n",
            "|2016-06-08|        17|          16|2016-06-08|      17|        18| June|2016|Business|      Soho|   Tribeca|0.80467|Errand/Supplies|       2|24.1401|Wednesday|Afternoon|        Soho-Tribeca|\n",
            "+----------+----------+------------+----------+--------+----------+-----+----+--------+----------+----------+-------+---------------+--------+-------+---------+---------+--------------------+\n",
            "\n"
          ]
        }
      ]
    },
    {
      "cell_type": "code",
      "source": [
        "d.MILES"
      ],
      "metadata": {
        "colab": {
          "base_uri": "https://localhost:8080/"
        },
        "id": "EIxJKbhaGmQC",
        "outputId": "291ce800-8a56-4d4a-9290-8e9781dd9212"
      },
      "execution_count": null,
      "outputs": [
        {
          "output_type": "execute_result",
          "data": {
            "text/plain": [
              "0.80467"
            ]
          },
          "metadata": {},
          "execution_count": 82
        }
      ]
    },
    {
      "cell_type": "code",
      "source": [
        "df.select(df[0]).show()"
      ],
      "metadata": {
        "colab": {
          "base_uri": "https://localhost:8080/"
        },
        "id": "RSlUCMiUz5eF",
        "outputId": "1182fe2d-a4a8-4fd2-a963-abb061b1ae16"
      },
      "execution_count": null,
      "outputs": [
        {
          "output_type": "stream",
          "name": "stdout",
          "text": [
            "+----------+\n",
            "|start_date|\n",
            "+----------+\n",
            "|2016-01-01|\n",
            "|2016-01-02|\n",
            "|2016-01-02|\n",
            "|2016-01-05|\n",
            "|2016-01-06|\n",
            "|2016-01-06|\n",
            "|2016-01-06|\n",
            "|2016-01-07|\n",
            "|2016-01-10|\n",
            "|2016-01-10|\n",
            "|2016-01-10|\n",
            "|2016-01-10|\n",
            "|2016-01-10|\n",
            "|2016-01-11|\n",
            "|2016-01-11|\n",
            "|2016-01-11|\n",
            "|2016-01-11|\n",
            "|2016-01-12|\n",
            "|2016-01-12|\n",
            "|2016-01-12|\n",
            "+----------+\n",
            "only showing top 20 rows\n",
            "\n"
          ]
        }
      ]
    },
    {
      "cell_type": "markdown",
      "source": [
        "## **Mar24**"
      ],
      "metadata": {
        "id": "cYFfR7Q9iZ_I"
      }
    },
    {
      "cell_type": "code",
      "source": [],
      "metadata": {
        "id": "O3ZV8FpoiZpt"
      },
      "execution_count": null,
      "outputs": []
    },
    {
      "cell_type": "code",
      "source": [
        "from pyspark import SparkContext"
      ],
      "metadata": {
        "id": "f9a3t6n5iLZn"
      },
      "execution_count": null,
      "outputs": []
    },
    {
      "cell_type": "code",
      "source": [
        "sc =SparkContext.getOrCreate()"
      ],
      "metadata": {
        "id": "VRuFZm0kileq"
      },
      "execution_count": null,
      "outputs": []
    },
    {
      "cell_type": "code",
      "source": [
        "uber_rdd = sc.textFile('test.csv')"
      ],
      "metadata": {
        "id": "fDwq8_KwjxO3"
      },
      "execution_count": null,
      "outputs": []
    },
    {
      "cell_type": "code",
      "source": [
        "uber_rdd.collect()"
      ],
      "metadata": {
        "colab": {
          "base_uri": "https://localhost:8080/"
        },
        "id": "iykWKxiMklf5",
        "outputId": "9bfd25bc-300e-45ef-dd19-07c17b043c58"
      },
      "execution_count": null,
      "outputs": [
        {
          "output_type": "execute_result",
          "data": {
            "text/plain": [
              "['PassengerId,Pclass,Name,Sex,Age,SibSp,Parch,Ticket,Fare,Cabin,Embarked',\n",
              " '892,3,\"Kelly, Mr. James\",male,34.5,0,0,330911,7.8292,,Q',\n",
              " '893,3,\"Wilkes, Mrs. James (Ellen Needs)\",female,47,1,0,363272,7,,S',\n",
              " '894,2,\"Myles, Mr. Thomas Francis\",male,62,0,0,240276,9.6875,,Q',\n",
              " '895,3,\"Wirz, Mr. Albert\",male,27,0,0,315154,8.6625,,S',\n",
              " '896,3,\"Hirvonen, Mrs. Alexander (Helga E Lindqvist)\",female,22,1,1,3101298,12.2875,,S',\n",
              " '897,3,\"Svensson, Mr. Johan Cervin\",male,14,0,0,7538,9.225,,S',\n",
              " '898,3,\"Connolly, Miss. Kate\",female,30,0,0,330972,7.6292,,Q',\n",
              " '899,2,\"Caldwell, Mr. Albert Francis\",male,26,1,1,248738,29,,S',\n",
              " '900,3,\"Abrahim, Mrs. Joseph (Sophie Halaut Easu)\",female,18,0,0,2657,7.2292,,C',\n",
              " '901,3,\"Davies, Mr. John Samuel\",male,21,2,0,A/4 48871,24.15,,S',\n",
              " '902,3,\"Ilieff, Mr. Ylio\",male,,0,0,349220,7.8958,,S',\n",
              " '903,1,\"Jones, Mr. Charles Cresson\",male,46,0,0,694,26,,S',\n",
              " '904,1,\"Snyder, Mrs. John Pillsbury (Nelle Stevenson)\",female,23,1,0,21228,82.2667,B45,S',\n",
              " '905,2,\"Howard, Mr. Benjamin\",male,63,1,0,24065,26,,S',\n",
              " '906,1,\"Chaffee, Mrs. Herbert Fuller (Carrie Constance Toogood)\",female,47,1,0,W.E.P. 5734,61.175,E31,S',\n",
              " '907,2,\"del Carlo, Mrs. Sebastiano (Argenia Genovesi)\",female,24,1,0,SC/PARIS 2167,27.7208,,C',\n",
              " '908,2,\"Keane, Mr. Daniel\",male,35,0,0,233734,12.35,,Q',\n",
              " '909,3,\"Assaf, Mr. Gerios\",male,21,0,0,2692,7.225,,C',\n",
              " '910,3,\"Ilmakangas, Miss. Ida Livija\",female,27,1,0,STON/O2. 3101270,7.925,,S',\n",
              " '911,3,\"Assaf Khalil, Mrs. Mariana (Miriam\"\")\"\"\",female,45,0,0,2696,7.225,,C',\n",
              " '912,1,\"Rothschild, Mr. Martin\",male,55,1,0,PC 17603,59.4,,C',\n",
              " '913,3,\"Olsen, Master. Artur Karl\",male,9,0,1,C 17368,3.1708,,S',\n",
              " '914,1,\"Flegenheim, Mrs. Alfred (Antoinette)\",female,,0,0,PC 17598,31.6833,,S',\n",
              " '915,1,\"Williams, Mr. Richard Norris II\",male,21,0,1,PC 17597,61.3792,,C',\n",
              " '916,1,\"Ryerson, Mrs. Arthur Larned (Emily Maria Borie)\",female,48,1,3,PC 17608,262.375,B57 B59 B63 B66,C',\n",
              " '917,3,\"Robins, Mr. Alexander A\",male,50,1,0,A/5. 3337,14.5,,S',\n",
              " '918,1,\"Ostby, Miss. Helene Ragnhild\",female,22,0,1,113509,61.9792,B36,C',\n",
              " '919,3,\"Daher, Mr. Shedid\",male,22.5,0,0,2698,7.225,,C',\n",
              " '920,1,\"Brady, Mr. John Bertram\",male,41,0,0,113054,30.5,A21,S',\n",
              " '921,3,\"Samaan, Mr. Elias\",male,,2,0,2662,21.6792,,C',\n",
              " '922,2,\"Louch, Mr. Charles Alexander\",male,50,1,0,SC/AH 3085,26,,S',\n",
              " '923,2,\"Jefferys, Mr. Clifford Thomas\",male,24,2,0,C.A. 31029,31.5,,S',\n",
              " '924,3,\"Dean, Mrs. Bertram (Eva Georgetta Light)\",female,33,1,2,C.A. 2315,20.575,,S',\n",
              " '925,3,\"Johnston, Mrs. Andrew G (Elizabeth Lily\"\" Watson)\"\"\",female,,1,2,W./C. 6607,23.45,,S',\n",
              " '926,1,\"Mock, Mr. Philipp Edmund\",male,30,1,0,13236,57.75,C78,C',\n",
              " '927,3,\"Katavelas, Mr. Vassilios (Catavelas Vassilios\"\")\"\"\",male,18.5,0,0,2682,7.2292,,C',\n",
              " '928,3,\"Roth, Miss. Sarah A\",female,,0,0,342712,8.05,,S',\n",
              " '929,3,\"Cacic, Miss. Manda\",female,21,0,0,315087,8.6625,,S',\n",
              " '930,3,\"Sap, Mr. Julius\",male,25,0,0,345768,9.5,,S',\n",
              " '931,3,\"Hee, Mr. Ling\",male,,0,0,1601,56.4958,,S',\n",
              " '932,3,\"Karun, Mr. Franz\",male,39,0,1,349256,13.4167,,C',\n",
              " '933,1,\"Franklin, Mr. Thomas Parham\",male,,0,0,113778,26.55,D34,S',\n",
              " '934,3,\"Goldsmith, Mr. Nathan\",male,41,0,0,SOTON/O.Q. 3101263,7.85,,S',\n",
              " '935,2,\"Corbett, Mrs. Walter H (Irene Colvin)\",female,30,0,0,237249,13,,S',\n",
              " '936,1,\"Kimball, Mrs. Edwin Nelson Jr (Gertrude Parsons)\",female,45,1,0,11753,52.5542,D19,S',\n",
              " '937,3,\"Peltomaki, Mr. Nikolai Johannes\",male,25,0,0,STON/O 2. 3101291,7.925,,S',\n",
              " '938,1,\"Chevre, Mr. Paul Romaine\",male,45,0,0,PC 17594,29.7,A9,C',\n",
              " '939,3,\"Shaughnessy, Mr. Patrick\",male,,0,0,370374,7.75,,Q',\n",
              " '940,1,\"Bucknell, Mrs. William Robert (Emma Eliza Ward)\",female,60,0,0,11813,76.2917,D15,C',\n",
              " '941,3,\"Coutts, Mrs. William (Winnie Minnie\"\" Treanor)\"\"\",female,36,0,2,C.A. 37671,15.9,,S',\n",
              " '942,1,\"Smith, Mr. Lucien Philip\",male,24,1,0,13695,60,C31,S',\n",
              " '943,2,\"Pulbaum, Mr. Franz\",male,27,0,0,SC/PARIS 2168,15.0333,,C',\n",
              " '944,2,\"Hocking, Miss. Ellen Nellie\"\"\"\"\",female,20,2,1,29105,23,,S',\n",
              " '945,1,\"Fortune, Miss. Ethel Flora\",female,28,3,2,19950,263,C23 C25 C27,S',\n",
              " '946,2,\"Mangiavacchi, Mr. Serafino Emilio\",male,,0,0,SC/A.3 2861,15.5792,,C',\n",
              " '947,3,\"Rice, Master. Albert\",male,10,4,1,382652,29.125,,Q',\n",
              " '948,3,\"Cor, Mr. Bartol\",male,35,0,0,349230,7.8958,,S',\n",
              " '949,3,\"Abelseth, Mr. Olaus Jorgensen\",male,25,0,0,348122,7.65,F G63,S',\n",
              " '950,3,\"Davison, Mr. Thomas Henry\",male,,1,0,386525,16.1,,S',\n",
              " '951,1,\"Chaudanson, Miss. Victorine\",female,36,0,0,PC 17608,262.375,B61,C',\n",
              " '952,3,\"Dika, Mr. Mirko\",male,17,0,0,349232,7.8958,,S',\n",
              " '953,2,\"McCrae, Mr. Arthur Gordon\",male,32,0,0,237216,13.5,,S',\n",
              " '954,3,\"Bjorklund, Mr. Ernst Herbert\",male,18,0,0,347090,7.75,,S',\n",
              " '955,3,\"Bradley, Miss. Bridget Delia\",female,22,0,0,334914,7.725,,Q',\n",
              " '956,1,\"Ryerson, Master. John Borie\",male,13,2,2,PC 17608,262.375,B57 B59 B63 B66,C',\n",
              " '957,2,\"Corey, Mrs. Percy C (Mary Phyllis Elizabeth Miller)\",female,,0,0,F.C.C. 13534,21,,S',\n",
              " '958,3,\"Burns, Miss. Mary Delia\",female,18,0,0,330963,7.8792,,Q',\n",
              " '959,1,\"Moore, Mr. Clarence Bloomfield\",male,47,0,0,113796,42.4,,S',\n",
              " '960,1,\"Tucker, Mr. Gilbert Milligan Jr\",male,31,0,0,2543,28.5375,C53,C',\n",
              " '961,1,\"Fortune, Mrs. Mark (Mary McDougald)\",female,60,1,4,19950,263,C23 C25 C27,S',\n",
              " '962,3,\"Mulvihill, Miss. Bertha E\",female,24,0,0,382653,7.75,,Q',\n",
              " '963,3,\"Minkoff, Mr. Lazar\",male,21,0,0,349211,7.8958,,S',\n",
              " '964,3,\"Nieminen, Miss. Manta Josefina\",female,29,0,0,3101297,7.925,,S',\n",
              " '965,1,\"Ovies y Rodriguez, Mr. Servando\",male,28.5,0,0,PC 17562,27.7208,D43,C',\n",
              " '966,1,\"Geiger, Miss. Amalie\",female,35,0,0,113503,211.5,C130,C',\n",
              " '967,1,\"Keeping, Mr. Edwin\",male,32.5,0,0,113503,211.5,C132,C',\n",
              " '968,3,\"Miles, Mr. Frank\",male,,0,0,359306,8.05,,S',\n",
              " '969,1,\"Cornell, Mrs. Robert Clifford (Malvina Helen Lamson)\",female,55,2,0,11770,25.7,C101,S',\n",
              " '970,2,\"Aldworth, Mr. Charles Augustus\",male,30,0,0,248744,13,,S',\n",
              " '971,3,\"Doyle, Miss. Elizabeth\",female,24,0,0,368702,7.75,,Q',\n",
              " '972,3,\"Boulos, Master. Akar\",male,6,1,1,2678,15.2458,,C',\n",
              " '973,1,\"Straus, Mr. Isidor\",male,67,1,0,PC 17483,221.7792,C55 C57,S',\n",
              " '974,1,\"Case, Mr. Howard Brown\",male,49,0,0,19924,26,,S',\n",
              " '975,3,\"Demetri, Mr. Marinko\",male,,0,0,349238,7.8958,,S',\n",
              " '976,2,\"Lamb, Mr. John Joseph\",male,,0,0,240261,10.7083,,Q',\n",
              " '977,3,\"Khalil, Mr. Betros\",male,,1,0,2660,14.4542,,C',\n",
              " '978,3,\"Barry, Miss. Julia\",female,27,0,0,330844,7.8792,,Q',\n",
              " '979,3,\"Badman, Miss. Emily Louisa\",female,18,0,0,A/4 31416,8.05,,S',\n",
              " '980,3,\"O\\'Donoghue, Ms. Bridget\",female,,0,0,364856,7.75,,Q',\n",
              " '981,2,\"Wells, Master. Ralph Lester\",male,2,1,1,29103,23,,S',\n",
              " '982,3,\"Dyker, Mrs. Adolf Fredrik (Anna Elisabeth Judith Andersson)\",female,22,1,0,347072,13.9,,S',\n",
              " '983,3,\"Pedersen, Mr. Olaf\",male,,0,0,345498,7.775,,S',\n",
              " '984,1,\"Davidson, Mrs. Thornton (Orian Hays)\",female,27,1,2,F.C. 12750,52,B71,S',\n",
              " '985,3,\"Guest, Mr. Robert\",male,,0,0,376563,8.05,,S',\n",
              " '986,1,\"Birnbaum, Mr. Jakob\",male,25,0,0,13905,26,,C',\n",
              " '987,3,\"Tenglin, Mr. Gunnar Isidor\",male,25,0,0,350033,7.7958,,S',\n",
              " '988,1,\"Cavendish, Mrs. Tyrell William (Julia Florence Siegel)\",female,76,1,0,19877,78.85,C46,S',\n",
              " '989,3,\"Makinen, Mr. Kalle Edvard\",male,29,0,0,STON/O 2. 3101268,7.925,,S',\n",
              " '990,3,\"Braf, Miss. Elin Ester Maria\",female,20,0,0,347471,7.8542,,S',\n",
              " '991,3,\"Nancarrow, Mr. William Henry\",male,33,0,0,A./5. 3338,8.05,,S',\n",
              " '992,1,\"Stengel, Mrs. Charles Emil Henry (Annie May Morris)\",female,43,1,0,11778,55.4417,C116,C',\n",
              " '993,2,\"Weisz, Mr. Leopold\",male,27,1,0,228414,26,,S',\n",
              " '994,3,\"Foley, Mr. William\",male,,0,0,365235,7.75,,Q',\n",
              " '995,3,\"Johansson Palmquist, Mr. Oskar Leander\",male,26,0,0,347070,7.775,,S',\n",
              " '996,3,\"Thomas, Mrs. Alexander (Thamine Thelma\"\")\"\"\",female,16,1,1,2625,8.5167,,C',\n",
              " '997,3,\"Holthen, Mr. Johan Martin\",male,28,0,0,C 4001,22.525,,S',\n",
              " '998,3,\"Buckley, Mr. Daniel\",male,21,0,0,330920,7.8208,,Q',\n",
              " '999,3,\"Ryan, Mr. Edward\",male,,0,0,383162,7.75,,Q',\n",
              " '1000,3,\"Willer, Mr. Aaron (Abi Weller\"\")\"\"\",male,,0,0,3410,8.7125,,S',\n",
              " '1001,2,\"Swane, Mr. George\",male,18.5,0,0,248734,13,F,S',\n",
              " '1002,2,\"Stanton, Mr. Samuel Ward\",male,41,0,0,237734,15.0458,,C',\n",
              " '1003,3,\"Shine, Miss. Ellen Natalia\",female,,0,0,330968,7.7792,,Q',\n",
              " '1004,1,\"Evans, Miss. Edith Corse\",female,36,0,0,PC 17531,31.6792,A29,C',\n",
              " '1005,3,\"Buckley, Miss. Katherine\",female,18.5,0,0,329944,7.2833,,Q',\n",
              " '1006,1,\"Straus, Mrs. Isidor (Rosalie Ida Blun)\",female,63,1,0,PC 17483,221.7792,C55 C57,S',\n",
              " '1007,3,\"Chronopoulos, Mr. Demetrios\",male,18,1,0,2680,14.4542,,C',\n",
              " '1008,3,\"Thomas, Mr. John\",male,,0,0,2681,6.4375,,C',\n",
              " '1009,3,\"Sandstrom, Miss. Beatrice Irene\",female,1,1,1,PP 9549,16.7,G6,S',\n",
              " '1010,1,\"Beattie, Mr. Thomson\",male,36,0,0,13050,75.2417,C6,C',\n",
              " '1011,2,\"Chapman, Mrs. John Henry (Sara Elizabeth Lawry)\",female,29,1,0,SC/AH 29037,26,,S',\n",
              " '1012,2,\"Watt, Miss. Bertha J\",female,12,0,0,C.A. 33595,15.75,,S',\n",
              " '1013,3,\"Kiernan, Mr. John\",male,,1,0,367227,7.75,,Q',\n",
              " '1014,1,\"Schabert, Mrs. Paul (Emma Mock)\",female,35,1,0,13236,57.75,C28,C',\n",
              " '1015,3,\"Carver, Mr. Alfred John\",male,28,0,0,392095,7.25,,S',\n",
              " '1016,3,\"Kennedy, Mr. John\",male,,0,0,368783,7.75,,Q',\n",
              " '1017,3,\"Cribb, Miss. Laura Alice\",female,17,0,1,371362,16.1,,S',\n",
              " '1018,3,\"Brobeck, Mr. Karl Rudolf\",male,22,0,0,350045,7.7958,,S',\n",
              " '1019,3,\"McCoy, Miss. Alicia\",female,,2,0,367226,23.25,,Q',\n",
              " '1020,2,\"Bowenur, Mr. Solomon\",male,42,0,0,211535,13,,S',\n",
              " '1021,3,\"Petersen, Mr. Marius\",male,24,0,0,342441,8.05,,S',\n",
              " '1022,3,\"Spinner, Mr. Henry John\",male,32,0,0,STON/OQ. 369943,8.05,,S',\n",
              " '1023,1,\"Gracie, Col. Archibald IV\",male,53,0,0,113780,28.5,C51,C',\n",
              " '1024,3,\"Lefebre, Mrs. Frank (Frances)\",female,,0,4,4133,25.4667,,S',\n",
              " '1025,3,\"Thomas, Mr. Charles P\",male,,1,0,2621,6.4375,,C',\n",
              " '1026,3,\"Dintcheff, Mr. Valtcho\",male,43,0,0,349226,7.8958,,S',\n",
              " '1027,3,\"Carlsson, Mr. Carl Robert\",male,24,0,0,350409,7.8542,,S',\n",
              " '1028,3,\"Zakarian, Mr. Mapriededer\",male,26.5,0,0,2656,7.225,,C',\n",
              " '1029,2,\"Schmidt, Mr. August\",male,26,0,0,248659,13,,S',\n",
              " '1030,3,\"Drapkin, Miss. Jennie\",female,23,0,0,SOTON/OQ 392083,8.05,,S',\n",
              " '1031,3,\"Goodwin, Mr. Charles Frederick\",male,40,1,6,CA 2144,46.9,,S',\n",
              " '1032,3,\"Goodwin, Miss. Jessie Allis\",female,10,5,2,CA 2144,46.9,,S',\n",
              " '1033,1,\"Daniels, Miss. Sarah\",female,33,0,0,113781,151.55,,S',\n",
              " '1034,1,\"Ryerson, Mr. Arthur Larned\",male,61,1,3,PC 17608,262.375,B57 B59 B63 B66,C',\n",
              " '1035,2,\"Beauchamp, Mr. Henry James\",male,28,0,0,244358,26,,S',\n",
              " '1036,1,\"Lindeberg-Lind, Mr. Erik Gustaf (Mr Edward Lingrey\"\")\"\"\",male,42,0,0,17475,26.55,,S',\n",
              " '1037,3,\"Vander Planke, Mr. Julius\",male,31,3,0,345763,18,,S',\n",
              " '1038,1,\"Hilliard, Mr. Herbert Henry\",male,,0,0,17463,51.8625,E46,S',\n",
              " '1039,3,\"Davies, Mr. Evan\",male,22,0,0,SC/A4 23568,8.05,,S',\n",
              " '1040,1,\"Crafton, Mr. John Bertram\",male,,0,0,113791,26.55,,S',\n",
              " '1041,2,\"Lahtinen, Rev. William\",male,30,1,1,250651,26,,S',\n",
              " '1042,1,\"Earnshaw, Mrs. Boulton (Olive Potter)\",female,23,0,1,11767,83.1583,C54,C',\n",
              " '1043,3,\"Matinoff, Mr. Nicola\",male,,0,0,349255,7.8958,,C',\n",
              " '1044,3,\"Storey, Mr. Thomas\",male,60.5,0,0,3701,,,S',\n",
              " '1045,3,\"Klasen, Mrs. (Hulda Kristina Eugenia Lofqvist)\",female,36,0,2,350405,12.1833,,S',\n",
              " '1046,3,\"Asplund, Master. Filip Oscar\",male,13,4,2,347077,31.3875,,S',\n",
              " '1047,3,\"Duquemin, Mr. Joseph\",male,24,0,0,S.O./P.P. 752,7.55,,S',\n",
              " '1048,1,\"Bird, Miss. Ellen\",female,29,0,0,PC 17483,221.7792,C97,S',\n",
              " '1049,3,\"Lundin, Miss. Olga Elida\",female,23,0,0,347469,7.8542,,S',\n",
              " '1050,1,\"Borebank, Mr. John James\",male,42,0,0,110489,26.55,D22,S',\n",
              " '1051,3,\"Peacock, Mrs. Benjamin (Edith Nile)\",female,26,0,2,SOTON/O.Q. 3101315,13.775,,S',\n",
              " '1052,3,\"Smyth, Miss. Julia\",female,,0,0,335432,7.7333,,Q',\n",
              " '1053,3,\"Touma, Master. Georges Youssef\",male,7,1,1,2650,15.2458,,C',\n",
              " '1054,2,\"Wright, Miss. Marion\",female,26,0,0,220844,13.5,,S',\n",
              " '1055,3,\"Pearce, Mr. Ernest\",male,,0,0,343271,7,,S',\n",
              " '1056,2,\"Peruschitz, Rev. Joseph Maria\",male,41,0,0,237393,13,,S',\n",
              " '1057,3,\"Kink-Heilmann, Mrs. Anton (Luise Heilmann)\",female,26,1,1,315153,22.025,,S',\n",
              " '1058,1,\"Brandeis, Mr. Emil\",male,48,0,0,PC 17591,50.4958,B10,C',\n",
              " '1059,3,\"Ford, Mr. Edward Watson\",male,18,2,2,W./C. 6608,34.375,,S',\n",
              " '1060,1,\"Cassebeer, Mrs. Henry Arthur Jr (Eleanor Genevieve Fosdick)\",female,,0,0,17770,27.7208,,C',\n",
              " '1061,3,\"Hellstrom, Miss. Hilda Maria\",female,22,0,0,7548,8.9625,,S',\n",
              " '1062,3,\"Lithman, Mr. Simon\",male,,0,0,S.O./P.P. 251,7.55,,S',\n",
              " '1063,3,\"Zakarian, Mr. Ortin\",male,27,0,0,2670,7.225,,C',\n",
              " '1064,3,\"Dyker, Mr. Adolf Fredrik\",male,23,1,0,347072,13.9,,S',\n",
              " '1065,3,\"Torfa, Mr. Assad\",male,,0,0,2673,7.2292,,C',\n",
              " '1066,3,\"Asplund, Mr. Carl Oscar Vilhelm Gustafsson\",male,40,1,5,347077,31.3875,,S',\n",
              " '1067,2,\"Brown, Miss. Edith Eileen\",female,15,0,2,29750,39,,S',\n",
              " '1068,2,\"Sincock, Miss. Maude\",female,20,0,0,C.A. 33112,36.75,,S',\n",
              " '1069,1,\"Stengel, Mr. Charles Emil Henry\",male,54,1,0,11778,55.4417,C116,C',\n",
              " '1070,2,\"Becker, Mrs. Allen Oliver (Nellie E Baumgardner)\",female,36,0,3,230136,39,F4,S',\n",
              " '1071,1,\"Compton, Mrs. Alexander Taylor (Mary Eliza Ingersoll)\",female,64,0,2,PC 17756,83.1583,E45,C',\n",
              " '1072,2,\"McCrie, Mr. James Matthew\",male,30,0,0,233478,13,,S',\n",
              " '1073,1,\"Compton, Mr. Alexander Taylor Jr\",male,37,1,1,PC 17756,83.1583,E52,C',\n",
              " '1074,1,\"Marvin, Mrs. Daniel Warner (Mary Graham Carmichael Farquarson)\",female,18,1,0,113773,53.1,D30,S',\n",
              " '1075,3,\"Lane, Mr. Patrick\",male,,0,0,7935,7.75,,Q',\n",
              " '1076,1,\"Douglas, Mrs. Frederick Charles (Mary Helene Baxter)\",female,27,1,1,PC 17558,247.5208,B58 B60,C',\n",
              " '1077,2,\"Maybery, Mr. Frank Hubert\",male,40,0,0,239059,16,,S',\n",
              " '1078,2,\"Phillips, Miss. Alice Frances Louisa\",female,21,0,1,S.O./P.P. 2,21,,S',\n",
              " '1079,3,\"Davies, Mr. Joseph\",male,17,2,0,A/4 48873,8.05,,S',\n",
              " '1080,3,\"Sage, Miss. Ada\",female,,8,2,CA. 2343,69.55,,S',\n",
              " '1081,2,\"Veal, Mr. James\",male,40,0,0,28221,13,,S',\n",
              " '1082,2,\"Angle, Mr. William A\",male,34,1,0,226875,26,,S',\n",
              " '1083,1,\"Salomon, Mr. Abraham L\",male,,0,0,111163,26,,S',\n",
              " '1084,3,\"van Billiard, Master. Walter John\",male,11.5,1,1,A/5. 851,14.5,,S',\n",
              " '1085,2,\"Lingane, Mr. John\",male,61,0,0,235509,12.35,,Q',\n",
              " '1086,2,\"Drew, Master. Marshall Brines\",male,8,0,2,28220,32.5,,S',\n",
              " '1087,3,\"Karlsson, Mr. Julius Konrad Eugen\",male,33,0,0,347465,7.8542,,S',\n",
              " '1088,1,\"Spedden, Master. Robert Douglas\",male,6,0,2,16966,134.5,E34,C',\n",
              " '1089,3,\"Nilsson, Miss. Berta Olivia\",female,18,0,0,347066,7.775,,S',\n",
              " '1090,2,\"Baimbrigge, Mr. Charles Robert\",male,23,0,0,C.A. 31030,10.5,,S',\n",
              " '1091,3,\"Rasmussen, Mrs. (Lena Jacobsen Solvang)\",female,,0,0,65305,8.1125,,S',\n",
              " '1092,3,\"Murphy, Miss. Nora\",female,,0,0,36568,15.5,,Q',\n",
              " '1093,3,\"Danbom, Master. Gilbert Sigvard Emanuel\",male,0.33,0,2,347080,14.4,,S',\n",
              " '1094,1,\"Astor, Col. John Jacob\",male,47,1,0,PC 17757,227.525,C62 C64,C',\n",
              " '1095,2,\"Quick, Miss. Winifred Vera\",female,8,1,1,26360,26,,S',\n",
              " '1096,2,\"Andrew, Mr. Frank Thomas\",male,25,0,0,C.A. 34050,10.5,,S',\n",
              " '1097,1,\"Omont, Mr. Alfred Fernand\",male,,0,0,F.C. 12998,25.7417,,C',\n",
              " '1098,3,\"McGowan, Miss. Katherine\",female,35,0,0,9232,7.75,,Q',\n",
              " '1099,2,\"Collett, Mr. Sidney C Stuart\",male,24,0,0,28034,10.5,,S',\n",
              " '1100,1,\"Rosenbaum, Miss. Edith Louise\",female,33,0,0,PC 17613,27.7208,A11,C',\n",
              " '1101,3,\"Delalic, Mr. Redjo\",male,25,0,0,349250,7.8958,,S',\n",
              " '1102,3,\"Andersen, Mr. Albert Karvin\",male,32,0,0,C 4001,22.525,,S',\n",
              " '1103,3,\"Finoli, Mr. Luigi\",male,,0,0,SOTON/O.Q. 3101308,7.05,,S',\n",
              " '1104,2,\"Deacon, Mr. Percy William\",male,17,0,0,S.O.C. 14879,73.5,,S',\n",
              " '1105,2,\"Howard, Mrs. Benjamin (Ellen Truelove Arman)\",female,60,1,0,24065,26,,S',\n",
              " '1106,3,\"Andersson, Miss. Ida Augusta Margareta\",female,38,4,2,347091,7.775,,S',\n",
              " '1107,1,\"Head, Mr. Christopher\",male,42,0,0,113038,42.5,B11,S',\n",
              " '1108,3,\"Mahon, Miss. Bridget Delia\",female,,0,0,330924,7.8792,,Q',\n",
              " '1109,1,\"Wick, Mr. George Dennick\",male,57,1,1,36928,164.8667,,S',\n",
              " '1110,1,\"Widener, Mrs. George Dunton (Eleanor Elkins)\",female,50,1,1,113503,211.5,C80,C',\n",
              " '1111,3,\"Thomson, Mr. Alexander Morrison\",male,,0,0,32302,8.05,,S',\n",
              " '1112,2,\"Duran y More, Miss. Florentina\",female,30,1,0,SC/PARIS 2148,13.8583,,C',\n",
              " '1113,3,\"Reynolds, Mr. Harold J\",male,21,0,0,342684,8.05,,S',\n",
              " '1114,2,\"Cook, Mrs. (Selena Rogers)\",female,22,0,0,W./C. 14266,10.5,F33,S',\n",
              " '1115,3,\"Karlsson, Mr. Einar Gervasius\",male,21,0,0,350053,7.7958,,S',\n",
              " '1116,1,\"Candee, Mrs. Edward (Helen Churchill Hungerford)\",female,53,0,0,PC 17606,27.4458,,C',\n",
              " '1117,3,\"Moubarek, Mrs. George (Omine Amenia\"\" Alexander)\"\"\",female,,0,2,2661,15.2458,,C',\n",
              " '1118,3,\"Asplund, Mr. Johan Charles\",male,23,0,0,350054,7.7958,,S',\n",
              " '1119,3,\"McNeill, Miss. Bridget\",female,,0,0,370368,7.75,,Q',\n",
              " '1120,3,\"Everett, Mr. Thomas James\",male,40.5,0,0,C.A. 6212,15.1,,S',\n",
              " '1121,2,\"Hocking, Mr. Samuel James Metcalfe\",male,36,0,0,242963,13,,S',\n",
              " '1122,2,\"Sweet, Mr. George Frederick\",male,14,0,0,220845,65,,S',\n",
              " '1123,1,\"Willard, Miss. Constance\",female,21,0,0,113795,26.55,,S',\n",
              " '1124,3,\"Wiklund, Mr. Karl Johan\",male,21,1,0,3101266,6.4958,,S',\n",
              " '1125,3,\"Linehan, Mr. Michael\",male,,0,0,330971,7.8792,,Q',\n",
              " '1126,1,\"Cumings, Mr. John Bradley\",male,39,1,0,PC 17599,71.2833,C85,C',\n",
              " '1127,3,\"Vendel, Mr. Olof Edvin\",male,20,0,0,350416,7.8542,,S',\n",
              " '1128,1,\"Warren, Mr. Frank Manley\",male,64,1,0,110813,75.25,D37,C',\n",
              " '1129,3,\"Baccos, Mr. Raffull\",male,20,0,0,2679,7.225,,C',\n",
              " '1130,2,\"Hiltunen, Miss. Marta\",female,18,1,1,250650,13,,S',\n",
              " '1131,1,\"Douglas, Mrs. Walter Donald (Mahala Dutton)\",female,48,1,0,PC 17761,106.425,C86,C',\n",
              " '1132,1,\"Lindstrom, Mrs. Carl Johan (Sigrid Posse)\",female,55,0,0,112377,27.7208,,C',\n",
              " '1133,2,\"Christy, Mrs. (Alice Frances)\",female,45,0,2,237789,30,,S',\n",
              " '1134,1,\"Spedden, Mr. Frederic Oakley\",male,45,1,1,16966,134.5,E34,C',\n",
              " '1135,3,\"Hyman, Mr. Abraham\",male,,0,0,3470,7.8875,,S',\n",
              " '1136,3,\"Johnston, Master. William Arthur Willie\"\"\"\"\",male,,1,2,W./C. 6607,23.45,,S',\n",
              " '1137,1,\"Kenyon, Mr. Frederick R\",male,41,1,0,17464,51.8625,D21,S',\n",
              " '1138,2,\"Karnes, Mrs. J Frank (Claire Bennett)\",female,22,0,0,F.C.C. 13534,21,,S',\n",
              " '1139,2,\"Drew, Mr. James Vivian\",male,42,1,1,28220,32.5,,S',\n",
              " '1140,2,\"Hold, Mrs. Stephen (Annie Margaret Hill)\",female,29,1,0,26707,26,,S',\n",
              " '1141,3,\"Khalil, Mrs. Betros (Zahie Maria\"\" Elias)\"\"\",female,,1,0,2660,14.4542,,C',\n",
              " '1142,2,\"West, Miss. Barbara J\",female,0.92,1,2,C.A. 34651,27.75,,S',\n",
              " '1143,3,\"Abrahamsson, Mr. Abraham August Johannes\",male,20,0,0,SOTON/O2 3101284,7.925,,S',\n",
              " '1144,1,\"Clark, Mr. Walter Miller\",male,27,1,0,13508,136.7792,C89,C',\n",
              " '1145,3,\"Salander, Mr. Karl Johan\",male,24,0,0,7266,9.325,,S',\n",
              " '1146,3,\"Wenzel, Mr. Linhart\",male,32.5,0,0,345775,9.5,,S',\n",
              " '1147,3,\"MacKay, Mr. George William\",male,,0,0,C.A. 42795,7.55,,S',\n",
              " '1148,3,\"Mahon, Mr. John\",male,,0,0,AQ/4 3130,7.75,,Q',\n",
              " '1149,3,\"Niklasson, Mr. Samuel\",male,28,0,0,363611,8.05,,S',\n",
              " '1150,2,\"Bentham, Miss. Lilian W\",female,19,0,0,28404,13,,S',\n",
              " '1151,3,\"Midtsjo, Mr. Karl Albert\",male,21,0,0,345501,7.775,,S',\n",
              " '1152,3,\"de Messemaeker, Mr. Guillaume Joseph\",male,36.5,1,0,345572,17.4,,S',\n",
              " '1153,3,\"Nilsson, Mr. August Ferdinand\",male,21,0,0,350410,7.8542,,S',\n",
              " '1154,2,\"Wells, Mrs. Arthur Henry (Addie\"\" Dart Trevaskis)\"\"\",female,29,0,2,29103,23,,S',\n",
              " '1155,3,\"Klasen, Miss. Gertrud Emilia\",female,1,1,1,350405,12.1833,,S',\n",
              " '1156,2,\"Portaluppi, Mr. Emilio Ilario Giuseppe\",male,30,0,0,C.A. 34644,12.7375,,C',\n",
              " '1157,3,\"Lyntakoff, Mr. Stanko\",male,,0,0,349235,7.8958,,S',\n",
              " '1158,1,\"Chisholm, Mr. Roderick Robert Crispin\",male,,0,0,112051,0,,S',\n",
              " '1159,3,\"Warren, Mr. Charles William\",male,,0,0,C.A. 49867,7.55,,S',\n",
              " '1160,3,\"Howard, Miss. May Elizabeth\",female,,0,0,A. 2. 39186,8.05,,S',\n",
              " '1161,3,\"Pokrnic, Mr. Mate\",male,17,0,0,315095,8.6625,,S',\n",
              " '1162,1,\"McCaffry, Mr. Thomas Francis\",male,46,0,0,13050,75.2417,C6,C',\n",
              " '1163,3,\"Fox, Mr. Patrick\",male,,0,0,368573,7.75,,Q',\n",
              " '1164,1,\"Clark, Mrs. Walter Miller (Virginia McDowell)\",female,26,1,0,13508,136.7792,C89,C',\n",
              " '1165,3,\"Lennon, Miss. Mary\",female,,1,0,370371,15.5,,Q',\n",
              " '1166,3,\"Saade, Mr. Jean Nassr\",male,,0,0,2676,7.225,,C',\n",
              " '1167,2,\"Bryhl, Miss. Dagmar Jenny Ingeborg \",female,20,1,0,236853,26,,S',\n",
              " '1168,2,\"Parker, Mr. Clifford Richard\",male,28,0,0,SC 14888,10.5,,S',\n",
              " '1169,2,\"Faunthorpe, Mr. Harry\",male,40,1,0,2926,26,,S',\n",
              " '1170,2,\"Ware, Mr. John James\",male,30,1,0,CA 31352,21,,S',\n",
              " '1171,2,\"Oxenham, Mr. Percy Thomas\",male,22,0,0,W./C. 14260,10.5,,S',\n",
              " '1172,3,\"Oreskovic, Miss. Jelka\",female,23,0,0,315085,8.6625,,S',\n",
              " '1173,3,\"Peacock, Master. Alfred Edward\",male,0.75,1,1,SOTON/O.Q. 3101315,13.775,,S',\n",
              " '1174,3,\"Fleming, Miss. Honora\",female,,0,0,364859,7.75,,Q',\n",
              " '1175,3,\"Touma, Miss. Maria Youssef\",female,9,1,1,2650,15.2458,,C',\n",
              " '1176,3,\"Rosblom, Miss. Salli Helena\",female,2,1,1,370129,20.2125,,S',\n",
              " '1177,3,\"Dennis, Mr. William\",male,36,0,0,A/5 21175,7.25,,S',\n",
              " '1178,3,\"Franklin, Mr. Charles (Charles Fardon)\",male,,0,0,SOTON/O.Q. 3101314,7.25,,S',\n",
              " '1179,1,\"Snyder, Mr. John Pillsbury\",male,24,1,0,21228,82.2667,B45,S',\n",
              " '1180,3,\"Mardirosian, Mr. Sarkis\",male,,0,0,2655,7.2292,F E46,C',\n",
              " '1181,3,\"Ford, Mr. Arthur\",male,,0,0,A/5 1478,8.05,,S',\n",
              " '1182,1,\"Rheims, Mr. George Alexander Lucien\",male,,0,0,PC 17607,39.6,,S',\n",
              " '1183,3,\"Daly, Miss. Margaret Marcella Maggie\"\"\"\"\",female,30,0,0,382650,6.95,,Q',\n",
              " '1184,3,\"Nasr, Mr. Mustafa\",male,,0,0,2652,7.2292,,C',\n",
              " '1185,1,\"Dodge, Dr. Washington\",male,53,1,1,33638,81.8583,A34,S',\n",
              " '1186,3,\"Wittevrongel, Mr. Camille\",male,36,0,0,345771,9.5,,S',\n",
              " '1187,3,\"Angheloff, Mr. Minko\",male,26,0,0,349202,7.8958,,S',\n",
              " '1188,2,\"Laroche, Miss. Louise\",female,1,1,2,SC/Paris 2123,41.5792,,C',\n",
              " '1189,3,\"Samaan, Mr. Hanna\",male,,2,0,2662,21.6792,,C',\n",
              " '1190,1,\"Loring, Mr. Joseph Holland\",male,30,0,0,113801,45.5,,S',\n",
              " '1191,3,\"Johansson, Mr. Nils\",male,29,0,0,347467,7.8542,,S',\n",
              " '1192,3,\"Olsson, Mr. Oscar Wilhelm\",male,32,0,0,347079,7.775,,S',\n",
              " '1193,2,\"Malachard, Mr. Noel\",male,,0,0,237735,15.0458,D,C',\n",
              " '1194,2,\"Phillips, Mr. Escott Robert\",male,43,0,1,S.O./P.P. 2,21,,S',\n",
              " '1195,3,\"Pokrnic, Mr. Tome\",male,24,0,0,315092,8.6625,,S',\n",
              " '1196,3,\"McCarthy, Miss. Catherine Katie\"\"\"\"\",female,,0,0,383123,7.75,,Q',\n",
              " '1197,1,\"Crosby, Mrs. Edward Gifford (Catherine Elizabeth Halstead)\",female,64,1,1,112901,26.55,B26,S',\n",
              " '1198,1,\"Allison, Mr. Hudson Joshua Creighton\",male,30,1,2,113781,151.55,C22 C26,S',\n",
              " '1199,3,\"Aks, Master. Philip Frank\",male,0.83,0,1,392091,9.35,,S',\n",
              " '1200,1,\"Hays, Mr. Charles Melville\",male,55,1,1,12749,93.5,B69,S',\n",
              " '1201,3,\"Hansen, Mrs. Claus Peter (Jennie L Howard)\",female,45,1,0,350026,14.1083,,S',\n",
              " '1202,3,\"Cacic, Mr. Jego Grga\",male,18,0,0,315091,8.6625,,S',\n",
              " '1203,3,\"Vartanian, Mr. David\",male,22,0,0,2658,7.225,,C',\n",
              " '1204,3,\"Sadowitz, Mr. Harry\",male,,0,0,LP 1588,7.575,,S',\n",
              " '1205,3,\"Carr, Miss. Jeannie\",female,37,0,0,368364,7.75,,Q',\n",
              " '1206,1,\"White, Mrs. John Stuart (Ella Holmes)\",female,55,0,0,PC 17760,135.6333,C32,C',\n",
              " '1207,3,\"Hagardon, Miss. Kate\",female,17,0,0,AQ/3. 30631,7.7333,,Q',\n",
              " '1208,1,\"Spencer, Mr. William Augustus\",male,57,1,0,PC 17569,146.5208,B78,C',\n",
              " '1209,2,\"Rogers, Mr. Reginald Harry\",male,19,0,0,28004,10.5,,S',\n",
              " '1210,3,\"Jonsson, Mr. Nils Hilding\",male,27,0,0,350408,7.8542,,S',\n",
              " '1211,2,\"Jefferys, Mr. Ernest Wilfred\",male,22,2,0,C.A. 31029,31.5,,S',\n",
              " '1212,3,\"Andersson, Mr. Johan Samuel\",male,26,0,0,347075,7.775,,S',\n",
              " '1213,3,\"Krekorian, Mr. Neshan\",male,25,0,0,2654,7.2292,F E57,C',\n",
              " '1214,2,\"Nesson, Mr. Israel\",male,26,0,0,244368,13,F2,S',\n",
              " '1215,1,\"Rowe, Mr. Alfred G\",male,33,0,0,113790,26.55,,S',\n",
              " '1216,1,\"Kreuchen, Miss. Emilie\",female,39,0,0,24160,211.3375,,S',\n",
              " '1217,3,\"Assam, Mr. Ali\",male,23,0,0,SOTON/O.Q. 3101309,7.05,,S',\n",
              " '1218,2,\"Becker, Miss. Ruth Elizabeth\",female,12,2,1,230136,39,F4,S',\n",
              " '1219,1,\"Rosenshine, Mr. George (Mr George Thorne\"\")\"\"\",male,46,0,0,PC 17585,79.2,,C',\n",
              " '1220,2,\"Clarke, Mr. Charles Valentine\",male,29,1,0,2003,26,,S',\n",
              " '1221,2,\"Enander, Mr. Ingvar\",male,21,0,0,236854,13,,S',\n",
              " '1222,2,\"Davies, Mrs. John Morgan (Elizabeth Agnes Mary White) \",female,48,0,2,C.A. 33112,36.75,,S',\n",
              " '1223,1,\"Dulles, Mr. William Crothers\",male,39,0,0,PC 17580,29.7,A18,C',\n",
              " '1224,3,\"Thomas, Mr. Tannous\",male,,0,0,2684,7.225,,C',\n",
              " '1225,3,\"Nakid, Mrs. Said (Waika Mary\"\" Mowad)\"\"\",female,19,1,1,2653,15.7417,,C',\n",
              " '1226,3,\"Cor, Mr. Ivan\",male,27,0,0,349229,7.8958,,S',\n",
              " '1227,1,\"Maguire, Mr. John Edward\",male,30,0,0,110469,26,C106,S',\n",
              " '1228,2,\"de Brito, Mr. Jose Joaquim\",male,32,0,0,244360,13,,S',\n",
              " '1229,3,\"Elias, Mr. Joseph\",male,39,0,2,2675,7.2292,,C',\n",
              " '1230,2,\"Denbury, Mr. Herbert\",male,25,0,0,C.A. 31029,31.5,,S',\n",
              " '1231,3,\"Betros, Master. Seman\",male,,0,0,2622,7.2292,,C',\n",
              " '1232,2,\"Fillbrook, Mr. Joseph Charles\",male,18,0,0,C.A. 15185,10.5,,S',\n",
              " '1233,3,\"Lundstrom, Mr. Thure Edvin\",male,32,0,0,350403,7.5792,,S',\n",
              " '1234,3,\"Sage, Mr. John George\",male,,1,9,CA. 2343,69.55,,S',\n",
              " '1235,1,\"Cardeza, Mrs. James Warburton Martinez (Charlotte Wardle Drake)\",female,58,0,1,PC 17755,512.3292,B51 B53 B55,C',\n",
              " '1236,3,\"van Billiard, Master. James William\",male,,1,1,A/5. 851,14.5,,S',\n",
              " '1237,3,\"Abelseth, Miss. Karen Marie\",female,16,0,0,348125,7.65,,S',\n",
              " '1238,2,\"Botsford, Mr. William Hull\",male,26,0,0,237670,13,,S',\n",
              " '1239,3,\"Whabee, Mrs. George Joseph (Shawneene Abi-Saab)\",female,38,0,0,2688,7.2292,,C',\n",
              " '1240,2,\"Giles, Mr. Ralph\",male,24,0,0,248726,13.5,,S',\n",
              " '1241,2,\"Walcroft, Miss. Nellie\",female,31,0,0,F.C.C. 13528,21,,S',\n",
              " '1242,1,\"Greenfield, Mrs. Leo David (Blanche Strouse)\",female,45,0,1,PC 17759,63.3583,D10 D12,C',\n",
              " '1243,2,\"Stokes, Mr. Philip Joseph\",male,25,0,0,F.C.C. 13540,10.5,,S',\n",
              " '1244,2,\"Dibden, Mr. William\",male,18,0,0,S.O.C. 14879,73.5,,S',\n",
              " '1245,2,\"Herman, Mr. Samuel\",male,49,1,2,220845,65,,S',\n",
              " '1246,3,\"Dean, Miss. Elizabeth Gladys Millvina\"\"\"\"\",female,0.17,1,2,C.A. 2315,20.575,,S',\n",
              " '1247,1,\"Julian, Mr. Henry Forbes\",male,50,0,0,113044,26,E60,S',\n",
              " '1248,1,\"Brown, Mrs. John Murray (Caroline Lane Lamson)\",female,59,2,0,11769,51.4792,C101,S',\n",
              " '1249,3,\"Lockyer, Mr. Edward\",male,,0,0,1222,7.8792,,S',\n",
              " '1250,3,\"O\\'Keefe, Mr. Patrick\",male,,0,0,368402,7.75,,Q',\n",
              " '1251,3,\"Lindell, Mrs. Edvard Bengtsson (Elin Gerda Persson)\",female,30,1,0,349910,15.55,,S',\n",
              " '1252,3,\"Sage, Master. William Henry\",male,14.5,8,2,CA. 2343,69.55,,S',\n",
              " '1253,2,\"Mallet, Mrs. Albert (Antoinette Magnin)\",female,24,1,1,S.C./PARIS 2079,37.0042,,C',\n",
              " '1254,2,\"Ware, Mrs. John James (Florence Louise Long)\",female,31,0,0,CA 31352,21,,S',\n",
              " '1255,3,\"Strilic, Mr. Ivan\",male,27,0,0,315083,8.6625,,S',\n",
              " '1256,1,\"Harder, Mrs. George Achilles (Dorothy Annan)\",female,25,1,0,11765,55.4417,E50,C',\n",
              " '1257,3,\"Sage, Mrs. John (Annie Bullen)\",female,,1,9,CA. 2343,69.55,,S',\n",
              " '1258,3,\"Caram, Mr. Joseph\",male,,1,0,2689,14.4583,,C',\n",
              " '1259,3,\"Riihivouri, Miss. Susanna Juhantytar Sanni\"\"\"\"\",female,22,0,0,3101295,39.6875,,S',\n",
              " '1260,1,\"Gibson, Mrs. Leonard (Pauline C Boeson)\",female,45,0,1,112378,59.4,,C',\n",
              " '1261,2,\"Pallas y Castello, Mr. Emilio\",male,29,0,0,SC/PARIS 2147,13.8583,,C',\n",
              " '1262,2,\"Giles, Mr. Edgar\",male,21,1,0,28133,11.5,,S',\n",
              " '1263,1,\"Wilson, Miss. Helen Alice\",female,31,0,0,16966,134.5,E39 E41,C',\n",
              " '1264,1,\"Ismay, Mr. Joseph Bruce\",male,49,0,0,112058,0,B52 B54 B56,S',\n",
              " '1265,2,\"Harbeck, Mr. William H\",male,44,0,0,248746,13,,S',\n",
              " '1266,1,\"Dodge, Mrs. Washington (Ruth Vidaver)\",female,54,1,1,33638,81.8583,A34,S',\n",
              " '1267,1,\"Bowen, Miss. Grace Scott\",female,45,0,0,PC 17608,262.375,,C',\n",
              " '1268,3,\"Kink, Miss. Maria\",female,22,2,0,315152,8.6625,,S',\n",
              " '1269,2,\"Cotterill, Mr. Henry Harry\"\"\"\"\",male,21,0,0,29107,11.5,,S',\n",
              " '1270,1,\"Hipkins, Mr. William Edward\",male,55,0,0,680,50,C39,S',\n",
              " '1271,3,\"Asplund, Master. Carl Edgar\",male,5,4,2,347077,31.3875,,S',\n",
              " '1272,3,\"O\\'Connor, Mr. Patrick\",male,,0,0,366713,7.75,,Q',\n",
              " '1273,3,\"Foley, Mr. Joseph\",male,26,0,0,330910,7.8792,,Q',\n",
              " '1274,3,\"Risien, Mrs. Samuel (Emma)\",female,,0,0,364498,14.5,,S',\n",
              " '1275,3,\"McNamee, Mrs. Neal (Eileen O\\'Leary)\",female,19,1,0,376566,16.1,,S',\n",
              " '1276,2,\"Wheeler, Mr. Edwin Frederick\"\"\"\"\",male,,0,0,SC/PARIS 2159,12.875,,S',\n",
              " '1277,2,\"Herman, Miss. Kate\",female,24,1,2,220845,65,,S',\n",
              " '1278,3,\"Aronsson, Mr. Ernst Axel Algot\",male,24,0,0,349911,7.775,,S',\n",
              " '1279,2,\"Ashby, Mr. John\",male,57,0,0,244346,13,,S',\n",
              " '1280,3,\"Canavan, Mr. Patrick\",male,21,0,0,364858,7.75,,Q',\n",
              " '1281,3,\"Palsson, Master. Paul Folke\",male,6,3,1,349909,21.075,,S',\n",
              " '1282,1,\"Payne, Mr. Vivian Ponsonby\",male,23,0,0,12749,93.5,B24,S',\n",
              " '1283,1,\"Lines, Mrs. Ernest H (Elizabeth Lindsey James)\",female,51,0,1,PC 17592,39.4,D28,S',\n",
              " '1284,3,\"Abbott, Master. Eugene Joseph\",male,13,0,2,C.A. 2673,20.25,,S',\n",
              " '1285,2,\"Gilbert, Mr. William\",male,47,0,0,C.A. 30769,10.5,,S',\n",
              " '1286,3,\"Kink-Heilmann, Mr. Anton\",male,29,3,1,315153,22.025,,S',\n",
              " '1287,1,\"Smith, Mrs. Lucien Philip (Mary Eloise Hughes)\",female,18,1,0,13695,60,C31,S',\n",
              " '1288,3,\"Colbert, Mr. Patrick\",male,24,0,0,371109,7.25,,Q',\n",
              " '1289,1,\"Frolicher-Stehli, Mrs. Maxmillian (Margaretha Emerentia Stehli)\",female,48,1,1,13567,79.2,B41,C',\n",
              " '1290,3,\"Larsson-Rondberg, Mr. Edvard A\",male,22,0,0,347065,7.775,,S',\n",
              " '1291,3,\"Conlon, Mr. Thomas Henry\",male,31,0,0,21332,7.7333,,Q',\n",
              " '1292,1,\"Bonnell, Miss. Caroline\",female,30,0,0,36928,164.8667,C7,S',\n",
              " '1293,2,\"Gale, Mr. Harry\",male,38,1,0,28664,21,,S',\n",
              " '1294,1,\"Gibson, Miss. Dorothy Winifred\",female,22,0,1,112378,59.4,,C',\n",
              " '1295,1,\"Carrau, Mr. Jose Pedro\",male,17,0,0,113059,47.1,,S',\n",
              " '1296,1,\"Frauenthal, Mr. Isaac Gerald\",male,43,1,0,17765,27.7208,D40,C',\n",
              " '1297,2,\"Nourney, Mr. Alfred (Baron von Drachstedt\"\")\"\"\",male,20,0,0,SC/PARIS 2166,13.8625,D38,C',\n",
              " '1298,2,\"Ware, Mr. William Jeffery\",male,23,1,0,28666,10.5,,S',\n",
              " '1299,1,\"Widener, Mr. George Dunton\",male,50,1,1,113503,211.5,C80,C',\n",
              " '1300,3,\"Riordan, Miss. Johanna Hannah\"\"\"\"\",female,,0,0,334915,7.7208,,Q',\n",
              " '1301,3,\"Peacock, Miss. Treasteall\",female,3,1,1,SOTON/O.Q. 3101315,13.775,,S',\n",
              " '1302,3,\"Naughton, Miss. Hannah\",female,,0,0,365237,7.75,,Q',\n",
              " '1303,1,\"Minahan, Mrs. William Edward (Lillian E Thorpe)\",female,37,1,0,19928,90,C78,Q',\n",
              " '1304,3,\"Henriksson, Miss. Jenny Lovisa\",female,28,0,0,347086,7.775,,S',\n",
              " '1305,3,\"Spector, Mr. Woolf\",male,,0,0,A.5. 3236,8.05,,S',\n",
              " '1306,1,\"Oliva y Ocana, Dona. Fermina\",female,39,0,0,PC 17758,108.9,C105,C',\n",
              " '1307,3,\"Saether, Mr. Simon Sivertsen\",male,38.5,0,0,SOTON/O.Q. 3101262,7.25,,S',\n",
              " '1308,3,\"Ware, Mr. Frederick\",male,,0,0,359309,8.05,,S',\n",
              " '1309,3,\"Peter, Master. Michael J\",male,,1,1,2668,22.3583,,C']"
            ]
          },
          "metadata": {},
          "execution_count": 8
        }
      ]
    },
    {
      "cell_type": "code",
      "source": [],
      "metadata": {
        "id": "2DfNkO0kk4N6"
      },
      "execution_count": null,
      "outputs": []
    }
  ]
}
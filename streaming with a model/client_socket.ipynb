{
 "cells": [
  {
   "cell_type": "code",
   "execution_count": null,
   "metadata": {},
   "outputs": [],
   "source": [
    "\n",
    "import socket\n",
    "import csv\n",
    "import pandas as pd\n",
    "import pickle"
   ]
  },
  {
   "cell_type": "code",
   "execution_count": 20,
   "metadata": {},
   "outputs": [
    {
     "name": "stdout",
     "output_type": "stream",
     "text": [
      "Connected to server.\n",
      "\n",
      "Server Stopped by user.\n"
     ]
    }
   ],
   "source": [
    "\n",
    "\n",
    "# Server details\n",
    "HOST = '127.0.0.1'\n",
    "PORT = 55872\n",
    "CHUNK_SIZE = 1000  # Number of rows per chunk\n",
    "\n",
    "csv_file_path = \"../data/train.csv\"\n",
    "\n",
    "# Create a TCP socket\n",
    "client_socket = socket.socket(socket.AF_INET, socket.SOCK_STREAM)\n",
    "\n",
    "try:\n",
    "    client_socket.connect((HOST, PORT))\n",
    "    print(\"Connected to server.\")\n",
    "\n",
    "    with open(csv_file_path, 'r') as file:\n",
    "        reader = csv.reader(file)\n",
    "        header = next(reader)  # Skip the header\n",
    "\n",
    "        chunk = []\n",
    "        for row in reader:\n",
    "            if all(row):\n",
    "                chunk.append(row)  # Keep as list\n",
    "\n",
    "                if len(chunk) == CHUNK_SIZE:\n",
    "                    data = pickle.dumps(chunk)\n",
    "                    size_prefix = len(data).to_bytes(4, 'big')  # Send size first\n",
    "                    client_socket.sendall(size_prefix + data)\n",
    "                    chunk = []  # Reset chunk\n",
    "\n",
    "    # Send any remaining data\n",
    "    if chunk:\n",
    "        data = pickle.dumps(chunk)\n",
    "        size_prefix = len(data).to_bytes(4, 'big')\n",
    "        client_socket.sendall(size_prefix + data)\n",
    "\n",
    "    print(\"Data sent successfully.\")\n",
    "except KeyboardInterrupt:\n",
    "    print(\"\\nServer Stopped by user.\")\n",
    "finally:\n",
    "    client_socket.close()\n"
   ]
  },
  {
   "cell_type": "code",
   "execution_count": null,
   "metadata": {},
   "outputs": [],
   "source": [
    "import numpy as np\n",
    "from sklearn.linear_model import LinearRegression\n",
    "\n",
    "# Steps after recieving from the server\n",
    "# --TO BE DONE---\n",
    "# Given weights and bias\n",
    "#->weights = server_wt  \n",
    "#->bias = server_bias  \n",
    "\n",
    "# Create a dummy model\n",
    "model = LinearRegression()\n",
    "\n",
    "# Manually set the model parameters\n",
    "#->model.coef_ = weights  # Set weights\n",
    "#->model.intercept_ = bias  # Set bias\n",
    "\n",
    "# To verify, print the parameters\n",
    "print(\"Coefficients:\", model.coef_)\n",
    "print(\"Intercept:\", model.intercept_)"
   ]
  }
 ],
 "metadata": {
  "kernelspec": {
   "display_name": "big-data",
   "language": "python",
   "name": "python3"
  },
  "language_info": {
   "codemirror_mode": {
    "name": "ipython",
    "version": 3
   },
   "file_extension": ".py",
   "mimetype": "text/x-python",
   "name": "python",
   "nbconvert_exporter": "python",
   "pygments_lexer": "ipython3",
   "version": "3.12.6"
  }
 },
 "nbformat": 4,
 "nbformat_minor": 2
}

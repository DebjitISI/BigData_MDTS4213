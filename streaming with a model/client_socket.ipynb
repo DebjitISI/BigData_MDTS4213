{
 "cells": [
  {
   "cell_type": "code",
   "execution_count": 14,
   "metadata": {},
   "outputs": [],
   "source": [
    "\n",
    "import socket\n",
    "import csv\n",
    "import pandas as pd\n",
    "import pickle\n"
   ]
  },
  {
   "cell_type": "code",
   "execution_count": 15,
   "metadata": {},
   "outputs": [],
   "source": [
    "# Server details\n",
    "HOST = '127.0.0.1'\n",
    "PORT = 55872\n",
    "CHUNK_SIZE = 1000  # Number of rows per chunk\n",
    "# Create a TCP socket\n",
    "client_socket = socket.socket(socket.AF_INET, socket.SOCK_STREAM)\n",
    "client_socket.connect((HOST, PORT))"
   ]
  },
  {
   "cell_type": "code",
   "execution_count": 16,
   "metadata": {},
   "outputs": [
    {
     "name": "stdout",
     "output_type": "stream",
     "text": [
      "Connected to server.\n",
      "\n",
      "Server Stopped by user.\n"
     ]
    }
   ],
   "source": [
    "csv_file_path = \"/home/datascience/Desktop/Prac_438/data/train.csv\"\n",
    "\n",
    "\n",
    "\n",
    "try:\n",
    "    \n",
    "    print(\"Connected to server.\")\n",
    "\n",
    "    with open(csv_file_path, 'r') as file:\n",
    "        reader = csv.reader(file)\n",
    "        header = next(reader)  # Skip the header\n",
    "\n",
    "        chunk = []\n",
    "        for row in reader:\n",
    "            if all(row):\n",
    "                chunk.append(row)  # Keep as list\n",
    "\n",
    "                if len(chunk) == CHUNK_SIZE:\n",
    "                    data = pickle.dumps(chunk)\n",
    "                    size_prefix = len(data).to_bytes(4, 'big')  # Send size first\n",
    "                    client_socket.sendall(size_prefix + data)\n",
    "                    chunk = []  # Reset chunk\n",
    "\n",
    "    # Send any remaining data\n",
    "    if chunk:\n",
    "        data = pickle.dumps(chunk)\n",
    "        size_prefix = len(data).to_bytes(4, 'big')\n",
    "        client_socket.sendall(size_prefix + data)\n",
    "\n",
    "    print(\"Data sent successfully.\")\n",
    "except KeyboardInterrupt:\n",
    "    print(\"\\nServer Stopped by user.\")\n",
    "finally:\n",
    "    model_info = client_socket.recv(4096)\n",
    "    model = pickle.loads(model_info)\n",
    "    client_socket.close()\n"
   ]
  },
  {
   "cell_type": "code",
   "execution_count": 17,
   "metadata": {},
   "outputs": [
    {
     "name": "stdout",
     "output_type": "stream",
     "text": [
      "Coefficients: [ 0.01218746 -0.01815145 -0.02528433 -0.01437624  0.12874744]\n",
      "Intercept: 11.472046318198798\n"
     ]
    }
   ],
   "source": [
    "import numpy as np\n",
    "from sklearn.linear_model import LinearRegression\n",
    "\n",
    "# Steps after recieving from the server\n",
    "# --TO BE DONE---\n",
    "\n",
    "# Given weights and bias\n",
    "weights = model['coef']  \n",
    "bias = model['intercept']  \n",
    "\n",
    "# Create a dummy model\n",
    "model = LinearRegression()\n",
    "\n",
    "# Manually set the model parameters\n",
    "model.coef_ = weights  # Set weights\n",
    "model.intercept_ = bias  # Set bias\n",
    "\n",
    "# To verify, print the parameters\n",
    "print(\"Coefficients:\", model.coef_)\n",
    "print(\"Intercept:\", model.intercept_)"
   ]
  }
 ],
 "metadata": {
  "kernelspec": {
   "display_name": ".venv",
   "language": "python",
   "name": "python3"
  },
  "language_info": {
   "codemirror_mode": {
    "name": "ipython",
    "version": 3
   },
   "file_extension": ".py",
   "mimetype": "text/x-python",
   "name": "python",
   "nbconvert_exporter": "python",
   "pygments_lexer": "ipython3",
   "version": "3.10.12"
  }
 },
 "nbformat": 4,
 "nbformat_minor": 2
}

{
  "nbformat": 4,
  "nbformat_minor": 0,
  "metadata": {
    "colab": {
      "provenance": []
    },
    "kernelspec": {
      "name": "python3",
      "display_name": "Python 3"
    },
    "language_info": {
      "name": "python"
    }
  },
  "cells": [
    {
      "cell_type": "code",
      "execution_count": 46,
      "metadata": {
        "colab": {
          "base_uri": "https://localhost:8080/"
        },
        "id": "_N6_1ooZZzzf",
        "outputId": "b2bec157-6bac-434d-af4e-31004162e823"
      },
      "outputs": [
        {
          "output_type": "stream",
          "name": "stdout",
          "text": [
            "Requirement already satisfied: pyspark in /usr/local/lib/python3.11/dist-packages (3.5.5)\n",
            "Requirement already satisfied: py4j==0.10.9.7 in /usr/local/lib/python3.11/dist-packages (from pyspark) (0.10.9.7)\n"
          ]
        }
      ],
      "source": [
        "!pip install pyspark"
      ]
    },
    {
      "cell_type": "code",
      "source": [
        "import pyspark"
      ],
      "metadata": {
        "id": "2rt0VDzkacj5"
      },
      "execution_count": 47,
      "outputs": []
    },
    {
      "cell_type": "code",
      "source": [
        "!pip install kaggle"
      ],
      "metadata": {
        "colab": {
          "base_uri": "https://localhost:8080/"
        },
        "id": "Yij9QJOiah0B",
        "outputId": "2f5d50be-cfab-47ac-9806-6856f12c443f"
      },
      "execution_count": 48,
      "outputs": [
        {
          "output_type": "stream",
          "name": "stdout",
          "text": [
            "Requirement already satisfied: kaggle in /usr/local/lib/python3.11/dist-packages (1.7.4.2)\n",
            "Requirement already satisfied: bleach in /usr/local/lib/python3.11/dist-packages (from kaggle) (6.2.0)\n",
            "Requirement already satisfied: certifi>=14.05.14 in /usr/local/lib/python3.11/dist-packages (from kaggle) (2025.1.31)\n",
            "Requirement already satisfied: charset-normalizer in /usr/local/lib/python3.11/dist-packages (from kaggle) (3.4.1)\n",
            "Requirement already satisfied: idna in /usr/local/lib/python3.11/dist-packages (from kaggle) (3.10)\n",
            "Requirement already satisfied: protobuf in /usr/local/lib/python3.11/dist-packages (from kaggle) (4.25.6)\n",
            "Requirement already satisfied: python-dateutil>=2.5.3 in /usr/local/lib/python3.11/dist-packages (from kaggle) (2.8.2)\n",
            "Requirement already satisfied: python-slugify in /usr/local/lib/python3.11/dist-packages (from kaggle) (8.0.4)\n",
            "Requirement already satisfied: requests in /usr/local/lib/python3.11/dist-packages (from kaggle) (2.32.3)\n",
            "Requirement already satisfied: setuptools>=21.0.0 in /usr/local/lib/python3.11/dist-packages (from kaggle) (75.1.0)\n",
            "Requirement already satisfied: six>=1.10 in /usr/local/lib/python3.11/dist-packages (from kaggle) (1.17.0)\n",
            "Requirement already satisfied: text-unidecode in /usr/local/lib/python3.11/dist-packages (from kaggle) (1.3)\n",
            "Requirement already satisfied: tqdm in /usr/local/lib/python3.11/dist-packages (from kaggle) (4.67.1)\n",
            "Requirement already satisfied: urllib3>=1.15.1 in /usr/local/lib/python3.11/dist-packages (from kaggle) (2.3.0)\n",
            "Requirement already satisfied: webencodings in /usr/local/lib/python3.11/dist-packages (from kaggle) (0.5.1)\n"
          ]
        }
      ]
    },
    {
      "cell_type": "code",
      "source": [
        "from google.colab import drive\n",
        "drive.mount('/content/drive',force_remount=True)"
      ],
      "metadata": {
        "colab": {
          "base_uri": "https://localhost:8080/"
        },
        "id": "FULdmH8Wao1i",
        "outputId": "94df273f-a853-4bf3-8f28-a2952e2dcb21"
      },
      "execution_count": 49,
      "outputs": [
        {
          "output_type": "stream",
          "name": "stdout",
          "text": [
            "Mounted at /content/drive\n"
          ]
        }
      ]
    },
    {
      "cell_type": "code",
      "source": [
        "!pip install --upgrade kaggle"
      ],
      "metadata": {
        "colab": {
          "base_uri": "https://localhost:8080/"
        },
        "id": "Qbj7PsKKbM81",
        "outputId": "62554ab7-a260-4abf-9b3a-5ef5ec6304be"
      },
      "execution_count": 50,
      "outputs": [
        {
          "output_type": "stream",
          "name": "stdout",
          "text": [
            "Requirement already satisfied: kaggle in /usr/local/lib/python3.11/dist-packages (1.7.4.2)\n",
            "Requirement already satisfied: bleach in /usr/local/lib/python3.11/dist-packages (from kaggle) (6.2.0)\n",
            "Requirement already satisfied: certifi>=14.05.14 in /usr/local/lib/python3.11/dist-packages (from kaggle) (2025.1.31)\n",
            "Requirement already satisfied: charset-normalizer in /usr/local/lib/python3.11/dist-packages (from kaggle) (3.4.1)\n",
            "Requirement already satisfied: idna in /usr/local/lib/python3.11/dist-packages (from kaggle) (3.10)\n",
            "Requirement already satisfied: protobuf in /usr/local/lib/python3.11/dist-packages (from kaggle) (4.25.6)\n",
            "Requirement already satisfied: python-dateutil>=2.5.3 in /usr/local/lib/python3.11/dist-packages (from kaggle) (2.8.2)\n",
            "Requirement already satisfied: python-slugify in /usr/local/lib/python3.11/dist-packages (from kaggle) (8.0.4)\n",
            "Requirement already satisfied: requests in /usr/local/lib/python3.11/dist-packages (from kaggle) (2.32.3)\n",
            "Requirement already satisfied: setuptools>=21.0.0 in /usr/local/lib/python3.11/dist-packages (from kaggle) (75.1.0)\n",
            "Requirement already satisfied: six>=1.10 in /usr/local/lib/python3.11/dist-packages (from kaggle) (1.17.0)\n",
            "Requirement already satisfied: text-unidecode in /usr/local/lib/python3.11/dist-packages (from kaggle) (1.3)\n",
            "Requirement already satisfied: tqdm in /usr/local/lib/python3.11/dist-packages (from kaggle) (4.67.1)\n",
            "Requirement already satisfied: urllib3>=1.15.1 in /usr/local/lib/python3.11/dist-packages (from kaggle) (2.3.0)\n",
            "Requirement already satisfied: webencodings in /usr/local/lib/python3.11/dist-packages (from kaggle) (0.5.1)\n"
          ]
        }
      ]
    },
    {
      "cell_type": "code",
      "source": [
        "!mkdir -p ~/.kaggle"
      ],
      "metadata": {
        "id": "KM5MKe5HbnnY"
      },
      "execution_count": 51,
      "outputs": []
    },
    {
      "cell_type": "code",
      "source": [
        "!cp \"/content/drive/My Drive/kaggle.json\" /root/.kaggle/kaggle.json"
      ],
      "metadata": {
        "id": "pTQ4gnqVb0K6"
      },
      "execution_count": 52,
      "outputs": []
    },
    {
      "cell_type": "code",
      "source": [
        "!chmod 600 /root/.kaggle/kaggle.json"
      ],
      "metadata": {
        "id": "JZAegM10dzwL"
      },
      "execution_count": 53,
      "outputs": []
    },
    {
      "cell_type": "code",
      "source": [
        "!kaggle datasets download -d uciml/autompg-dataset --force"
      ],
      "metadata": {
        "colab": {
          "base_uri": "https://localhost:8080/"
        },
        "id": "s_nSnQB-hwPE",
        "outputId": "658b56e9-135b-4248-9459-468b8b41f37b"
      },
      "execution_count": 54,
      "outputs": [
        {
          "output_type": "stream",
          "name": "stdout",
          "text": [
            "Dataset URL: https://www.kaggle.com/datasets/uciml/autompg-dataset\n",
            "License(s): CC0-1.0\n",
            "Downloading autompg-dataset.zip to /content\n",
            "  0% 0.00/6.31k [00:00<?, ?B/s]\n",
            "100% 6.31k/6.31k [00:00<00:00, 19.6MB/s]\n"
          ]
        }
      ]
    },
    {
      "cell_type": "code",
      "source": [
        "import os\n",
        "folder_path = \"/content/drive/My Drive/data\"\n",
        "os.makedirs(folder_path, exist_ok=True)"
      ],
      "metadata": {
        "id": "gDmSUzrsiJ9V"
      },
      "execution_count": 55,
      "outputs": []
    },
    {
      "cell_type": "code",
      "source": [
        "!unzip autompg-dataset.zip -d \"/content/drive/My Drive/data\""
      ],
      "metadata": {
        "colab": {
          "base_uri": "https://localhost:8080/"
        },
        "id": "b-u5uthfjn8T",
        "outputId": "e538d0c1-2386-430e-8f71-e48e21f3173f"
      },
      "execution_count": 56,
      "outputs": [
        {
          "output_type": "stream",
          "name": "stdout",
          "text": [
            "Archive:  autompg-dataset.zip\n",
            "replace /content/drive/My Drive/data/auto-mpg.csv? [y]es, [n]o, [A]ll, [N]one, [r]ename: y\n",
            "  inflating: /content/drive/My Drive/data/auto-mpg.csv  \n"
          ]
        }
      ]
    },
    {
      "cell_type": "code",
      "source": [
        "import os\n",
        "import warnings\n",
        "warnings.filterwarnings('ignore')\n",
        "from pyspark.sql import SparkSession\n",
        "from pyspark.sql.types import StructField, StructType, StringType, IntegerType, FloatType\n",
        "from pyspark.sql.functions import split, count, when, isnan, col, regexp_replace\n",
        "from pyspark.ml.regression import LinearRegression\n",
        "from pyspark.ml.feature import OneHotEncoder, StringIndexer, VectorAssembler\n",
        "from pyspark.ml.linalg import Vectors\n",
        "\n",
        "for dirname, _, filenames in os.walk('/kaggle/input'):\n",
        "  for filename in filenames:\n",
        "    print(os.path.join(dirname, filename))"
      ],
      "metadata": {
        "id": "obx9iUR_kl9X"
      },
      "execution_count": 57,
      "outputs": []
    },
    {
      "cell_type": "code",
      "source": [
        "spark = SparkSession.builder.appName('First Session').getOrCreate()\n",
        "\n",
        "print(f\"Spark Version ({format(spark.version)})\")"
      ],
      "metadata": {
        "colab": {
          "base_uri": "https://localhost:8080/"
        },
        "id": "-AhPAmU_lB6n",
        "outputId": "aeb7c77d-10ad-4be2-c062-a5fa72c2ee8c"
      },
      "execution_count": 58,
      "outputs": [
        {
          "output_type": "stream",
          "name": "stdout",
          "text": [
            "Spark Version (3.5.5)\n"
          ]
        }
      ]
    },
    {
      "cell_type": "code",
      "source": [
        "file_path = '/content/drive/My Drive/data/auto-mpg.csv'\n",
        "df = spark.read.csv(file_path, header=True, inferSchema=True,nanValue='?')\n",
        "df.show()"
      ],
      "metadata": {
        "colab": {
          "base_uri": "https://localhost:8080/"
        },
        "id": "hU0Pi1gSsIS4",
        "outputId": "12d2bffe-f469-414a-fd91-f335af6d5f33"
      },
      "execution_count": 59,
      "outputs": [
        {
          "output_type": "stream",
          "name": "stdout",
          "text": [
            "+----+---------+------------+----------+------+------------+----------+------+--------------------+\n",
            "| mpg|cylinders|displacement|horsepower|weight|acceleration|model year|origin|            car name|\n",
            "+----+---------+------------+----------+------+------------+----------+------+--------------------+\n",
            "|18.0|        8|       307.0|     130.0|  3504|        12.0|        70|     1|chevrolet chevell...|\n",
            "|15.0|        8|       350.0|     165.0|  3693|        11.5|        70|     1|   buick skylark 320|\n",
            "|18.0|        8|       318.0|     150.0|  3436|        11.0|        70|     1|  plymouth satellite|\n",
            "|16.0|        8|       304.0|     150.0|  3433|        12.0|        70|     1|       amc rebel sst|\n",
            "|17.0|        8|       302.0|     140.0|  3449|        10.5|        70|     1|         ford torino|\n",
            "|15.0|        8|       429.0|     198.0|  4341|        10.0|        70|     1|    ford galaxie 500|\n",
            "|14.0|        8|       454.0|     220.0|  4354|         9.0|        70|     1|    chevrolet impala|\n",
            "|14.0|        8|       440.0|     215.0|  4312|         8.5|        70|     1|   plymouth fury iii|\n",
            "|14.0|        8|       455.0|     225.0|  4425|        10.0|        70|     1|    pontiac catalina|\n",
            "|15.0|        8|       390.0|     190.0|  3850|         8.5|        70|     1|  amc ambassador dpl|\n",
            "|15.0|        8|       383.0|     170.0|  3563|        10.0|        70|     1| dodge challenger se|\n",
            "|14.0|        8|       340.0|     160.0|  3609|         8.0|        70|     1|  plymouth 'cuda 340|\n",
            "|15.0|        8|       400.0|     150.0|  3761|         9.5|        70|     1|chevrolet monte c...|\n",
            "|14.0|        8|       455.0|     225.0|  3086|        10.0|        70|     1|buick estate wago...|\n",
            "|24.0|        4|       113.0|      95.0|  2372|        15.0|        70|     3|toyota corona mar...|\n",
            "|22.0|        6|       198.0|      95.0|  2833|        15.5|        70|     1|     plymouth duster|\n",
            "|18.0|        6|       199.0|      97.0|  2774|        15.5|        70|     1|          amc hornet|\n",
            "|21.0|        6|       200.0|      85.0|  2587|        16.0|        70|     1|       ford maverick|\n",
            "|27.0|        4|        97.0|      88.0|  2130|        14.5|        70|     3|        datsun pl510|\n",
            "|26.0|        4|        97.0|      46.0|  1835|        20.5|        70|     2|volkswagen 1131 d...|\n",
            "+----+---------+------------+----------+------+------------+----------+------+--------------------+\n",
            "only showing top 20 rows\n",
            "\n"
          ]
        }
      ]
    },
    {
      "cell_type": "code",
      "source": [
        "df.dtypes\n",
        "\n"
      ],
      "metadata": {
        "colab": {
          "base_uri": "https://localhost:8080/"
        },
        "id": "6KzvdZfhszdg",
        "outputId": "6533f9a6-2579-4ef4-ae31-11d2054df6b2"
      },
      "execution_count": 60,
      "outputs": [
        {
          "output_type": "execute_result",
          "data": {
            "text/plain": [
              "[('mpg', 'double'),\n",
              " ('cylinders', 'int'),\n",
              " ('displacement', 'double'),\n",
              " ('horsepower', 'double'),\n",
              " ('weight', 'int'),\n",
              " ('acceleration', 'double'),\n",
              " ('model year', 'int'),\n",
              " ('origin', 'int'),\n",
              " ('car name', 'string')]"
            ]
          },
          "metadata": {},
          "execution_count": 60
        }
      ]
    },
    {
      "cell_type": "code",
      "source": [
        "def check_missing(dataframe):\n",
        "  return dataframe.select([count(when(isnan(col(c)) | col(c).isNull(), c)).alias(c) for c in dataframe.columns]).show()\n",
        "\n",
        "#check_missing(df)"
      ],
      "metadata": {
        "id": "dMCREfL9uwRn"
      },
      "execution_count": 171,
      "outputs": []
    },
    {
      "cell_type": "code",
      "source": [
        "df.dropna().show()"
      ],
      "metadata": {
        "colab": {
          "base_uri": "https://localhost:8080/"
        },
        "id": "r-ZCYovdd7rq",
        "outputId": "e38aeaf1-95d0-4490-805a-a6584af32bcf"
      },
      "execution_count": 62,
      "outputs": [
        {
          "output_type": "stream",
          "name": "stdout",
          "text": [
            "+----+---------+------------+----------+------+------------+----------+------+--------------------+\n",
            "| mpg|cylinders|displacement|horsepower|weight|acceleration|model year|origin|            car name|\n",
            "+----+---------+------------+----------+------+------------+----------+------+--------------------+\n",
            "|18.0|        8|       307.0|     130.0|  3504|        12.0|        70|     1|chevrolet chevell...|\n",
            "|15.0|        8|       350.0|     165.0|  3693|        11.5|        70|     1|   buick skylark 320|\n",
            "|18.0|        8|       318.0|     150.0|  3436|        11.0|        70|     1|  plymouth satellite|\n",
            "|16.0|        8|       304.0|     150.0|  3433|        12.0|        70|     1|       amc rebel sst|\n",
            "|17.0|        8|       302.0|     140.0|  3449|        10.5|        70|     1|         ford torino|\n",
            "|15.0|        8|       429.0|     198.0|  4341|        10.0|        70|     1|    ford galaxie 500|\n",
            "|14.0|        8|       454.0|     220.0|  4354|         9.0|        70|     1|    chevrolet impala|\n",
            "|14.0|        8|       440.0|     215.0|  4312|         8.5|        70|     1|   plymouth fury iii|\n",
            "|14.0|        8|       455.0|     225.0|  4425|        10.0|        70|     1|    pontiac catalina|\n",
            "|15.0|        8|       390.0|     190.0|  3850|         8.5|        70|     1|  amc ambassador dpl|\n",
            "|15.0|        8|       383.0|     170.0|  3563|        10.0|        70|     1| dodge challenger se|\n",
            "|14.0|        8|       340.0|     160.0|  3609|         8.0|        70|     1|  plymouth 'cuda 340|\n",
            "|15.0|        8|       400.0|     150.0|  3761|         9.5|        70|     1|chevrolet monte c...|\n",
            "|14.0|        8|       455.0|     225.0|  3086|        10.0|        70|     1|buick estate wago...|\n",
            "|24.0|        4|       113.0|      95.0|  2372|        15.0|        70|     3|toyota corona mar...|\n",
            "|22.0|        6|       198.0|      95.0|  2833|        15.5|        70|     1|     plymouth duster|\n",
            "|18.0|        6|       199.0|      97.0|  2774|        15.5|        70|     1|          amc hornet|\n",
            "|21.0|        6|       200.0|      85.0|  2587|        16.0|        70|     1|       ford maverick|\n",
            "|27.0|        4|        97.0|      88.0|  2130|        14.5|        70|     3|        datsun pl510|\n",
            "|26.0|        4|        97.0|      46.0|  1835|        20.5|        70|     2|volkswagen 1131 d...|\n",
            "+----+---------+------------+----------+------+------------+----------+------+--------------------+\n",
            "only showing top 20 rows\n",
            "\n"
          ]
        }
      ]
    },
    {
      "cell_type": "code",
      "source": [
        "#col_names = ['mpg', 'cylinders', 'displacement', 'horsepower', 'weight', 'acceleration', 'model year', 'origin', 'car name']\n",
        "#for col in col_names:\n",
        "#  cols=col.split(sep=\" \")\n",
        "#  colums=''\n",
        "#  for c in cols:\n",
        "#    colums += c + \"_\"\n",
        "#  print(colums)\n",
        "#df = df.withColumnRenamed(col, colums)\n",
        "#df.show()\n",
        "df.show(10)\n",
        "#df = df.withColumnRenamed('car name', regexp_replace('car name', ' ', '_'))\n",
        "df.show()\n",
        "#cols"
      ],
      "metadata": {
        "colab": {
          "base_uri": "https://localhost:8080/"
        },
        "id": "JS3eEX_MhMc0",
        "outputId": "13ebe39e-df17-494b-8e99-002a6a02ca03"
      },
      "execution_count": 63,
      "outputs": [
        {
          "output_type": "stream",
          "name": "stdout",
          "text": [
            "+----+---------+------------+----------+------+------------+----------+------+--------------------+\n",
            "| mpg|cylinders|displacement|horsepower|weight|acceleration|model year|origin|            car name|\n",
            "+----+---------+------------+----------+------+------------+----------+------+--------------------+\n",
            "|18.0|        8|       307.0|     130.0|  3504|        12.0|        70|     1|chevrolet chevell...|\n",
            "|15.0|        8|       350.0|     165.0|  3693|        11.5|        70|     1|   buick skylark 320|\n",
            "|18.0|        8|       318.0|     150.0|  3436|        11.0|        70|     1|  plymouth satellite|\n",
            "|16.0|        8|       304.0|     150.0|  3433|        12.0|        70|     1|       amc rebel sst|\n",
            "|17.0|        8|       302.0|     140.0|  3449|        10.5|        70|     1|         ford torino|\n",
            "|15.0|        8|       429.0|     198.0|  4341|        10.0|        70|     1|    ford galaxie 500|\n",
            "|14.0|        8|       454.0|     220.0|  4354|         9.0|        70|     1|    chevrolet impala|\n",
            "|14.0|        8|       440.0|     215.0|  4312|         8.5|        70|     1|   plymouth fury iii|\n",
            "|14.0|        8|       455.0|     225.0|  4425|        10.0|        70|     1|    pontiac catalina|\n",
            "|15.0|        8|       390.0|     190.0|  3850|         8.5|        70|     1|  amc ambassador dpl|\n",
            "+----+---------+------------+----------+------+------------+----------+------+--------------------+\n",
            "only showing top 10 rows\n",
            "\n",
            "+----+---------+------------+----------+------+------------+----------+------+--------------------+\n",
            "| mpg|cylinders|displacement|horsepower|weight|acceleration|model year|origin|            car name|\n",
            "+----+---------+------------+----------+------+------------+----------+------+--------------------+\n",
            "|18.0|        8|       307.0|     130.0|  3504|        12.0|        70|     1|chevrolet chevell...|\n",
            "|15.0|        8|       350.0|     165.0|  3693|        11.5|        70|     1|   buick skylark 320|\n",
            "|18.0|        8|       318.0|     150.0|  3436|        11.0|        70|     1|  plymouth satellite|\n",
            "|16.0|        8|       304.0|     150.0|  3433|        12.0|        70|     1|       amc rebel sst|\n",
            "|17.0|        8|       302.0|     140.0|  3449|        10.5|        70|     1|         ford torino|\n",
            "|15.0|        8|       429.0|     198.0|  4341|        10.0|        70|     1|    ford galaxie 500|\n",
            "|14.0|        8|       454.0|     220.0|  4354|         9.0|        70|     1|    chevrolet impala|\n",
            "|14.0|        8|       440.0|     215.0|  4312|         8.5|        70|     1|   plymouth fury iii|\n",
            "|14.0|        8|       455.0|     225.0|  4425|        10.0|        70|     1|    pontiac catalina|\n",
            "|15.0|        8|       390.0|     190.0|  3850|         8.5|        70|     1|  amc ambassador dpl|\n",
            "|15.0|        8|       383.0|     170.0|  3563|        10.0|        70|     1| dodge challenger se|\n",
            "|14.0|        8|       340.0|     160.0|  3609|         8.0|        70|     1|  plymouth 'cuda 340|\n",
            "|15.0|        8|       400.0|     150.0|  3761|         9.5|        70|     1|chevrolet monte c...|\n",
            "|14.0|        8|       455.0|     225.0|  3086|        10.0|        70|     1|buick estate wago...|\n",
            "|24.0|        4|       113.0|      95.0|  2372|        15.0|        70|     3|toyota corona mar...|\n",
            "|22.0|        6|       198.0|      95.0|  2833|        15.5|        70|     1|     plymouth duster|\n",
            "|18.0|        6|       199.0|      97.0|  2774|        15.5|        70|     1|          amc hornet|\n",
            "|21.0|        6|       200.0|      85.0|  2587|        16.0|        70|     1|       ford maverick|\n",
            "|27.0|        4|        97.0|      88.0|  2130|        14.5|        70|     3|        datsun pl510|\n",
            "|26.0|        4|        97.0|      46.0|  1835|        20.5|        70|     2|volkswagen 1131 d...|\n",
            "+----+---------+------------+----------+------+------------+----------+------+--------------------+\n",
            "only showing top 20 rows\n",
            "\n"
          ]
        }
      ]
    },
    {
      "cell_type": "code",
      "source": [
        "#regexp_replace(col(df), ' ', '_')"
      ],
      "metadata": {
        "id": "BuKn25BSnROM"
      },
      "execution_count": 64,
      "outputs": []
    },
    {
      "cell_type": "code",
      "source": [
        "df = df.withColumn('horsepower', col('horsepower').cast('int'))\n",
        "df.dtypes"
      ],
      "metadata": {
        "colab": {
          "base_uri": "https://localhost:8080/"
        },
        "id": "ZqbSBZ_avupX",
        "outputId": "7c4cd3fb-dd55-4c41-acda-7b58f0eb9612"
      },
      "execution_count": 65,
      "outputs": [
        {
          "output_type": "execute_result",
          "data": {
            "text/plain": [
              "[('mpg', 'double'),\n",
              " ('cylinders', 'int'),\n",
              " ('displacement', 'double'),\n",
              " ('horsepower', 'int'),\n",
              " ('weight', 'int'),\n",
              " ('acceleration', 'double'),\n",
              " ('model year', 'int'),\n",
              " ('origin', 'int'),\n",
              " ('car name', 'string')]"
            ]
          },
          "metadata": {},
          "execution_count": 65
        }
      ]
    },
    {
      "cell_type": "code",
      "source": [
        "numeric_cols= [c for c,t in df.dtypes if t.startswith('string')==False]\n",
        "df[numeric_cols].summary().show()"
      ],
      "metadata": {
        "colab": {
          "base_uri": "https://localhost:8080/"
        },
        "id": "eDmmfG_Om2ze",
        "outputId": "84bea0ce-3c71-4eed-e6b0-9c8c03748318"
      },
      "execution_count": 66,
      "outputs": [
        {
          "output_type": "stream",
          "name": "stdout",
          "text": [
            "+-------+------------------+------------------+------------------+------------------+-----------------+------------------+------------------+------------------+\n",
            "|summary|               mpg|         cylinders|      displacement|        horsepower|           weight|      acceleration|        model year|            origin|\n",
            "+-------+------------------+------------------+------------------+------------------+-----------------+------------------+------------------+------------------+\n",
            "|  count|               398|               398|               398|               398|              398|               398|               398|               398|\n",
            "|   mean|23.514572864321615| 5.454773869346734|193.42587939698493|102.89447236180905|2970.424623115578|15.568090452261291| 76.01005025125629|1.5728643216080402|\n",
            "| stddev| 7.815984312565783|1.7010042445332123|104.26983817119587| 40.26954421185716|846.8417741973268| 2.757688929812676|3.6976266467325862|0.8020548777266148|\n",
            "|    min|               9.0|                 3|              68.0|                 0|             1613|               8.0|                70|                 1|\n",
            "|    25%|              17.5|                 4|             104.0|                75|             2223|              13.8|                73|                 1|\n",
            "|    50%|              23.0|                 4|             146.0|                92|             2800|              15.5|                76|                 1|\n",
            "|    75%|              29.0|                 8|             262.0|               125|             3609|              17.2|                79|                 2|\n",
            "|    max|              46.6|                 8|             455.0|               230|             5140|              24.8|                82|                 3|\n",
            "+-------+------------------+------------------+------------------+------------------+-----------------+------------------+------------------+------------------+\n",
            "\n"
          ]
        }
      ]
    },
    {
      "cell_type": "code",
      "source": [
        "df.printSchema()"
      ],
      "metadata": {
        "colab": {
          "base_uri": "https://localhost:8080/"
        },
        "id": "jskaRjSO0j-q",
        "outputId": "6ad40984-092f-413d-bb57-a2c93fb07e67"
      },
      "execution_count": 67,
      "outputs": [
        {
          "output_type": "stream",
          "name": "stdout",
          "text": [
            "root\n",
            " |-- mpg: double (nullable = true)\n",
            " |-- cylinders: integer (nullable = true)\n",
            " |-- displacement: double (nullable = true)\n",
            " |-- horsepower: integer (nullable = true)\n",
            " |-- weight: integer (nullable = true)\n",
            " |-- acceleration: double (nullable = true)\n",
            " |-- model year: integer (nullable = true)\n",
            " |-- origin: integer (nullable = true)\n",
            " |-- car name: string (nullable = true)\n",
            "\n"
          ]
        }
      ]
    },
    {
      "cell_type": "code",
      "source": [
        "df.filter(df['acceleration']>15).show()"
      ],
      "metadata": {
        "colab": {
          "base_uri": "https://localhost:8080/"
        },
        "id": "6b9wXgxmn4ft",
        "outputId": "e3a85666-dd54-4a26-9be1-c9280f5f8c3f"
      },
      "execution_count": 68,
      "outputs": [
        {
          "output_type": "stream",
          "name": "stdout",
          "text": [
            "+----+---------+------------+----------+------+------------+----------+------+--------------------+\n",
            "| mpg|cylinders|displacement|horsepower|weight|acceleration|model year|origin|            car name|\n",
            "+----+---------+------------+----------+------+------------+----------+------+--------------------+\n",
            "|22.0|        6|       198.0|        95|  2833|        15.5|        70|     1|     plymouth duster|\n",
            "|18.0|        6|       199.0|        97|  2774|        15.5|        70|     1|          amc hornet|\n",
            "|21.0|        6|       200.0|        85|  2587|        16.0|        70|     1|       ford maverick|\n",
            "|26.0|        4|        97.0|        46|  1835|        20.5|        70|     2|volkswagen 1131 d...|\n",
            "|25.0|        4|       110.0|        87|  2672|        17.5|        70|     2|         peugeot 504|\n",
            "|25.0|        4|       104.0|        95|  2375|        17.5|        70|     2|            saab 99e|\n",
            "| 9.0|        8|       304.0|       193|  4732|        18.5|        70|     1|            hi 1200d|\n",
            "|28.0|        4|       140.0|        90|  2264|        15.5|        71|     1| chevrolet vega 2300|\n",
            "|25.0|        4|        98.0|         0|  2046|        19.0|        71|     1|          ford pinto|\n",
            "|16.0|        6|       225.0|       105|  3439|        15.5|        71|     1|plymouth satellit...|\n",
            "|17.0|        6|       250.0|       100|  3329|        15.5|        71|     1|chevrolet chevell...|\n",
            "|19.0|        6|       250.0|        88|  3302|        15.5|        71|     1|     ford torino 500|\n",
            "|18.0|        6|       232.0|       100|  3288|        15.5|        71|     1|         amc matador|\n",
            "|22.0|        4|       140.0|        72|  2408|        19.0|        71|     1| chevrolet vega (sw)|\n",
            "|30.0|        4|        79.0|        70|  2074|        19.5|        71|     2|         peugeot 304|\n",
            "|31.0|        4|        71.0|        65|  1773|        19.0|        71|     3| toyota corolla 1200|\n",
            "|35.0|        4|        72.0|        69|  1613|        18.0|        71|     3|         datsun 1200|\n",
            "|27.0|        4|        97.0|        60|  1834|        19.0|        71|     2|volkswagen model 111|\n",
            "|26.0|        4|        91.0|        70|  1955|        20.5|        71|     1|    plymouth cricket|\n",
            "|24.0|        4|       113.0|        95|  2278|        15.5|        72|     3|toyota corona har...|\n",
            "+----+---------+------------+----------+------+------------+----------+------+--------------------+\n",
            "only showing top 20 rows\n",
            "\n"
          ]
        }
      ]
    },
    {
      "cell_type": "code",
      "source": [
        "df.filter(df['mpg']>23).show(10)"
      ],
      "metadata": {
        "colab": {
          "base_uri": "https://localhost:8080/"
        },
        "id": "gX7AV6ZL1b2O",
        "outputId": "46525752-7d4c-4c54-a11c-0a7103eb9927"
      },
      "execution_count": 69,
      "outputs": [
        {
          "output_type": "stream",
          "name": "stdout",
          "text": [
            "+----+---------+------------+----------+------+------------+----------+------+--------------------+\n",
            "| mpg|cylinders|displacement|horsepower|weight|acceleration|model year|origin|            car name|\n",
            "+----+---------+------------+----------+------+------------+----------+------+--------------------+\n",
            "|24.0|        4|       113.0|        95|  2372|        15.0|        70|     3|toyota corona mar...|\n",
            "|27.0|        4|        97.0|        88|  2130|        14.5|        70|     3|        datsun pl510|\n",
            "|26.0|        4|        97.0|        46|  1835|        20.5|        70|     2|volkswagen 1131 d...|\n",
            "|25.0|        4|       110.0|        87|  2672|        17.5|        70|     2|         peugeot 504|\n",
            "|24.0|        4|       107.0|        90|  2430|        14.5|        70|     2|         audi 100 ls|\n",
            "|25.0|        4|       104.0|        95|  2375|        17.5|        70|     2|            saab 99e|\n",
            "|26.0|        4|       121.0|       113|  2234|        12.5|        70|     2|            bmw 2002|\n",
            "|27.0|        4|        97.0|        88|  2130|        14.5|        71|     3|        datsun pl510|\n",
            "|28.0|        4|       140.0|        90|  2264|        15.5|        71|     1| chevrolet vega 2300|\n",
            "|25.0|        4|       113.0|        95|  2228|        14.0|        71|     3|       toyota corona|\n",
            "+----+---------+------------+----------+------+------------+----------+------+--------------------+\n",
            "only showing top 10 rows\n",
            "\n"
          ]
        }
      ]
    },
    {
      "cell_type": "code",
      "source": [
        "df.filter((col('weight')>2000) & (col('horsepower')>80)).show(10)"
      ],
      "metadata": {
        "colab": {
          "base_uri": "https://localhost:8080/"
        },
        "id": "95gO7zj-16q6",
        "outputId": "c975e6c9-cfd7-481f-d5d6-2a73115745f8"
      },
      "execution_count": 70,
      "outputs": [
        {
          "output_type": "stream",
          "name": "stdout",
          "text": [
            "+----+---------+------------+----------+------+------------+----------+------+--------------------+\n",
            "| mpg|cylinders|displacement|horsepower|weight|acceleration|model year|origin|            car name|\n",
            "+----+---------+------------+----------+------+------------+----------+------+--------------------+\n",
            "|18.0|        8|       307.0|       130|  3504|        12.0|        70|     1|chevrolet chevell...|\n",
            "|15.0|        8|       350.0|       165|  3693|        11.5|        70|     1|   buick skylark 320|\n",
            "|18.0|        8|       318.0|       150|  3436|        11.0|        70|     1|  plymouth satellite|\n",
            "|16.0|        8|       304.0|       150|  3433|        12.0|        70|     1|       amc rebel sst|\n",
            "|17.0|        8|       302.0|       140|  3449|        10.5|        70|     1|         ford torino|\n",
            "|15.0|        8|       429.0|       198|  4341|        10.0|        70|     1|    ford galaxie 500|\n",
            "|14.0|        8|       454.0|       220|  4354|         9.0|        70|     1|    chevrolet impala|\n",
            "|14.0|        8|       440.0|       215|  4312|         8.5|        70|     1|   plymouth fury iii|\n",
            "|14.0|        8|       455.0|       225|  4425|        10.0|        70|     1|    pontiac catalina|\n",
            "|15.0|        8|       390.0|       190|  3850|         8.5|        70|     1|  amc ambassador dpl|\n",
            "+----+---------+------------+----------+------+------------+----------+------+--------------------+\n",
            "only showing top 10 rows\n",
            "\n"
          ]
        }
      ]
    },
    {
      "cell_type": "code",
      "source": [
        "df.filter((col('weight')>2000) & (col('horsepower')>80)).sort('mpg').show(10)"
      ],
      "metadata": {
        "colab": {
          "base_uri": "https://localhost:8080/"
        },
        "id": "PTM5Cg3sobl2",
        "outputId": "b480f7f9-50c5-47c7-b2de-12a92cf34482"
      },
      "execution_count": 71,
      "outputs": [
        {
          "output_type": "stream",
          "name": "stdout",
          "text": [
            "+----+---------+------------+----------+------+------------+----------+------+--------------------+\n",
            "| mpg|cylinders|displacement|horsepower|weight|acceleration|model year|origin|            car name|\n",
            "+----+---------+------------+----------+------+------------+----------+------+--------------------+\n",
            "| 9.0|        8|       304.0|       193|  4732|        18.5|        70|     1|            hi 1200d|\n",
            "|10.0|        8|       360.0|       215|  4615|        14.0|        70|     1|           ford f250|\n",
            "|10.0|        8|       307.0|       200|  4376|        15.0|        70|     1|           chevy c20|\n",
            "|11.0|        8|       318.0|       210|  4382|        13.5|        70|     1|          dodge d200|\n",
            "|11.0|        8|       429.0|       208|  4633|        11.0|        72|     1|     mercury marquis|\n",
            "|11.0|        8|       400.0|       150|  4997|        14.0|        73|     1|    chevrolet impala|\n",
            "|11.0|        8|       350.0|       180|  3664|        11.0|        73|     1|    oldsmobile omega|\n",
            "|12.0|        8|       383.0|       180|  4955|        11.5|        71|     1|   dodge monaco (sw)|\n",
            "|12.0|        8|       350.0|       160|  4456|        13.5|        72|     1|oldsmobile delta ...|\n",
            "|12.0|        8|       429.0|       198|  4952|        11.5|        73|     1|mercury marquis b...|\n",
            "+----+---------+------------+----------+------+------------+----------+------+--------------------+\n",
            "only showing top 10 rows\n",
            "\n"
          ]
        }
      ]
    },
    {
      "cell_type": "code",
      "source": [
        "df.filter((col('weight')>2000) & (col('horsepower')>80)).sort('mpg').show(10)"
      ],
      "metadata": {
        "colab": {
          "base_uri": "https://localhost:8080/"
        },
        "outputId": "17062855-8893-4ad0-b0a0-c209a28920f9",
        "id": "GXidMJlio5h2"
      },
      "execution_count": 72,
      "outputs": [
        {
          "output_type": "stream",
          "name": "stdout",
          "text": [
            "+----+---------+------------+----------+------+------------+----------+------+--------------------+\n",
            "| mpg|cylinders|displacement|horsepower|weight|acceleration|model year|origin|            car name|\n",
            "+----+---------+------------+----------+------+------------+----------+------+--------------------+\n",
            "| 9.0|        8|       304.0|       193|  4732|        18.5|        70|     1|            hi 1200d|\n",
            "|10.0|        8|       360.0|       215|  4615|        14.0|        70|     1|           ford f250|\n",
            "|10.0|        8|       307.0|       200|  4376|        15.0|        70|     1|           chevy c20|\n",
            "|11.0|        8|       318.0|       210|  4382|        13.5|        70|     1|          dodge d200|\n",
            "|11.0|        8|       429.0|       208|  4633|        11.0|        72|     1|     mercury marquis|\n",
            "|11.0|        8|       400.0|       150|  4997|        14.0|        73|     1|    chevrolet impala|\n",
            "|11.0|        8|       350.0|       180|  3664|        11.0|        73|     1|    oldsmobile omega|\n",
            "|12.0|        8|       383.0|       180|  4955|        11.5|        71|     1|   dodge monaco (sw)|\n",
            "|12.0|        8|       350.0|       160|  4456|        13.5|        72|     1|oldsmobile delta ...|\n",
            "|12.0|        8|       429.0|       198|  4952|        11.5|        73|     1|mercury marquis b...|\n",
            "+----+---------+------------+----------+------+------------+----------+------+--------------------+\n",
            "only showing top 10 rows\n",
            "\n"
          ]
        }
      ]
    },
    {
      "cell_type": "code",
      "source": [
        "df.filter((col('weight')>2000) & (col('horsepower')>80)).sort('mpg').show(10)"
      ],
      "metadata": {
        "colab": {
          "base_uri": "https://localhost:8080/"
        },
        "outputId": "931689f8-7ba2-4432-f366-cb50173407ef",
        "id": "UN9R6Cw5o8A5"
      },
      "execution_count": 73,
      "outputs": [
        {
          "output_type": "stream",
          "name": "stdout",
          "text": [
            "+----+---------+------------+----------+------+------------+----------+------+--------------------+\n",
            "| mpg|cylinders|displacement|horsepower|weight|acceleration|model year|origin|            car name|\n",
            "+----+---------+------------+----------+------+------------+----------+------+--------------------+\n",
            "| 9.0|        8|       304.0|       193|  4732|        18.5|        70|     1|            hi 1200d|\n",
            "|10.0|        8|       360.0|       215|  4615|        14.0|        70|     1|           ford f250|\n",
            "|10.0|        8|       307.0|       200|  4376|        15.0|        70|     1|           chevy c20|\n",
            "|11.0|        8|       318.0|       210|  4382|        13.5|        70|     1|          dodge d200|\n",
            "|11.0|        8|       429.0|       208|  4633|        11.0|        72|     1|     mercury marquis|\n",
            "|11.0|        8|       400.0|       150|  4997|        14.0|        73|     1|    chevrolet impala|\n",
            "|11.0|        8|       350.0|       180|  3664|        11.0|        73|     1|    oldsmobile omega|\n",
            "|12.0|        8|       383.0|       180|  4955|        11.5|        71|     1|   dodge monaco (sw)|\n",
            "|12.0|        8|       350.0|       160|  4456|        13.5|        72|     1|oldsmobile delta ...|\n",
            "|12.0|        8|       429.0|       198|  4952|        11.5|        73|     1|mercury marquis b...|\n",
            "+----+---------+------------+----------+------+------------+----------+------+--------------------+\n",
            "only showing top 10 rows\n",
            "\n"
          ]
        }
      ]
    },
    {
      "cell_type": "code",
      "source": [
        "df.filter((col('weight')>2000) & (col('horsepower')>80)).sort(col('mpg').desc()).show(10)"
      ],
      "metadata": {
        "colab": {
          "base_uri": "https://localhost:8080/"
        },
        "outputId": "232e7cba-f5eb-4f8f-ffda-3b376bdf7699",
        "id": "JTd0s0r7pDAb"
      },
      "execution_count": 74,
      "outputs": [
        {
          "output_type": "stream",
          "name": "stdout",
          "text": [
            "+----+---------+------------+----------+------+------------+----------+------+--------------------+\n",
            "| mpg|cylinders|displacement|horsepower|weight|acceleration|model year|origin|            car name|\n",
            "+----+---------+------------+----------+------+------------+----------+------+--------------------+\n",
            "|38.0|        6|       262.0|        85|  3015|        17.0|        82|     1|oldsmobile cutlas...|\n",
            "|37.0|        4|       119.0|        92|  2434|        15.0|        80|     3|datsun 510 hatchback|\n",
            "|36.0|        4|       135.0|        84|  2370|        13.0|        82|     1|   dodge charger 2.2|\n",
            "|36.0|        4|       120.0|        88|  2160|        14.5|        82|     3|    nissan stanza xe|\n",
            "|35.0|        4|       122.0|        88|  2500|        15.1|        80|     2|   triumph tr7 coupe|\n",
            "|34.0|        4|       112.0|        88|  2395|        18.0|        82|     1|chevrolet cavalie...|\n",
            "|33.5|        4|        98.0|        83|  2075|        15.9|        77|     1|      dodge colt m/m|\n",
            "|33.5|        4|       151.0|        90|  2556|        13.2|        79|     1|     pontiac phoenix|\n",
            "|32.9|        4|       119.0|       100|  2615|        14.8|        81|     3|        datsun 200sx|\n",
            "|32.7|        6|       168.0|       132|  2910|        11.4|        80|     3|       datsun 280-zx|\n",
            "+----+---------+------------+----------+------+------------+----------+------+--------------------+\n",
            "only showing top 10 rows\n",
            "\n"
          ]
        }
      ]
    },
    {
      "cell_type": "code",
      "source": [],
      "metadata": {
        "id": "v5TNmd-JpU92"
      },
      "execution_count": 74,
      "outputs": []
    },
    {
      "cell_type": "code",
      "source": [
        "df.sort('model year').show(10)"
      ],
      "metadata": {
        "colab": {
          "base_uri": "https://localhost:8080/"
        },
        "id": "D8xGVCR43Ege",
        "outputId": "3ebdd95c-b16c-4797-8588-ff7d77703922"
      },
      "execution_count": 75,
      "outputs": [
        {
          "output_type": "stream",
          "name": "stdout",
          "text": [
            "+----+---------+------------+----------+------+------------+----------+------+--------------------+\n",
            "| mpg|cylinders|displacement|horsepower|weight|acceleration|model year|origin|            car name|\n",
            "+----+---------+------------+----------+------+------------+----------+------+--------------------+\n",
            "|18.0|        8|       307.0|       130|  3504|        12.0|        70|     1|chevrolet chevell...|\n",
            "|15.0|        8|       350.0|       165|  3693|        11.5|        70|     1|   buick skylark 320|\n",
            "|18.0|        8|       318.0|       150|  3436|        11.0|        70|     1|  plymouth satellite|\n",
            "|16.0|        8|       304.0|       150|  3433|        12.0|        70|     1|       amc rebel sst|\n",
            "|17.0|        8|       302.0|       140|  3449|        10.5|        70|     1|         ford torino|\n",
            "|15.0|        8|       429.0|       198|  4341|        10.0|        70|     1|    ford galaxie 500|\n",
            "|14.0|        8|       454.0|       220|  4354|         9.0|        70|     1|    chevrolet impala|\n",
            "|14.0|        8|       440.0|       215|  4312|         8.5|        70|     1|   plymouth fury iii|\n",
            "|14.0|        8|       455.0|       225|  4425|        10.0|        70|     1|    pontiac catalina|\n",
            "|15.0|        8|       390.0|       190|  3850|         8.5|        70|     1|  amc ambassador dpl|\n",
            "+----+---------+------------+----------+------+------------+----------+------+--------------------+\n",
            "only showing top 10 rows\n",
            "\n"
          ]
        }
      ]
    },
    {
      "cell_type": "code",
      "source": [
        "df.filter(col(\"car name\").contains(\"volkswagen\")).orderBy(['model year','horsepower'],ascending=[False,False]).show()"
      ],
      "metadata": {
        "colab": {
          "base_uri": "https://localhost:8080/"
        },
        "id": "KzKwpOwf3uOL",
        "outputId": "de47e6f6-bb38-43b3-d39a-229873f69142"
      },
      "execution_count": 76,
      "outputs": [
        {
          "output_type": "stream",
          "name": "stdout",
          "text": [
            "+----+---------+------------+----------+------+------------+----------+------+--------------------+\n",
            "| mpg|cylinders|displacement|horsepower|weight|acceleration|model year|origin|            car name|\n",
            "+----+---------+------------+----------+------+------------+----------+------+--------------------+\n",
            "|36.0|        4|       105.0|        74|  1980|        15.3|        82|     2| volkswagen rabbit l|\n",
            "|33.0|        4|       105.0|        74|  2190|        14.2|        81|     2|    volkswagen jetta|\n",
            "|31.5|        4|        89.0|        71|  1990|        14.9|        78|     2| volkswagen scirocco|\n",
            "|43.1|        4|        90.0|        48|  1985|        21.5|        78|     2|volkswagen rabbit...|\n",
            "|29.0|        4|        97.0|        78|  1940|        14.5|        77|     2|volkswagen rabbit...|\n",
            "|30.5|        4|        97.0|        78|  2190|        14.1|        77|     2|   volkswagen dasher|\n",
            "|29.5|        4|        97.0|        71|  1825|        12.2|        76|     2|   volkswagen rabbit|\n",
            "|25.0|        4|        90.0|        71|  2223|        16.5|        75|     2|   volkswagen dasher|\n",
            "|29.0|        4|        90.0|        70|  1937|        14.0|        75|     2|   volkswagen rabbit|\n",
            "|26.0|        4|        79.0|        67|  1963|        15.5|        74|     2|   volkswagen dasher|\n",
            "|26.0|        4|        97.0|        46|  1950|        21.0|        73|     2|volkswagen super ...|\n",
            "|22.0|        4|       121.0|        76|  2511|        18.0|        72|     2| volkswagen 411 (sw)|\n",
            "|23.0|        4|        97.0|        54|  2254|        23.5|        72|     2|   volkswagen type 3|\n",
            "|27.0|        4|        97.0|        60|  1834|        19.0|        71|     2|volkswagen model 111|\n",
            "|26.0|        4|        97.0|        46|  1835|        20.5|        70|     2|volkswagen 1131 d...|\n",
            "+----+---------+------------+----------+------+------------+----------+------+--------------------+\n",
            "\n"
          ]
        }
      ]
    },
    {
      "cell_type": "code",
      "source": [],
      "metadata": {
        "id": "HZS893FIqO1R"
      },
      "execution_count": 76,
      "outputs": []
    },
    {
      "cell_type": "code",
      "source": [
        "df =df.withColumn('brand',split(col('car name'),' ').getItem(0))\n",
        "\n",
        "auto_misspelled = {'chevroelt':'chevrolet',\n",
        "                   'chevy':'chevrolet',\n",
        "                   'vw':'volkswagan',\n",
        "                   'volkswagen':'volkswagan',\n",
        "                   'vokswagen':'volkswagan',\n",
        "                   'toyouta':'toyota',\n",
        "                   'hi':'harvester',\n",
        "                   'maxda':'mazda',\n",
        "                   'mercedes-benz':'mercedes'}\n",
        "\n",
        "for key in auto_misspelled.keys():\n",
        "  df = df.withColumn('brand', regexp_replace('brand', key, auto_misspelled[key]))\n",
        "df.show(20)"
      ],
      "metadata": {
        "colab": {
          "base_uri": "https://localhost:8080/"
        },
        "id": "-qprM-Om5euZ",
        "outputId": "ac732f09-2c57-4763-e0a6-48794ac926a3"
      },
      "execution_count": 77,
      "outputs": [
        {
          "output_type": "stream",
          "name": "stdout",
          "text": [
            "+----+---------+------------+----------+------+------------+----------+------+--------------------+----------+\n",
            "| mpg|cylinders|displacement|horsepower|weight|acceleration|model year|origin|            car name|     brand|\n",
            "+----+---------+------------+----------+------+------------+----------+------+--------------------+----------+\n",
            "|18.0|        8|       307.0|       130|  3504|        12.0|        70|     1|chevrolet chevell...| chevrolet|\n",
            "|15.0|        8|       350.0|       165|  3693|        11.5|        70|     1|   buick skylark 320|     buick|\n",
            "|18.0|        8|       318.0|       150|  3436|        11.0|        70|     1|  plymouth satellite|  plymouth|\n",
            "|16.0|        8|       304.0|       150|  3433|        12.0|        70|     1|       amc rebel sst|       amc|\n",
            "|17.0|        8|       302.0|       140|  3449|        10.5|        70|     1|         ford torino|      ford|\n",
            "|15.0|        8|       429.0|       198|  4341|        10.0|        70|     1|    ford galaxie 500|      ford|\n",
            "|14.0|        8|       454.0|       220|  4354|         9.0|        70|     1|    chevrolet impala| chevrolet|\n",
            "|14.0|        8|       440.0|       215|  4312|         8.5|        70|     1|   plymouth fury iii|  plymouth|\n",
            "|14.0|        8|       455.0|       225|  4425|        10.0|        70|     1|    pontiac catalina|   pontiac|\n",
            "|15.0|        8|       390.0|       190|  3850|         8.5|        70|     1|  amc ambassador dpl|       amc|\n",
            "|15.0|        8|       383.0|       170|  3563|        10.0|        70|     1| dodge challenger se|     dodge|\n",
            "|14.0|        8|       340.0|       160|  3609|         8.0|        70|     1|  plymouth 'cuda 340|  plymouth|\n",
            "|15.0|        8|       400.0|       150|  3761|         9.5|        70|     1|chevrolet monte c...| chevrolet|\n",
            "|14.0|        8|       455.0|       225|  3086|        10.0|        70|     1|buick estate wago...|     buick|\n",
            "|24.0|        4|       113.0|        95|  2372|        15.0|        70|     3|toyota corona mar...|    toyota|\n",
            "|22.0|        6|       198.0|        95|  2833|        15.5|        70|     1|     plymouth duster|  plymouth|\n",
            "|18.0|        6|       199.0|        97|  2774|        15.5|        70|     1|          amc hornet|       amc|\n",
            "|21.0|        6|       200.0|        85|  2587|        16.0|        70|     1|       ford maverick|      ford|\n",
            "|27.0|        4|        97.0|        88|  2130|        14.5|        70|     3|        datsun pl510|    datsun|\n",
            "|26.0|        4|        97.0|        46|  1835|        20.5|        70|     2|volkswagen 1131 d...|volkswagan|\n",
            "+----+---------+------------+----------+------+------------+----------+------+--------------------+----------+\n",
            "only showing top 20 rows\n",
            "\n"
          ]
        }
      ]
    },
    {
      "cell_type": "code",
      "source": [
        "\n",
        "df.groupBy('brand').agg({'acceleration':'mean'}).withColumnRenamed('avg(acceleration)','Avg acceleration').show(10)\n"
      ],
      "metadata": {
        "colab": {
          "base_uri": "https://localhost:8080/"
        },
        "id": "VbR4dm_em0Xu",
        "outputId": "5479cd3f-fc0b-4f54-8512-b9bbfc0cbb0c"
      },
      "execution_count": 78,
      "outputs": [
        {
          "output_type": "stream",
          "name": "stdout",
          "text": [
            "+----------+------------------+\n",
            "|     brand|  Avg acceleration|\n",
            "+----------+------------------+\n",
            "|volkswagan|17.404545454545453|\n",
            "|     buick|14.700000000000003|\n",
            "|   pontiac|14.081249999999999|\n",
            "|  mercedes| 19.53333333333333|\n",
            "|    toyota| 16.03846153846154|\n",
            "|      saab|            15.175|\n",
            "|       amc|15.264285714285716|\n",
            "|   peugeot|             19.55|\n",
            "|  chrysler|13.300000000000002|\n",
            "|  plymouth|14.851612903225801|\n",
            "+----------+------------------+\n",
            "only showing top 10 rows\n",
            "\n"
          ]
        }
      ]
    },
    {
      "cell_type": "code",
      "source": [
        "df.groupBy('brand').agg({'mpg':'max'}).show(10)"
      ],
      "metadata": {
        "colab": {
          "base_uri": "https://localhost:8080/"
        },
        "id": "lN11hnyk7H8l",
        "outputId": "4ef6837b-55f1-433d-ef64-ad5ece4b0f38"
      },
      "execution_count": 79,
      "outputs": [
        {
          "output_type": "stream",
          "name": "stdout",
          "text": [
            "+----------+--------+\n",
            "|     brand|max(mpg)|\n",
            "+----------+--------+\n",
            "|volkswagan|    44.3|\n",
            "|     buick|    30.0|\n",
            "|   pontiac|    33.5|\n",
            "|  mercedes|    30.0|\n",
            "|    toyota|    39.1|\n",
            "|      saab|    25.0|\n",
            "|       amc|    27.4|\n",
            "|   peugeot|    30.0|\n",
            "|  chrysler|    26.0|\n",
            "|  plymouth|    39.0|\n",
            "+----------+--------+\n",
            "only showing top 10 rows\n",
            "\n"
          ]
        }
      ]
    },
    {
      "cell_type": "code",
      "source": [
        "df.groupBy('brand').agg({'acceleration':'mean'}).show(10)"
      ],
      "metadata": {
        "colab": {
          "base_uri": "https://localhost:8080/"
        },
        "id": "8jtArv-n7na9",
        "outputId": "f319e085-558d-4055-bcef-4175cb0221d4"
      },
      "execution_count": 80,
      "outputs": [
        {
          "output_type": "stream",
          "name": "stdout",
          "text": [
            "+----------+------------------+\n",
            "|     brand| avg(acceleration)|\n",
            "+----------+------------------+\n",
            "|volkswagan|17.404545454545453|\n",
            "|     buick|14.700000000000003|\n",
            "|   pontiac|14.081249999999999|\n",
            "|  mercedes| 19.53333333333333|\n",
            "|    toyota| 16.03846153846154|\n",
            "|      saab|            15.175|\n",
            "|       amc|15.264285714285716|\n",
            "|   peugeot|             19.55|\n",
            "|  chrysler|13.300000000000002|\n",
            "|  plymouth|14.851612903225801|\n",
            "+----------+------------------+\n",
            "only showing top 10 rows\n",
            "\n"
          ]
        }
      ]
    },
    {
      "cell_type": "code",
      "source": [
        "distinct_brands = df.select('brand').distinct().count()\n",
        "print(f\"Number of distinct brands: {distinct_brands}\")\n",
        "\n",
        "df.select('brand').distinct().show(100,truncate=False)"
      ],
      "metadata": {
        "colab": {
          "base_uri": "https://localhost:8080/"
        },
        "id": "khKecF3qoaxN",
        "outputId": "612501d2-5f60-4350-faee-a2c056ba4ce2"
      },
      "execution_count": 81,
      "outputs": [
        {
          "output_type": "stream",
          "name": "stdout",
          "text": [
            "Number of distinct brands: 30\n",
            "+----------+\n",
            "|brand     |\n",
            "+----------+\n",
            "|volkswagan|\n",
            "|buick     |\n",
            "|pontiac   |\n",
            "|mercedes  |\n",
            "|toyota    |\n",
            "|saab      |\n",
            "|amc       |\n",
            "|peugeot   |\n",
            "|chrysler  |\n",
            "|plymouth  |\n",
            "|audi      |\n",
            "|datsun    |\n",
            "|bmw       |\n",
            "|dodge     |\n",
            "|ford      |\n",
            "|capri     |\n",
            "|cadillac  |\n",
            "|mazda     |\n",
            "|harvester |\n",
            "|chevrolet |\n",
            "|opel      |\n",
            "|honda     |\n",
            "|fiat      |\n",
            "|oldsmobile|\n",
            "|mercury   |\n",
            "|renault   |\n",
            "|nissan    |\n",
            "|triumph   |\n",
            "|subaru    |\n",
            "|volvo     |\n",
            "+----------+\n",
            "\n"
          ]
        }
      ]
    },
    {
      "cell_type": "code",
      "source": [
        "# prompt: command to generate unique values in brand\n",
        "\n",
        "#from pyspark.sql.functions import countDistinct\n",
        "\n",
        "# Assuming 'df' is your DataFrame as defined in the previous code\n",
        "\n",
        "#distinct_brands = df.select(countDistinct(\"brand\")).collect()[0][0]\n",
        "#print(f\"Number of distinct brands: {distinct_brands}\")\n",
        "#df.select(\"brand\").distinct().show(distinct_brands)\n",
        "#df.select('brand').distinct().show()\n",
        "\n",
        "\n",
        "def one_hot_encode(df, categorical_col):\n",
        "  # Create a StringIndexer\n",
        "  indexed = StringIndexer().setInputCol(categorical_col).setOutputCol(categorical_col + \"_cat\").fit(df).transform(df)\n",
        "  # Create a OneHotEncoder\n",
        "  encoder = OneHotEncoder().setInputCol(categorical_col + \"_cat\").setOutputCol(categorical_col + \"_OneHotEncoder\").fit(indexed).transform(indexed)\n",
        "\n",
        "  ohe = encoder.drop(*[categorical_col, categorical_col + '_cat'])\n",
        "\n",
        "  return ohe\n",
        "\n",
        "df = one_hot_encode(df, 'brand')\n",
        "\n",
        "\n"
      ],
      "metadata": {
        "id": "_e05MwXkslRQ"
      },
      "execution_count": 82,
      "outputs": []
    },
    {
      "cell_type": "code",
      "source": [
        "df.show(50)"
      ],
      "metadata": {
        "colab": {
          "base_uri": "https://localhost:8080/"
        },
        "id": "-WBXQPqIx9NS",
        "outputId": "6d4b3223-910f-417a-f6c2-e11af866ea8f"
      },
      "execution_count": 83,
      "outputs": [
        {
          "output_type": "stream",
          "name": "stdout",
          "text": [
            "+----+---------+------------+----------+------+------------+----------+------+--------------------+-------------------+\n",
            "| mpg|cylinders|displacement|horsepower|weight|acceleration|model year|origin|            car name|brand_OneHotEncoder|\n",
            "+----+---------+------------+----------+------+------------+----------+------+--------------------+-------------------+\n",
            "|18.0|        8|       307.0|       130|  3504|        12.0|        70|     1|chevrolet chevell...|     (29,[1],[1.0])|\n",
            "|15.0|        8|       350.0|       165|  3693|        11.5|        70|     1|   buick skylark 320|     (29,[8],[1.0])|\n",
            "|18.0|        8|       318.0|       150|  3436|        11.0|        70|     1|  plymouth satellite|     (29,[2],[1.0])|\n",
            "|16.0|        8|       304.0|       150|  3433|        12.0|        70|     1|       amc rebel sst|     (29,[3],[1.0])|\n",
            "|17.0|        8|       302.0|       140|  3449|        10.5|        70|     1|         ford torino|     (29,[0],[1.0])|\n",
            "|15.0|        8|       429.0|       198|  4341|        10.0|        70|     1|    ford galaxie 500|     (29,[0],[1.0])|\n",
            "|14.0|        8|       454.0|       220|  4354|         9.0|        70|     1|    chevrolet impala|     (29,[1],[1.0])|\n",
            "|14.0|        8|       440.0|       215|  4312|         8.5|        70|     1|   plymouth fury iii|     (29,[2],[1.0])|\n",
            "|14.0|        8|       455.0|       225|  4425|        10.0|        70|     1|    pontiac catalina|     (29,[9],[1.0])|\n",
            "|15.0|        8|       390.0|       190|  3850|         8.5|        70|     1|  amc ambassador dpl|     (29,[3],[1.0])|\n",
            "|15.0|        8|       383.0|       170|  3563|        10.0|        70|     1| dodge challenger se|     (29,[4],[1.0])|\n",
            "|14.0|        8|       340.0|       160|  3609|         8.0|        70|     1|  plymouth 'cuda 340|     (29,[2],[1.0])|\n",
            "|15.0|        8|       400.0|       150|  3761|         9.5|        70|     1|chevrolet monte c...|     (29,[1],[1.0])|\n",
            "|14.0|        8|       455.0|       225|  3086|        10.0|        70|     1|buick estate wago...|     (29,[8],[1.0])|\n",
            "|24.0|        4|       113.0|        95|  2372|        15.0|        70|     3|toyota corona mar...|     (29,[5],[1.0])|\n",
            "|22.0|        6|       198.0|        95|  2833|        15.5|        70|     1|     plymouth duster|     (29,[2],[1.0])|\n",
            "|18.0|        6|       199.0|        97|  2774|        15.5|        70|     1|          amc hornet|     (29,[3],[1.0])|\n",
            "|21.0|        6|       200.0|        85|  2587|        16.0|        70|     1|       ford maverick|     (29,[0],[1.0])|\n",
            "|27.0|        4|        97.0|        88|  2130|        14.5|        70|     3|        datsun pl510|     (29,[6],[1.0])|\n",
            "|26.0|        4|        97.0|        46|  1835|        20.5|        70|     2|volkswagen 1131 d...|     (29,[7],[1.0])|\n",
            "|25.0|        4|       110.0|        87|  2672|        17.5|        70|     2|         peugeot 504|    (29,[15],[1.0])|\n",
            "|24.0|        4|       107.0|        90|  2430|        14.5|        70|     2|         audi 100 ls|    (29,[16],[1.0])|\n",
            "|25.0|        4|       104.0|        95|  2375|        17.5|        70|     2|            saab 99e|    (29,[21],[1.0])|\n",
            "|26.0|        4|       121.0|       113|  2234|        12.5|        70|     2|            bmw 2002|    (29,[24],[1.0])|\n",
            "|21.0|        6|       199.0|        90|  2648|        15.0|        70|     1|         amc gremlin|     (29,[3],[1.0])|\n",
            "|10.0|        8|       360.0|       215|  4615|        14.0|        70|     1|           ford f250|     (29,[0],[1.0])|\n",
            "|10.0|        8|       307.0|       200|  4376|        15.0|        70|     1|           chevy c20|     (29,[1],[1.0])|\n",
            "|11.0|        8|       318.0|       210|  4382|        13.5|        70|     1|          dodge d200|     (29,[4],[1.0])|\n",
            "| 9.0|        8|       304.0|       193|  4732|        18.5|        70|     1|            hi 1200d|    (29,[27],[1.0])|\n",
            "|27.0|        4|        97.0|        88|  2130|        14.5|        71|     3|        datsun pl510|     (29,[6],[1.0])|\n",
            "|28.0|        4|       140.0|        90|  2264|        15.5|        71|     1| chevrolet vega 2300|     (29,[1],[1.0])|\n",
            "|25.0|        4|       113.0|        95|  2228|        14.0|        71|     3|       toyota corona|     (29,[5],[1.0])|\n",
            "|25.0|        4|        98.0|         0|  2046|        19.0|        71|     1|          ford pinto|     (29,[0],[1.0])|\n",
            "|19.0|        6|       232.0|       100|  2634|        13.0|        71|     1|         amc gremlin|     (29,[3],[1.0])|\n",
            "|16.0|        6|       225.0|       105|  3439|        15.5|        71|     1|plymouth satellit...|     (29,[2],[1.0])|\n",
            "|17.0|        6|       250.0|       100|  3329|        15.5|        71|     1|chevrolet chevell...|     (29,[1],[1.0])|\n",
            "|19.0|        6|       250.0|        88|  3302|        15.5|        71|     1|     ford torino 500|     (29,[0],[1.0])|\n",
            "|18.0|        6|       232.0|       100|  3288|        15.5|        71|     1|         amc matador|     (29,[3],[1.0])|\n",
            "|14.0|        8|       350.0|       165|  4209|        12.0|        71|     1|    chevrolet impala|     (29,[1],[1.0])|\n",
            "|14.0|        8|       400.0|       175|  4464|        11.5|        71|     1|pontiac catalina ...|     (29,[9],[1.0])|\n",
            "|14.0|        8|       351.0|       153|  4154|        13.5|        71|     1|    ford galaxie 500|     (29,[0],[1.0])|\n",
            "|14.0|        8|       318.0|       150|  4096|        13.0|        71|     1|   plymouth fury iii|     (29,[2],[1.0])|\n",
            "|12.0|        8|       383.0|       180|  4955|        11.5|        71|     1|   dodge monaco (sw)|     (29,[4],[1.0])|\n",
            "|13.0|        8|       400.0|       170|  4746|        12.0|        71|     1|ford country squi...|     (29,[0],[1.0])|\n",
            "|13.0|        8|       400.0|       175|  5140|        12.0|        71|     1| pontiac safari (sw)|     (29,[9],[1.0])|\n",
            "|18.0|        6|       258.0|       110|  2962|        13.5|        71|     1|amc hornet sporta...|     (29,[3],[1.0])|\n",
            "|22.0|        4|       140.0|        72|  2408|        19.0|        71|     1| chevrolet vega (sw)|     (29,[1],[1.0])|\n",
            "|19.0|        6|       250.0|       100|  3282|        15.0|        71|     1|    pontiac firebird|     (29,[9],[1.0])|\n",
            "|18.0|        6|       250.0|        88|  3139|        14.5|        71|     1|        ford mustang|     (29,[0],[1.0])|\n",
            "|23.0|        4|       122.0|        86|  2220|        14.0|        71|     1|  mercury capri 2000|    (29,[12],[1.0])|\n",
            "+----+---------+------------+----------+------+------------+----------+------+--------------------+-------------------+\n",
            "only showing top 50 rows\n",
            "\n"
          ]
        }
      ]
    },
    {
      "cell_type": "code",
      "source": [
        "\n",
        "\n"
      ],
      "metadata": {
        "id": "JU7AwOb-6YSw"
      },
      "execution_count": 83,
      "outputs": []
    },
    {
      "cell_type": "code",
      "source": [
        "df=df.drop('car name')\n",
        "df.show(10)"
      ],
      "metadata": {
        "colab": {
          "base_uri": "https://localhost:8080/"
        },
        "id": "1bMt-iwMqMHc",
        "outputId": "13c010da-2191-4e47-d85f-dbeecec1b7e5"
      },
      "execution_count": 84,
      "outputs": [
        {
          "output_type": "stream",
          "name": "stdout",
          "text": [
            "+----+---------+------------+----------+------+------------+----------+------+-------------------+\n",
            "| mpg|cylinders|displacement|horsepower|weight|acceleration|model year|origin|brand_OneHotEncoder|\n",
            "+----+---------+------------+----------+------+------------+----------+------+-------------------+\n",
            "|18.0|        8|       307.0|       130|  3504|        12.0|        70|     1|     (29,[1],[1.0])|\n",
            "|15.0|        8|       350.0|       165|  3693|        11.5|        70|     1|     (29,[8],[1.0])|\n",
            "|18.0|        8|       318.0|       150|  3436|        11.0|        70|     1|     (29,[2],[1.0])|\n",
            "|16.0|        8|       304.0|       150|  3433|        12.0|        70|     1|     (29,[3],[1.0])|\n",
            "|17.0|        8|       302.0|       140|  3449|        10.5|        70|     1|     (29,[0],[1.0])|\n",
            "|15.0|        8|       429.0|       198|  4341|        10.0|        70|     1|     (29,[0],[1.0])|\n",
            "|14.0|        8|       454.0|       220|  4354|         9.0|        70|     1|     (29,[1],[1.0])|\n",
            "|14.0|        8|       440.0|       215|  4312|         8.5|        70|     1|     (29,[2],[1.0])|\n",
            "|14.0|        8|       455.0|       225|  4425|        10.0|        70|     1|     (29,[9],[1.0])|\n",
            "|15.0|        8|       390.0|       190|  3850|         8.5|        70|     1|     (29,[3],[1.0])|\n",
            "+----+---------+------------+----------+------+------------+----------+------+-------------------+\n",
            "only showing top 10 rows\n",
            "\n"
          ]
        }
      ]
    },
    {
      "cell_type": "code",
      "source": [
        "from pyspark.ml.feature import VectorAssembler\n",
        "\n",
        "def vector_assembler(df,indep_cols):\n",
        "  assembler = VectorAssembler(inputCols=indep_cols,\n",
        "                              outputCol = 'features',\n",
        "                              handleInvalid=\"skip\")\n",
        "  output = assembler.transform(df).drop(*indep_cols)\n",
        "  return output\n",
        "\n",
        "df = vector_assembler(df,indep_cols=df.drop('mpg').columns)\n"
      ],
      "metadata": {
        "id": "AIH3GmdB-lIc"
      },
      "execution_count": 85,
      "outputs": []
    },
    {
      "cell_type": "code",
      "source": [
        "df.show(100,truncate=False)"
      ],
      "metadata": {
        "colab": {
          "base_uri": "https://localhost:8080/"
        },
        "id": "0jOFTH-6DskQ",
        "outputId": "541bef60-6cac-4b21-c872-1684a7df989e"
      },
      "execution_count": 86,
      "outputs": [
        {
          "output_type": "stream",
          "name": "stdout",
          "text": [
            "+----+------------------------------------------------------------------+\n",
            "|mpg |features                                                          |\n",
            "+----+------------------------------------------------------------------+\n",
            "|18.0|(36,[0,1,2,3,4,5,6,8],[8.0,307.0,130.0,3504.0,12.0,70.0,1.0,1.0]) |\n",
            "|15.0|(36,[0,1,2,3,4,5,6,15],[8.0,350.0,165.0,3693.0,11.5,70.0,1.0,1.0])|\n",
            "|18.0|(36,[0,1,2,3,4,5,6,9],[8.0,318.0,150.0,3436.0,11.0,70.0,1.0,1.0]) |\n",
            "|16.0|(36,[0,1,2,3,4,5,6,10],[8.0,304.0,150.0,3433.0,12.0,70.0,1.0,1.0])|\n",
            "|17.0|(36,[0,1,2,3,4,5,6,7],[8.0,302.0,140.0,3449.0,10.5,70.0,1.0,1.0]) |\n",
            "|15.0|(36,[0,1,2,3,4,5,6,7],[8.0,429.0,198.0,4341.0,10.0,70.0,1.0,1.0]) |\n",
            "|14.0|(36,[0,1,2,3,4,5,6,8],[8.0,454.0,220.0,4354.0,9.0,70.0,1.0,1.0])  |\n",
            "|14.0|(36,[0,1,2,3,4,5,6,9],[8.0,440.0,215.0,4312.0,8.5,70.0,1.0,1.0])  |\n",
            "|14.0|(36,[0,1,2,3,4,5,6,16],[8.0,455.0,225.0,4425.0,10.0,70.0,1.0,1.0])|\n",
            "|15.0|(36,[0,1,2,3,4,5,6,10],[8.0,390.0,190.0,3850.0,8.5,70.0,1.0,1.0]) |\n",
            "|15.0|(36,[0,1,2,3,4,5,6,11],[8.0,383.0,170.0,3563.0,10.0,70.0,1.0,1.0])|\n",
            "|14.0|(36,[0,1,2,3,4,5,6,9],[8.0,340.0,160.0,3609.0,8.0,70.0,1.0,1.0])  |\n",
            "|15.0|(36,[0,1,2,3,4,5,6,8],[8.0,400.0,150.0,3761.0,9.5,70.0,1.0,1.0])  |\n",
            "|14.0|(36,[0,1,2,3,4,5,6,15],[8.0,455.0,225.0,3086.0,10.0,70.0,1.0,1.0])|\n",
            "|24.0|(36,[0,1,2,3,4,5,6,12],[4.0,113.0,95.0,2372.0,15.0,70.0,3.0,1.0]) |\n",
            "|22.0|(36,[0,1,2,3,4,5,6,9],[6.0,198.0,95.0,2833.0,15.5,70.0,1.0,1.0])  |\n",
            "|18.0|(36,[0,1,2,3,4,5,6,10],[6.0,199.0,97.0,2774.0,15.5,70.0,1.0,1.0]) |\n",
            "|21.0|(36,[0,1,2,3,4,5,6,7],[6.0,200.0,85.0,2587.0,16.0,70.0,1.0,1.0])  |\n",
            "|27.0|(36,[0,1,2,3,4,5,6,13],[4.0,97.0,88.0,2130.0,14.5,70.0,3.0,1.0])  |\n",
            "|26.0|(36,[0,1,2,3,4,5,6,14],[4.0,97.0,46.0,1835.0,20.5,70.0,2.0,1.0])  |\n",
            "|25.0|(36,[0,1,2,3,4,5,6,22],[4.0,110.0,87.0,2672.0,17.5,70.0,2.0,1.0]) |\n",
            "|24.0|(36,[0,1,2,3,4,5,6,23],[4.0,107.0,90.0,2430.0,14.5,70.0,2.0,1.0]) |\n",
            "|25.0|(36,[0,1,2,3,4,5,6,28],[4.0,104.0,95.0,2375.0,17.5,70.0,2.0,1.0]) |\n",
            "|26.0|(36,[0,1,2,3,4,5,6,31],[4.0,121.0,113.0,2234.0,12.5,70.0,2.0,1.0])|\n",
            "|21.0|(36,[0,1,2,3,4,5,6,10],[6.0,199.0,90.0,2648.0,15.0,70.0,1.0,1.0]) |\n",
            "|10.0|(36,[0,1,2,3,4,5,6,7],[8.0,360.0,215.0,4615.0,14.0,70.0,1.0,1.0]) |\n",
            "|10.0|(36,[0,1,2,3,4,5,6,8],[8.0,307.0,200.0,4376.0,15.0,70.0,1.0,1.0]) |\n",
            "|11.0|(36,[0,1,2,3,4,5,6,11],[8.0,318.0,210.0,4382.0,13.5,70.0,1.0,1.0])|\n",
            "|9.0 |(36,[0,1,2,3,4,5,6,34],[8.0,304.0,193.0,4732.0,18.5,70.0,1.0,1.0])|\n",
            "|27.0|(36,[0,1,2,3,4,5,6,13],[4.0,97.0,88.0,2130.0,14.5,71.0,3.0,1.0])  |\n",
            "|28.0|(36,[0,1,2,3,4,5,6,8],[4.0,140.0,90.0,2264.0,15.5,71.0,1.0,1.0])  |\n",
            "|25.0|(36,[0,1,2,3,4,5,6,12],[4.0,113.0,95.0,2228.0,14.0,71.0,3.0,1.0]) |\n",
            "|25.0|(36,[0,1,3,4,5,6,7],[4.0,98.0,2046.0,19.0,71.0,1.0,1.0])          |\n",
            "|19.0|(36,[0,1,2,3,4,5,6,10],[6.0,232.0,100.0,2634.0,13.0,71.0,1.0,1.0])|\n",
            "|16.0|(36,[0,1,2,3,4,5,6,9],[6.0,225.0,105.0,3439.0,15.5,71.0,1.0,1.0]) |\n",
            "|17.0|(36,[0,1,2,3,4,5,6,8],[6.0,250.0,100.0,3329.0,15.5,71.0,1.0,1.0]) |\n",
            "|19.0|(36,[0,1,2,3,4,5,6,7],[6.0,250.0,88.0,3302.0,15.5,71.0,1.0,1.0])  |\n",
            "|18.0|(36,[0,1,2,3,4,5,6,10],[6.0,232.0,100.0,3288.0,15.5,71.0,1.0,1.0])|\n",
            "|14.0|(36,[0,1,2,3,4,5,6,8],[8.0,350.0,165.0,4209.0,12.0,71.0,1.0,1.0]) |\n",
            "|14.0|(36,[0,1,2,3,4,5,6,16],[8.0,400.0,175.0,4464.0,11.5,71.0,1.0,1.0])|\n",
            "|14.0|(36,[0,1,2,3,4,5,6,7],[8.0,351.0,153.0,4154.0,13.5,71.0,1.0,1.0]) |\n",
            "|14.0|(36,[0,1,2,3,4,5,6,9],[8.0,318.0,150.0,4096.0,13.0,71.0,1.0,1.0]) |\n",
            "|12.0|(36,[0,1,2,3,4,5,6,11],[8.0,383.0,180.0,4955.0,11.5,71.0,1.0,1.0])|\n",
            "|13.0|(36,[0,1,2,3,4,5,6,7],[8.0,400.0,170.0,4746.0,12.0,71.0,1.0,1.0]) |\n",
            "|13.0|(36,[0,1,2,3,4,5,6,16],[8.0,400.0,175.0,5140.0,12.0,71.0,1.0,1.0])|\n",
            "|18.0|(36,[0,1,2,3,4,5,6,10],[6.0,258.0,110.0,2962.0,13.5,71.0,1.0,1.0])|\n",
            "|22.0|(36,[0,1,2,3,4,5,6,8],[4.0,140.0,72.0,2408.0,19.0,71.0,1.0,1.0])  |\n",
            "|19.0|(36,[0,1,2,3,4,5,6,16],[6.0,250.0,100.0,3282.0,15.0,71.0,1.0,1.0])|\n",
            "|18.0|(36,[0,1,2,3,4,5,6,7],[6.0,250.0,88.0,3139.0,14.5,71.0,1.0,1.0])  |\n",
            "|23.0|(36,[0,1,2,3,4,5,6,19],[4.0,122.0,86.0,2220.0,14.0,71.0,1.0,1.0]) |\n",
            "|28.0|(36,[0,1,2,3,4,5,6,27],[4.0,116.0,90.0,2123.0,14.0,71.0,2.0,1.0]) |\n",
            "|30.0|(36,[0,1,2,3,4,5,6,22],[4.0,79.0,70.0,2074.0,19.5,71.0,2.0,1.0])  |\n",
            "|30.0|(36,[0,1,2,3,4,5,6,21],[4.0,88.0,76.0,2065.0,14.5,71.0,2.0,1.0])  |\n",
            "|31.0|(36,[0,1,2,3,4,5,6,12],[4.0,71.0,65.0,1773.0,19.0,71.0,3.0,1.0])  |\n",
            "|35.0|(36,[0,1,2,3,4,5,6,13],[4.0,72.0,69.0,1613.0,18.0,71.0,3.0,1.0])  |\n",
            "|27.0|(36,[0,1,2,3,4,5,6,14],[4.0,97.0,60.0,1834.0,19.0,71.0,2.0,1.0])  |\n",
            "|26.0|(36,[0,1,2,3,4,5,6,9],[4.0,91.0,70.0,1955.0,20.5,71.0,1.0,1.0])   |\n",
            "|24.0|(36,[0,1,2,3,4,5,6,12],[4.0,113.0,95.0,2278.0,15.5,72.0,3.0,1.0]) |\n",
            "|25.0|(36,[0,1,2,3,4,5,6,11],[4.0,97.5,80.0,2126.0,17.0,72.0,1.0,1.0])  |\n",
            "|23.0|(36,[0,1,2,3,4,5,6,14],[4.0,97.0,54.0,2254.0,23.5,72.0,2.0,1.0])  |\n",
            "|20.0|(36,[0,1,2,3,4,5,6,8],[4.0,140.0,90.0,2408.0,19.5,72.0,1.0,1.0])  |\n",
            "|21.0|(36,[0,1,2,3,4,5,6,7],[4.0,122.0,86.0,2226.0,16.5,72.0,1.0,1.0])  |\n",
            "|13.0|(36,[0,1,2,3,4,5,6,8],[8.0,350.0,165.0,4274.0,12.0,72.0,1.0,1.0]) |\n",
            "|14.0|(36,[0,1,2,3,4,5,6,16],[8.0,400.0,175.0,4385.0,12.0,72.0,1.0,1.0])|\n",
            "|15.0|(36,[0,1,2,3,4,5,6,9],[8.0,318.0,150.0,4135.0,13.5,72.0,1.0,1.0]) |\n",
            "|14.0|(36,[0,1,2,3,4,5,6,7],[8.0,351.0,153.0,4129.0,13.0,72.0,1.0,1.0]) |\n",
            "|17.0|(36,[0,1,2,3,4,5,6,10],[8.0,304.0,150.0,3672.0,11.5,72.0,1.0,1.0])|\n",
            "|11.0|(36,[0,1,2,3,4,5,6,19],[8.0,429.0,208.0,4633.0,11.0,72.0,1.0,1.0])|\n",
            "|13.0|(36,[0,1,2,3,4,5,6,15],[8.0,350.0,155.0,4502.0,13.5,72.0,1.0,1.0])|\n",
            "|12.0|(36,[0,1,2,3,4,5,6,20],[8.0,350.0,160.0,4456.0,13.5,72.0,1.0,1.0])|\n",
            "|13.0|(36,[0,1,2,3,4,5,6,24],[8.0,400.0,190.0,4422.0,12.5,72.0,1.0,1.0])|\n",
            "|19.0|(36,[0,1,2,3,4,5,6,18],[3.0,70.0,97.0,2330.0,13.5,72.0,3.0,1.0])  |\n",
            "|15.0|(36,[0,1,2,3,4,5,6,10],[8.0,304.0,150.0,3892.0,12.5,72.0,1.0,1.0])|\n",
            "|13.0|(36,[0,1,2,3,4,5,6,8],[8.0,307.0,130.0,4098.0,14.0,72.0,1.0,1.0]) |\n",
            "|13.0|(36,[0,1,2,3,4,5,6,7],[8.0,302.0,140.0,4294.0,16.0,72.0,1.0,1.0]) |\n",
            "|14.0|(36,[0,1,2,3,4,5,6,9],[8.0,318.0,150.0,4077.0,14.0,72.0,1.0,1.0]) |\n",
            "|18.0|(36,[0,1,2,3,4,5,6,25],[4.0,121.0,112.0,2933.0,14.5,72.0,2.0,1.0])|\n",
            "|22.0|(36,[0,1,2,3,4,5,6,14],[4.0,121.0,76.0,2511.0,18.0,72.0,2.0,1.0]) |\n",
            "|21.0|(36,[0,1,2,3,4,5,6,22],[4.0,120.0,87.0,2979.0,19.5,72.0,2.0,1.0]) |\n",
            "|26.0|(36,[0,1,2,3,4,5,6,26],[4.0,96.0,69.0,2189.0,18.0,72.0,2.0,1.0])  |\n",
            "|22.0|(36,[0,1,2,3,4,5,6,7],[4.0,122.0,86.0,2395.0,16.0,72.0,1.0,1.0])  |\n",
            "|28.0|(36,[0,1,2,3,4,5,6,13],[4.0,97.0,92.0,2288.0,17.0,72.0,3.0,1.0])  |\n",
            "|23.0|(36,[0,1,2,3,4,5,6,12],[4.0,120.0,97.0,2506.0,14.5,72.0,3.0,1.0]) |\n",
            "|28.0|(36,[0,1,2,3,4,5,6,11],[4.0,98.0,80.0,2164.0,15.0,72.0,1.0,1.0])  |\n",
            "|27.0|(36,[0,1,2,3,4,5,6,12],[4.0,97.0,88.0,2100.0,16.5,72.0,3.0,1.0])  |\n",
            "|13.0|(36,[0,1,2,3,4,5,6,15],[8.0,350.0,175.0,4100.0,13.0,73.0,1.0,1.0])|\n",
            "|14.0|(36,[0,1,2,3,4,5,6,10],[8.0,304.0,150.0,3672.0,11.5,73.0,1.0,1.0])|\n",
            "|13.0|(36,[0,1,2,3,4,5,6,8],[8.0,350.0,145.0,3988.0,13.0,73.0,1.0,1.0]) |\n",
            "|14.0|(36,[0,1,2,3,4,5,6,7],[8.0,302.0,137.0,4042.0,14.5,73.0,1.0,1.0]) |\n",
            "|15.0|(36,[0,1,2,3,4,5,6,11],[8.0,318.0,150.0,3777.0,12.5,73.0,1.0,1.0])|\n",
            "|12.0|(36,[0,1,2,3,4,5,6,19],[8.0,429.0,198.0,4952.0,11.5,73.0,1.0,1.0])|\n",
            "|13.0|(36,[0,1,2,3,4,5,6,8],[8.0,400.0,150.0,4464.0,12.0,73.0,1.0,1.0]) |\n",
            "|13.0|(36,[0,1,2,3,4,5,6,7],[8.0,351.0,158.0,4363.0,13.0,73.0,1.0,1.0]) |\n",
            "|14.0|(36,[0,1,2,3,4,5,6,9],[8.0,318.0,150.0,4237.0,14.5,73.0,1.0,1.0]) |\n",
            "|13.0|(36,[0,1,2,3,4,5,6,24],[8.0,440.0,215.0,4735.0,11.0,73.0,1.0,1.0])|\n",
            "|12.0|(36,[0,1,2,3,4,5,6,15],[8.0,455.0,225.0,4951.0,11.0,73.0,1.0,1.0])|\n",
            "|13.0|(36,[0,1,2,3,4,5,6,10],[8.0,360.0,175.0,3821.0,11.0,73.0,1.0,1.0])|\n",
            "|18.0|(36,[0,1,2,3,4,5,6,9],[6.0,225.0,105.0,3121.0,16.5,73.0,1.0,1.0]) |\n",
            "|16.0|(36,[0,1,2,3,4,5,6,8],[6.0,250.0,100.0,3278.0,18.0,73.0,1.0,1.0]) |\n",
            "|18.0|(36,[0,1,2,3,4,5,6,10],[6.0,232.0,100.0,2945.0,16.0,73.0,1.0,1.0])|\n",
            "+----+------------------------------------------------------------------+\n",
            "only showing top 100 rows\n",
            "\n"
          ]
        }
      ]
    },
    {
      "cell_type": "code",
      "source": [
        "train_data,test_data = df.randomSplit([0.8,0.2],seed=123)\n",
        "\n",
        "print(f\"Train data shape: {train_data.count()}, {len(train_data.columns)}\")\n",
        "print(f\"Test data shape: {test_data.count()}, {len(test_data.columns)}\")"
      ],
      "metadata": {
        "colab": {
          "base_uri": "https://localhost:8080/"
        },
        "id": "dv3BqW4WklLH",
        "outputId": "62f1090d-f635-4911-9454-5673e7d67bc0"
      },
      "execution_count": 87,
      "outputs": [
        {
          "output_type": "stream",
          "name": "stdout",
          "text": [
            "Train data shape: 318, 2\n",
            "Test data shape: 80, 2\n"
          ]
        }
      ]
    },
    {
      "cell_type": "code",
      "source": [
        "lr = LinearRegression(featuresCol='features',labelCol='mpg',regParam=0.3,standardization=False)\n",
        "lr_model = lr.fit(train_data)"
      ],
      "metadata": {
        "id": "MxQjWRMym3tS"
      },
      "execution_count": 88,
      "outputs": []
    },
    {
      "cell_type": "code",
      "source": [
        "def eval_model(model,test_data):\n",
        "  print(model.__class__.__name__.center(70,'='))\n",
        "  model_result = model.evaluate(test_data)\n",
        "  print(f\"RMSE: {model_result.rootMeanSquaredError}\")\n",
        "  print(f\"R2: {model_result.r2}\")\n",
        "  print(f\"MAE: {model_result.meanAbsoluteError}\")\n",
        "  print(f\"MSE: {model_result.meanSquaredError}\")\n",
        "  print(f\"Explained Variance: {model_result.explainedVariance}\")\n",
        "  print(70*'=')\n",
        "\n",
        "eval_model(lr_model,test_data)\n"
      ],
      "metadata": {
        "colab": {
          "base_uri": "https://localhost:8080/"
        },
        "id": "430KK-bOqkR0",
        "outputId": "11c6c9c5-668b-46ac-a90a-247de46000fd"
      },
      "execution_count": 89,
      "outputs": [
        {
          "output_type": "stream",
          "name": "stdout",
          "text": [
            "========================LinearRegressionModel=========================\n",
            "RMSE: 3.412223445197354\n",
            "R2: 0.7983309966898102\n",
            "MAE: 2.461164491835024\n",
            "MSE: 11.643268839954501\n",
            "Explained Variance: 43.63256309984281\n",
            "======================================================================\n"
          ]
        }
      ]
    },
    {
      "cell_type": "code",
      "source": [
        "from pyspark import SparkContext\n",
        "sc = SparkContext.getOrCreate()\n",
        "print(sc)"
      ],
      "metadata": {
        "colab": {
          "base_uri": "https://localhost:8080/"
        },
        "id": "cIOp99ZJxGWJ",
        "outputId": "3079a9e6-e270-4a5f-86e8-88a84f3d5980"
      },
      "execution_count": 90,
      "outputs": [
        {
          "output_type": "stream",
          "name": "stdout",
          "text": [
            "<SparkContext master=local[*] appName=First Session>\n"
          ]
        }
      ]
    },
    {
      "cell_type": "markdown",
      "source": [
        "##RDDs"
      ],
      "metadata": {
        "id": "xylP9oBc40wc"
      }
    },
    {
      "cell_type": "code",
      "source": [
        "rdd = sc.emptyRDD()\n",
        "rdd.isEmpty()\n",
        "#print(rdd)"
      ],
      "metadata": {
        "id": "bG1epyvQ430_",
        "colab": {
          "base_uri": "https://localhost:8080/"
        },
        "outputId": "d21c887a-d54a-4acd-e0c7-4a686e68219a"
      },
      "execution_count": 99,
      "outputs": [
        {
          "output_type": "execute_result",
          "data": {
            "text/plain": [
              "True"
            ]
          },
          "metadata": {},
          "execution_count": 99
        }
      ]
    },
    {
      "cell_type": "code",
      "source": [
        "a = sc.parallelize([])\n",
        "a.isEmpty()"
      ],
      "metadata": {
        "id": "9s08syAfa6eT",
        "colab": {
          "base_uri": "https://localhost:8080/"
        },
        "outputId": "21e3203a-a34b-41b6-bac2-28df9354e64c"
      },
      "execution_count": 100,
      "outputs": [
        {
          "output_type": "execute_result",
          "data": {
            "text/plain": [
              "True"
            ]
          },
          "metadata": {},
          "execution_count": 100
        }
      ]
    },
    {
      "cell_type": "code",
      "source": [
        "mixRDD = sc.parallelize([True,[11,22,33,44,55],(10,20,30,40,50)],3)\n",
        "mixRDD.collect()"
      ],
      "metadata": {
        "id": "fzTOfEOBa6pD",
        "colab": {
          "base_uri": "https://localhost:8080/"
        },
        "outputId": "f8f19b4a-00be-4f71-8b7e-ca1f19c8ae3e"
      },
      "execution_count": 119,
      "outputs": [
        {
          "output_type": "execute_result",
          "data": {
            "text/plain": [
              "[True, [11, 22, 33, 44, 55], (10, 20, 30, 40, 50)]"
            ]
          },
          "metadata": {},
          "execution_count": 119
        }
      ]
    },
    {
      "cell_type": "code",
      "source": [
        "mixRDD.getNumPartitions()"
      ],
      "metadata": {
        "id": "eF4SBFz4a6tg",
        "colab": {
          "base_uri": "https://localhost:8080/"
        },
        "outputId": "7e64c708-7b01-481a-935e-a9ada98919be"
      },
      "execution_count": 120,
      "outputs": [
        {
          "output_type": "execute_result",
          "data": {
            "text/plain": [
              "3"
            ]
          },
          "metadata": {},
          "execution_count": 120
        }
      ]
    },
    {
      "cell_type": "code",
      "source": [
        "mixRDD.glom().collect()"
      ],
      "metadata": {
        "id": "tTNBf1Gaa6xC",
        "colab": {
          "base_uri": "https://localhost:8080/"
        },
        "outputId": "cb2bbd7f-1fdf-4e23-8016-b7199d4df2a8"
      },
      "execution_count": 121,
      "outputs": [
        {
          "output_type": "execute_result",
          "data": {
            "text/plain": [
              "[[True], [[11, 22, 33, 44, 55]], [(10, 20, 30, 40, 50)]]"
            ]
          },
          "metadata": {},
          "execution_count": 121
        }
      ]
    },
    {
      "cell_type": "code",
      "source": [
        "mixRDD.setName('MyRDD')"
      ],
      "metadata": {
        "colab": {
          "base_uri": "https://localhost:8080/"
        },
        "id": "JkhApDQsljVF",
        "outputId": "ae50b117-7fe3-47ef-eb78-39aa85c5b398"
      },
      "execution_count": 122,
      "outputs": [
        {
          "output_type": "execute_result",
          "data": {
            "text/plain": [
              "MyRDD ParallelCollectionRDD[402] at readRDDFromFile at PythonRDD.scala:289"
            ]
          },
          "metadata": {},
          "execution_count": 122
        }
      ]
    },
    {
      "cell_type": "code",
      "source": [
        "import random\n",
        "random.randint(1, 1000)"
      ],
      "metadata": {
        "colab": {
          "base_uri": "https://localhost:8080/"
        },
        "id": "x6kVtkFTrvLj",
        "outputId": "71761c67-5cd6-49c7-9728-d879daf59867"
      },
      "execution_count": 145,
      "outputs": [
        {
          "output_type": "execute_result",
          "data": {
            "text/plain": [
              "277"
            ]
          },
          "metadata": {},
          "execution_count": 145
        }
      ]
    },
    {
      "cell_type": "code",
      "source": [
        "#a = sc.parallelize([random.randint(1, 6) for _ in range(20)],4)\n",
        "a = sc.parallelize(range(1,1000),4)\n",
        "print(a.getNumPartitions())\n",
        "print(\"\\n\")\n",
        "print(a.glom().take(4))\n",
        "print(\"\\n\")\n",
        "print(a.glom().min()) # to get min partitions data means first one partition(0)\n",
        "print(\"\\n\")\n",
        "print(a.glom().max()) # to get max partitions data means last one partition(3)"
      ],
      "metadata": {
        "id": "GPilDI_ja60i",
        "colab": {
          "base_uri": "https://localhost:8080/"
        },
        "outputId": "3592ae20-cc7b-40a6-f3d9-209d0dd4ca8a"
      },
      "execution_count": 163,
      "outputs": [
        {
          "output_type": "stream",
          "name": "stdout",
          "text": [
            "4\n",
            "\n",
            "\n",
            "[[1, 2, 3, 4, 5, 6, 7, 8, 9, 10, 11, 12, 13, 14, 15, 16, 17, 18, 19, 20, 21, 22, 23, 24, 25, 26, 27, 28, 29, 30, 31, 32, 33, 34, 35, 36, 37, 38, 39, 40, 41, 42, 43, 44, 45, 46, 47, 48, 49, 50, 51, 52, 53, 54, 55, 56, 57, 58, 59, 60, 61, 62, 63, 64, 65, 66, 67, 68, 69, 70, 71, 72, 73, 74, 75, 76, 77, 78, 79, 80, 81, 82, 83, 84, 85, 86, 87, 88, 89, 90, 91, 92, 93, 94, 95, 96, 97, 98, 99, 100, 101, 102, 103, 104, 105, 106, 107, 108, 109, 110, 111, 112, 113, 114, 115, 116, 117, 118, 119, 120, 121, 122, 123, 124, 125, 126, 127, 128, 129, 130, 131, 132, 133, 134, 135, 136, 137, 138, 139, 140, 141, 142, 143, 144, 145, 146, 147, 148, 149, 150, 151, 152, 153, 154, 155, 156, 157, 158, 159, 160, 161, 162, 163, 164, 165, 166, 167, 168, 169, 170, 171, 172, 173, 174, 175, 176, 177, 178, 179, 180, 181, 182, 183, 184, 185, 186, 187, 188, 189, 190, 191, 192, 193, 194, 195, 196, 197, 198, 199, 200, 201, 202, 203, 204, 205, 206, 207, 208, 209, 210, 211, 212, 213, 214, 215, 216, 217, 218, 219, 220, 221, 222, 223, 224, 225, 226, 227, 228, 229, 230, 231, 232, 233, 234, 235, 236, 237, 238, 239, 240, 241, 242, 243, 244, 245, 246, 247, 248, 249], [250, 251, 252, 253, 254, 255, 256, 257, 258, 259, 260, 261, 262, 263, 264, 265, 266, 267, 268, 269, 270, 271, 272, 273, 274, 275, 276, 277, 278, 279, 280, 281, 282, 283, 284, 285, 286, 287, 288, 289, 290, 291, 292, 293, 294, 295, 296, 297, 298, 299, 300, 301, 302, 303, 304, 305, 306, 307, 308, 309, 310, 311, 312, 313, 314, 315, 316, 317, 318, 319, 320, 321, 322, 323, 324, 325, 326, 327, 328, 329, 330, 331, 332, 333, 334, 335, 336, 337, 338, 339, 340, 341, 342, 343, 344, 345, 346, 347, 348, 349, 350, 351, 352, 353, 354, 355, 356, 357, 358, 359, 360, 361, 362, 363, 364, 365, 366, 367, 368, 369, 370, 371, 372, 373, 374, 375, 376, 377, 378, 379, 380, 381, 382, 383, 384, 385, 386, 387, 388, 389, 390, 391, 392, 393, 394, 395, 396, 397, 398, 399, 400, 401, 402, 403, 404, 405, 406, 407, 408, 409, 410, 411, 412, 413, 414, 415, 416, 417, 418, 419, 420, 421, 422, 423, 424, 425, 426, 427, 428, 429, 430, 431, 432, 433, 434, 435, 436, 437, 438, 439, 440, 441, 442, 443, 444, 445, 446, 447, 448, 449, 450, 451, 452, 453, 454, 455, 456, 457, 458, 459, 460, 461, 462, 463, 464, 465, 466, 467, 468, 469, 470, 471, 472, 473, 474, 475, 476, 477, 478, 479, 480, 481, 482, 483, 484, 485, 486, 487, 488, 489, 490, 491, 492, 493, 494, 495, 496, 497, 498, 499], [500, 501, 502, 503, 504, 505, 506, 507, 508, 509, 510, 511, 512, 513, 514, 515, 516, 517, 518, 519, 520, 521, 522, 523, 524, 525, 526, 527, 528, 529, 530, 531, 532, 533, 534, 535, 536, 537, 538, 539, 540, 541, 542, 543, 544, 545, 546, 547, 548, 549, 550, 551, 552, 553, 554, 555, 556, 557, 558, 559, 560, 561, 562, 563, 564, 565, 566, 567, 568, 569, 570, 571, 572, 573, 574, 575, 576, 577, 578, 579, 580, 581, 582, 583, 584, 585, 586, 587, 588, 589, 590, 591, 592, 593, 594, 595, 596, 597, 598, 599, 600, 601, 602, 603, 604, 605, 606, 607, 608, 609, 610, 611, 612, 613, 614, 615, 616, 617, 618, 619, 620, 621, 622, 623, 624, 625, 626, 627, 628, 629, 630, 631, 632, 633, 634, 635, 636, 637, 638, 639, 640, 641, 642, 643, 644, 645, 646, 647, 648, 649, 650, 651, 652, 653, 654, 655, 656, 657, 658, 659, 660, 661, 662, 663, 664, 665, 666, 667, 668, 669, 670, 671, 672, 673, 674, 675, 676, 677, 678, 679, 680, 681, 682, 683, 684, 685, 686, 687, 688, 689, 690, 691, 692, 693, 694, 695, 696, 697, 698, 699, 700, 701, 702, 703, 704, 705, 706, 707, 708, 709, 710, 711, 712, 713, 714, 715, 716, 717, 718, 719, 720, 721, 722, 723, 724, 725, 726, 727, 728, 729, 730, 731, 732, 733, 734, 735, 736, 737, 738, 739, 740, 741, 742, 743, 744, 745, 746, 747, 748, 749], [750, 751, 752, 753, 754, 755, 756, 757, 758, 759, 760, 761, 762, 763, 764, 765, 766, 767, 768, 769, 770, 771, 772, 773, 774, 775, 776, 777, 778, 779, 780, 781, 782, 783, 784, 785, 786, 787, 788, 789, 790, 791, 792, 793, 794, 795, 796, 797, 798, 799, 800, 801, 802, 803, 804, 805, 806, 807, 808, 809, 810, 811, 812, 813, 814, 815, 816, 817, 818, 819, 820, 821, 822, 823, 824, 825, 826, 827, 828, 829, 830, 831, 832, 833, 834, 835, 836, 837, 838, 839, 840, 841, 842, 843, 844, 845, 846, 847, 848, 849, 850, 851, 852, 853, 854, 855, 856, 857, 858, 859, 860, 861, 862, 863, 864, 865, 866, 867, 868, 869, 870, 871, 872, 873, 874, 875, 876, 877, 878, 879, 880, 881, 882, 883, 884, 885, 886, 887, 888, 889, 890, 891, 892, 893, 894, 895, 896, 897, 898, 899, 900, 901, 902, 903, 904, 905, 906, 907, 908, 909, 910, 911, 912, 913, 914, 915, 916, 917, 918, 919, 920, 921, 922, 923, 924, 925, 926, 927, 928, 929, 930, 931, 932, 933, 934, 935, 936, 937, 938, 939, 940, 941, 942, 943, 944, 945, 946, 947, 948, 949, 950, 951, 952, 953, 954, 955, 956, 957, 958, 959, 960, 961, 962, 963, 964, 965, 966, 967, 968, 969, 970, 971, 972, 973, 974, 975, 976, 977, 978, 979, 980, 981, 982, 983, 984, 985, 986, 987, 988, 989, 990, 991, 992, 993, 994, 995, 996, 997, 998, 999]]\n",
            "\n",
            "\n",
            "[1, 2, 3, 4, 5, 6, 7, 8, 9, 10, 11, 12, 13, 14, 15, 16, 17, 18, 19, 20, 21, 22, 23, 24, 25, 26, 27, 28, 29, 30, 31, 32, 33, 34, 35, 36, 37, 38, 39, 40, 41, 42, 43, 44, 45, 46, 47, 48, 49, 50, 51, 52, 53, 54, 55, 56, 57, 58, 59, 60, 61, 62, 63, 64, 65, 66, 67, 68, 69, 70, 71, 72, 73, 74, 75, 76, 77, 78, 79, 80, 81, 82, 83, 84, 85, 86, 87, 88, 89, 90, 91, 92, 93, 94, 95, 96, 97, 98, 99, 100, 101, 102, 103, 104, 105, 106, 107, 108, 109, 110, 111, 112, 113, 114, 115, 116, 117, 118, 119, 120, 121, 122, 123, 124, 125, 126, 127, 128, 129, 130, 131, 132, 133, 134, 135, 136, 137, 138, 139, 140, 141, 142, 143, 144, 145, 146, 147, 148, 149, 150, 151, 152, 153, 154, 155, 156, 157, 158, 159, 160, 161, 162, 163, 164, 165, 166, 167, 168, 169, 170, 171, 172, 173, 174, 175, 176, 177, 178, 179, 180, 181, 182, 183, 184, 185, 186, 187, 188, 189, 190, 191, 192, 193, 194, 195, 196, 197, 198, 199, 200, 201, 202, 203, 204, 205, 206, 207, 208, 209, 210, 211, 212, 213, 214, 215, 216, 217, 218, 219, 220, 221, 222, 223, 224, 225, 226, 227, 228, 229, 230, 231, 232, 233, 234, 235, 236, 237, 238, 239, 240, 241, 242, 243, 244, 245, 246, 247, 248, 249]\n",
            "\n",
            "\n",
            "[750, 751, 752, 753, 754, 755, 756, 757, 758, 759, 760, 761, 762, 763, 764, 765, 766, 767, 768, 769, 770, 771, 772, 773, 774, 775, 776, 777, 778, 779, 780, 781, 782, 783, 784, 785, 786, 787, 788, 789, 790, 791, 792, 793, 794, 795, 796, 797, 798, 799, 800, 801, 802, 803, 804, 805, 806, 807, 808, 809, 810, 811, 812, 813, 814, 815, 816, 817, 818, 819, 820, 821, 822, 823, 824, 825, 826, 827, 828, 829, 830, 831, 832, 833, 834, 835, 836, 837, 838, 839, 840, 841, 842, 843, 844, 845, 846, 847, 848, 849, 850, 851, 852, 853, 854, 855, 856, 857, 858, 859, 860, 861, 862, 863, 864, 865, 866, 867, 868, 869, 870, 871, 872, 873, 874, 875, 876, 877, 878, 879, 880, 881, 882, 883, 884, 885, 886, 887, 888, 889, 890, 891, 892, 893, 894, 895, 896, 897, 898, 899, 900, 901, 902, 903, 904, 905, 906, 907, 908, 909, 910, 911, 912, 913, 914, 915, 916, 917, 918, 919, 920, 921, 922, 923, 924, 925, 926, 927, 928, 929, 930, 931, 932, 933, 934, 935, 936, 937, 938, 939, 940, 941, 942, 943, 944, 945, 946, 947, 948, 949, 950, 951, 952, 953, 954, 955, 956, 957, 958, 959, 960, 961, 962, 963, 964, 965, 966, 967, 968, 969, 970, 971, 972, 973, 974, 975, 976, 977, 978, 979, 980, 981, 982, 983, 984, 985, 986, 987, 988, 989, 990, 991, 992, 993, 994, 995, 996, 997, 998, 999]\n"
          ]
        }
      ]
    },
    {
      "cell_type": "code",
      "source": [
        "b = sc.parallelize([12,21,23,43,1,22,11,45,56])\n",
        "print(b.takeOrdered(4))\n",
        "print(b.takeOrdered(4,key = lambda x:-x))"
      ],
      "metadata": {
        "colab": {
          "base_uri": "https://localhost:8080/"
        },
        "id": "CEU3rhiLlsaK",
        "outputId": "fc133177-354d-41b5-8520-c3b273c80189"
      },
      "execution_count": 164,
      "outputs": [
        {
          "output_type": "stream",
          "name": "stdout",
          "text": [
            "[1, 11, 12, 21]\n",
            "[56, 45, 43, 23]\n"
          ]
        }
      ]
    },
    {
      "cell_type": "code",
      "source": [
        "a.glom().map(lambda x:max(x)).collect()"
      ],
      "metadata": {
        "colab": {
          "base_uri": "https://localhost:8080/"
        },
        "id": "MCK6n0BltvQl",
        "outputId": "59fa5bd4-48b8-41e9-db82-aafd31133bd2"
      },
      "execution_count": 165,
      "outputs": [
        {
          "output_type": "execute_result",
          "data": {
            "text/plain": [
              "[249, 499, 749, 999]"
            ]
          },
          "metadata": {},
          "execution_count": 165
        }
      ]
    },
    {
      "cell_type": "code",
      "source": [
        "for i in range(a.getNumPartitions()):\n",
        "  print(f\"Max of partition({i}) : {max(a.glom().collect()[i])}\")\n",
        "  print(f\"Min of partition({i}) : {min(a.glom().collect()[i])}\")"
      ],
      "metadata": {
        "colab": {
          "base_uri": "https://localhost:8080/"
        },
        "id": "9u7ts381nwQ6",
        "outputId": "4b9bf467-db2d-42c0-acef-9b73e939c8ce"
      },
      "execution_count": 166,
      "outputs": [
        {
          "output_type": "stream",
          "name": "stdout",
          "text": [
            "Max of partition(0) : 249\n",
            "Min of partition(0) : 1\n",
            "Max of partition(1) : 499\n",
            "Min of partition(1) : 250\n",
            "Max of partition(2) : 749\n",
            "Min of partition(2) : 500\n",
            "Max of partition(3) : 999\n",
            "Min of partition(3) : 750\n"
          ]
        }
      ]
    },
    {
      "cell_type": "markdown",
      "source": [
        "##Repartitioning and Coalesce"
      ],
      "metadata": {
        "id": "WvI_tm9xs0bF"
      }
    },
    {
      "cell_type": "code",
      "source": [
        "d= b.repartition(7)\n",
        "d.getNumPartitions()"
      ],
      "metadata": {
        "colab": {
          "base_uri": "https://localhost:8080/"
        },
        "id": "yOLs2o4VsmBj",
        "outputId": "4b33f8e2-6b98-4263-9cc7-4bc4908e43bf"
      },
      "execution_count": 148,
      "outputs": [
        {
          "output_type": "execute_result",
          "data": {
            "text/plain": [
              "7"
            ]
          },
          "metadata": {},
          "execution_count": 148
        }
      ]
    },
    {
      "cell_type": "code",
      "source": [
        "e = d.repartition(4)\n",
        "e.getNumPartitions()"
      ],
      "metadata": {
        "colab": {
          "base_uri": "https://localhost:8080/"
        },
        "id": "AUXpCakgsthb",
        "outputId": "c6597931-5ebd-4bab-b5da-2e5695683670"
      },
      "execution_count": 149,
      "outputs": [
        {
          "output_type": "execute_result",
          "data": {
            "text/plain": [
              "4"
            ]
          },
          "metadata": {},
          "execution_count": 149
        }
      ]
    },
    {
      "cell_type": "code",
      "source": [
        "c=b\n",
        "e = d.coalesce(2)\n",
        "e.getNumPartitions()"
      ],
      "metadata": {
        "colab": {
          "base_uri": "https://localhost:8080/"
        },
        "id": "MSpBM_f6szYG",
        "outputId": "57681a9b-6f8d-46a7-b012-74234d46205e"
      },
      "execution_count": 155,
      "outputs": [
        {
          "output_type": "execute_result",
          "data": {
            "text/plain": [
              "2"
            ]
          },
          "metadata": {},
          "execution_count": 155
        }
      ]
    },
    {
      "cell_type": "code",
      "source": [
        "file_path='/content/UberDatasetCleaned.csv'\n",
        "df = spark.read.csv(file_path, header=True, inferSchema=True,nanValue='?')"
      ],
      "metadata": {
        "id": "DD4JFh2vwKao"
      },
      "execution_count": 167,
      "outputs": []
    },
    {
      "cell_type": "code",
      "source": [
        "df.show()"
      ],
      "metadata": {
        "colab": {
          "base_uri": "https://localhost:8080/"
        },
        "id": "TPqeGCnDwKnb",
        "outputId": "3a4a07e3-bf74-4f2c-d381-30665773eba8"
      },
      "execution_count": 168,
      "outputs": [
        {
          "output_type": "stream",
          "name": "stdout",
          "text": [
            "+----------+----------+------------+----------+--------+----------+-----+----+--------+-----------------+---------------+------------------+---------------+--------+------------------+---------+---------+\n",
            "|start_date|start_hour|start_minute|  end_date|end_hour|end_minute|month|year|CATEGORY|            START|           STOP|             MILES|        PURPOSE|duration|             speed|      day| day_time|\n",
            "+----------+----------+------------+----------+--------+----------+-----+----+--------+-----------------+---------------+------------------+---------------+--------+------------------+---------+---------+\n",
            "|2016-01-01|      21.0|        11.0|2016-01-01|    21.0|      17.0|  Jan|2016|Business|      Fort Pierce|    Fort Pierce| 8.207633999999999| Meal/Entertain|     6.0| 82.07633999999999|   Friday|  Evening|\n",
            "|2016-01-02|       1.0|        25.0|2016-01-02|     1.0|      37.0|  Jan|2016|Business|      Fort Pierce|    Fort Pierce|            8.0467| Meal/Entertain|    12.0| 40.23349999999999| Saturday|    Night|\n",
            "|2016-01-02|      20.0|        25.0|2016-01-02|    20.0|      38.0|  Jan|2016|Business|      Fort Pierce|    Fort Pierce| 7.724831999999999|Errand/Supplies|    13.0|35.653070769230766| Saturday|  Evening|\n",
            "|2016-01-05|      17.0|        31.0|2016-01-05|    17.0|      45.0|  Jan|2016|Business|      Fort Pierce|    Fort Pierce|          7.563898|        Meeting|    14.0| 32.41670571428571|  Tuesday|Afternoon|\n",
            "|2016-01-06|      14.0|        42.0|2016-01-06|    15.0|      49.0|  Jan|2016|Business|      Fort Pierce|West Palm Beach|102.51495800000001| Customer Visit|    67.0|          91.80444|Wednesday|Afternoon|\n",
            "|2016-01-06|      17.0|        15.0|2016-01-06|    17.0|      19.0|  Jan|2016|Business|  West Palm Beach|West Palm Beach|6.9201619999999995| Meal/Entertain|     4.0|103.80242999999999|Wednesday|Afternoon|\n",
            "|2016-01-06|      17.0|        30.0|2016-01-06|    17.0|      35.0|  Jan|2016|Business|  West Palm Beach|     Palm Beach|         11.426314|        Meeting|     5.0|        137.115768|Wednesday|Afternoon|\n",
            "|2016-01-07|      13.0|        27.0|2016-01-07|    13.0|      33.0|  Jan|2016|Business|             Cary|           Cary|1.2874720000000002|        Meeting|     6.0|12.874720000000002| Thursday|Afternoon|\n",
            "|2016-01-10|       8.0|         5.0|2016-01-10|     8.0|      25.0|  Jan|2016|Business|             Cary|    Morrisville|13.357522000000001|        Meeting|    20.0| 40.07256600000001|   Sunday|  Morning|\n",
            "|2016-01-10|      12.0|        17.0|2016-01-10|    12.0|      44.0|  Jan|2016|Business|          Jamaica|       New York|          26.55411| Customer Visit|    27.0| 59.00913333333334|   Sunday|  Morning|\n",
            "|2016-01-10|      15.0|         8.0|2016-01-10|    15.0|      51.0|  Jan|2016|Business|         New York|         Queens|         17.380872|        Meeting|    43.0|24.252379534883723|   Sunday|Afternoon|\n",
            "|2016-01-10|      18.0|        18.0|2016-01-10|    18.0|      53.0|  Jan|2016|Business|         Elmhurst|       New York|          12.07005|        Meeting|    35.0|20.691514285714284|   Sunday|Afternoon|\n",
            "|2016-01-10|      19.0|        12.0|2016-01-10|    19.0|      32.0|  Jan|2016|Business|          Midtown|    East Harlem| 9.977908000000001|        Meeting|    20.0|29.933724000000005|   Sunday|  Evening|\n",
            "|2016-01-11|       8.0|        55.0|2016-01-11|     9.0|      21.0|  Jan|2016|Business|      East Harlem|          NoMad|10.299776000000001| Temporary Site|    26.0|23.768713846153847|   Monday|  Morning|\n",
            "|2016-01-11|      11.0|        56.0|2016-01-11|    12.0|       3.0|  Jan|2016|Business|Flatiron District|        Midtown|2.5749440000000003|Errand/Supplies|     7.0|22.070948571428573|   Monday|  Morning|\n",
            "|2016-01-11|      13.0|        32.0|2016-01-11|    13.0|      46.0|  Jan|2016|Business|          Midtown|   Midtown East|          2.735878| Meal/Entertain|    14.0|11.725191428571428|   Monday|Afternoon|\n",
            "|2016-01-11|      14.0|        30.0|2016-01-11|    14.0|      43.0|  Jan|2016|Business|     Midtown East|        Midtown|          3.057746| Meal/Entertain|    13.0|14.112673846153845|   Monday|Afternoon|\n",
            "|2016-01-12|      12.0|        33.0|2016-01-12|    12.0|      49.0|  Jan|2016|Business|          Midtown|  Hudson Square|          3.057746| Meal/Entertain|    16.0|11.466547499999999|  Tuesday|  Morning|\n",
            "|2016-01-12|      12.0|        53.0|2016-01-12|    13.0|       9.0|  Jan|2016|Business|    Hudson Square|Lower Manhattan|           6.43736| Meal/Entertain|    16.0|           24.1401|  Tuesday|  Morning|\n",
            "|2016-01-12|      14.0|        42.0|2016-01-12|    14.0|      56.0|  Jan|2016|Business|  Lower Manhattan|  Hudson Square|          2.896812|Errand/Supplies|    14.0|12.414908571428573|  Tuesday|Afternoon|\n",
            "+----------+----------+------------+----------+--------+----------+-----+----+--------+-----------------+---------------+------------------+---------------+--------+------------------+---------+---------+\n",
            "only showing top 20 rows\n",
            "\n"
          ]
        }
      ]
    },
    {
      "cell_type": "code",
      "source": [
        "def check_missing(dataframe):\n",
        "  \"\"\"\n",
        "  Checks for missing values in each column of a DataFrame and displays the count.\n",
        "\n",
        "  Args:\n",
        "    dataframe: The input DataFrame.\n",
        "  \"\"\"\n",
        "  # Iterate through columns and handle different data types\n",
        "  for c in dataframe.columns:\n",
        "    if dataframe.schema[c].dataType in [IntegerType(), FloatType()]:\n",
        "      # Use isnan and isNull for numeric types\n",
        "      missing_count = dataframe.select(count(when(isnan(col(c)) | col(c).isNull(), c))).first()[0]\n",
        "      print(f\"Missing values in column '{c}': {missing_count}\")\n",
        "    else:\n",
        "      # Use isNull for non-numeric types\n",
        "      missing_count = dataframe.select(count(when(col(c).isNull(), c))).first()[0]\n",
        "      print(f\"Missing values in column '{c}': {missing_count}\")\n",
        "\n",
        "check_missing(df)"
      ],
      "metadata": {
        "colab": {
          "base_uri": "https://localhost:8080/"
        },
        "id": "GUnYqXTzwKrH",
        "outputId": "b4a0e722-2f5e-4c5a-ed55-17ca0baed48b"
      },
      "execution_count": 173,
      "outputs": [
        {
          "output_type": "stream",
          "name": "stdout",
          "text": [
            "Missing values in column 'start_date': 0\n",
            "Missing values in column 'start_hour': 0\n",
            "Missing values in column 'start_minute': 0\n",
            "Missing values in column 'end_date': 0\n",
            "Missing values in column 'end_hour': 0\n",
            "Missing values in column 'end_minute': 0\n",
            "Missing values in column 'month': 0\n",
            "Missing values in column 'year': 0\n",
            "Missing values in column 'CATEGORY': 0\n",
            "Missing values in column 'START': 0\n",
            "Missing values in column 'STOP': 0\n",
            "Missing values in column 'MILES': 0\n",
            "Missing values in column 'PURPOSE': 0\n",
            "Missing values in column 'duration': 0\n",
            "Missing values in column 'speed': 0\n",
            "Missing values in column 'day': 0\n",
            "Missing values in column 'day_time': 0\n"
          ]
        }
      ]
    },
    {
      "cell_type": "markdown",
      "source": [
        "Q1. Identify most frequent travel routes\\\n",
        "Q2. Analyze peak travel hours\\\n",
        "Q3. find the longest business trips"
      ],
      "metadata": {
        "id": "8__QPVe6xZOj"
      }
    },
    {
      "cell_type": "code",
      "source": [
        "df = df.withColumn('route', pyspark.sql.functions.concat(df['START'],df['STOP']))\n",
        "df.show()"
      ],
      "metadata": {
        "colab": {
          "base_uri": "https://localhost:8080/"
        },
        "id": "Y30IyCjGwKuq",
        "outputId": "7303e490-4237-49c8-9805-f1fd8007b338"
      },
      "execution_count": 182,
      "outputs": [
        {
          "output_type": "stream",
          "name": "stdout",
          "text": [
            "+----------+----------+------------+----------+--------+----------+-----+----+--------+-----------------+---------------+------------------+---------------+--------+------------------+---------+---------+--------------------+\n",
            "|start_date|start_hour|start_minute|  end_date|end_hour|end_minute|month|year|CATEGORY|            START|           STOP|             MILES|        PURPOSE|duration|             speed|      day| day_time|               route|\n",
            "+----------+----------+------------+----------+--------+----------+-----+----+--------+-----------------+---------------+------------------+---------------+--------+------------------+---------+---------+--------------------+\n",
            "|2016-01-01|      21.0|        11.0|2016-01-01|    21.0|      17.0|  Jan|2016|Business|      Fort Pierce|    Fort Pierce| 8.207633999999999| Meal/Entertain|     6.0| 82.07633999999999|   Friday|  Evening|Fort PierceFort P...|\n",
            "|2016-01-02|       1.0|        25.0|2016-01-02|     1.0|      37.0|  Jan|2016|Business|      Fort Pierce|    Fort Pierce|            8.0467| Meal/Entertain|    12.0| 40.23349999999999| Saturday|    Night|Fort PierceFort P...|\n",
            "|2016-01-02|      20.0|        25.0|2016-01-02|    20.0|      38.0|  Jan|2016|Business|      Fort Pierce|    Fort Pierce| 7.724831999999999|Errand/Supplies|    13.0|35.653070769230766| Saturday|  Evening|Fort PierceFort P...|\n",
            "|2016-01-05|      17.0|        31.0|2016-01-05|    17.0|      45.0|  Jan|2016|Business|      Fort Pierce|    Fort Pierce|          7.563898|        Meeting|    14.0| 32.41670571428571|  Tuesday|Afternoon|Fort PierceFort P...|\n",
            "|2016-01-06|      14.0|        42.0|2016-01-06|    15.0|      49.0|  Jan|2016|Business|      Fort Pierce|West Palm Beach|102.51495800000001| Customer Visit|    67.0|          91.80444|Wednesday|Afternoon|Fort PierceWest P...|\n",
            "|2016-01-06|      17.0|        15.0|2016-01-06|    17.0|      19.0|  Jan|2016|Business|  West Palm Beach|West Palm Beach|6.9201619999999995| Meal/Entertain|     4.0|103.80242999999999|Wednesday|Afternoon|West Palm BeachWe...|\n",
            "|2016-01-06|      17.0|        30.0|2016-01-06|    17.0|      35.0|  Jan|2016|Business|  West Palm Beach|     Palm Beach|         11.426314|        Meeting|     5.0|        137.115768|Wednesday|Afternoon|West Palm BeachPa...|\n",
            "|2016-01-07|      13.0|        27.0|2016-01-07|    13.0|      33.0|  Jan|2016|Business|             Cary|           Cary|1.2874720000000002|        Meeting|     6.0|12.874720000000002| Thursday|Afternoon|            CaryCary|\n",
            "|2016-01-10|       8.0|         5.0|2016-01-10|     8.0|      25.0|  Jan|2016|Business|             Cary|    Morrisville|13.357522000000001|        Meeting|    20.0| 40.07256600000001|   Sunday|  Morning|     CaryMorrisville|\n",
            "|2016-01-10|      12.0|        17.0|2016-01-10|    12.0|      44.0|  Jan|2016|Business|          Jamaica|       New York|          26.55411| Customer Visit|    27.0| 59.00913333333334|   Sunday|  Morning|     JamaicaNew York|\n",
            "|2016-01-10|      15.0|         8.0|2016-01-10|    15.0|      51.0|  Jan|2016|Business|         New York|         Queens|         17.380872|        Meeting|    43.0|24.252379534883723|   Sunday|Afternoon|      New YorkQueens|\n",
            "|2016-01-10|      18.0|        18.0|2016-01-10|    18.0|      53.0|  Jan|2016|Business|         Elmhurst|       New York|          12.07005|        Meeting|    35.0|20.691514285714284|   Sunday|Afternoon|    ElmhurstNew York|\n",
            "|2016-01-10|      19.0|        12.0|2016-01-10|    19.0|      32.0|  Jan|2016|Business|          Midtown|    East Harlem| 9.977908000000001|        Meeting|    20.0|29.933724000000005|   Sunday|  Evening|  MidtownEast Harlem|\n",
            "|2016-01-11|       8.0|        55.0|2016-01-11|     9.0|      21.0|  Jan|2016|Business|      East Harlem|          NoMad|10.299776000000001| Temporary Site|    26.0|23.768713846153847|   Monday|  Morning|    East HarlemNoMad|\n",
            "|2016-01-11|      11.0|        56.0|2016-01-11|    12.0|       3.0|  Jan|2016|Business|Flatiron District|        Midtown|2.5749440000000003|Errand/Supplies|     7.0|22.070948571428573|   Monday|  Morning|Flatiron District...|\n",
            "|2016-01-11|      13.0|        32.0|2016-01-11|    13.0|      46.0|  Jan|2016|Business|          Midtown|   Midtown East|          2.735878| Meal/Entertain|    14.0|11.725191428571428|   Monday|Afternoon| MidtownMidtown East|\n",
            "|2016-01-11|      14.0|        30.0|2016-01-11|    14.0|      43.0|  Jan|2016|Business|     Midtown East|        Midtown|          3.057746| Meal/Entertain|    13.0|14.112673846153845|   Monday|Afternoon| Midtown EastMidtown|\n",
            "|2016-01-12|      12.0|        33.0|2016-01-12|    12.0|      49.0|  Jan|2016|Business|          Midtown|  Hudson Square|          3.057746| Meal/Entertain|    16.0|11.466547499999999|  Tuesday|  Morning|MidtownHudson Square|\n",
            "|2016-01-12|      12.0|        53.0|2016-01-12|    13.0|       9.0|  Jan|2016|Business|    Hudson Square|Lower Manhattan|           6.43736| Meal/Entertain|    16.0|           24.1401|  Tuesday|  Morning|Hudson SquareLowe...|\n",
            "|2016-01-12|      14.0|        42.0|2016-01-12|    14.0|      56.0|  Jan|2016|Business|  Lower Manhattan|  Hudson Square|          2.896812|Errand/Supplies|    14.0|12.414908571428573|  Tuesday|Afternoon|Lower ManhattanHu...|\n",
            "+----------+----------+------------+----------+--------+----------+-----+----+--------+-----------------+---------------+------------------+---------------+--------+------------------+---------+---------+--------------------+\n",
            "only showing top 20 rows\n",
            "\n"
          ]
        }
      ]
    },
    {
      "cell_type": "code",
      "source": [
        "df.drop()"
      ],
      "metadata": {
        "id": "Gxu76nM91PyI"
      },
      "execution_count": null,
      "outputs": []
    },
    {
      "cell_type": "code",
      "source": [
        "filtered_df = df.where(df['START'] != 'Unknown Location')\n",
        "filtered_df.show()"
      ],
      "metadata": {
        "colab": {
          "base_uri": "https://localhost:8080/"
        },
        "id": "Mumr5Xsv1kh_",
        "outputId": "21311927-f729-4cd0-a534-9f05744c548e"
      },
      "execution_count": 192,
      "outputs": [
        {
          "output_type": "stream",
          "name": "stdout",
          "text": [
            "+----------+----------+------------+----------+--------+----------+-----+----+--------+-----------------+---------------+------------------+---------------+--------+------------------+---------+---------+--------------------+\n",
            "|start_date|start_hour|start_minute|  end_date|end_hour|end_minute|month|year|CATEGORY|            START|           STOP|             MILES|        PURPOSE|duration|             speed|      day| day_time|               route|\n",
            "+----------+----------+------------+----------+--------+----------+-----+----+--------+-----------------+---------------+------------------+---------------+--------+------------------+---------+---------+--------------------+\n",
            "|2016-01-01|      21.0|        11.0|2016-01-01|    21.0|      17.0|  Jan|2016|Business|      Fort Pierce|    Fort Pierce| 8.207633999999999| Meal/Entertain|     6.0| 82.07633999999999|   Friday|  Evening|Fort PierceFort P...|\n",
            "|2016-01-02|       1.0|        25.0|2016-01-02|     1.0|      37.0|  Jan|2016|Business|      Fort Pierce|    Fort Pierce|            8.0467| Meal/Entertain|    12.0| 40.23349999999999| Saturday|    Night|Fort PierceFort P...|\n",
            "|2016-01-02|      20.0|        25.0|2016-01-02|    20.0|      38.0|  Jan|2016|Business|      Fort Pierce|    Fort Pierce| 7.724831999999999|Errand/Supplies|    13.0|35.653070769230766| Saturday|  Evening|Fort PierceFort P...|\n",
            "|2016-01-05|      17.0|        31.0|2016-01-05|    17.0|      45.0|  Jan|2016|Business|      Fort Pierce|    Fort Pierce|          7.563898|        Meeting|    14.0| 32.41670571428571|  Tuesday|Afternoon|Fort PierceFort P...|\n",
            "|2016-01-06|      14.0|        42.0|2016-01-06|    15.0|      49.0|  Jan|2016|Business|      Fort Pierce|West Palm Beach|102.51495800000001| Customer Visit|    67.0|          91.80444|Wednesday|Afternoon|Fort PierceWest P...|\n",
            "|2016-01-06|      17.0|        15.0|2016-01-06|    17.0|      19.0|  Jan|2016|Business|  West Palm Beach|West Palm Beach|6.9201619999999995| Meal/Entertain|     4.0|103.80242999999999|Wednesday|Afternoon|West Palm BeachWe...|\n",
            "|2016-01-06|      17.0|        30.0|2016-01-06|    17.0|      35.0|  Jan|2016|Business|  West Palm Beach|     Palm Beach|         11.426314|        Meeting|     5.0|        137.115768|Wednesday|Afternoon|West Palm BeachPa...|\n",
            "|2016-01-07|      13.0|        27.0|2016-01-07|    13.0|      33.0|  Jan|2016|Business|             Cary|           Cary|1.2874720000000002|        Meeting|     6.0|12.874720000000002| Thursday|Afternoon|            CaryCary|\n",
            "|2016-01-10|       8.0|         5.0|2016-01-10|     8.0|      25.0|  Jan|2016|Business|             Cary|    Morrisville|13.357522000000001|        Meeting|    20.0| 40.07256600000001|   Sunday|  Morning|     CaryMorrisville|\n",
            "|2016-01-10|      12.0|        17.0|2016-01-10|    12.0|      44.0|  Jan|2016|Business|          Jamaica|       New York|          26.55411| Customer Visit|    27.0| 59.00913333333334|   Sunday|  Morning|     JamaicaNew York|\n",
            "|2016-01-10|      15.0|         8.0|2016-01-10|    15.0|      51.0|  Jan|2016|Business|         New York|         Queens|         17.380872|        Meeting|    43.0|24.252379534883723|   Sunday|Afternoon|      New YorkQueens|\n",
            "|2016-01-10|      18.0|        18.0|2016-01-10|    18.0|      53.0|  Jan|2016|Business|         Elmhurst|       New York|          12.07005|        Meeting|    35.0|20.691514285714284|   Sunday|Afternoon|    ElmhurstNew York|\n",
            "|2016-01-10|      19.0|        12.0|2016-01-10|    19.0|      32.0|  Jan|2016|Business|          Midtown|    East Harlem| 9.977908000000001|        Meeting|    20.0|29.933724000000005|   Sunday|  Evening|  MidtownEast Harlem|\n",
            "|2016-01-11|       8.0|        55.0|2016-01-11|     9.0|      21.0|  Jan|2016|Business|      East Harlem|          NoMad|10.299776000000001| Temporary Site|    26.0|23.768713846153847|   Monday|  Morning|    East HarlemNoMad|\n",
            "|2016-01-11|      11.0|        56.0|2016-01-11|    12.0|       3.0|  Jan|2016|Business|Flatiron District|        Midtown|2.5749440000000003|Errand/Supplies|     7.0|22.070948571428573|   Monday|  Morning|Flatiron District...|\n",
            "|2016-01-11|      13.0|        32.0|2016-01-11|    13.0|      46.0|  Jan|2016|Business|          Midtown|   Midtown East|          2.735878| Meal/Entertain|    14.0|11.725191428571428|   Monday|Afternoon| MidtownMidtown East|\n",
            "|2016-01-11|      14.0|        30.0|2016-01-11|    14.0|      43.0|  Jan|2016|Business|     Midtown East|        Midtown|          3.057746| Meal/Entertain|    13.0|14.112673846153845|   Monday|Afternoon| Midtown EastMidtown|\n",
            "|2016-01-12|      12.0|        33.0|2016-01-12|    12.0|      49.0|  Jan|2016|Business|          Midtown|  Hudson Square|          3.057746| Meal/Entertain|    16.0|11.466547499999999|  Tuesday|  Morning|MidtownHudson Square|\n",
            "|2016-01-12|      12.0|        53.0|2016-01-12|    13.0|       9.0|  Jan|2016|Business|    Hudson Square|Lower Manhattan|           6.43736| Meal/Entertain|    16.0|           24.1401|  Tuesday|  Morning|Hudson SquareLowe...|\n",
            "|2016-01-12|      14.0|        42.0|2016-01-12|    14.0|      56.0|  Jan|2016|Business|  Lower Manhattan|  Hudson Square|          2.896812|Errand/Supplies|    14.0|12.414908571428573|  Tuesday|Afternoon|Lower ManhattanHu...|\n",
            "+----------+----------+------------+----------+--------+----------+-----+----+--------+-----------------+---------------+------------------+---------------+--------+------------------+---------+---------+--------------------+\n",
            "only showing top 20 rows\n",
            "\n"
          ]
        }
      ]
    },
    {
      "cell_type": "code",
      "source": [
        "df= filtered_df"
      ],
      "metadata": {
        "id": "UxXmcj_W13sR"
      },
      "execution_count": 193,
      "outputs": []
    },
    {
      "cell_type": "code",
      "source": [
        "route_counts = df.groupBy('route').count()\n",
        "route_counts.show(2000)"
      ],
      "metadata": {
        "colab": {
          "base_uri": "https://localhost:8080/"
        },
        "id": "LIFtt9D0wKyA",
        "outputId": "fa3534b4-6f99-4b46-f3af-fc1ac036b61a"
      },
      "execution_count": 194,
      "outputs": [
        {
          "output_type": "stream",
          "name": "stdout",
          "text": [
            "+--------------------+-----+\n",
            "|               route|count|\n",
            "+--------------------+-----+\n",
            "|Hell's KitchenMid...|    1|\n",
            "|      MetairieKenner|    2|\n",
            "|Banner ElkBanner Elk|    5|\n",
            "|      OrlandoOrlando|    1|\n",
            "|East ElmhurstNew ...|    1|\n",
            "|           CoryAgnew|    1|\n",
            "| Briar MeadowMidtown|    1|\n",
            "|Lake ReamsLake Reams|    2|\n",
            "|North Berkeley Hi...|    1|\n",
            "|    CoxvilleThe Drag|    1|\n",
            "|    GalvestonHouston|    1|\n",
            "|Capitol OneUniver...|    1|\n",
            "|EmeryvilleSan Fra...|    1|\n",
            "|    ParkwoodParkwood|    1|\n",
            "|InglesidePotrero ...|    1|\n",
            "|       ArabiMetairie|    1|\n",
            "|DowntownRed River...|    1|\n",
            "|Edgehill FarmsPre...|    1|\n",
            "|Kalorama Triangle...|    1|\n",
            "|Eagan ParkJamesto...|    1|\n",
            "|Sky LakeSand Lake...|    1|\n",
            "|SouthSouthwest Be...|    1|\n",
            "|         CaryRaleigh|   23|\n",
            "|WhitebridgeHerita...|    2|\n",
            "|San FranciscoPalo...|    1|\n",
            "|  SunnysideIngleside|    1|\n",
            "|     CaryMorrisville|   67|\n",
            "|          DurhamCary|   25|\n",
            "|WhitebridgeWillia...|    1|\n",
            "|   AlmondBryson City|    1|\n",
            "|The DragConventio...|    2|\n",
            "| Menlo ParkPalo Alto|    1|\n",
            "|Meredith TownesHa...|    1|\n",
            "|Fayetteville Stre...|    1|\n",
            "|SharpstownSharpstown|    1|\n",
            "|OaklandUnknown Lo...|    1|\n",
            "|San FranciscoEmer...|    1|\n",
            "| Palo AltoMenlo Park|    1|\n",
            "| WhitebridgeBurtrose|    1|\n",
            "|ChessingtonWhiteb...|    1|\n",
            "|RawalpindiRawalpindi|    1|\n",
            "| Savon HeightParkway|    1|\n",
            "|    AgnewRenaissance|    2|\n",
            "|San FranciscoOakland|    2|\n",
            "|Noorpur ShahanUnk...|    2|\n",
            "|Edgehill FarmsBur...|    1|\n",
            "|           BooneCary|    1|\n",
            "|NorthwoodsTanglewood|    1|\n",
            "|          DurhamApex|    1|\n",
            "|  MorrisvilleRaleigh|    4|\n",
            "|Georgian AcresThe...|    1|\n",
            "| BurtroseWhitebridge|    1|\n",
            "|   TanglewoodParkway|    1|\n",
            "|NorthwoodsWhitebr...|    1|\n",
            "| NewarkSan Francisco|    1|\n",
            "|College AvenueCen...|    1|\n",
            "| MetairieNew Orleans|    2|\n",
            "|Fort PierceWest P...|    1|\n",
            "|         KatyHouston|    1|\n",
            "|  EmeryvilleBerkeley|    6|\n",
            "|  WhitebridgePreston|    3|\n",
            "|Waverly PlaceMacg...|    1|\n",
            "|  TenderloinSOMISSPO|    1|\n",
            "|Fort PierceFort P...|    4|\n",
            "|WhitebridgeWestpa...|   14|\n",
            "|Red River Distric...|    1|\n",
            "|    KissimmeeOrlando|    6|\n",
            "|   KatunayakeGampaha|    1|\n",
            "|     DowntownMidtown|    1|\n",
            "|            ApexApex|    2|\n",
            "|    RenaissanceAgnew|    2|\n",
            "|    HayesvilleTopton|    1|\n",
            "|West Palm BeachPa...|    1|\n",
            "| New OrleansMetairie|    2|\n",
            "|  BerkeleyMenlo Park|    1|\n",
            "|WhitebridgeWayne ...|    4|\n",
            "|     HazelwoodWeston|    1|\n",
            "|University Distri...|    1|\n",
            "|Kar?chiUnknown Lo...|    7|\n",
            "|Kilarney WoodsWhi...|    1|\n",
            "|CentralWest Berkeley|    1|\n",
            "|Congress Ave Dist...|    1|\n",
            "| IslamabadR?walpindi|    2|\n",
            "|            CaryApex|   14|\n",
            "|      CentralCentral|    3|\n",
            "|CentralCollege Av...|    1|\n",
            "|R?walpindiR?walpindi|    2|\n",
            "|      SeattleRedmond|    1|\n",
            "|Fayetteville Stre...|    1|\n",
            "|Hudson SquareLowe...|    1|\n",
            "|   MidtownSharpstown|    4|\n",
            "|RawalpindiUnknown...|    3|\n",
            "|MidtownWashington...|    1|\n",
            "|Winston SalemAshe...|    1|\n",
            "|    SouthsideCentral|    2|\n",
            "|FairmontMeredith ...|    1|\n",
            "|Fayetteville Stre...|    1|\n",
            "|      KarachiKarachi|    2|\n",
            "|KarachiUnknown Lo...|    2|\n",
            "|KatunayakaKatunayaka|    1|\n",
            "|Savon HeightWhite...|    2|\n",
            "|           AgnewCory|    1|\n",
            "|     GulftonDowntown|    1|\n",
            "|     Banner ElkBoone|    1|\n",
            "|HazelwoodLexingto...|    1|\n",
            "|West Palm BeachWe...|    1|\n",
            "|            ApexCary|   13|\n",
            "|  ParkwayWhitebridge|    5|\n",
            "|  MidtownEast Harlem|    1|\n",
            "| MidtownMidtown West|    1|\n",
            "|Pontchartrain Sho...|    2|\n",
            "|   Banner ElkNewland|    1|\n",
            "|     OaklandBerkeley|    2|\n",
            "|        MidtownAlief|    1|\n",
            "|Medical CentreTud...|    1|\n",
            "|   MarignyStoryville|    1|\n",
            "|     BooneBanner Elk|    1|\n",
            "|  Menlo ParkBerkeley|    1|\n",
            "|     ColomboNugegoda|    1|\n",
            "|  MeredithCedar Hill|    1|\n",
            "|IslamabadUnknown ...|   28|\n",
            "| CovingtonMandeville|    1|\n",
            "|The DragSouth Con...|    2|\n",
            "|Pontchartrain Bea...|    1|\n",
            "|Long Island CityJ...|    1|\n",
            "|MorrisvilleBanner...|    1|\n",
            "|    BerkeleySan Jose|    1|\n",
            "|BerkeleyMountain ...|    1|\n",
            "|   Bryson CityAlmond|    1|\n",
            "|BerkeleySan Franc...|    4|\n",
            "|Chapel HillMorris...|    1|\n",
            "|TribecaFinancial ...|    1|\n",
            "|       SouthDowntown|    1|\n",
            "|New YorkQueens Co...|    1|\n",
            "|    OrlandoKissimmee|    7|\n",
            "|Westpark PlaceWhi...|   16|\n",
            "|Bryson CityAsheville|    1|\n",
            "|NugegodaUnknown L...|    1|\n",
            "|WhitebridgeSavon ...|    3|\n",
            "|Farmington WoodsW...|    1|\n",
            "|    HoustonGalveston|    1|\n",
            "|Heritage PinesEdg...|    1|\n",
            "| ArlingtonWashington|    1|\n",
            "|Savon HeightKilar...|    1|\n",
            "|        St ThomasCBD|    1|\n",
            "| San JoseSanta Clara|    1|\n",
            "|        CentralSouth|    1|\n",
            "|            CaryCary|   53|\n",
            "|The DragNorth Austin|    1|\n",
            "|New OrleansChalmette|    1|\n",
            "|   Sugar LandHouston|    1|\n",
            "|Port BolivarGalve...|    1|\n",
            "|   TanglewoodPreston|    1|\n",
            "|    DowntownThe Drag|    2|\n",
            "|CBDPontchartrain ...|    1|\n",
            "|LahoreUnknown Loc...|    9|\n",
            "|East AustinWest U...|    1|\n",
            "|       Rose HillSoho|    1|\n",
            "|    Menlo ParkNewark|    1|\n",
            "|K StreetKalorama ...|    2|\n",
            "|           CaryLatta|    1|\n",
            "| R?walpindiIslamabad|    1|\n",
            "| Santa ClaraBerkeley|    1|\n",
            "|  Elk ParkBanner Elk|    1|\n",
            "|Kalorama Triangle...|    1|\n",
            "|Meredith TownesLe...|    2|\n",
            "|   StoryvilleMarigny|    1|\n",
            "|Arlington Park at...|    1|\n",
            "| RawalpindiIslamabad|    1|\n",
            "|      ApexEagle Rock|    1|\n",
            "|    East HarlemNoMad|    1|\n",
            "|      ColomboColombo|    6|\n",
            "|  CovingtonCovington|    5|\n",
            "|      Kar?chiKar?chi|   20|\n",
            "|  PrestonWhitebridge|    5|\n",
            "|MidtownGreater Gr...|    1|\n",
            "|New OrleansCovington|    1|\n",
            "|          CBDBywater|    1|\n",
            "|      ChalmetteArabi|    1|\n",
            "|      Eagle RockCary|    1|\n",
            "|         SohoTribeca|    1|\n",
            "| WashingtonArlington|    1|\n",
            "|WhitebridgeLake W...|    1|\n",
            "|     RedmondBellevue|    1|\n",
            "|        CBDSt Thomas|    1|\n",
            "|Kalorama Triangle...|    1|\n",
            "|   ApexHolly Springs|    1|\n",
            "|Jamestown CourtJa...|    1|\n",
            "|Bryson CityBryson...|    3|\n",
            "| IslamabadRawalpindi|    1|\n",
            "|Jackson HeightsEa...|    1|\n",
            "|Heritage PinesWhi...|    1|\n",
            "|Kilarney WoodsKil...|    1|\n",
            "|West UniversitySo...|    1|\n",
            "|WhitebridgeSummer...|    1|\n",
            "|   DurhamMorrisville|    4|\n",
            "|   OaklandEmeryville|    2|\n",
            "|  RaleighMorrisville|    5|\n",
            "|    McvanCapitol One|    1|\n",
            "|     AshevilleTopton|    1|\n",
            "|          MebaneCary|    1|\n",
            "|      KennerMetairie|    1|\n",
            "|   SharpstownMidtown|    3|\n",
            "|Port BolivarPort ...|    2|\n",
            "|South CongressThe...|    3|\n",
            "|        LahoreLahore|   27|\n",
            "|        NOMADowntown|    1|\n",
            "|          AustinKaty|    1|\n",
            "|Edgehill FarmsWhi...|    6|\n",
            "|WhitebridgeEdgehi...|    8|\n",
            "|The DragCongress ...|    2|\n",
            "|Krendle WoodsWhit...|    1|\n",
            "|   Holly SpringsCary|    2|\n",
            "|Lexington Park at...|    1|\n",
            "|      New YorkQueens|    1|\n",
            "|TanglewoodWhitebr...|    2|\n",
            "|MidtownHudson Square|    1|\n",
            "|  Old CityHog Island|    1|\n",
            "|New YorkLong Isla...|    1|\n",
            "|SOMISSPOFrench Qu...|    1|\n",
            "|    GampahaIlukwatta|    1|\n",
            "|Convention Center...|    1|\n",
            "|     Chapel HillCary|    1|\n",
            "|   ToptonBryson City|    1|\n",
            "|South CongressArt...|    1|\n",
            "|KissimmeeDaytona ...|    1|\n",
            "|     CaryWake Forest|    1|\n",
            "|Financial Distric...|    1|\n",
            "|Wayne RidgeWhiteb...|    4|\n",
            "|   CaryHolly Springs|    1|\n",
            "|WhitebridgeArling...|    1|\n",
            "|Mountain ViewBerk...|    1|\n",
            "|        CaryWake Co.|    1|\n",
            "| Wake Co.Morrisville|    1|\n",
            "|Connecticut Avenu...|    1|\n",
            "|SouthsideWest Ber...|    1|\n",
            "|   NorthwoodsPreston|    1|\n",
            "| Midtown EastMidtown|    1|\n",
            "|Waverly PlaceWhit...|    3|\n",
            "|San FranciscoBerk...|    4|\n",
            "|WhitebridgeWaverl...|    5|\n",
            "|  Banner ElkElk Park|    1|\n",
            "|  BerkeleyEmeryville|    5|\n",
            "|Couples GlenIsles...|    1|\n",
            "|Lower Garden Dist...|    1|\n",
            "|  San JoseEmeryville|    1|\n",
            "|      MidtownMidtown|    2|\n",
            "|GalvestonPort Bol...|    1|\n",
            "|ChessingtonChessi...|    1|\n",
            "|  BerkeleyEl Cerrito|    1|\n",
            "|SharpstownBriar M...|    1|\n",
            "|Daytona BeachJack...|    1|\n",
            "|CBDLower Garden D...|    1|\n",
            "|  LakeviewStoryville|    1|\n",
            "|    ToptonHayesville|    1|\n",
            "|EastgateWalnut Te...|    1|\n",
            "|     MidtownDowntown|    1|\n",
            "|   HoustonSugar Land|    1|\n",
            "|WhitebridgeHazelwood|    4|\n",
            "|Huntington WoodsH...|    1|\n",
            "|     JamaicaNew York|    2|\n",
            "|Townes at Everett...|    1|\n",
            "|WhitebridgeFarmin...|    1|\n",
            "|Farmington WoodsE...|    1|\n",
            "|     DowntownCentral|    1|\n",
            "| MidtownMidtown East|    1|\n",
            "|     SunnyvaleNewark|    1|\n",
            "|   Fuquay-VarinaCary|    1|\n",
            "|WhitebridgeTangle...|    3|\n",
            "|        KennerKenner|    2|\n",
            "|WhitebridgeNorthw...|    2|\n",
            "|Flatiron District...|    1|\n",
            "|        WestonWeston|    2|\n",
            "|   LattaJacksonville|    1|\n",
            "|PrestonWestpark P...|    1|\n",
            "|HazelwoodWhitebridge|    5|\n",
            "|MandevilleMandeville|    1|\n",
            "|   CaryFuquay-Varina|    1|\n",
            "|  El CerritoBerkeley|    1|\n",
            "|    ElmhurstNew York|    1|\n",
            "|StoryvilleFaubour...|    1|\n",
            "|  IslamabadIslamabad|   25|\n",
            "|     Wake ForestCary|    1|\n",
            "|Westpark PlaceHaz...|    1|\n",
            "|  SOMISSPOTenderloin|    1|\n",
            "|KatunayakaUnknown...|    1|\n",
            "|  Palo AltoSunnyvale|    1|\n",
            "|WhitebridgeKildai...|    1|\n",
            "|     MorrisvilleCary|   74|\n",
            "|      NewlandNewland|    1|\n",
            "|    CentralSouthside|    2|\n",
            "|    NewarkMenlo Park|    1|\n",
            "|Old CityParkway M...|    1|\n",
            "|SummerwindsWhiteb...|    1|\n",
            "|Lake Wellingborou...|    1|\n",
            "|         RaleighCary|   21|\n",
            "|West BerkeleyNort...|    1|\n",
            "|Lower ManhattanHu...|    1|\n",
            "|Sand Lake Commons...|    1|\n",
            "|  WhitebridgeParkway|    3|\n",
            "|     DowntownGulfton|    1|\n",
            "|Huntington WoodsW...|    2|\n",
            "|West BerkeleyCentral|    2|\n",
            "|    Capitol OneMcvan|    1|\n",
            "|Couples GlenVista...|    1|\n",
            "|SouthsideSouth Be...|    1|\n",
            "|          AgnewAgnew|    1|\n",
            "|DowntownWest Berk...|    1|\n",
            "|JacksonvilleRidge...|    1|\n",
            "|        FlorenceCary|    1|\n",
            "|WhitebridgeChessi...|    1|\n",
            "|   CaryWinston Salem|    1|\n",
            "|          CaryDurham|   36|\n",
            "|WhitebridgeWhiteb...|    7|\n",
            "|IslamabadNoorpur ...|    1|\n",
            "|   EmeryvilleOakland|    3|\n",
            "|SeaportGramercy-F...|    1|\n",
            "|   ColomboKatunayaka|    1|\n",
            "|  KissimmeeKissimmee|    4|\n",
            "|R?walpindiUnknown...|    8|\n",
            "|      RaleighRaleigh|    2|\n",
            "|     AshevilleMebane|    1|\n",
            "|South BerkeleySou...|    1|\n",
            "|Hudson SquareHell...|    1|\n",
            "|West BerkeleySout...|    1|\n",
            "|     New YorkJamaica|    1|\n",
            "|        NewlandBoone|    1|\n",
            "|StonewaterLexingt...|    1|\n",
            "|     CaryChapel Hill|    1|\n",
            "|DowntownBay Farm ...|    1|\n",
            "|  MandevilleMetairie|    1|\n",
            "|      HoustonHouston|    3|\n",
            "|Columbia HeightsK...|    1|\n",
            "|CaryUnknown Location|    1|\n",
            "|OaklandSan Francisco|    2|\n",
            "|   New OrleansKenner|    6|\n",
            "|North AustinCoxville|    1|\n",
            "|   KennerNew Orleans|    8|\n",
            "|MorrisvilleMorris...|    5|\n",
            "|WhitebridgeMacgre...|    1|\n",
            "|West UniversityCo...|    1|\n",
            "|     BerkeleyOakland|    3|\n",
            "|West EndNorthwest...|    1|\n",
            "|Washington Avenue...|    1|\n",
            "|Lexington Park at...|    1|\n",
            "|WhitebridgeStonew...|    1|\n",
            "|   DowntownSunnyside|    1|\n",
            "|  West BerkeleySouth|    1|\n",
            "|South CongressNor...|    1|\n",
            "|Noorpur ShahanIsl...|    3|\n",
            "+--------------------+-----+\n",
            "\n"
          ]
        }
      ]
    }
  ]
}